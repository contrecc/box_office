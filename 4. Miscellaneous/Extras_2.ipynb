{
 "cells": [
  {
   "cell_type": "markdown",
   "metadata": {
    "heading_collapsed": true
   },
   "source": [
    "# Data Cleaning"
   ]
  },
  {
   "cell_type": "markdown",
   "metadata": {
    "hidden": true
   },
   "source": [
    "## Import needed libraries"
   ]
  },
  {
   "cell_type": "code",
   "execution_count": null,
   "metadata": {
    "hidden": true
   },
   "outputs": [],
   "source": [
    "import pandas as pd\n",
    "import numpy as np\n",
    "import pprint\n",
    "\n",
    "# For converting past dollars to 2018 dollars\n",
    "# https://github.com/datadesk/cpi\n",
    "import cpi"
   ]
  },
  {
   "cell_type": "code",
   "execution_count": null,
   "metadata": {
    "hidden": true
   },
   "outputs": [],
   "source": [
    "from IPython.core.display import display, HTML\n",
    "display(HTML(\"<style>.container { width:80% !important; }</style>\"))\n",
    "\n",
    "pd.options.display.max_rows = 400\n",
    "pd.options.display.max_columns = 50"
   ]
  },
  {
   "cell_type": "markdown",
   "metadata": {
    "heading_collapsed": true,
    "hidden": true
   },
   "source": [
    "## Import Box Office Mojo dataset and fix small issues\n",
    "\n",
    "We read in the Box Office Mojo.\n",
    "\n",
    "We remove redundant columns and rename the labels with `_mojo` suffixes to avoid confusion. \n",
    "\n",
    "We skip the columns `title` and `release_year` though, since we will be joining on those columns."
   ]
  },
  {
   "cell_type": "code",
   "execution_count": null,
   "metadata": {
    "hidden": true
   },
   "outputs": [],
   "source": [
    "mojo = pd.read_csv(\"movie_data.csv\", parse_dates=[\"release_date_formatted\"])\n",
    "\n",
    "mojo.drop(labels=[\n",
    "    'runtime',\n",
    "    'release_date',\n",
    "    'domestic_gross',\n",
    "    'foreign_gross',\n",
    "    'worldwide_gross',\n",
    "    'adjusted_domestic_gross_2019'\n",
    "], axis=1, inplace=True)\n",
    "\n",
    "mojo.rename(mapper={\n",
    "    'distributor': 'distributor_mojo',\n",
    "    'rating': 'rating_mojo',\n",
    "    'genres': 'genres_mojo',\n",
    "    'production_budget': 'production_budget_mojo',\n",
    "    'runtime_formatted': 'runtime_mojo',\n",
    "    'release_date_formatted': 'release_date_mojo',\n",
    "    'domestic_gross_formatted': 'domestic_gross_mojo',\n",
    "    'foreign_gross_formatted': 'foreign_gross_mojo',\n",
    "    'worldwide_gross_formatted': 'worldwide_gross_mojo',\n",
    "    'adjusted_domestic_gross_2019_formatted': 'adjusted_domestic_gross_2019_mojo',\n",
    "    'director1': 'director1_mojo',\n",
    "    'director2': 'director2_mojo',\n",
    "    'writer1': 'writer1_mojo',\n",
    "    'writer2': 'writer2_mojo',\n",
    "    'writer3': 'writer3_mojo',\n",
    "    'actor1': 'actor1_mojo',\n",
    "    'actor2': 'actor2_mojo',\n",
    "    'actor3': 'actor3_mojo',\n",
    "    'actor4': 'actor4_mojo',\n",
    "    'actor5': 'actor5_mojo',\n",
    "    'actor6': 'actor6_mojo',\n",
    "    'producer1': 'producer1_mojo',\n",
    "    'producer2': 'producer2_mojo',\n",
    "    'producer3': 'producer3_mojo',\n",
    "    'producer4': 'producer4_mojo',\n",
    "    'producer5': 'producer5_mojo',\n",
    "    'producer6': 'producer6_mojo',\n",
    "    'cinematographer': 'cinematographer_mojo',\n",
    "    'composer1': 'composer1_mojo',\n",
    "    'composer2': 'composer2_mojo'\n",
    "}, axis=1, inplace=True)\n",
    "\n",
    "# Cast `release_year` as Nullable Integer Data Type to allow comparisons as integers and still have np.nan values\n",
    "mojo['release_year'] = mojo['release_date_mojo'].dt.year.astype(\"Int64\")\n",
    "\n",
    "mojo['runtime_mojo'] = mojo['runtime_mojo'].astype(\"Int64\")\n",
    "\n",
    "# Reorder the columns \n",
    "mojo = mojo[['title', 'release_year', 'release_date_mojo', 'distributor_mojo', 'runtime_mojo',\n",
    "             'rating_mojo', 'genres_mojo', 'production_budget_mojo', 'domestic_gross_mojo',\n",
    "             'foreign_gross_mojo', 'worldwide_gross_mojo', 'adjusted_domestic_gross_2019_mojo', 'director1_mojo',\n",
    "             'director2_mojo', 'writer1_mojo', 'writer2_mojo', 'writer3_mojo', 'actor1_mojo', 'actor2_mojo', 'actor3_mojo', 'actor4_mojo', 'actor5_mojo', \n",
    "             'actor6_mojo', 'producer1_mojo', 'producer2_mojo', 'producer3_mojo', 'producer4_mojo', 'producer5_mojo', 'producer6_mojo', 'cinematographer_mojo',\n",
    "             'composer1_mojo', 'composer2_mojo']]\n",
    "\n",
    "# Only analyze movies that were released up to 2018 to prevent incomplete box office numbers\n",
    "mojo = mojo[~(mojo['release_year'] > 2018)]\n",
    "\n",
    "# We only want entries that have a title\n",
    "mojo = mojo[~mojo['title'].isna()]\n",
    "\n",
    "# We will drop any duplicate rows\n",
    "mojo.drop_duplicates(inplace=True)"
   ]
  },
  {
   "cell_type": "code",
   "execution_count": null,
   "metadata": {
    "hidden": true,
    "scrolled": true
   },
   "outputs": [],
   "source": [
    "mojo.info()"
   ]
  },
  {
   "cell_type": "markdown",
   "metadata": {
    "hidden": true
   },
   "source": [
    "###  Fix `production-budget_mojo` column\n",
    "\n",
    "We must properly convert `production_budget_mojo` into a numeric form.\n",
    "\n",
    "Right now, it has entries like `$30 million` in it.\n",
    "\n",
    "There are a couple bad entries in it (e.g. `PG` and `Unrated`) from a bad web-scrape that we will fix. Doing some research, the websites for the movie in question is `https://www.boxofficemojo.com/movies/?id=picnicathangingrock98.htm` and `https://www.boxofficemojo.com/movies/?id=zyzzyxroad.htm`."
   ]
  },
  {
   "cell_type": "code",
   "execution_count": null,
   "metadata": {
    "hidden": true
   },
   "outputs": [],
   "source": [
    "mojo['production_budget_mojo'].value_counts(dropna=False)"
   ]
  },
  {
   "cell_type": "markdown",
   "metadata": {
    "hidden": true
   },
   "source": [
    "#### Fix webscraping errors"
   ]
  },
  {
   "cell_type": "markdown",
   "metadata": {
    "hidden": true
   },
   "source": [
    "Fix the `PG` entry."
   ]
  },
  {
   "cell_type": "code",
   "execution_count": null,
   "metadata": {
    "hidden": true
   },
   "outputs": [],
   "source": [
    "mojo[mojo['production_budget_mojo'] == 'PG']"
   ]
  },
  {
   "cell_type": "code",
   "execution_count": null,
   "metadata": {
    "hidden": true
   },
   "outputs": [],
   "source": [
    "# From the website\n",
    "mojo.at[1245, 'release_year'] = 1998\n",
    "mojo.at[1245, 'release_date_mojo'] = pd.to_datetime('19980626', format='%Y%m%d', errors='ignore')\n",
    "mojo.at[1245, 'distributor_mojo'] = 'Kit Parker Films'\n",
    "mojo.at[1245, 'runtime_mojo'] = 107\n",
    "mojo.at[1245, 'rating_mojo'] = 'PG'\n",
    "mojo.at[1245, 'genres_mojo'] = 'Unknown'\n",
    "mojo.at[1245, 'production_budget_mojo'] = np.nan\n",
    "mojo.at[1245, 'domestic_gross_mojo'] = 232201"
   ]
  },
  {
   "cell_type": "code",
   "execution_count": null,
   "metadata": {
    "hidden": true
   },
   "outputs": [],
   "source": [
    "mojo[mojo['title'] == 'Picnic at Hanging Rock (Re-issue)']"
   ]
  },
  {
   "cell_type": "markdown",
   "metadata": {
    "hidden": true
   },
   "source": [
    "Fix the `Unrated` entry."
   ]
  },
  {
   "cell_type": "code",
   "execution_count": null,
   "metadata": {
    "hidden": true
   },
   "outputs": [],
   "source": [
    "mojo[mojo['production_budget_mojo'] == 'Unrated']"
   ]
  },
  {
   "cell_type": "code",
   "execution_count": null,
   "metadata": {
    "hidden": true
   },
   "outputs": [],
   "source": [
    "# From the website\n",
    "mojo.at[2746, 'release_year'] = 2006\n",
    "mojo.at[2746, 'release_date_mojo'] = pd.to_datetime('20060225', format='%Y%m%d', errors='ignore')\n",
    "mojo.at[2746, 'distributor_mojo'] = 'Regent Releasing'\n",
    "mojo.at[2746, 'runtime_mojo'] = 90\n",
    "mojo.at[2746, 'rating_mojo'] = 'Unrated'\n",
    "mojo.at[2746, 'genres_mojo'] = 'Thriller'\n",
    "mojo.at[2746, 'production_budget_mojo'] = '2000000'\n",
    "mojo.at[2746, 'domestic_gross_mojo'] = 30"
   ]
  },
  {
   "cell_type": "code",
   "execution_count": null,
   "metadata": {
    "hidden": true
   },
   "outputs": [],
   "source": [
    "mojo[mojo['title'] == 'Zyzzyx Road']"
   ]
  },
  {
   "cell_type": "markdown",
   "metadata": {
    "hidden": true
   },
   "source": [
    "#### Fix numeric strings"
   ]
  },
  {
   "cell_type": "markdown",
   "metadata": {
    "hidden": true
   },
   "source": [
    "Fix strings like `million` in `production_budget_mojo`. Also, convert its type to \"Int64\"."
   ]
  },
  {
   "cell_type": "code",
   "execution_count": null,
   "metadata": {
    "hidden": true
   },
   "outputs": [],
   "source": [
    "mojo['production_budget_mojo'].head(10)"
   ]
  },
  {
   "cell_type": "code",
   "execution_count": null,
   "metadata": {
    "hidden": true
   },
   "outputs": [],
   "source": [
    "mojo['production_budget_mojo'] = mojo['production_budget_mojo'].str.replace('$', '').str.replace(',', '').str.strip().str.split(' ')"
   ]
  },
  {
   "cell_type": "code",
   "execution_count": null,
   "metadata": {
    "hidden": true
   },
   "outputs": [],
   "source": [
    "mojo['production_budget_mojo'].sort_values(ascending=False)"
   ]
  },
  {
   "cell_type": "code",
   "execution_count": null,
   "metadata": {
    "hidden": true
   },
   "outputs": [],
   "source": [
    "results = []\n",
    "\n",
    "for entry in mojo['production_budget_mojo']:\n",
    "    if type(entry) is list:\n",
    "        if len(entry) > 1:\n",
    "            budget = float(entry[0]) * 1000000\n",
    "            budget = int(budget)\n",
    "            results.append(budget)\n",
    "        else:\n",
    "            results.append(int(entry[0]))\n",
    "    else:\n",
    "        results.append(entry)\n",
    "        \n",
    "mojo['production_budget_mojo'] = results\n",
    "mojo['production_budget_mojo'] = mojo['production_budget_mojo'].astype(\"Int64\")\n",
    "\n",
    "mojo['production_budget_mojo'].head()"
   ]
  },
  {
   "cell_type": "code",
   "execution_count": null,
   "metadata": {
    "hidden": true
   },
   "outputs": [],
   "source": [
    "mojo['production_budget_mojo'].sort_values(ascending=False)"
   ]
  },
  {
   "cell_type": "markdown",
   "metadata": {
    "heading_collapsed": true,
    "hidden": true
   },
   "source": [
    "## Import The Numbers dataset and fix small issues"
   ]
  },
  {
   "cell_type": "code",
   "execution_count": null,
   "metadata": {
    "hidden": true
   },
   "outputs": [],
   "source": [
    "numbers = pd.read_csv(\"the_numbers_movie_data.csv\", parse_dates=[\"release_date\"])\n",
    "\n",
    "# Cast `release_year` as Nullable Integer Data Type to allow comparisons as integers and still have np.nan values\n",
    "numbers['release_year'] = numbers['release_date'].dt.year.astype(\"Int64\")\n",
    "\n",
    "numbers.rename(mapper={\n",
    "    'release_date': 'release_date_numbers',\n",
    "    'rank': 'rank_numbers',\n",
    "    'production_budget': 'production_budget_numbers',\n",
    "    'domestic_gross': 'domestic_gross_numbers',\n",
    "    'worldwide_gross': 'worldwide_gross_numbers'\n",
    "}, axis=1, inplace=True)\n",
    "\n",
    "# Reorder columns\n",
    "numbers = numbers[['title', 'release_year', 'release_date_numbers', 'rank_numbers', 'production_budget_numbers', 'domestic_gross_numbers', 'worldwide_gross_numbers']]\n",
    "\n",
    "# Only analyze movies that were released up to 2018 to prevent incomplete box office numbers\n",
    "numbers = numbers[~(numbers['release_year'] > 2018)]"
   ]
  },
  {
   "cell_type": "code",
   "execution_count": null,
   "metadata": {
    "hidden": true
   },
   "outputs": [],
   "source": [
    "numbers.info()"
   ]
  },
  {
   "cell_type": "markdown",
   "metadata": {
    "heading_collapsed": true,
    "hidden": true
   },
   "source": [
    "## Merge Two DataFrames\n",
    "\n",
    "We will merge the two dataframes on the columns `title` and `release_year`.\n",
    "\n",
    "We will search for duplicate titles that may exist in both datasets but happen to have different years of release.\n",
    "\n",
    "We will combine the data from both datasets into one row of data for these instances."
   ]
  },
  {
   "cell_type": "code",
   "execution_count": null,
   "metadata": {
    "hidden": true
   },
   "outputs": [],
   "source": [
    "outer_merged = pd.merge(mojo, numbers, how='outer', on=['title', 'release_year'], suffixes=['_mojo', '_numbers'])"
   ]
  },
  {
   "cell_type": "code",
   "execution_count": null,
   "metadata": {
    "hidden": true
   },
   "outputs": [],
   "source": [
    "outer_merged.info()"
   ]
  },
  {
   "cell_type": "code",
   "execution_count": null,
   "metadata": {
    "hidden": true,
    "scrolled": false
   },
   "outputs": [],
   "source": [
    "# We want to remove duplicates from the two datasets.\n",
    "# We will create a subset of the outer_merged dataframe that contains duplicated titles.\n",
    "# Then we will sort it in descending order based on `title` and `release_year`.\n",
    "# If we find the same movie with consecutive release years, there's a good chance it's a duplicated entry.\n",
    "# We will check if the movie has already been merged on by checking if it has data from both `mojo` and `numbers`.\n",
    "# Then we will extract the duplicates that are from consecutive years.\n",
    "duplicated_df = pd.DataFrame(columns=outer_merged.columns)\n",
    "previous_row = None\n",
    "\n",
    "# We loop through a subset of outer_merged that contains duplicated titles\n",
    "for index, row in outer_merged[outer_merged['title'].duplicated(keep=False)].sort_values(['title', 'release_year'], ascending=[False, False]).iterrows():\n",
    "    if previous_row is None:\n",
    "        previous_row = outer_merged.iloc[index].copy()\n",
    "        continue\n",
    "        \n",
    "    if row['title'] != previous_row['title']:\n",
    "        previous_row = outer_merged.iloc[index].copy()\n",
    "        continue\n",
    "        \n",
    "    if row['release_year'] == previous_row['release_year'] - 1:\n",
    "        # If any title has both `release_date_mojo` and `release_date_numbers`, then it has already been merged on. \n",
    "        # We will assume another matching title in this instance is a separate movie. \n",
    "        if (pd.notnull(row['release_date_mojo']) & pd.notnull(row['release_date_numbers'])) | (pd.notnull(previous_row['release_date_mojo']) & pd.notnull(previous_row['release_date_numbers'])):\n",
    "            previous_row = outer_merged.iloc[index].copy()\n",
    "            continue\n",
    "            \n",
    "        else:\n",
    "            row_copy = row.copy()\n",
    "            duplicated_df = duplicated_df.append([previous_row, row_copy])\n",
    "            previous_row = outer_merged.iloc[index].copy()\n",
    "        \n",
    "    else:\n",
    "        previous_row = outer_merged.iloc[index].copy()"
   ]
  },
  {
   "cell_type": "code",
   "execution_count": null,
   "metadata": {
    "hidden": true
   },
   "outputs": [],
   "source": [
    "temp_df = pd.DataFrame(columns=outer_merged.columns)\n",
    "previous_row = None\n",
    "previous_index = None\n",
    "indexes_to_delete = []\n",
    "\n",
    "for index, row in duplicated_df.iterrows():\n",
    "    if previous_row is None:\n",
    "        previous_row = outer_merged.iloc[index].copy()\n",
    "        previous_index = index\n",
    "        continue\n",
    "        \n",
    "    if row['title'] != previous_row['title']:\n",
    "        previous_row = outer_merged.iloc[index].copy()\n",
    "        previous_index = index\n",
    "        continue\n",
    "        \n",
    "    if row['release_year'] == previous_row['release_year'] - 1:\n",
    "        the_numbers_check = pd.notnull(previous_row['production_budget_numbers'])\n",
    "        \n",
    "        if the_numbers_check:\n",
    "            # The current row is populated from The Numbers database, so we must populate the previous_row with The Numbers data.\n",
    "            # We will only keep the entry with the later release date, for consistency.\n",
    "            for column in numbers.columns:\n",
    "                row.loc[column] = previous_row.loc[column]\n",
    "                \n",
    "            indexes_to_delete.append(previous_index)\n",
    "            indexes_to_delete.append(index)\n",
    "            temp_df = temp_df.append(row)\n",
    "        else:\n",
    "            for column in mojo.columns:\n",
    "                row.loc[column] = previous_row.loc[column]\n",
    "            indexes_to_delete.append(previous_index)\n",
    "            indexes_to_delete.append(index)\n",
    "            temp_df = temp_df.append(row)\n",
    "            \n",
    "    previous_row = outer_merged.iloc[index].copy()\n",
    "    previous_index = index\n",
    "    \n",
    "outer_merged.drop(labels=indexes_to_delete, axis=0, inplace=True)\n",
    "outer_merged = outer_merged.append(temp_df)\n",
    "outer_merged.sort_values(['title', 'release_year'], ascending=[True, True], inplace=True)\n",
    "outer_merged.reset_index(drop=True, inplace=True)"
   ]
  },
  {
   "cell_type": "code",
   "execution_count": null,
   "metadata": {
    "hidden": true
   },
   "outputs": [],
   "source": [
    "outer_merged.info()"
   ]
  },
  {
   "cell_type": "markdown",
   "metadata": {
    "heading_collapsed": true,
    "hidden": true
   },
   "source": [
    "## Consolidate Duplicate Columns\n",
    "\n",
    "We know have multiple sources of similar information, such as `production budget`, `domestic gross`, `worldwide gross`, and `release date`.\n",
    "\n",
    "We will combine these columns where appropriate to simplify our analysis."
   ]
  },
  {
   "cell_type": "markdown",
   "metadata": {
    "hidden": true
   },
   "source": [
    "### Consolidate `release_date_mojo` and `release_date_numbers`\n",
    "\n",
    "We will use the release date from Box Office Mojo if it exists. If not, we will defer to The Numbers."
   ]
  },
  {
   "cell_type": "code",
   "execution_count": null,
   "metadata": {
    "hidden": true
   },
   "outputs": [],
   "source": [
    "def select_release_date(row):\n",
    "    if pd.notnull(row['release_date_mojo']):\n",
    "        return row['release_date_mojo']\n",
    "    elif pd.notnull(row['release_date_numbers']):\n",
    "        return row['release_date_numbers']\n",
    "    else:\n",
    "        return np.nan"
   ]
  },
  {
   "cell_type": "code",
   "execution_count": null,
   "metadata": {
    "hidden": true
   },
   "outputs": [],
   "source": [
    "outer_merged['release_date'] = outer_merged.apply(select_release_date, axis=1)"
   ]
  },
  {
   "cell_type": "markdown",
   "metadata": {
    "hidden": true
   },
   "source": [
    "### Consolidate `production_budget_mojo` and `production_budget_numbers`\n",
    "\n",
    "Production budgets for movies are notoriously unreliable.\n",
    "\n",
    "To illustrate this, we take the difference between the `production_budget_numbers` and `production_budget_mojo` columns. \n",
    "\n",
    "For the same movies, The Numbers reports aggregate production budgets that are \\\\$2.2 trillion less than Box Office Mojo's.\n",
    "\n",
    "That equates to an average production budget difference of almost $1 million per movie."
   ]
  },
  {
   "cell_type": "code",
   "execution_count": null,
   "metadata": {
    "hidden": true
   },
   "outputs": [],
   "source": [
    "production_budget_difference = outer_merged['production_budget_numbers'] - outer_merged['production_budget_mojo'] \n",
    "print(\"The sum of all production budget differences is\", production_budget_difference.sum())\n",
    "print(\"The average production budget difference is\", production_budget_difference.mean())"
   ]
  },
  {
   "cell_type": "markdown",
   "metadata": {
    "hidden": true
   },
   "source": [
    "To help account for these discrepancies, where both sites have a production budget, we will keep the average. Otherwise, we will keep whichever production budget data is there."
   ]
  },
  {
   "cell_type": "code",
   "execution_count": null,
   "metadata": {
    "hidden": true
   },
   "outputs": [],
   "source": [
    "def select_production_budget(row):\n",
    "    if pd.notnull(row['production_budget_mojo']) & pd.notnull(row['production_budget_numbers']):\n",
    "        return round((row['production_budget_mojo'] + row['production_budget_numbers']) / 2)\n",
    "    \n",
    "    if pd.notnull(row['production_budget_mojo']):\n",
    "        return row['production_budget_mojo']\n",
    "    \n",
    "    if pd.notnull(row['production_budget_numbers']):\n",
    "        return row['production_budget_numbers']\n",
    "    \n",
    "    return np.nan"
   ]
  },
  {
   "cell_type": "code",
   "execution_count": null,
   "metadata": {
    "hidden": true
   },
   "outputs": [],
   "source": [
    "outer_merged['production_budget'] = outer_merged.apply(select_production_budget, axis=1)\n",
    "outer_merged['production_budget'] = outer_merged['production_budget'].astype(\"Int64\")"
   ]
  },
  {
   "cell_type": "markdown",
   "metadata": {
    "hidden": true
   },
   "source": [
    "We now have production budget information for 6739 movies."
   ]
  },
  {
   "cell_type": "code",
   "execution_count": null,
   "metadata": {
    "hidden": true
   },
   "outputs": [],
   "source": [
    "print(\"Box Office Mojo production budgets\", outer_merged['production_budget_mojo'].notna().sum())\n",
    "print(\"The Numbers production budgets\", outer_merged['production_budget_numbers'].notna().sum())\n",
    "print(\"Total useable production budgets\", outer_merged['production_budget'].notna().sum())"
   ]
  },
  {
   "cell_type": "markdown",
   "metadata": {
    "hidden": true
   },
   "source": [
    "###  Consolidate `domestic_gross_mojo` and `domestic_gross_numbers`¶\n",
    "\n",
    "Domestic box office gross is more reliable. \n",
    "\n",
    "For the same movies, The Numbers reports domestic grosses that are \\\\$120 million higher than Box Office Mojo's.\n",
    "\n",
    "The per movie difference is only \\\\$30,600.\n",
    "\n",
    "Like before, we will average where appropriate to smooth out the numbers."
   ]
  },
  {
   "cell_type": "code",
   "execution_count": null,
   "metadata": {
    "hidden": true
   },
   "outputs": [],
   "source": [
    "domestic_gross_difference = outer_merged['domestic_gross_numbers'] - outer_merged['domestic_gross_mojo'] \n",
    "print(\"The sum of all production budget differences is\", domestic_gross_difference.sum())\n",
    "print(\"The average production budget difference is\", domestic_gross_difference.mean())"
   ]
  },
  {
   "cell_type": "code",
   "execution_count": null,
   "metadata": {
    "hidden": true
   },
   "outputs": [],
   "source": [
    "def select_domestic_gross(row):\n",
    "    if pd.notnull(row['domestic_gross_mojo']) & pd.notnull(row['domestic_gross_numbers']):\n",
    "        return round((row['domestic_gross_mojo'] + row['domestic_gross_numbers']) / 2)\n",
    "    \n",
    "    if pd.notnull(row['domestic_gross_mojo']):\n",
    "        return row['domestic_gross_mojo']\n",
    "    \n",
    "    if pd.notnull(row['domestic_gross_numbers']):\n",
    "        return row['domestic_gross_numbers']\n",
    "    \n",
    "    return np.nan"
   ]
  },
  {
   "cell_type": "code",
   "execution_count": null,
   "metadata": {
    "hidden": true
   },
   "outputs": [],
   "source": [
    "outer_merged['domestic_gross'] = outer_merged.apply(select_domestic_gross, axis=1)\n",
    "outer_merged['domestic_gross'] = outer_merged['domestic_gross'].astype(\"Int64\")"
   ]
  },
  {
   "cell_type": "markdown",
   "metadata": {
    "hidden": true
   },
   "source": [
    "We now have domestic gross information for 18,278 movies."
   ]
  },
  {
   "cell_type": "code",
   "execution_count": null,
   "metadata": {
    "hidden": true
   },
   "outputs": [],
   "source": [
    "print(\"Box Office Mojo domestic grosses\", outer_merged['domestic_gross_mojo'].notna().sum())\n",
    "print(\"The Numbers domestic grosses\", outer_merged['domestic_gross_numbers'].notna().sum())\n",
    "print(\"Total useable domestic grosses\", outer_merged['domestic_gross'].notna().sum())"
   ]
  },
  {
   "cell_type": "markdown",
   "metadata": {
    "hidden": true
   },
   "source": [
    "### Consolidate `worldwide_gross_mojo` and `worldwide_gross_numbers`\n",
    "\n",
    "Worldwide gross figures differ greatly.\n",
    "\n",
    "For the same movies, The Numbers reports worldwide grosses that are \\\\$2 trillion less than Box Office Mojo's.\n",
    "\n",
    "The per movie difference is $650,000.\n",
    "\n",
    "Like before, we will average where appropriate to smooth out the numbers."
   ]
  },
  {
   "cell_type": "code",
   "execution_count": null,
   "metadata": {
    "hidden": true
   },
   "outputs": [],
   "source": [
    "worldwide_gross_difference = outer_merged['worldwide_gross_numbers'] - outer_merged['worldwide_gross_mojo'] \n",
    "print(\"The sum of all worldwide gross differences is\", worldwide_gross_difference.sum())\n",
    "print(\"The average worldwide gross difference is\", worldwide_gross_difference.mean())"
   ]
  },
  {
   "cell_type": "code",
   "execution_count": null,
   "metadata": {
    "hidden": true
   },
   "outputs": [],
   "source": [
    "def select_worldwide_gross(row):\n",
    "    if pd.notnull(row['worldwide_gross_mojo']) & pd.notnull(row['worldwide_gross_numbers']):\n",
    "        return round((row['worldwide_gross_mojo'] + row['worldwide_gross_numbers']) / 2)\n",
    "    \n",
    "    if pd.notnull(row['worldwide_gross_mojo']):\n",
    "        return row['worldwide_gross_mojo']\n",
    "    \n",
    "    if pd.notnull(row['worldwide_gross_numbers']):\n",
    "        return row['worldwide_gross_numbers']\n",
    "    \n",
    "    return np.nan"
   ]
  },
  {
   "cell_type": "code",
   "execution_count": null,
   "metadata": {
    "hidden": true
   },
   "outputs": [],
   "source": [
    "outer_merged['worldwide_gross'] = outer_merged.apply(select_worldwide_gross, axis=1)\n",
    "outer_merged['worldwide_gross'] = outer_merged['worldwide_gross'].astype(\"Int64\")"
   ]
  },
  {
   "cell_type": "markdown",
   "metadata": {
    "hidden": true
   },
   "source": [
    "We now have worldwide gross information for 10,337 movies."
   ]
  },
  {
   "cell_type": "code",
   "execution_count": null,
   "metadata": {
    "hidden": true
   },
   "outputs": [],
   "source": [
    "print(\"Box Office Mojo worldwide grosses\", outer_merged['worldwide_gross_mojo'].notna().sum())\n",
    "print(\"The Numbers worldwide grosses\", outer_merged['worldwide_gross_numbers'].notna().sum())\n",
    "print(\"Total useable worldwide grosses\", outer_merged['worldwide_gross'].notna().sum())"
   ]
  },
  {
   "cell_type": "markdown",
   "metadata": {
    "heading_collapsed": true,
    "hidden": true
   },
   "source": [
    "## Adjusting Ticket Prices For Inflation\n",
    "\n",
    "We want to convert prices to 2018 dollars to normalize our prices. (We choose 2018 because we will ignore movies released in 2019 to avoid underrepresenting box office returns for movies that haven't had the time to earn their full potential. We don't want our data to be skewed lower because of that.) \n",
    "\n",
    "There are two ways to adjust box office grosses and production budgets for inflation. We could use the Consumer Price Index, or we could convert dollar amounts into contemporary ticket prices and calculate their equivalent in 2018 ticket prices. (For example, divide a 1940 movie's domestic gross by the 1940 ticket price, then calculate that amount by the 2018 ticket price.)\n",
    "\n",
    "We will do both options and compare the results to determine which coversion seems more appropriate."
   ]
  },
  {
   "cell_type": "markdown",
   "metadata": {
    "hidden": true
   },
   "source": [
    "### Conversion using ticket prices \n",
    "\n",
    "We found historical ticket prices from [Box Office Mojo Adjusting Ticket Price For Inflation](https://www.boxofficemojo.com/about/adjuster.htm) and [National Association of Theatre Owners](https://www.natoonline.org/data/ticket-price/), but the datasets are missing years.\n",
    "\n",
    "We create a custom function to fill in missing ticket prices in an incremental way. Filling in ticket prices using a forward fill or backwards fill seems less accurate, as movie ticket prices have consistently increased over time. (We would rather have a sliding scale than several discrete dollar amounts, given the overal trend in price appreciation.)\n",
    "\n",
    "Our custom function should smooth out missing ticket prices nicely."
   ]
  },
  {
   "cell_type": "code",
   "execution_count": null,
   "metadata": {
    "hidden": true
   },
   "outputs": [],
   "source": [
    "# Incomplete dictionary of ticket prices\n",
    "ticket_prices = {\n",
    "    \"2019\": 9.01,\n",
    "    \"2018\": 9.11,\n",
    "    \"2017\": 8.97,\n",
    "    \"2016\": 8.65,\n",
    "    \"2015\": 8.43,\n",
    "    \"2014\": 8.17,\n",
    "    \"2013\": 8.13,\n",
    "    \"2012\": 7.96,\n",
    "    \"2011\": 7.93,\n",
    "    \"2010\": 7.89,\n",
    "    \"2009\": 7.50,\n",
    "    \"2008\": 7.18,\n",
    "    \"2007\": 6.88,\n",
    "    \"2006\": 6.55,\n",
    "    \"2005\": 6.41,\n",
    "    \"2004\": 6.21,\n",
    "    \"2003\": 6.03,\n",
    "    \"2002\": 5.81,\n",
    "    \"2001\": 5.66,\n",
    "    \"2000\": 5.39,\n",
    "    \"1999\": 5.08,\n",
    "    \"1998\": 4.69,    \n",
    "    \"1997\": 4.59,\n",
    "    \"1996\": 4.42,\n",
    "    \"1995\": 4.35,\n",
    "    \"1994\": 4.18,\n",
    "    \"1993\": 4.14,\n",
    "    \"1992\": 4.15,\n",
    "    \"1991\": 4.21,\n",
    "    \"1990\": 4.23,\n",
    "    \"1989\": 3.97,\n",
    "    \"1988\": 4.11,\n",
    "    \"1987\": 3.91,\n",
    "    \"1986\": 3.71,\n",
    "    \"1985\": 3.55,\n",
    "    \"1984\": 3.36,\n",
    "    \"1983\": 3.15,\n",
    "    \"1982\": 2.94,\n",
    "    \"1981\": 2.78,\n",
    "    \"1980\": 2.69,\n",
    "    \"1979\": 2.51,\n",
    "    \"1978\": 2.34,\n",
    "    \"1977\": 2.23,\n",
    "    \"1976\": 2.13,\n",
    "    \"1975\": 2.05,\n",
    "    \"1974\": 1.87,\n",
    "    \"1973\": 1.77,\n",
    "    \"1972\": 1.70,\n",
    "    \"1971\": 1.65,\n",
    "    \"1970\": 1.55,\n",
    "    \"1969\": 1.42,\n",
    "    \"1968\": 1.31,\n",
    "    \"1967\": 1.20,\n",
    "    \"1966\": 1.09,\n",
    "    \"1965\": 1.01,\n",
    "    \"1964\": 0.93,\n",
    "    \"1963\": 0.85,\n",
    "    \"1962\": 0.70,\n",
    "    \"1961\": 0.69,\n",
    "    \"1959\": 0.51,\n",
    "    \"1958\": 0.68,\n",
    "    \"1956\": 0.50,\n",
    "    \"1954\": 0.45,\n",
    "    \"1953\": 0.60,\n",
    "    \"1951\": 0.53,\n",
    "    \"1949\": 0.46,\n",
    "    \"1948\": 0.40,\n",
    "    \"1945\": 0.35,\n",
    "    \"1944\": 0.32,\n",
    "    \"1943\": 0.29,\n",
    "    \"1942\": 0.27,\n",
    "    \"1941\": 0.25,\n",
    "    \"1940\": 0.24,\n",
    "    \"1939\": 0.23,\n",
    "    \"1936\": 0.25,\n",
    "    \"1935\": 0.24,\n",
    "    \"1934\": 0.23,\n",
    "    \"1929\": 0.35,\n",
    "    \"1924\": 0.25,\n",
    "    \"1910\": 0.07    \n",
    "}\n",
    "\n",
    "# Custom function that loops through the dictionary keys.\n",
    "# It sets a previous_closest_key, then loops until it finds a missing key, continually updating the previous_closest_key to be as close to the missing key as possible.\n",
    "# When it finds a missing key, it then loops until it finds the next key in the dictionary (i.e. the next_closest_key).\n",
    "# Then it calculates the distance from the next_closest_key and previous_closest_key as well as a price differential and a unit price per distance.\n",
    "# It adds the missing key along with its calculated value to the dictionary.\n",
    "# It then loops to fill in other missing keys until the next_closest_key.\n",
    "# Then it resets previous_closest_key to the value of next_closest_key and repeats the process.\n",
    "def fill_in_missing_prices(dictionary):\n",
    "    dictionary_copy = dictionary.copy()\n",
    "    keys_list = list(dictionary_copy.keys())\n",
    "    keys_list.sort()\n",
    "    \n",
    "    previous_closest_key = None\n",
    "    previous_closest_value = None\n",
    "\n",
    "    next_closest_key = None\n",
    "    next_closest_value = None\n",
    "\n",
    "    current_missing_key = None\n",
    "    current_missing_value = None\n",
    "\n",
    "    for i in range(int(keys_list[0]), int(keys_list[-1])):\n",
    "        # Check if we have set a previous key\n",
    "        if previous_closest_key is None:\n",
    "            if str(i) in dictionary_copy:\n",
    "                previous_closest_key = str(i)\n",
    "                previous_closest_value = dictionary_copy[previous_closest_key]\n",
    "                continue\n",
    "\n",
    "        if (str(i) in ticket_prices) & (current_missing_key is None):\n",
    "            previous_closest_key = str(i)\n",
    "            previous_closest_value = dictionary_copy[previous_closest_key]\n",
    "            continue\n",
    "\n",
    "        if str(i) not in ticket_prices:\n",
    "            if current_missing_key is None:\n",
    "                current_missing_key = str(i)\n",
    "            else:\n",
    "                continue\n",
    "\n",
    "        if (str(i) in ticket_prices) & (current_missing_key is not None):\n",
    "            # Set next_closest_key and next_closest_value\n",
    "            next_closest_key = str(i)\n",
    "            next_closest_value = dictionary_copy[next_closest_key]\n",
    "\n",
    "            # Calculate distance from next_closest_key to previous_closest_key\n",
    "            known_keys_distance = int(next_closest_key) - int(previous_closest_key)\n",
    "            known_price_difference = next_closest_value - previous_closest_value\n",
    "            unit_price_per_distance = known_price_difference / known_keys_distance\n",
    "\n",
    "            # Calculate missing_key_value\n",
    "            distance_from_previous_key = int(current_missing_key) - int(previous_closest_key)\n",
    "            current_missing_value = previous_closest_value + distance_from_previous_key * unit_price_per_distance\n",
    "\n",
    "            # Set current_missing_key and current_missing_value in the dictionary\n",
    "            dictionary_copy[current_missing_key] = round(current_missing_value, 2)\n",
    "\n",
    "            # Check if there are other in-between missing values to fill in before resetting all values\n",
    "            if int(next_closest_key) - int(current_missing_key) > 1:\n",
    "                for i in range(int(current_missing_key), int(next_closest_key)):\n",
    "                    dictionary_copy[str(i)] = round(dictionary_copy[str(i - 1)] + unit_price_per_distance, 2)\n",
    "\n",
    "            previous_closest_key = next_closest_key\n",
    "            previous_closest_value = next_closest_value\n",
    "            next_closest_key = None\n",
    "            next_closest_value = None\n",
    "            current_missing_key = None\n",
    "            current_missing_value = None\n",
    "            \n",
    "    return dictionary_copy\n",
    "\n",
    "historical_ticket_prices = fill_in_missing_prices(ticket_prices)\n",
    "\n",
    "# We now have data for every year in our dataset and have smoothed out the values where missing.\n",
    "pprint.pprint(historical_ticket_prices)"
   ]
  },
  {
   "cell_type": "code",
   "execution_count": null,
   "metadata": {
    "hidden": true
   },
   "outputs": [],
   "source": [
    "# Function to convert price columns to 2019 prices\n",
    "def apply_price_transform(dictionary, value):\n",
    "    if pd.isnull(value):\n",
    "        return np.nan\n",
    "    else:\n",
    "        return dictionary['2018'] / dictionary[str(value)]"
   ]
  },
  {
   "cell_type": "code",
   "execution_count": null,
   "metadata": {
    "hidden": true,
    "scrolled": true
   },
   "outputs": [],
   "source": [
    "# Create a price conversion series to apply to our numeric columns\n",
    "outer_merged['price_conversion'] = outer_merged['release_year'].apply(lambda x: apply_price_transform(historical_ticket_prices, x))\n",
    "\n",
    "outer_merged['price_conversion'].head()"
   ]
  },
  {
   "cell_type": "code",
   "execution_count": null,
   "metadata": {
    "hidden": true
   },
   "outputs": [],
   "source": [
    "# Now let's convert all dollar-valued columns into their 2019-priced equivalents\n",
    "# outer_merged['production_budget_mojo_2019'] = (outer_merged['production_budget_mojo'] * outer_merged['price_conversion']).astype(\"float64\")\n",
    "# outer_merged['production_budget_mojo_2019'] = round(outer_merged['production_budget_mojo_2019'])\n",
    "# outer_merged['production_budget_mojo_2019'] = outer_merged['production_budget_mojo_2019'].astype(\"Int64\")\n",
    "\n",
    "# outer_merged['domestic_gross_mojo_2019'] = (outer_merged['domestic_gross_mojo'] * outer_merged['price_conversion']).astype(\"float64\")\n",
    "# outer_merged['domestic_gross_mojo_2019'] = round(outer_merged['domestic_gross_mojo_2019'])\n",
    "# outer_merged['domestic_gross_mojo_2019'] = outer_merged['domestic_gross_mojo_2019'].astype(\"Int64\")\n",
    "\n",
    "# outer_merged['foreign_gross_mojo_2019'] = (outer_merged['foreign_gross_mojo'] * outer_merged['price_conversion']).astype(\"float64\")\n",
    "# outer_merged['foreign_gross_mojo_2019'] = round(outer_merged['foreign_gross_mojo_2019'])\n",
    "# outer_merged['foreign_gross_mojo_2019'] = outer_merged['foreign_gross_mojo_2019'].astype(\"Int64\")\n",
    "\n",
    "# outer_merged['worldwide_gross_mojo_2019'] = (outer_merged['worldwide_gross_mojo'] * outer_merged['price_conversion']).astype(\"float64\")\n",
    "# outer_merged['worldwide_gross_mojo_2019'] = round(outer_merged['worldwide_gross_mojo_2019'])\n",
    "# outer_merged['worldwide_gross_mojo_2019'] = outer_merged['worldwide_gross_mojo_2019'].astype(\"Int64\")\n",
    "\n",
    "# outer_merged['production_budget_numbers_2019'] = (outer_merged['production_budget_numbers'] * outer_merged['price_conversion']).astype(\"float64\")\n",
    "# outer_merged['production_budget_numbers_2019'] = round(outer_merged['production_budget_numbers_2019'])\n",
    "# outer_merged['production_budget_numbers_2019'] = outer_merged['production_budget_numbers_2019'].astype(\"Int64\")\n",
    "\n",
    "# outer_merged['domestic_gross_numbers_2019'] = (outer_merged['domestic_gross_numbers'] * outer_merged['price_conversion']).astype(\"float64\")\n",
    "# outer_merged['domestic_gross_numbers_2019'] = round(outer_merged['domestic_gross_numbers_2019'])\n",
    "# outer_merged['domestic_gross_numbers_2019'] = outer_merged['domestic_gross_numbers_2019'].astype(\"Int64\")\n",
    "\n",
    "# outer_merged['worldwide_gross_numbers_2019'] = (outer_merged['worldwide_gross_numbers'] * outer_merged['price_conversion']).astype(\"float64\")\n",
    "# outer_merged['worldwide_gross_numbers_2019'] = round(outer_merged['worldwide_gross_numbers_2019'])\n",
    "# outer_merged['worldwide_gross_numbers_2019'] = outer_merged['worldwide_gross_numbers_2019'].astype(\"Int64\")\n",
    "\n",
    "outer_merged['production_budget_ticket_conversion_2018'] = (outer_merged['production_budget'] * outer_merged['price_conversion']).astype(\"float64\")\n",
    "outer_merged['production_budget_ticket_conversion_2018'] = round(outer_merged['production_budget_ticket_conversion_2018'])\n",
    "outer_merged['production_budget_ticket_conversion_2018'] = outer_merged['production_budget_ticket_conversion_2018'].astype(\"Int64\")\n",
    "\n",
    "outer_merged['domestic_gross_ticket_conversion_2018'] = (outer_merged['domestic_gross'] * outer_merged['price_conversion']).astype(\"float64\")\n",
    "outer_merged['domestic_gross_ticket_conversion_2018'] = round(outer_merged['domestic_gross_ticket_conversion_2018'])\n",
    "outer_merged['domestic_gross_ticket_conversion_2018'] = outer_merged['domestic_gross_ticket_conversion_2018'].astype(\"Int64\")\n",
    "\n",
    "outer_merged['worldwide_gross_ticket_conversion_2018'] = (outer_merged['worldwide_gross'] * outer_merged['price_conversion']).astype(\"float64\")\n",
    "outer_merged['worldwide_gross_ticket_conversion_2018'] = round(outer_merged['worldwide_gross_ticket_conversion_2018'])\n",
    "outer_merged['worldwide_gross_ticket_conversion_2018'] = outer_merged['worldwide_gross_ticket_conversion_2018'].astype(\"Int64\")\n",
    "\n",
    "# Reset index \n",
    "outer_merged.reset_index(drop=True, inplace=True)"
   ]
  },
  {
   "cell_type": "code",
   "execution_count": null,
   "metadata": {
    "hidden": true
   },
   "outputs": [],
   "source": [
    "outer_merged.info()"
   ]
  },
  {
   "cell_type": "markdown",
   "metadata": {
    "hidden": true
   },
   "source": [
    "### Conversion using CPI (Consumer Price Index)\n",
    "\n",
    "`cpi` is a python package put out by the [Los Angeles Times Data Desk](https://github.com/datadesk).\n",
    "\n",
    "With it, we can convert the dollar amounts from any year to 2018 dollars. Let's do this and compare the results with the ticket price conversion.\n",
    "\n",
    "The `cpi` conversion won't work with null release years. Let's examine how many null entries we have there. "
   ]
  },
  {
   "cell_type": "code",
   "execution_count": null,
   "metadata": {
    "hidden": true
   },
   "outputs": [],
   "source": [
    "outer_merged['release_date'].value_counts(dropna=False)"
   ]
  },
  {
   "cell_type": "markdown",
   "metadata": {
    "hidden": true
   },
   "source": [
    "We are only missing 388 entries from `release_date`. Let's remove these entries."
   ]
  },
  {
   "cell_type": "code",
   "execution_count": null,
   "metadata": {
    "hidden": true
   },
   "outputs": [],
   "source": [
    "outer_merged = outer_merged[outer_merged['release_date'].notna()]"
   ]
  },
  {
   "cell_type": "code",
   "execution_count": null,
   "metadata": {
    "hidden": true
   },
   "outputs": [],
   "source": [
    "outer_merged.info()"
   ]
  },
  {
   "cell_type": "code",
   "execution_count": null,
   "metadata": {
    "hidden": true
   },
   "outputs": [],
   "source": [
    "outer_merged['domestic_cpi_adjusted'] = outer_merged.apply(lambda x: cpi.inflate(x['domestic_gross'], x['release_year']), axis=1)\n",
    "outer_merged['domestic_cpi_adjusted'] = round(outer_merged['domestic_cpi_adjusted'])\n",
    "outer_merged['domestic_cpi_adjusted'] = outer_merged['domestic_cpi_adjusted'].astype(\"Int64\")\n",
    "\n",
    "outer_merged['worldwide_cpi_adjusted'] = outer_merged.apply(lambda x: cpi.inflate(x['worldwide_gross'], x['release_year']), axis=1)\n",
    "outer_merged['worldwide_cpi_adjusted'] = round(outer_merged['worldwide_cpi_adjusted'])\n",
    "outer_merged['worldwide_cpi_adjusted'] = outer_merged['worldwide_cpi_adjusted'].astype(\"Int64\")\n",
    "\n",
    "outer_merged['production_budget_cpi_adjusted'] = outer_merged.apply(lambda x: cpi.inflate(x['production_budget'], x['release_year']), axis=1)\n",
    "outer_merged['production_budget_cpi_adjusted'] = round(outer_merged['production_budget_cpi_adjusted'])\n",
    "outer_merged['production_budget_cpi_adjusted'] = outer_merged['production_budget_cpi_adjusted'].astype(\"Int64\")"
   ]
  },
  {
   "cell_type": "markdown",
   "metadata": {
    "hidden": true
   },
   "source": [
    "### Compare two methods and choose winner"
   ]
  },
  {
   "cell_type": "code",
   "execution_count": null,
   "metadata": {
    "hidden": true
   },
   "outputs": [],
   "source": [
    "outer_merged['domestic_conversion_difference'] = outer_merged['domestic_gross_ticket_conversion_2018'] - outer_merged['domestic_cpi_adjusted']"
   ]
  },
  {
   "cell_type": "code",
   "execution_count": null,
   "metadata": {
    "hidden": true
   },
   "outputs": [],
   "source": [
    "outer_merged[['title', 'domestic_cpi_adjusted', 'domestic_gross_ticket_conversion_2018', 'domestic_conversion_difference']].sort_values('domestic_conversion_difference', ascending=False)"
   ]
  },
  {
   "cell_type": "code",
   "execution_count": null,
   "metadata": {
    "hidden": true
   },
   "outputs": [],
   "source": [
    "print(\"The sum of all domestic conversion differences is\", outer_merged['domestic_conversion_difference'].sum())\n",
    "print(\"The average domestic conversion difference is\", outer_merged['domestic_conversion_difference'].mean())"
   ]
  },
  {
   "cell_type": "markdown",
   "metadata": {
    "hidden": true
   },
   "source": [
    "It seems like using the CPI would give us less extreme dollar values. The average difference in dollar amount conversions per movie is about $5 million.\n",
    "\n",
    "In aggregate, using the ticket price conversion as opposed to CPI conversion gives us a total amount that is almost $90 billion higher.\n",
    "\n",
    "Since we want to smooth out our dataset and avoid such extreme values, we are leaning towards using the CPI."
   ]
  },
  {
   "cell_type": "code",
   "execution_count": null,
   "metadata": {
    "hidden": true
   },
   "outputs": [],
   "source": [
    "outer_merged['worldwide_conversion_difference'] = outer_merged['worldwide_gross_ticket_conversion_2018'] - outer_merged['worldwide_cpi_adjusted']\n",
    "outer_merged[['title', 'worldwide_cpi_adjusted', 'worldwide_gross_ticket_conversion_2018', 'worldwide_conversion_difference']].sort_values('worldwide_conversion_difference', ascending=False)"
   ]
  },
  {
   "cell_type": "code",
   "execution_count": null,
   "metadata": {
    "hidden": true
   },
   "outputs": [],
   "source": [
    "print(\"The sum of all worldwide conversion differences is\", outer_merged['worldwide_conversion_difference'].sum())\n",
    "print(\"The average worldwide conversion difference is\", outer_merged['worldwide_conversion_difference'].mean())"
   ]
  },
  {
   "cell_type": "markdown",
   "metadata": {
    "hidden": true
   },
   "source": [
    "The average conversion difference in worldwide box office amounts is about $12 million.\n",
    "\n",
    "The sum of all worldwide conversion differences is about $122 billion dollars."
   ]
  },
  {
   "cell_type": "code",
   "execution_count": null,
   "metadata": {
    "hidden": true
   },
   "outputs": [],
   "source": [
    "outer_merged['production_budget_conversion_difference'] = outer_merged['production_budget_ticket_conversion_2018'] - outer_merged['production_budget_cpi_adjusted']\n",
    "outer_merged[['title', 'production_budget_cpi_adjusted', 'production_budget_ticket_conversion_2018', 'production_budget_conversion_difference']].sort_values('production_budget_conversion_difference', ascending=False)"
   ]
  },
  {
   "cell_type": "code",
   "execution_count": null,
   "metadata": {
    "hidden": true
   },
   "outputs": [],
   "source": [
    "print(\"The sum of all production budget conversion differences is\", outer_merged['production_budget_conversion_difference'].sum())\n",
    "print(\"The average production budget conversion difference is\", outer_merged['production_budget_conversion_difference'].mean())"
   ]
  },
  {
   "cell_type": "markdown",
   "metadata": {
    "hidden": true
   },
   "source": [
    "The average conversion difference in production budget is about $4.7 million.\n",
    "\n",
    "The sum of all production budget differences is about $31.5 billion."
   ]
  },
  {
   "cell_type": "markdown",
   "metadata": {
    "hidden": true
   },
   "source": [
    "### Conversion choice\n",
    "\n",
    "There are many ways to calculate price inflation. In this study, because it results in less extreme price differences over time, we will use the CPI method.\n",
    "\n",
    "For example, in looking at Gone With The Wind with the CPI method, the domestic gross in 2018 dollars is $3.6 billion dollars. Using the ticket price conversion method, we get a domestic gross in 2018 dollars of $7.9 billion.\n",
    "\n",
    "Gone With The Wind was by far the biggest movie of its time, but it seems more sensible to compare its success to a current dollar amount of $3.6 billion instead of more than double that amount."
   ]
  },
  {
   "cell_type": "markdown",
   "metadata": {
    "heading_collapsed": true,
    "hidden": true
   },
   "source": [
    "## Creating `release_week` column\n",
    "\n",
    "We will be analyzing box office performance in our analysis. One of the data points we will use is the release week of a movie, scaled from 1 - 53 based on how many weeks are in the year."
   ]
  },
  {
   "cell_type": "code",
   "execution_count": null,
   "metadata": {
    "hidden": true
   },
   "outputs": [],
   "source": [
    "outer_merged['release_week'] = outer_merged['release_date'].dt.week.astype(\"Int64\")"
   ]
  },
  {
   "cell_type": "markdown",
   "metadata": {
    "heading_collapsed": true,
    "hidden": true
   },
   "source": [
    "## Rename columns\n",
    "\n",
    "We will rename some columns to make them easier to use in analysis."
   ]
  },
  {
   "cell_type": "code",
   "execution_count": null,
   "metadata": {
    "hidden": true
   },
   "outputs": [],
   "source": [
    "outer_merged.rename(mapper={\n",
    "    'production_budget': 'budget',\n",
    "    'production_budget_cpi_adjusted': 'budget_adj',\n",
    "    'domestic_gross': 'domestic',\n",
    "    'domestic_cpi_adjusted': 'domestic_adj',\n",
    "    'worldwide_gross': 'worldwide',\n",
    "    'worldwide_cpi_adjusted': 'worldwide_adj'\n",
    "}, axis=1, inplace=True)"
   ]
  },
  {
   "cell_type": "markdown",
   "metadata": {
    "heading_collapsed": true,
    "hidden": true
   },
   "source": [
    "## Clean up datatypes"
   ]
  },
  {
   "cell_type": "code",
   "execution_count": null,
   "metadata": {
    "hidden": true
   },
   "outputs": [],
   "source": [
    "# Clean up datatypes before saving data\n",
    "outer_merged['release_week'] = outer_merged['release_week'].astype(\"Int64\")\n",
    "outer_merged['release_year'] = outer_merged['release_year'].astype(\"Int64\")\n",
    "outer_merged['runtime_mojo'] = outer_merged['runtime_mojo'].astype(\"Int64\")\n",
    "outer_merged['production_budget_mojo'] = outer_merged['production_budget_mojo'].astype(\"Int64\")\n",
    "outer_merged['domestic_gross_mojo'] = outer_merged['domestic_gross_mojo'].astype(\"Int64\")\n",
    "outer_merged['foreign_gross_mojo'] = outer_merged['foreign_gross_mojo'].astype(\"Int64\")\n",
    "outer_merged['worldwide_gross_mojo'] = outer_merged['worldwide_gross_mojo'].astype(\"Int64\")\n",
    "outer_merged['adjusted_domestic_gross_2019_mojo'] = outer_merged['adjusted_domestic_gross_2019_mojo'].astype(\"Int64\")\n",
    "outer_merged['rank_numbers'] = outer_merged['rank_numbers'].astype(\"Int64\")\n",
    "outer_merged['production_budget_numbers'] = outer_merged['production_budget_numbers'].astype(\"Int64\")\n",
    "outer_merged['domestic_gross_numbers'] = outer_merged['domestic_gross_numbers'].astype(\"Int64\")\n",
    "outer_merged['worldwide_gross_numbers'] = outer_merged['worldwide_gross_numbers'].astype(\"Int64\")\n",
    "outer_merged['budget'] = outer_merged['budget'].astype(\"Int64\")\n",
    "outer_merged['budget_adj'] = outer_merged['budget_adj'].astype(\"Int64\")\n",
    "outer_merged['domestic'] = outer_merged['domestic'].astype(\"Int64\")\n",
    "outer_merged['domestic_adj'] = outer_merged['domestic_adj'].astype(\"Int64\")\n",
    "outer_merged['worldwide'] = outer_merged['worldwide'].astype(\"Int64\")\n",
    "outer_merged['worldwide_adj'] = outer_merged['worldwide_adj'].astype(\"Int64\")"
   ]
  },
  {
   "cell_type": "code",
   "execution_count": null,
   "metadata": {
    "hidden": true
   },
   "outputs": [],
   "source": [
    "outer_merged.info()"
   ]
  },
  {
   "cell_type": "markdown",
   "metadata": {
    "hidden": true
   },
   "source": [
    "## Data Cleaning Summary\n",
    "\n",
    "In our data cleaning we have accomplished the following tasks:\n",
    "- Imported two different movie datasets from Box Office Mojo and The Numbers.\n",
    "- Fixed errors from webscraping the data, including data in the wrong columns and converting string data into properly formatted numeric data.\n",
    "- Merged our two datasets on the columns `title` and `release_year`.\n",
    "- Eliminated duplicated movie data stemming from the same movie titles existing in multiple rows.\n",
    "- Consolidated the `release_date_mojo` and `release_date_numbers` columns to maximize our useable release date information\n",
    "- Consolidated several columns into `production_budget`, `domestic_gross`, and `worldwide_gross` columns by averaging duplicate data or selecting the appropriate column where needed.\n",
    "- Tested two conversion methods and settled on using the CPI to convert our dollar amounts to 2018 dollars\n",
    "- Created a `release_week` column\n",
    "- Renamed columns to shorten them\n",
    "- Cleaned up our datatypes to make our numeric data Int64\n",
    "\n",
    "Now we can save our cleaned data and use that for our analysis."
   ]
  },
  {
   "cell_type": "code",
   "execution_count": null,
   "metadata": {
    "hidden": true
   },
   "outputs": [],
   "source": [
    "# Save cleaned movie data as a pickle (commenting out to avoid overwriting later)\n",
    "# outer_merged.to_pickle(\"cleaned_movie_data.pkl\")\n",
    "\n",
    "# Save cleaned movie data as a CSV (commenting out to avoid overwriting later)\n",
    "# outer_merged.to_csv(\"cleaned_movie_data.csv\", index=False)"
   ]
  },
  {
   "cell_type": "markdown",
   "metadata": {
    "heading_collapsed": true
   },
   "source": [
    "# Analyzing Domestic Box Office"
   ]
  },
  {
   "cell_type": "markdown",
   "metadata": {
    "hidden": true
   },
   "source": [
    "## Import needed libraries"
   ]
  },
  {
   "cell_type": "code",
   "execution_count": null,
   "metadata": {
    "hidden": true
   },
   "outputs": [],
   "source": [
    "import pandas as pd\n",
    "import numpy as np\n",
    "import matplotlib.pyplot as plt\n",
    "%matplotlib inline\n",
    "import pprint"
   ]
  },
  {
   "cell_type": "code",
   "execution_count": null,
   "metadata": {
    "hidden": true
   },
   "outputs": [],
   "source": [
    "from IPython.core.display import display, HTML\n",
    "display(HTML(\"<style>.container { width:80% !important; }</style>\"))\n",
    "\n",
    "pd.options.display.max_rows = 400\n",
    "pd.options.display.max_columns = 50"
   ]
  },
  {
   "cell_type": "markdown",
   "metadata": {
    "hidden": true
   },
   "source": [
    "## Import dataset"
   ]
  },
  {
   "cell_type": "code",
   "execution_count": null,
   "metadata": {
    "hidden": true
   },
   "outputs": [],
   "source": [
    "data = pd.read_csv('cleaned_movie_data.csv', parse_dates=['release_date'])\n",
    "\n",
    "# Only look at movies that made money domestically\n",
    "data = data[data['domestic_adj'].notna() & data['domestic_adj'] > 0]"
   ]
  },
  {
   "cell_type": "code",
   "execution_count": null,
   "metadata": {
    "hidden": true,
    "scrolled": true
   },
   "outputs": [],
   "source": [
    "data.info()"
   ]
  },
  {
   "cell_type": "markdown",
   "metadata": {
    "hidden": true
   },
   "source": [
    "## Analyze By Release Week"
   ]
  },
  {
   "cell_type": "code",
   "execution_count": null,
   "metadata": {
    "hidden": true,
    "scrolled": false
   },
   "outputs": [],
   "source": [
    "figure, (ax1, ax2) = plt.subplots(2, 1)\n",
    "\n",
    "# Mean groupby\n",
    "week_mean = data.groupby('release_week').mean() / 1000000\n",
    "\n",
    "week_mean['difference'] = week_mean['domestic_adj'] - week_mean['budget_adj']\n",
    "\n",
    "# Median groupby\n",
    "# domestic_median = data.groupby('release_week').median() / 1000000\n",
    "\n",
    "week_mean.plot(y=['domestic_adj', 'budget_adj'], xticks=range(1,54), figsize=(12,6), ax=ax1, title='Domestic Gross and Budget versus Release Week')\n",
    "#domestic_median.plot(y='domestic_adj', xticks=range(1,54), figsize=(12,6), ax=ax1)\n",
    "ax1.set_ylabel('Dollars In Millions')\n",
    "ax1.legend(['Mean Domestic Gross', 'Mean Production Budget'])\n",
    "\n",
    "week_mean.plot(y='difference', xticks=range(1,54), figsize=(12,6), title='Domestic Gross Minus Budget versus Release Week', ax=ax2)\n",
    "ax2.set_ylabel('Dollars In Millions')\n",
    "ax2.legend(['Domestic Gross Minus Budget'])\n",
    "ax2.axhline(0, color='k', linestyle='--')\n",
    "\n",
    "plt.tight_layout()"
   ]
  },
  {
   "cell_type": "code",
   "execution_count": null,
   "metadata": {
    "hidden": true,
    "scrolled": true
   },
   "outputs": [],
   "source": [
    "print('Mean box office gross is', '{0:.1f}'.format(data['domestic_adj'].mean() / 1000000), \"million dollars\")\n",
    "print('Mean box office budget is', '{0:.1f}'.format(data['budget_adj'].mean() / 1000000), \"million dollars\")\n",
    "print('The difference is a mean gain/loss of', '{0:.1f}'.format(data['domestic_adj'].mean() / 1000000 - data['budget_adj'].mean() / 1000000), 'million dollars')"
   ]
  },
  {
   "cell_type": "code",
   "execution_count": null,
   "metadata": {
    "hidden": true
   },
   "outputs": [],
   "source": [
    "print(\"Median box office gross is\", '{0:.1f}'.format(data['domestic_adj'].median() / 1000000), \"million dollars\")\n",
    "print(\"Median box office budget is\", '{0:.1f}'.format(data['budget_adj'].median() / 1000000), \"million dollars\")\n",
    "print('The difference is a median gain/loss of', '{0:.1f}'.format(data['domestic_adj'].median() / 1000000 - data['budget_adj'].median() / 1000000), 'million dollars')"
   ]
  },
  {
   "cell_type": "markdown",
   "metadata": {
    "hidden": true
   },
   "source": [
    "Key Takeaways:\n",
    "- Memorial Day, Summer, and Holiday release weeks are the best\n",
    "- Most movies are not profitable when analyzed domestically\n",
    "- Movies are a risky venture\n",
    "- This doesn't cover the entire picture. Studios only keep a fraction of domestic box office. They also spend a lot on marketing. And this doesn't account for worldwide box office yet."
   ]
  },
  {
   "cell_type": "markdown",
   "metadata": {
    "hidden": true
   },
   "source": [
    "###  Breakeven Percentage By Release Week\n",
    "\n",
    "It is difficult to determine exactly how much studios spend on marketing their movies. An article at [How Stuff Works](https://entertainment.howstuffworks.com/movie-cost1.htm) cites that marketing spend is typically around 50% of the production budget of a movie.\n",
    "\n",
    "According to this article on [The Week](https://theweek.com/articles/647394/when-buy-movie-ticket-where-does-that-money), movie studios keep about 60% of theatrical money (while movie theaters get the other 40%). Once you account for 10% of that money going to pay distributors, movie studios keep about 50% of total theatrical money.\n",
    "\n",
    "To come up with a profitability equation, we will use these numbers. We will say a movie broke even if it grossed three times its production budget domestically. \n",
    "\n",
    "Total spend = 150% production budget (adding 50% of production budget on top for marketing)\n",
    "\n",
    "Total earnings = 0.5 * domestic box office\n",
    "\n",
    "We want to analyze where Total spend = Total earnings, as this is the breakeven point.\n",
    "\n",
    "1.5 * production budget = 0.5 * domestic box office -- is the breakeven point\n",
    "\n",
    "So domestic box office = 3 * production budget"
   ]
  },
  {
   "cell_type": "code",
   "execution_count": null,
   "metadata": {
    "hidden": true
   },
   "outputs": [],
   "source": [
    "figure, ax1 = plt.subplots(1, 1)\n",
    "\n",
    "data['domestic_breakeven'] = data['domestic_adj'] >= 3 * data['budget_adj']\n",
    "\n",
    "week = data.groupby('release_week')\n",
    "\n",
    "(week['domestic_breakeven'].sum() / week['domestic_breakeven'].count() * 100).plot(xticks=range(1,54), figsize=(18,9), ax=ax1, title='Breakeven By Release Week')\n",
    "ax1.set_ylabel('Percentage of Movies That Breakeven')\n",
    "ax1.axhline((data['domestic_breakeven'].sum() / data['domestic_breakeven'].count() * 100).mean(), color='k', linestyle='--')"
   ]
  },
  {
   "cell_type": "code",
   "execution_count": null,
   "metadata": {
    "hidden": true
   },
   "outputs": [],
   "source": [
    "print('Breakeven average percentage for all movies is ', '{0:.1f}'.format((data['domestic_breakeven'].sum() / data['domestic_breakeven'].count() * 100).mean()), '%')"
   ]
  },
  {
   "cell_type": "markdown",
   "metadata": {
    "hidden": true
   },
   "source": [
    "Key Takeaways:\n",
    "- Valentine's Day, Memorial Day, Summer, and Holiday release weeks have the best chance of breaking even.\n",
    "- In aggregate, only a little over 6% of movies breakeven."
   ]
  },
  {
   "cell_type": "markdown",
   "metadata": {
    "hidden": true
   },
   "source": [
    "## Analyze By Decade"
   ]
  },
  {
   "cell_type": "code",
   "execution_count": null,
   "metadata": {
    "hidden": true
   },
   "outputs": [],
   "source": [
    "data['release_decade'] = data['release_year'].apply(lambda x: x // 10 * 10)\n",
    "\n",
    "figure, (ax1, ax2) = plt.subplots(2, 1)\n",
    "\n",
    "# Mean groupby\n",
    "decade_mean = data.groupby('release_decade').mean() / 1000000\n",
    "\n",
    "decade_mean['difference'] = decade_mean['domestic_adj'] - decade_mean['budget_adj']\n",
    "\n",
    "# Median groupby\n",
    "# domestic_median = data.groupby('release_week').median() / 1000000\n",
    "\n",
    "decade_mean.plot(y=['domestic_adj', 'budget_adj'], xticks=range(1910, 2020, 10), figsize=(12,6), ax=ax1, title='Domestic Gross and Budget versus Decade')\n",
    "#domestic_median.plot(y='domestic_adj', xticks=range(1,54), figsize=(12,6), ax=ax1)\n",
    "ax1.set_ylabel('Dollars In Millions')\n",
    "ax1.legend(['Mean Domestic Gross', 'Mean Production Budget'])\n",
    "\n",
    "decade_mean.plot(y='difference', xticks=range(1910, 2020, 10), figsize=(12,6), title='Domestic Gross Minus Budget versus Decade', ax=ax2)\n",
    "ax2.set_ylabel('Dollars In Millions')\n",
    "ax2.legend(['Domestic Gross Minus Budget'])\n",
    "ax2.axhline(0, color='k', linestyle='--')\n",
    "\n",
    "plt.tight_layout()"
   ]
  },
  {
   "cell_type": "code",
   "execution_count": null,
   "metadata": {
    "hidden": true,
    "scrolled": true
   },
   "outputs": [],
   "source": [
    "print(decade_mean[['domestic_adj', 'budget_adj', 'difference']])"
   ]
  },
  {
   "cell_type": "markdown",
   "metadata": {
    "hidden": true
   },
   "source": [
    "Key Takeaways:\n",
    "- Movies seem like a surer bet before the 1980s\n",
    "- Production budgets have increased over time"
   ]
  },
  {
   "cell_type": "markdown",
   "metadata": {
    "hidden": true
   },
   "source": [
    "### Breakeven Percentage By Decade"
   ]
  },
  {
   "cell_type": "code",
   "execution_count": null,
   "metadata": {
    "hidden": true
   },
   "outputs": [],
   "source": [
    "figure, ax1 = plt.subplots(1, 1)\n",
    "\n",
    "decade = data.groupby('release_decade')\n",
    "\n",
    "(decade['domestic_breakeven'].sum() / decade['domestic_breakeven'].count() * 100).plot(xticks=range(1910, 2020, 10), figsize=(18,9), ax=ax1, title='Breakeven By Decade')\n",
    "ax1.set_ylabel('Percentage of Movies That Breakeven')\n",
    "ax1.axhline((data['domestic_breakeven'].sum() / data['domestic_breakeven'].count() * 100).mean(), color='k', linestyle='--')"
   ]
  },
  {
   "cell_type": "code",
   "execution_count": null,
   "metadata": {
    "hidden": true
   },
   "outputs": [],
   "source": [
    "print('Breakeven average percentage for all movies is ', '{0:.1f}'.format((data['domestic_breakeven'].sum() / data['domestic_breakeven'].count() * 100).mean()), '%')"
   ]
  },
  {
   "cell_type": "markdown",
   "metadata": {
    "hidden": true
   },
   "source": [
    "Key Takeaways:\n",
    "- A movie's profitablity based on domestic box office has declined over time\n",
    "- When separating movies by decade, it seems movies made before 1980 were more successful domestically when comparing box office to budget\n",
    "- Something is amiss because these high levels of \"profitability\" don't mesh with our per movie average breakeven of 6.1%. Perhaps the sheer amount of movies released more recently is plunging this percentage. For example, more failures released nowadays than ever before? Something to investigate."
   ]
  },
  {
   "cell_type": "markdown",
   "metadata": {
    "hidden": true
   },
   "source": [
    "## Analyze By Number of Movies Released"
   ]
  },
  {
   "cell_type": "code",
   "execution_count": null,
   "metadata": {
    "hidden": true
   },
   "outputs": [],
   "source": [
    "figure, ax1 = plt.subplots(1,1)\n",
    "\n",
    "decade['release_decade'].count().plot(xticks=range(1910, 2020, 10), figsize=(18,9), ax=ax1, title='Number of Movies By Decade')\n",
    "ax1.set_ylabel('Number of Movies')\n",
    "ax1.axhline(decade['release_decade'].count().mean(), color='k', linestyle='--', label='Mean Number Released By Decade')"
   ]
  },
  {
   "cell_type": "code",
   "execution_count": null,
   "metadata": {
    "hidden": true
   },
   "outputs": [],
   "source": [
    "print('Mean number of movies released by decade is', '{0:.1f}'.format(decade['release_decade'].count().mean()))\n",
    "print('\\n')\n",
    "print(decade['release_decade'].count())"
   ]
  },
  {
   "cell_type": "markdown",
   "metadata": {
    "hidden": true
   },
   "source": [
    "Key Takeaways:\n",
    "- Our dataset is skewed towards having more information for more recent movies.\n",
    "- It seems like we are missing helpful information about movies from the early to mid 1900s. Let's doublecheck those figures.\n",
    "\n",
    "[The Numbers](https://www.the-numbers.com/movies/#tab=year) actually has a page of information with the total number of movies released domestically by year. It also includes movies that were only released on video, so we will just see if our numbers are similar."
   ]
  },
  {
   "cell_type": "code",
   "execution_count": null,
   "metadata": {
    "hidden": true
   },
   "outputs": [],
   "source": [
    "import requests\n",
    "\n",
    "url = 'https://www.the-numbers.com/movies/#tab=year'\n",
    "\n",
    "header = {\n",
    "  \"User-Agent\": \"Mozilla/5.0 (X11; Linux x86_64) AppleWebKit/537.36 (KHTML, like Gecko) Chrome/50.0.2661.75 Safari/537.36\",\n",
    "  \"X-Requested-With\": \"XMLHttpRequest\"\n",
    "}\n",
    "\n",
    "response = requests.get(url, headers=header)\n",
    "\n",
    "dfs = pd.read_html(response.text)"
   ]
  },
  {
   "cell_type": "code",
   "execution_count": null,
   "metadata": {
    "hidden": true
   },
   "outputs": [],
   "source": [
    "for df in dfs:\n",
    "    print(df.head())\n",
    "    print('\\n\\n')"
   ]
  },
  {
   "cell_type": "code",
   "execution_count": null,
   "metadata": {
    "hidden": true,
    "scrolled": true
   },
   "outputs": [],
   "source": [
    "dfs[0].info()"
   ]
  },
  {
   "cell_type": "code",
   "execution_count": null,
   "metadata": {
    "hidden": true
   },
   "outputs": [],
   "source": [
    "dfs[0].head()"
   ]
  },
  {
   "cell_type": "code",
   "execution_count": null,
   "metadata": {
    "hidden": true
   },
   "outputs": [],
   "source": [
    "movies_per_year = dfs[0][['Year', 'TotalMovies']].copy()\n",
    "\n",
    "# We don't want the TBD year\n",
    "movies_per_year.drop(0, axis=0, inplace=True)\n",
    "movies_per_year['Year'] = movies_per_year['Year'].astype(int)\n",
    "\n",
    "# We are only looking at movies up until 2018\n",
    "movies_per_year = movies_per_year[movies_per_year['Year'] < 2019]\n",
    "\n",
    "# Create a decade column\n",
    "movies_per_year['release_decade'] = movies_per_year['Year'].apply(lambda x: x // 10 * 10)\n",
    "\n",
    "movies_per_year.head()"
   ]
  },
  {
   "cell_type": "code",
   "execution_count": null,
   "metadata": {
    "hidden": true
   },
   "outputs": [],
   "source": [
    "movies_per_year_grp = movies_per_year.groupby('release_decade').sum()\n",
    "\n",
    "movies_per_year_grp.head(20)"
   ]
  },
  {
   "cell_type": "code",
   "execution_count": null,
   "metadata": {
    "hidden": true
   },
   "outputs": [],
   "source": [
    "figure, ax1 = plt.subplots(1,1)\n",
    "\n",
    "decade['release_decade'].count().plot(xticks=range(1910, 2020, 10), figsize=(18,9), ax=ax1, title='Number of Movies By Decade')\n",
    "movies_per_year_grp.plot(y='TotalMovies', xticks=range(1910, 2020, 10), ax=ax1)\n",
    "ax1.set_ylabel('Number of Movies')\n",
    "ax1.legend(['Scraped Data', 'The Numbers Aggregate Data'])\n",
    "# ax1.axhline(decade['release_decade'].count().mean(), color='k', linestyle='--', label='Mean Number Released By Decade')"
   ]
  },
  {
   "cell_type": "markdown",
   "metadata": {
    "hidden": true
   },
   "source": [
    "Our dataset is clearly missing many movies, most notably from 1990 onwards. \n",
    "\n",
    "However, many entries on The Numbers are direct to video, so our numbers might not be too far off.\n",
    "\n",
    "A potential future investgiation could be to further research movies releases in the 1990s and beyond to verify the data from The Numbers.\n",
    "\n",
    "For now, we will continue with the data we have collected."
   ]
  },
  {
   "cell_type": "markdown",
   "metadata": {
    "hidden": true
   },
   "source": [
    "## Preliminary Thoughts\n",
    "\n",
    "We have more data on recent movies, so directly comparing with past movies is more difficult.\n",
    "\n",
    "It does appear that movies in aggregate have become less profitable when we only look at domestic box office.\n",
    "\n",
    "Perhaps one of the reasons this is possible is the growth of worldwide distribution. If studios are banking on foreign box office, then they can afford to spend more on movies.\n",
    "\n",
    "We will know incorporate worldwide box office into our analysis."
   ]
  },
  {
   "cell_type": "markdown",
   "metadata": {
    "heading_collapsed": true
   },
   "source": [
    "# Analyze By Worldwide Box Office"
   ]
  },
  {
   "cell_type": "markdown",
   "metadata": {
    "hidden": true
   },
   "source": [
    "## Import needed libraries"
   ]
  },
  {
   "cell_type": "code",
   "execution_count": null,
   "metadata": {
    "hidden": true
   },
   "outputs": [],
   "source": [
    "import pandas as pd\n",
    "import numpy as np\n",
    "import matplotlib.pyplot as plt\n",
    "%matplotlib inline\n",
    "import pprint"
   ]
  },
  {
   "cell_type": "code",
   "execution_count": null,
   "metadata": {
    "hidden": true
   },
   "outputs": [],
   "source": [
    "from IPython.core.display import display, HTML\n",
    "display(HTML(\"<style>.container { width:80% !important; }</style>\"))\n",
    "\n",
    "pd.options.display.max_rows = 400\n",
    "pd.options.display.max_columns = 50"
   ]
  },
  {
   "cell_type": "markdown",
   "metadata": {
    "hidden": true
   },
   "source": [
    "## Import dataset"
   ]
  },
  {
   "cell_type": "code",
   "execution_count": null,
   "metadata": {
    "hidden": true
   },
   "outputs": [],
   "source": [
    "data = pd.read_csv('cleaned_movie_data.csv', parse_dates=['release_date'])\n",
    "\n",
    "# Only look at movies that made money worldwide\n",
    "data = data[data['worldwide_adj'].notna() & data['worldwide_adj'] > 0]"
   ]
  },
  {
   "cell_type": "code",
   "execution_count": null,
   "metadata": {
    "hidden": true,
    "scrolled": true
   },
   "outputs": [],
   "source": [
    "data.info()"
   ]
  },
  {
   "cell_type": "markdown",
   "metadata": {
    "hidden": true
   },
   "source": [
    "We have 9,915 movies with worldwide box office figures."
   ]
  },
  {
   "cell_type": "markdown",
   "metadata": {
    "hidden": true
   },
   "source": [
    "## Analyze By Release Week"
   ]
  },
  {
   "cell_type": "code",
   "execution_count": null,
   "metadata": {
    "hidden": true,
    "scrolled": false
   },
   "outputs": [],
   "source": [
    "figure, (ax1, ax2) = plt.subplots(2, 1)\n",
    "\n",
    "# Mean groupby\n",
    "week_mean = data.groupby('release_week').mean() / 1000000\n",
    "\n",
    "week_mean['difference'] = week_mean['worldwide_adj'] - week_mean['budget_adj']\n",
    "\n",
    "# Median groupby\n",
    "# domestic_median = data.groupby('release_week').median() / 1000000\n",
    "\n",
    "week_mean.plot(y=['worldwide_adj', 'budget_adj'], xticks=range(1,54), figsize=(12,6), ax=ax1, title='Worldwide Gross and Budget versus Release Week')\n",
    "#domestic_median.plot(y='domestic_adj', xticks=range(1,54), figsize=(12,6), ax=ax1)\n",
    "ax1.set_ylabel('Dollars In Millions')\n",
    "ax1.legend(['Mean Worldwide Gross', 'Mean Production Budget'])\n",
    "\n",
    "week_mean.plot(y='difference', xticks=range(1,54), figsize=(12,6), title='Worldwide Gross Minus Budget versus Release Week', ax=ax2)\n",
    "ax2.set_ylabel('Dollars In Millions')\n",
    "ax2.legend(['Worldwide Gross Minus Budget'])\n",
    "ax2.axhline(0, color='k', linestyle='--')\n",
    "\n",
    "plt.tight_layout()"
   ]
  },
  {
   "cell_type": "code",
   "execution_count": null,
   "metadata": {
    "hidden": true,
    "scrolled": true
   },
   "outputs": [],
   "source": [
    "print('Mean worldwide gross is', '{0:.1f}'.format(data['worldwide_adj'].mean() / 1000000), \"million dollars\")\n",
    "print('Mean worldwide budget is', '{0:.1f}'.format(data['budget_adj'].mean() / 1000000), \"million dollars\")\n",
    "print('The difference is a mean gain/loss of', '{0:.1f}'.format(data['worldwide_adj'].mean() / 1000000 - data['budget_adj'].mean() / 1000000), 'million dollars')"
   ]
  },
  {
   "cell_type": "code",
   "execution_count": null,
   "metadata": {
    "hidden": true
   },
   "outputs": [],
   "source": [
    "print(\"Median worldwide gross is\", '{0:.1f}'.format(data['worldwide_adj'].median() / 1000000), \"million dollars\")\n",
    "print(\"Median worldwide budget is\", '{0:.1f}'.format(data['budget_adj'].median() / 1000000), \"million dollars\")\n",
    "print('The difference is a median gain/loss of', '{0:.1f}'.format(data['worldwide_adj'].median() / 1000000 - data['budget_adj'].median() / 1000000), 'million dollars')"
   ]
  },
  {
   "cell_type": "markdown",
   "metadata": {
    "hidden": true
   },
   "source": [
    "Key Takeaways:\n",
    "- When averaging by release week, no groups earn less in worldwide receipts than spent on production\n",
    "- The state of movies looks far more promising when factoring in worldwide box office"
   ]
  },
  {
   "cell_type": "code",
   "execution_count": null,
   "metadata": {
    "hidden": true
   },
   "outputs": [],
   "source": [
    "figure, ax1 = plt.subplots(1,1)\n",
    "\n",
    "data[(data['worldwide_adj'] - data['budget_adj']) <= 0].groupby('release_year').count().plot(y='title', figsize=(12,9), ax=ax1, title='Number Of Movies With Worldwide Box Office Less Than Or Equal To Production Budget')\n",
    "data.groupby('release_year').count().plot(y='title', ax=ax1)\n",
    "ax1.set_ylabel('Number Of Movies')\n",
    "ax1.legend(['Worldwide <= Budget', 'All Movies'])"
   ]
  },
  {
   "cell_type": "markdown",
   "metadata": {
    "hidden": true
   },
   "source": [
    "Key Takeaways:\n",
    "- Starting in the 1990s, there was a dramatic increase in the number of movies released worldwide\n",
    "- This also meant a dramatic increase in the number of movies that didn't cover their budget\n",
    "- There's a recent decrease in these failures"
   ]
  },
  {
   "cell_type": "markdown",
   "metadata": {
    "hidden": true
   },
   "source": [
    "###  Breakeven Percentage By Release Week\n",
    "\n",
    "Calculating the breakeven point for worldwide movies is different than for domestic ones.\n",
    "\n",
    "An estimate from [Gizmodo](https://io9.gizmodo.com/how-much-money-does-a-movie-need-to-make-to-be-profitab-5747305) is that a movie breaks even when it earns twice its production budget worldwide. We will go with that formula for worldwide comparisons."
   ]
  },
  {
   "cell_type": "code",
   "execution_count": null,
   "metadata": {
    "hidden": true
   },
   "outputs": [],
   "source": [
    "figure, ax1 = plt.subplots(1, 1)\n",
    "\n",
    "data['worldwide_breakeven'] = data['worldwide_adj'] >= 2 * data['budget_adj']\n",
    "\n",
    "week = data.groupby('release_week')\n",
    "\n",
    "(week['worldwide_breakeven'].sum() / week['worldwide_breakeven'].count() * 100).plot(xticks=range(1,54), figsize=(18,9), ax=ax1, title='Worldwide Breakeven By Release Week')\n",
    "ax1.set_ylabel('Percentage of Movies That Breakeven')\n",
    "ax1.axhline((data['worldwide_breakeven'].sum() / data['worldwide_breakeven'].count() * 100).mean(), color='k', linestyle='--')"
   ]
  },
  {
   "cell_type": "code",
   "execution_count": null,
   "metadata": {
    "hidden": true
   },
   "outputs": [],
   "source": [
    "print('Breakeven average percentage for all movies is ', '{0:.1f}'.format((data['worldwide_breakeven'].sum() / data['worldwide_breakeven'].count() * 100).mean()), '%')"
   ]
  },
  {
   "cell_type": "markdown",
   "metadata": {
    "hidden": true
   },
   "source": [
    "Key Takeaways:\n",
    "- Movies are far more profitable when accounting for worldwide box office\n",
    "- In aggregate, only a little over 30% of worldwide movies breakeven."
   ]
  },
  {
   "cell_type": "markdown",
   "metadata": {
    "hidden": true
   },
   "source": [
    "## Analyze By Decade"
   ]
  },
  {
   "cell_type": "code",
   "execution_count": null,
   "metadata": {
    "hidden": true
   },
   "outputs": [],
   "source": [
    "data['release_decade'] = data['release_year'].apply(lambda x: x // 10 * 10)\n",
    "\n",
    "figure, (ax1, ax2) = plt.subplots(2, 1)\n",
    "\n",
    "# Mean groupby\n",
    "decade_mean = data.groupby('release_decade').mean() / 1000000\n",
    "\n",
    "decade_mean['difference'] = decade_mean['worldwide_adj'] - decade_mean['budget_adj']\n",
    "\n",
    "# Median groupby\n",
    "# domestic_median = data.groupby('release_week').median() / 1000000\n",
    "\n",
    "decade_mean.plot(y=['worldwide_adj', 'budget_adj'], xticks=range(1910, 2020, 10), figsize=(12,6), ax=ax1, title='Worldwide Gross and Budget versus Decade')\n",
    "#domestic_median.plot(y='domestic_adj', xticks=range(1,54), figsize=(12,6), ax=ax1)\n",
    "ax1.set_ylabel('Dollars In Millions')\n",
    "ax1.legend(['Mean Worldwide Gross', 'Mean Production Budget'])\n",
    "\n",
    "decade_mean.plot(y='difference', xticks=range(1910, 2020, 10), figsize=(12,6), title='Worldwide Gross Minus Budget versus Decade', ax=ax2)\n",
    "ax2.set_ylabel('Dollars In Millions')\n",
    "ax2.legend(['Worldwide Gross Minus Budget'])\n",
    "ax2.axhline(0, color='k', linestyle='--')\n",
    "\n",
    "plt.tight_layout()"
   ]
  },
  {
   "cell_type": "code",
   "execution_count": null,
   "metadata": {
    "hidden": true,
    "scrolled": true
   },
   "outputs": [],
   "source": [
    "print(decade_mean[['worldwide_adj', 'budget_adj', 'difference']])"
   ]
  },
  {
   "cell_type": "markdown",
   "metadata": {
    "hidden": true
   },
   "source": [
    "Key Takeaways:\n",
    "- In aggreate, worldwide movies are surer bets than just domestic ones"
   ]
  },
  {
   "cell_type": "markdown",
   "metadata": {
    "hidden": true
   },
   "source": [
    "### Breakeven Percentage By Decade"
   ]
  },
  {
   "cell_type": "code",
   "execution_count": null,
   "metadata": {
    "hidden": true
   },
   "outputs": [],
   "source": [
    "figure, ax1 = plt.subplots(1, 1)\n",
    "\n",
    "decade = data.groupby('release_decade')\n",
    "\n",
    "(decade['worldwide_breakeven'].sum() / decade['worldwide_breakeven'].count() * 100).plot(xticks=range(1910, 2020, 10), figsize=(18,9), ax=ax1, title='Worldwide Breakeven By Decade')\n",
    "ax1.set_ylabel('Percentage of Movies That Breakeven')\n",
    "ax1.axhline((data['worldwide_breakeven'].sum() / data['worldwide_breakeven'].count() * 100).mean(), color='k', linestyle='--')"
   ]
  },
  {
   "cell_type": "code",
   "execution_count": null,
   "metadata": {
    "hidden": true
   },
   "outputs": [],
   "source": [
    "print('Breakeven average percentage for all movies is ', '{0:.1f}'.format((data['worldwide_breakeven'].sum() / data['worldwide_breakeven'].count() * 100).mean()), '%')"
   ]
  },
  {
   "cell_type": "markdown",
   "metadata": {
    "hidden": true
   },
   "source": [
    "Key Takeaways:\n",
    "- Currently, we are below the historical average for breakeven percentage\n",
    "- This probably has to do with how many more movies are made now, but we shall investigate this"
   ]
  },
  {
   "cell_type": "markdown",
   "metadata": {
    "hidden": true
   },
   "source": [
    "## Analyze By Number of Movies Released"
   ]
  },
  {
   "cell_type": "code",
   "execution_count": null,
   "metadata": {
    "hidden": true
   },
   "outputs": [],
   "source": [
    "figure, ax1 = plt.subplots(1,1)\n",
    "\n",
    "decade['release_decade'].count().plot(xticks=range(1910, 2020, 10), figsize=(18,9), ax=ax1, title='Number of Movies By Decade')\n",
    "ax1.set_ylabel('Number of Movies')\n",
    "ax1.axhline(decade['release_decade'].count().mean(), color='k', linestyle='--', label='Mean Number Released By Decade')"
   ]
  },
  {
   "cell_type": "code",
   "execution_count": null,
   "metadata": {
    "hidden": true
   },
   "outputs": [],
   "source": [
    "print('Mean number of movies released by decade is', '{0:.1f}'.format(decade['release_decade'].count().mean()))\n",
    "print('\\n')\n",
    "print(decade['release_decade'].count())"
   ]
  },
  {
   "cell_type": "markdown",
   "metadata": {
    "hidden": true
   },
   "source": [
    "Like before, we will use [The Numbers](https://www.the-numbers.com/movies/#tab=year) actually has a page of information with the total number of movies released domestically by year. It also includes movies that were only released on video, so we will just see if our numbers are similar."
   ]
  },
  {
   "cell_type": "code",
   "execution_count": null,
   "metadata": {
    "hidden": true
   },
   "outputs": [],
   "source": [
    "import requests\n",
    "\n",
    "url = 'https://www.the-numbers.com/movies/#tab=year'\n",
    "\n",
    "header = {\n",
    "  \"User-Agent\": \"Mozilla/5.0 (X11; Linux x86_64) AppleWebKit/537.36 (KHTML, like Gecko) Chrome/50.0.2661.75 Safari/537.36\",\n",
    "  \"X-Requested-With\": \"XMLHttpRequest\"\n",
    "}\n",
    "\n",
    "response = requests.get(url, headers=header)\n",
    "\n",
    "dfs = pd.read_html(response.text)"
   ]
  },
  {
   "cell_type": "code",
   "execution_count": null,
   "metadata": {
    "hidden": true
   },
   "outputs": [],
   "source": [
    "movies_per_year = dfs[0][['Year', 'TotalMovies']].copy()\n",
    "\n",
    "# We don't want the TBD year\n",
    "movies_per_year.drop(0, axis=0, inplace=True)\n",
    "movies_per_year['Year'] = movies_per_year['Year'].astype(int)\n",
    "\n",
    "# We are only looking at movies up until 2018\n",
    "movies_per_year = movies_per_year[movies_per_year['Year'] < 2019]\n",
    "\n",
    "# Create a decade column\n",
    "movies_per_year['release_decade'] = movies_per_year['Year'].apply(lambda x: x // 10 * 10)\n",
    "\n",
    "movies_per_year.head()"
   ]
  },
  {
   "cell_type": "code",
   "execution_count": null,
   "metadata": {
    "hidden": true
   },
   "outputs": [],
   "source": [
    "movies_per_year_grp = movies_per_year.groupby('release_decade').sum()\n",
    "\n",
    "movies_per_year_grp.head(20)"
   ]
  },
  {
   "cell_type": "code",
   "execution_count": null,
   "metadata": {
    "hidden": true
   },
   "outputs": [],
   "source": [
    "figure, ax1 = plt.subplots(1,1)\n",
    "\n",
    "decade['release_decade'].count().plot(xticks=range(1910, 2020, 10), figsize=(18,9), ax=ax1, title='Number of Worldwide Movies By Decade')\n",
    "movies_per_year_grp.plot(y='TotalMovies', xticks=range(1910, 2020, 10), ax=ax1)\n",
    "ax1.set_ylabel('Number of Movies')\n",
    "ax1.legend(['Scraped Data', 'The Numbers Aggregate Data'])\n",
    "# ax1.axhline(decade['release_decade'].count().mean(), color='k', linestyle='--', label='Mean Number Released By Decade')"
   ]
  },
  {
   "cell_type": "markdown",
   "metadata": {
    "hidden": true
   },
   "source": [
    "We seem to be missing data on many worldwide movies. Hopefully, the sample we have is representative enough for analysis."
   ]
  },
  {
   "cell_type": "markdown",
   "metadata": {
    "heading_collapsed": true
   },
   "source": [
    "# Genre\n",
    "\n",
    "According to The [Numbers](https://www.the-numbers.com/market/), the top six genres in terms of box office gross are:\n",
    "- Adventure\n",
    "- Action\n",
    "- Drama\n",
    "- Comedy\n",
    "- Thriller/Suspense\n",
    "- Horror\n",
    "\n",
    "Let's analyze our worldwide movie data to see how the genres compare to each other over time."
   ]
  },
  {
   "cell_type": "markdown",
   "metadata": {
    "hidden": true
   },
   "source": [
    "## Analyze By Domestic"
   ]
  },
  {
   "cell_type": "markdown",
   "metadata": {
    "hidden": true
   },
   "source": [
    "### Import needed libraries"
   ]
  },
  {
   "cell_type": "code",
   "execution_count": null,
   "metadata": {
    "hidden": true
   },
   "outputs": [],
   "source": [
    "import pandas as pd\n",
    "import numpy as np\n",
    "import matplotlib.pyplot as plt\n",
    "%matplotlib inline\n",
    "import pprint"
   ]
  },
  {
   "cell_type": "code",
   "execution_count": null,
   "metadata": {
    "hidden": true
   },
   "outputs": [],
   "source": [
    "from IPython.core.display import display, HTML\n",
    "display(HTML(\"<style>.container { width:70% !important; }</style>\"))\n",
    "\n",
    "pd.options.display.max_rows = 400\n",
    "pd.options.display.max_columns = 50"
   ]
  },
  {
   "cell_type": "markdown",
   "metadata": {
    "hidden": true
   },
   "source": [
    "### Import dataset"
   ]
  },
  {
   "cell_type": "code",
   "execution_count": null,
   "metadata": {
    "hidden": true
   },
   "outputs": [],
   "source": [
    "data = pd.read_csv('cleaned_movie_data.csv', parse_dates=['release_date'])\n",
    "\n",
    "# Only look at movies that made money domestically\n",
    "data = data[data['domestic_adj'].notna() & data['domestic_adj'] > 0]\n",
    "\n",
    "# For decade analysis\n",
    "data['release_decade'] = data['release_year'].apply(lambda x: x // 10 * 10)\n",
    "\n",
    "# For breakeven analysis\n",
    "data['domestic_breakeven'] = data['domestic_adj'] >= 3 * data['budget_adj']\n",
    "\n",
    "# Create columns for genres\n",
    "data['adventure'] = data['genres_mojo'].str.contains('Adventure', na=False) \n",
    "data['action'] = data['genres_mojo'].str.contains('Action', na=False)\n",
    "data['drama'] = data['genres_mojo'].str.contains('Drama', na=False)\n",
    "data['comedy'] = data['genres_mojo'].str.contains('Comedy', na=False)\n",
    "data['thriller_suspense'] = data['genres_mojo'].str.contains('Thriller|Suspense', na=False, regex=True)\n",
    "data['horror'] = data['genres_mojo'].str.contains('Horror', na=False)\n",
    "\n",
    "# Create dataframes for the genres\n",
    "adventure = data[data['genres_mojo'].str.contains('Adventure', na=False)] \n",
    "action = data[data['genres_mojo'].str.contains('Action', na=False)]\n",
    "drama = data[data['genres_mojo'].str.contains('Drama', na=False)]\n",
    "comedy = data[data['genres_mojo'].str.contains('Comedy', na=False)]\n",
    "thriller_suspense = data[data['genres_mojo'].str.contains('Thriller|Suspense', na=False, regex=True)]\n",
    "horror = data[data['genres_mojo'].str.contains('Horror', na=False)]"
   ]
  },
  {
   "cell_type": "code",
   "execution_count": null,
   "metadata": {
    "hidden": true,
    "scrolled": true
   },
   "outputs": [],
   "source": [
    "data['genres_mojo'].value_counts(dropna=False)"
   ]
  },
  {
   "cell_type": "markdown",
   "metadata": {
    "hidden": true
   },
   "source": [
    "### Analyze By Release Week"
   ]
  },
  {
   "cell_type": "markdown",
   "metadata": {
    "hidden": true
   },
   "source": [
    "Since so many movies are categorized with multiple genres, we will include movies in all the genres they are listed as having.\n",
    "\n",
    "This is to avoid deciding what one genre a movie belongs to."
   ]
  },
  {
   "cell_type": "code",
   "execution_count": null,
   "metadata": {
    "hidden": true
   },
   "outputs": [],
   "source": [
    "adventure = data[data['genres_mojo'].str.contains('Adventure', na=False)] \n",
    "action = data[data['genres_mojo'].str.contains('Action', na=False)]\n",
    "drama = data[data['genres_mojo'].str.contains('Drama', na=False)]\n",
    "comedy = data[data['genres_mojo'].str.contains('Comedy', na=False)]\n",
    "thriller_suspense = data[data['genres_mojo'].str.contains('Thriller|Suspense', na=False, regex=True)]\n",
    "horror = data[data['genres_mojo'].str.contains('Horror', na=False)]"
   ]
  },
  {
   "cell_type": "code",
   "execution_count": null,
   "metadata": {
    "hidden": true
   },
   "outputs": [],
   "source": [
    "print('adventure has ', len(adventure), 'movies')\n",
    "print('action has ', len(action), 'movies')\n",
    "print('drama has ', len(drama), 'movies')\n",
    "print('comedy has ', len(comedy), 'movies')\n",
    "print('thriller_suspense has ', len(thriller_suspense), 'movies')\n",
    "print('horror has ', len(horror), 'movies')"
   ]
  },
  {
   "cell_type": "code",
   "execution_count": null,
   "metadata": {
    "hidden": true
   },
   "outputs": [],
   "source": [
    "figure, ax1 = plt.subplots(nrows=1, ncols=1, figsize=(18,9))\n",
    "\n",
    "# Since we are dealing with boolean columns, we must use 'sum' to get the total counts\n",
    "data.groupby('release_decade').sum().plot.bar(y=['adventure', 'action', 'drama', 'comedy', 'thriller_suspense', 'horror'], ax=ax1, title='Number of Genre Movies Released Domestically By Decade')"
   ]
  },
  {
   "cell_type": "markdown",
   "metadata": {
    "hidden": true
   },
   "source": [
    "Key Takeaways:\n",
    "- Drama and Comedy are the two most common genres\n",
    "- Thriller/Suspense and Action are neck and neck for the next most produced genres\n",
    "- Adventure is way less common, probably due to its relatively higher budget\n",
    "- Our dataset has far more movies being released in the last three decades"
   ]
  },
  {
   "cell_type": "code",
   "execution_count": null,
   "metadata": {
    "hidden": true
   },
   "outputs": [],
   "source": [
    "data['adventure'] = data['genres_mojo'].str.contains('Adventure', na=False) \n",
    "data['action'] = data['genres_mojo'].str.contains('Action', na=False)\n",
    "data['drama'] = data['genres_mojo'].str.contains('Drama', na=False)\n",
    "data['comedy'] = data['genres_mojo'].str.contains('Comedy', na=False)\n",
    "data['thriller_suspense'] = data['genres_mojo'].str.contains('Thriller|Suspense', na=False, regex=True)\n",
    "data['horror'] = data['genres_mojo'].str.contains('Horror', na=False)"
   ]
  },
  {
   "cell_type": "markdown",
   "metadata": {
    "hidden": true
   },
   "source": [
    "#### Domestic Gross"
   ]
  },
  {
   "cell_type": "code",
   "execution_count": null,
   "metadata": {
    "hidden": true
   },
   "outputs": [],
   "source": [
    "# Sort the genres in descending order of mean domestic adjusted gross\n",
    "\n",
    "# All genres\n",
    "genres = ['adventure', 'action', 'drama', 'comedy', 'thriller_suspense', 'horror']\n",
    "\n",
    "# Dictionary of genres and their mean domestic adjusted gross\n",
    "genres_mean_domestic_adj = {genre: round(data[data[genre]]['domestic_adj'].mean() / 1000000, 1) for genre in genres}\n",
    "\n",
    "# Sorted list of genres in descending order of mean domestic adjusted gross\n",
    "genres_mean_domestic_adj_sorted = sorted(genres_mean_domestic_adj.items(), key=lambda x: x[1], reverse=True)\n",
    "\n",
    "print(\"Mean Adjusted Domestic Gross:\\n\")\n",
    "for genre, amount in genres_mean_domestic_adj_sorted:\n",
    "    print('{0:<20} {1:.1f} million dollars'.format(genre.title(), amount))"
   ]
  },
  {
   "cell_type": "code",
   "execution_count": null,
   "metadata": {
    "hidden": true
   },
   "outputs": [],
   "source": [
    "# The order to plot the genres\n",
    "genres_domestic_gross_order = [k for k,v in genres_mean_domestic_adj_sorted]\n",
    "\n",
    "colors = ['b', 'g', 'r', 'c', 'm', 'y', 'k', 'w']\n",
    "\n",
    "figure, axes = plt.subplots(nrows=6, ncols=1, sharex=True, sharey=True, figsize=(24, 16))\n",
    "figure.suptitle('Mean Domestic Gross By Genre And Release Week', fontsize=20, y=1.02)\n",
    "\n",
    "ax1, ax2, ax3, ax4, ax5, ax6 = axes.flatten()\n",
    "axes_list = [ax1, ax2, ax3, ax4, ax5, ax6]\n",
    "\n",
    "for genre, axis, color in zip(genres_domestic_gross_order, axes_list, colors):\n",
    "    grp = data[data[genre]].groupby('release_week').mean() / 1000000\n",
    "    grp.plot(kind='bar', y='domestic_adj', xticks=range(1, 54), ax=axis, linewidth=3, color=color)\n",
    "    axis.set_ylabel('Domestic Gross In Millions', fontsize=12)\n",
    "    axis.legend([genre], loc=2, fontsize=15)\n",
    "\n",
    "plt.tight_layout() "
   ]
  },
  {
   "cell_type": "markdown",
   "metadata": {
    "hidden": true
   },
   "source": [
    "Key Takeaways:\n",
    "- Action and Adventure have the biggest seasonal differences, most noticeably in Summer and at Thanksgiving and Christmas\n",
    "- All genres except Drama have a bump in Summer\n",
    "- All genres have a bump at Christmastime"
   ]
  },
  {
   "cell_type": "markdown",
   "metadata": {
    "hidden": true
   },
   "source": [
    "#### Production Budget"
   ]
  },
  {
   "cell_type": "code",
   "execution_count": null,
   "metadata": {
    "hidden": true
   },
   "outputs": [],
   "source": [
    "# Sort the genres in descending order of mean adjusted production budgets\n",
    "\n",
    "# All genres\n",
    "genres = ['adventure', 'action', 'drama', 'comedy', 'thriller_suspense', 'horror']\n",
    "\n",
    "# Dictionary of genres and their mean production budgets\n",
    "genres_mean_budgets_adj = {genre: round(data[data[genre]]['budget_adj'].mean() / 1000000, 1) for genre in genres}\n",
    "\n",
    "# Sorted list of genres in descending order of mean domestic adjusted gross\n",
    "genres_mean_budgets_adj_sorted = sorted(genres_mean_budgets_adj.items(), key=lambda x: x[1], reverse=True)\n",
    "\n",
    "print(\"Mean Adjusted Budget:\\n\")\n",
    "for genre, amount in genres_mean_budgets_adj_sorted:\n",
    "    print('{0:<20} {1:.1f} million dollars'.format(genre.title(), amount))"
   ]
  },
  {
   "cell_type": "code",
   "execution_count": null,
   "metadata": {
    "hidden": true
   },
   "outputs": [],
   "source": [
    "# The order to plot the genres\n",
    "genres_budgets_order = [k for k,v in genres_mean_budgets_adj_sorted]\n",
    "\n",
    "colors = ['b', 'g', 'r', 'c', 'm', 'y', 'k', 'w']\n",
    "\n",
    "figure, axes = plt.subplots(nrows=6, ncols=1, sharex=True, sharey=True, figsize=(24, 16))\n",
    "figure.suptitle('Mean Production Budget By Genre And Release Week', fontsize=20, y=1.02)\n",
    "\n",
    "ax1, ax2, ax3, ax4, ax5, ax6 = axes.flatten()\n",
    "axes_list = [ax1, ax2, ax3, ax4, ax5, ax6]\n",
    "\n",
    "genres = ['adventure', 'action', 'drama', 'comedy', 'thriller_suspense', 'horror']\n",
    "colors = ['b', 'g', 'r', 'c', 'm', 'y', 'k', 'w']\n",
    "\n",
    "for genre, axis, color in zip(genres_budgets_order, axes_list, colors):\n",
    "    grp = data[data[genre]].groupby('release_week').mean() / 1000000\n",
    "    grp.plot(kind='bar', y='budget_adj', xticks=range(1, 54), ax=axis, linewidth=3, color=color)\n",
    "    axis.set_ylabel('Budget In Millions', fontsize=12)\n",
    "    axis.legend([genre], loc=2, fontsize=15)\n",
    "\n",
    "plt.tight_layout() "
   ]
  },
  {
   "cell_type": "markdown",
   "metadata": {
    "hidden": true
   },
   "source": [
    "Key Takeaways:\n",
    "- Action and Adventure have much larger budgets in general\n",
    "- Thriller/Suspense seems to have the third largest mean budget\n",
    "- Drama, Comedy, and Horror all have approximately the same mean budget"
   ]
  },
  {
   "cell_type": "markdown",
   "metadata": {
    "hidden": true
   },
   "source": [
    "### Analyze By Decade"
   ]
  },
  {
   "cell_type": "markdown",
   "metadata": {
    "hidden": true
   },
   "source": [
    "#### Domestic Gross"
   ]
  },
  {
   "cell_type": "code",
   "execution_count": null,
   "metadata": {
    "hidden": true
   },
   "outputs": [],
   "source": [
    "# Tailored from matplotlib documentation\n",
    "# https://matplotlib.org/examples/api/barchart_demo.html\n",
    "def autolabel(axis):\n",
    "    \"\"\"\n",
    "    Attach a text label above each bar displaying its height\n",
    "    \"\"\"\n",
    "    for i in axis.patches:\n",
    "        height = i.get_height()\n",
    "        axis.text(i.get_x() + i.get_width()/2, 1.05*height, '%d' % int(height), ha='center', va='bottom')"
   ]
  },
  {
   "cell_type": "code",
   "execution_count": null,
   "metadata": {
    "hidden": true
   },
   "outputs": [],
   "source": [
    "# Tailored from matplotlib documentation\n",
    "# https://matplotlib.org/examples/api/barchart_demo.html\n",
    "# Customized for adding the counts when a percentage height is used instead of the count\n",
    "# Must send in an array of the corresponding counts for each bar\n",
    "def autolabel_with_count(axis, counts):\n",
    "    \"\"\"\n",
    "    Attach a text label above each bar displaying its count\n",
    "    \"\"\"\n",
    "    for i, val in enumerate(axis.patches):\n",
    "        height = counts[i]\n",
    "        axis.text(val.get_x() + val.get_width()/2, val.get_height()*1.05, '%d' % int(height), ha='center', va='bottom')"
   ]
  },
  {
   "cell_type": "code",
   "execution_count": null,
   "metadata": {
    "hidden": true
   },
   "outputs": [],
   "source": [
    "# Create variables for first_axes, secondary_axes, and counter variables \n",
    "ax1, ax2, ax3, ax4, ax5, ax6 = 'abcdef'\n",
    "first_axes_list = [ax1, ax2, ax3, ax4, ax5, ax6]\n",
    "\n",
    "ax1_1, ax2_1, ax3_1, ax4_1, ax5_1, ax6_1 = 'abcdef'\n",
    "second_axes_list = [ax1_1, ax2_1, ax3_1, ax4_1, ax5_1, ax6_1]\n",
    "\n",
    "# Counters to keep track of iteration\n",
    "counters = [0, 1, 2, 3, 4, 5]\n",
    "\n",
    "for genre, first_axis, second_axis, color, count in zip(genres_domestic_gross_order, first_axes_list, second_axes_list, colors, counters):\n",
    "        figure, first_axis = plt.subplots(nrows=1, ncols=1, figsize=(24, 5))\n",
    "        second_axis = figure.add_axes()\n",
    "\n",
    "        # Only write the title once\n",
    "        if count == 0:\n",
    "            figure.suptitle('Mean Domestic Gross By Genre And Decade', fontsize=20, y=1.02)\n",
    "\n",
    "        grp = (data[data[genre]].groupby('release_decade').mean() / 1000000)['domestic_adj'].copy()\n",
    "        grp_counts = data[data[genre]].groupby('release_decade')['domestic_adj'].count().copy()\n",
    "    \n",
    "        # If the series is missing a decade, add it as an index and set the value to zero\n",
    "        for decade in range(1910, 2020, 10):\n",
    "            if decade not in grp.index:\n",
    "                grp.loc[decade] = 0\n",
    "                grp_counts.loc[decade] = 0\n",
    "\n",
    "        # Sort the series by its index to have the decades in chronological order                \n",
    "        grp.sort_index(ascending=True, inplace=True)\n",
    "        grp_counts.sort_index(ascending=True, inplace=True)\n",
    "        \n",
    "        # Set up y-axis    \n",
    "        first_axis = grp.plot(kind='bar', xticks=range(1910, 2020, 10), linewidth=3, color=color)\n",
    "        first_axis.set_ylabel('Domestic Gross In Millions', fontsize=12)\n",
    "        first_axis.legend([genre], loc=2, fontsize=15)\n",
    "        \n",
    "        # Set up second y-axis\n",
    "        second_axis = first_axis.twinx()\n",
    "        second_axis.plot(first_axis.get_xticks(), grp_counts.values, linewidth=3, color='k')\n",
    "        second_axis.set_ylabel('Number of Movies', fontsize=12)\n",
    "        second_axis.legend(['counts'], loc=1, fontsize=15)\n",
    "        \n",
    "        # Only show graphs when on the last one\n",
    "        if count == len(counters) - 1:\n",
    "            plt.tight_layout()"
   ]
  },
  {
   "cell_type": "code",
   "execution_count": null,
   "metadata": {
    "hidden": true
   },
   "outputs": [],
   "source": [
    "figure, axis = plt.subplots(1, 1, figsize=(24, 9))\n",
    "figure.suptitle('Number of Movies By Genre And Decade', fontsize=20, y=1.02)\n",
    "\n",
    "com = comedy.groupby('release_decade')['domestic_adj'].count()\n",
    "dra = drama.groupby('release_decade')['domestic_adj'].count()\n",
    "adv = adventure.groupby('release_decade')['domestic_adj'].count()\n",
    "act = action.groupby('release_decade')['domestic_adj'].count()\n",
    "thr = thriller_suspense.groupby('release_decade')['domestic_adj'].count()\n",
    "hor = horror.groupby('release_decade')['domestic_adj'].count()\n",
    "\n",
    "genres_groups = [com, dra, adv, act, thr, hor]\n",
    "\n",
    "for decade in range(1910, 2020, 10):\n",
    "    for genre in genres_groups:  \n",
    "        if decade not in genre.index:\n",
    "            #grp.loc[decade] = 0\n",
    "            genre.loc[decade] = 0\n",
    "            genre.sort_index(ascending=True, inplace=True)\n",
    "            \n",
    "for genre, color in zip(genres_groups, colors):\n",
    "    genre.plot(kind='line', xticks=range(1910, 2020, 10), linewidth=3, color=color)\n",
    "    \n",
    "axis.legend(['comedy', 'drama', 'adventure', 'action', 'thriller_suspense', 'horror'], fontsize=15)\n",
    "plt.tight_layout()"
   ]
  },
  {
   "cell_type": "markdown",
   "metadata": {
    "hidden": true
   },
   "source": [
    "Key Takeaways:\n",
    "- The 1970s seems like the best decade for the average movie in terms of domestic box office gross. Every genre had its most- or second-most profitable decade then.\n",
    "- The average domestic return of movies in all genres has declined significantly in the past four decades\n",
    "- This is probably due to the sheer number of movies releasd these days. A few big winners can't boost the average for the many losers."
   ]
  },
  {
   "cell_type": "code",
   "execution_count": null,
   "metadata": {
    "hidden": true
   },
   "outputs": [],
   "source": [
    "figure, axes = plt.subplots(nrows=6, ncols=1, sharex=True, sharey=True, figsize=(24,18))\n",
    "ax1, ax2, ax3, ax4, ax5, ax6 = axes.flatten()\n",
    "axes_list = [ax1, ax2, ax3, ax4, ax5, ax6]\n",
    "\n",
    "for genre, axis, color in zip(genres_domestic_gross_order, axes_list, colors):\n",
    "    grp_counts = data[data[genre]].groupby('release_decade')['domestic_adj'].count().copy()\n",
    "    \n",
    "    # If the series is missing a decade, add it as an index and set the value to zero\n",
    "    for decade in range(1910, 2020, 10):\n",
    "        if decade not in grp_counts.index:\n",
    "            #grp.loc[decade] = 0\n",
    "            grp_counts.loc[decade] = 0\n",
    "\n",
    "    # Sort the series by its index to have the decades in chronological order                \n",
    "    #grp.sort_index(ascending=True, inplace=True)\n",
    "    grp_counts.sort_index(ascending=True, inplace=True)\n",
    "\n",
    "    grp_counts.plot(kind='line', xticks=range(1910, 2020, 10), ax=axis, linewidth=3, color=color)\n",
    "    axis.legend([genre], loc=2, fontsize=15)\n",
    "    \n",
    "plt.tight_layout()"
   ]
  },
  {
   "cell_type": "markdown",
   "metadata": {
    "hidden": true
   },
   "source": [
    "Key Takeaways:\n",
    "- Increasingly, more movies are made in every genre in every decade.\n",
    "- Comedy and Drama in particular have had an explosion in numbers in the last few decades."
   ]
  },
  {
   "cell_type": "code",
   "execution_count": null,
   "metadata": {
    "hidden": true
   },
   "outputs": [],
   "source": []
  },
  {
   "cell_type": "code",
   "execution_count": null,
   "metadata": {
    "hidden": true
   },
   "outputs": [],
   "source": []
  },
  {
   "cell_type": "code",
   "execution_count": null,
   "metadata": {
    "hidden": true
   },
   "outputs": [],
   "source": []
  },
  {
   "cell_type": "code",
   "execution_count": null,
   "metadata": {
    "hidden": true
   },
   "outputs": [],
   "source": []
  },
  {
   "cell_type": "code",
   "execution_count": null,
   "metadata": {
    "hidden": true
   },
   "outputs": [],
   "source": []
  },
  {
   "cell_type": "code",
   "execution_count": null,
   "metadata": {
    "hidden": true
   },
   "outputs": [],
   "source": [
    "figure, axis = plt.subplots(1, 1, figsize=(24, 9))\n",
    "\n",
    "com = (comedy.groupby('release_decade').mean() / 1000000)['domestic_adj']\n",
    "dra = (drama.groupby('release_decade').mean() / 1000000)['domestic_adj']\n",
    "adv = (adventure.groupby('release_decade').mean() / 1000000)['domestic_adj']\n",
    "act = (action.groupby('release_decade').mean() / 1000000)['domestic_adj']\n",
    "thr = (thriller_suspense.groupby('release_decade').mean() / 1000000)['domestic_adj']\n",
    "hor = (horror.groupby('release_decade').mean() / 1000000)['domestic_adj']\n",
    "\n",
    "genres_groups = [com, dra, adv, act, thr, hor]\n",
    "\n",
    "for decade in range(1910, 2020, 10):\n",
    "    for genre in genres_groups:  \n",
    "        if decade not in genre.index:\n",
    "            #grp.loc[decade] = 0\n",
    "            genre.loc[decade] = 0\n",
    "            genre.sort_index(ascending=True, inplace=True)\n",
    "            \n",
    "for genre, color in zip(genres_groups, colors):\n",
    "    genre.plot(kind='line', xticks=range(1910, 2020, 10), linewidth=3, color=color)\n",
    "    \n",
    "axis.legend(['comedy', 'drama', 'adventure', 'action', 'thriller_suspense', 'horror'], fontsize=15)\n",
    "plt.tight_layout()"
   ]
  },
  {
   "cell_type": "code",
   "execution_count": null,
   "metadata": {
    "hidden": true
   },
   "outputs": [],
   "source": [
    "(week['domestic_breakeven'].sum() / week['domestic_breakeven'].count() * 100).plot(xticks=range(1,54), figsize=(18,9), ax=ax1, title='Breakeven By Release Week')\n",
    "ax1.set_ylabel('Percentage of Movies That Breakeven')\n",
    "ax1.axhline((data['domestic_breakeven'].sum() / data['domestic_breakeven'].count() * 100).mean(), color='k', linestyle='--')"
   ]
  },
  {
   "cell_type": "code",
   "execution_count": null,
   "metadata": {
    "hidden": true
   },
   "outputs": [],
   "source": [
    "figure, (axis1, axis2) = plt.subplots(2, 1) \n",
    "grp_c = data[data['comedy']].groupby('release_week')['domestic_breakeven'].sum() / data[data['comedy']].groupby('release_week')['domestic_breakeven'].count() * 100\n",
    "grp_a = data[data['adventure']].groupby('release_week')['domestic_breakeven'].sum() / data[data['adventure']].groupby('release_week')['domestic_breakeven'].count() * 100\n",
    "grp_c.plot(ax=axis1)\n",
    "grp_a.plot(ax=axis2)"
   ]
  },
  {
   "cell_type": "code",
   "execution_count": null,
   "metadata": {
    "hidden": true
   },
   "outputs": [],
   "source": [
    "grp = data[data['comedy']].groupby('release_week')['domestic_breakeven'].sum() / data[data['comedy']].groupby('release_week')['domestic_breakeven'].count() * 100\n",
    "grp.plot(kind='bar', figsize=(24,9))"
   ]
  },
  {
   "cell_type": "code",
   "execution_count": null,
   "metadata": {
    "hidden": true
   },
   "outputs": [],
   "source": [
    "grp = data.groupby('release_week')['domestic_breakeven'].sum() / data.groupby('release_week')['domestic_breakeven'].count() * 100\n",
    "grp"
   ]
  },
  {
   "cell_type": "code",
   "execution_count": null,
   "metadata": {
    "hidden": true
   },
   "outputs": [],
   "source": []
  },
  {
   "cell_type": "code",
   "execution_count": null,
   "metadata": {
    "hidden": true
   },
   "outputs": [],
   "source": []
  },
  {
   "cell_type": "code",
   "execution_count": null,
   "metadata": {
    "hidden": true
   },
   "outputs": [],
   "source": []
  },
  {
   "cell_type": "code",
   "execution_count": null,
   "metadata": {
    "hidden": true
   },
   "outputs": [],
   "source": []
  },
  {
   "cell_type": "code",
   "execution_count": null,
   "metadata": {
    "hidden": true
   },
   "outputs": [],
   "source": []
  },
  {
   "cell_type": "code",
   "execution_count": null,
   "metadata": {
    "hidden": true
   },
   "outputs": [],
   "source": []
  },
  {
   "cell_type": "code",
   "execution_count": null,
   "metadata": {
    "hidden": true
   },
   "outputs": [],
   "source": []
  },
  {
   "cell_type": "code",
   "execution_count": null,
   "metadata": {
    "hidden": true
   },
   "outputs": [],
   "source": []
  },
  {
   "cell_type": "code",
   "execution_count": null,
   "metadata": {
    "hidden": true
   },
   "outputs": [],
   "source": [
    "figure, axes = plt.subplots(nrows=6, ncols=1, sharex=True, sharey=True, figsize=(24, 16))\n",
    "figure.suptitle('Mean Domestic Gross By Genre And Decade', fontsize=20, y=1.02)\n",
    "\n",
    "ax1, ax2, ax3, ax4, ax5, ax6 = axes.flatten()\n",
    "axes_list = [ax1, ax2, ax3, ax4, ax5, ax6]\n",
    "\n",
    "for genre, axis, color in zip(genres_domestic_gross_order, axes_list, colors):\n",
    "    # We must replace missing decades with zeroes to have the bar plots xticks line up\n",
    "    \n",
    "    # Create a series with decades as indexes and domestic gross as values\n",
    "    grp = (data[data[genre]].groupby('release_decade').mean() / 1000000)['domestic_adj'].copy()\n",
    "    grp_counts = data[data[genre]].groupby('release_decade')['domestic_adj'].count().copy()\n",
    "    \n",
    "    # If the series is missing a decade, add it as an index and set the value to zero\n",
    "    for decade in range(1910, 2020, 10):\n",
    "        if decade not in grp.index:\n",
    "            grp.loc[decade] = 0\n",
    "            grp_counts.loc[decade] = 0\n",
    "    \n",
    "    # Sort the series by its index to have the decades in chronological order                \n",
    "    grp.sort_index(ascending=True, inplace=True)\n",
    "    grp_counts.sort_index(ascending=True, inplace=True)\n",
    "        \n",
    "    grp.plot(kind='bar', xticks=range(1910, 2020, 10), ax=axis, linewidth=3, color=color)\n",
    "    axis.set_ylabel('Domestic Gross In Millions', fontsize=12)\n",
    "    axis.legend([genre], loc=2, fontsize=15)\n",
    "    \n",
    "    # Put the count of each genre made per decade above each bar\n",
    "    autolabel_with_count(axis, grp_counts.values)\n",
    "\n",
    "plt.tight_layout() "
   ]
  },
  {
   "cell_type": "code",
   "execution_count": null,
   "metadata": {
    "hidden": true
   },
   "outputs": [],
   "source": [
    "# Figure and axes creation\n",
    "figure, first_axis = plt.subplots(nrows=1, ncols=1, figsize=(24, 18))\n",
    "second_axis = figure.add_axes()\n",
    "figure.suptitle('Mean Domestic Gross Of Comedies By Decade', fontsize=20, y=1.02)\n",
    "\n",
    "# Data creation\n",
    "grp = (data[data['comedy']].groupby('release_decade').mean() / 1000000)['domestic_adj'].copy()\n",
    "grp_counts = data[data['comedy']].groupby('release_decade')['domestic_adj'].count().copy()\n",
    "\n",
    "# If the series is missing a decade, add it as an index and set the value to zero\n",
    "for decade in range(1910, 2020, 10):\n",
    "    if decade not in grp.index:\n",
    "        grp.loc[decade] = 0\n",
    "        grp_counts.loc[decade] = 0\n",
    "\n",
    "# Sort the series by its index to have the decades in chronological order                \n",
    "grp.sort_index(ascending=True, inplace=True)\n",
    "grp_counts.sort_index(ascending=True, inplace=True)\n",
    "\n",
    "# Set up axis1 graph\n",
    "first_axis = grp.plot(kind='bar', xticks=range(1910, 2020, 10), linewidth=3, color='b')\n",
    "first_axis.set_ylabel('Domestic Gross In Millions', fontsize=12)\n",
    "first_axis.legend(['comedy'], loc=2, fontsize=15)\n",
    "\n",
    "second_axis = first_axis.twinx()\n",
    "\n",
    "# Set up axis2 graph\n",
    "second_axis.plot(first_axis.get_xticks(), grp_counts.values, linewidth=3, color='k')\n",
    "second_axis.set_ylabel('Number of Movies', fontsize=12)\n",
    "second_axis.legend(['count'], loc=1, fontsize=15)\n",
    "\n",
    "plt.tight_layout()"
   ]
  },
  {
   "cell_type": "code",
   "execution_count": null,
   "metadata": {
    "hidden": true
   },
   "outputs": [],
   "source": [
    "#bar_and_line_chart(\n",
    "#    grouped_series_data = (data[data['comedy']].groupby('release_decade').mean() / 1000000)['domestic_adj'],\n",
    "#    grouped_series_count_data=data[data['comedy']].groupby('release_decade')['domestic_adj'].count(),\n",
    "#    figsize=(24,5),\n",
    "#    color='b',\n",
    "#    figtitle='Mean Domestic Gross By Genre And Decade',\n",
    "#    axis1_ylabel='Domestic Gross In Millions',\n",
    "#    axis1_legend_text='comedy',\n",
    "#    axis2_ylabel='Number of Movies',\n",
    "#    axis2_legend_text='counts')"
   ]
  },
  {
   "cell_type": "code",
   "execution_count": null,
   "metadata": {
    "hidden": true
   },
   "outputs": [],
   "source": []
  },
  {
   "cell_type": "code",
   "execution_count": null,
   "metadata": {
    "hidden": true
   },
   "outputs": [],
   "source": []
  },
  {
   "cell_type": "code",
   "execution_count": null,
   "metadata": {
    "hidden": true
   },
   "outputs": [],
   "source": []
  },
  {
   "cell_type": "code",
   "execution_count": null,
   "metadata": {
    "hidden": true
   },
   "outputs": [],
   "source": [
    "figure, ax1 = plt.subplots(nrows=1, ncols=1, figsize=(24, 16))\n",
    "figure.suptitle('Mean Domestic Gross By Genre And Decade', fontsize=20, y=1.02)\n",
    "\n",
    "grp = (data[data['comedy']].groupby('release_decade').mean() / 1000000)['domestic_adj'].copy()\n",
    "grp_counts = data[data['comedy']].groupby('release_decade')['domestic_adj'].count().copy()\n",
    "    \n",
    "# If the series is missing a decade, add it as an index and set the value to zero\n",
    "for decade in range(1910, 2020, 10):\n",
    "    if decade not in grp.index:\n",
    "        grp.loc[decade] = 0\n",
    "        grp_counts.loc[decade] = 0\n",
    "    \n",
    "# Sort the series by its index to have the decades in chronological order                \n",
    "grp.sort_index(ascending=True, inplace=True)\n",
    "grp_counts.sort_index(ascending=True, inplace=True)\n",
    "\n",
    "    # Put the count of each genre made per decade above each bar\n",
    "    #autolabel_with_count(ax1, grp_counts.values)\n",
    "    \n",
    "ax1 = grp.plot(kind='bar', xticks=range(1910, 2020, 10), linewidth=3)\n",
    "ax1.set_ylabel('Domestic Gross In Millions', fontsize=12)\n",
    "ax1.legend(['comedy'], loc=2, fontsize=15)\n",
    "\n",
    "ax2 = ax1.twinx()\n",
    "    \n",
    "ax2.plot(ax1.get_xticks(), grp_counts.values, linewidth=3, color='k')\n",
    "ax2.set_ylabel('Number of Movies', fontsize=12)\n",
    "ax2.legend(['counts'], loc=1, fontsize=15)\n",
    "\n",
    "plt.tight_layout()"
   ]
  },
  {
   "cell_type": "code",
   "execution_count": null,
   "metadata": {
    "hidden": true
   },
   "outputs": [],
   "source": []
  },
  {
   "cell_type": "code",
   "execution_count": null,
   "metadata": {
    "hidden": true
   },
   "outputs": [],
   "source": [
    "def bar_and_line_chart(\n",
    "    grouped_series_data,\n",
    "    grouped_series_count_data,\n",
    "    figsize, color,\n",
    "    figtitle,\n",
    "    axis1_ylabel,\n",
    "    axis1_legend_text,\n",
    "    axis2_ylabel,\n",
    "    axis2_legend_text\n",
    "):\n",
    "    # Figure and axes creation\n",
    "    figure, axis = plt.subplots(nrows=1, ncols=1, figsize=figsize)\n",
    "    second_axis = figure.add_axes()\n",
    "    figure.suptitle(figtitle, fontsize=20, y=1.02)\n",
    "    \n",
    "    # Data creation\n",
    "    grp = grouped_series_data.copy()\n",
    "    grp_counts = grouped_series_count_data.copy()\n",
    "    \n",
    "    # If the series is missing a decade, add it as an index and set the value to zero\n",
    "    for decade in range(1910, 2020, 10):\n",
    "        if decade not in grp.index:\n",
    "            grp.loc[decade] = 0\n",
    "            grp_counts.loc[decade] = 0\n",
    "            \n",
    "    # Sort the series by its index to have the decades in chronological order                \n",
    "    grp.sort_index(ascending=True, inplace=True)\n",
    "    grp_counts.sort_index(ascending=True, inplace=True)\n",
    "    \n",
    "    # Set up axis1 graph\n",
    "    axis1 = grp.plot(kind='bar', xticks=range(1910, 2020, 10), linewidth=3, color=color)\n",
    "    axis1.set_ylabel(axis1_ylabel, fontsize=12)\n",
    "    axis1.legend([axis1_legend_text], loc=2, fontsize=15)\n",
    "\n",
    "    axis2 = axis1.twinx()\n",
    "    \n",
    "    # Set up axis2 graph\n",
    "    axis2.plot(axis1.get_xticks(), grp_counts.values, linewidth=3, color='k')\n",
    "    axis2.set_ylabel(axis2_ylabel, fontsize=12)\n",
    "    axis2.legend([axis2_legend_text], loc=1, fontsize=15)\n",
    "    \n",
    "    plt.tight_layout()"
   ]
  },
  {
   "cell_type": "code",
   "execution_count": null,
   "metadata": {
    "hidden": true
   },
   "outputs": [],
   "source": [
    "def multiple_bar_and_line_charts(\n",
    "    groupby_data_needs_separator,\n",
    "    groupby_data_for_counts_needs_separator,\n",
    "    data_separator_list,\n",
    "    first_axes_list,\n",
    "    second_axes_list,\n",
    "    colors_list,\n",
    "    counter_list,\n",
    "    figtitle,\n",
    "    figsize, \n",
    "    axis1_ylabel,\n",
    "    axis2_ylabel,\n",
    "):\n",
    "    for separator, first_axis, second_axis, color, count in zip(data_separator_list, first_axes_list, second_axes_list, colors_list, counter_list):\n",
    "        figure, axis = plt.subplots(nrows=1, ncols=1, figsize=figsize)\n",
    "        second_axis = figure.add_axes()\n",
    "\n",
    "        if count == 0:\n",
    "            figure.suptitle(figtitle, fontsize=20, y=1.02)\n",
    "\n",
    "        grp = groupby_data_needs_separator.copy()\n",
    "        grp_counts = groupby_data_for_counts_needs_separator.copy()\n",
    "    \n",
    "        # If the series is missing a decade, add it as an index and set the value to zero\n",
    "        for decade in range(1910, 2020, 10):\n",
    "            if decade not in grp.index:\n",
    "                grp.loc[decade] = 0\n",
    "                grp_counts.loc[decade] = 0\n",
    "\n",
    "        # Sort the series by its index to have the decades in chronological order                \n",
    "        grp.sort_index(ascending=True, inplace=True)\n",
    "        grp_counts.sort_index(ascending=True, inplace=True)\n",
    "    \n",
    "        first_axis = grp.plot(kind='bar', xticks=range(1910, 2020, 10), linewidth=3, color=color)\n",
    "        first_axis.set_ylabel(axis1_ylabel, fontsize=12)\n",
    "        first_axis.legend([separator], loc=2, fontsize=15)\n",
    "\n",
    "        second_axis = first_axis.twinx()\n",
    "\n",
    "        second_axis.plot(first_axis.get_xticks(), grp_counts.values, linewidth=3, color='k')\n",
    "        second_axis.set_ylabel(axis2_ylabel, fontsize=12)\n",
    "        second_axis.legend(['counts'], loc=1, fontsize=15)\n",
    "        \n",
    "        if count == len(counter) - 1:\n",
    "            plt.tight_layout()"
   ]
  },
  {
   "cell_type": "code",
   "execution_count": null,
   "metadata": {
    "hidden": true
   },
   "outputs": [],
   "source": [
    "def multiple_bar_and_line_charts(\n",
    "    groupby_data_needs_separator,\n",
    "    groupby_data_for_counts_needs_separator,\n",
    "    data_separator_list,\n",
    "    first_axes_list,\n",
    "    second_axes_list,\n",
    "    colors_list,\n",
    "    counter_list,\n",
    "    figtitle,\n",
    "    figsize, \n",
    "    axis1_legend_text,\n",
    "    axis2_legend_text\n",
    "    genres_list,\n",
    "    first_axes_list,\n",
    "    second_axes_list,\n",
    "):\n",
    "    for separator, first_axis, second_axis, color, count in zip(data_separator_list, first_axes_list, second_axes_list, colors_list, counter_list):\n",
    "        figure, axis = plt.subplots(nrows=1, ncols=1, figsize=(24, 5))\n",
    "        second_axis = figure.add_axes()\n",
    "\n",
    "        if count == 0:\n",
    "            figure.suptitle('Mean Domestic Gross By Genre And Decade', fontsize=20, y=1.02)\n",
    "\n",
    "        grp = (data[data[genre]].groupby('release_decade').mean() / 1000000)['domestic_adj'].copy()\n",
    "        grp_counts = data[data[genre]].groupby('release_decade')['domestic_adj'].count().copy()\n",
    "    \n",
    "        # If the series is missing a decade, add it as an index and set the value to zero\n",
    "        for decade in range(1910, 2020, 10):\n",
    "            if decade not in grp.index:\n",
    "                grp.loc[decade] = 0\n",
    "                grp_counts.loc[decade] = 0\n",
    "\n",
    "        # Sort the series by its index to have the decades in chronological order                \n",
    "        grp.sort_index(ascending=True, inplace=True)\n",
    "        grp_counts.sort_index(ascending=True, inplace=True)\n",
    "    \n",
    "        axis = grp.plot(kind='bar', xticks=range(1910, 2020, 10), linewidth=3, color=color)\n",
    "        axis.set_ylabel('Domestic Gross In Millions', fontsize=12)\n",
    "        axis.legend([genre], loc=2, fontsize=15)\n",
    "\n",
    "        second_axis = axis.twinx()\n",
    "\n",
    "        second_axis.plot(axis.get_xticks(), grp_counts.values, linewidth=3, color='k')\n",
    "        second_axis.set_ylabel('Number of Movies', fontsize=12)\n",
    "        second_axis.legend(['counts'], loc=1, fontsize=15)\n",
    "        \n",
    "        if count == len(counter) - 1:\n",
    "            plt.tight_layout()"
   ]
  },
  {
   "cell_type": "code",
   "execution_count": null,
   "metadata": {
    "hidden": true
   },
   "outputs": [],
   "source": [
    "#def bar_and_line_chart(axis1, second_axis, genre, color):\n",
    "#    grp = (data[data[genre]].groupby('release_decade').mean() / 1000000)['domestic_adj'].copy()\n",
    "#    grp_counts = data[data[genre]].groupby('release_decade')['domestic_adj'].count().copy()\n",
    "#    \n",
    "#    # If the series is missing a decade, add it as an index and set the value to zero\n",
    "#    for decade in range(1910, 2020, 10):\n",
    "#        if decade not in grp.index:\n",
    "#            grp.loc[decade] = 0\n",
    "#            grp_counts.loc[decade] = 0\n",
    "#            \n",
    "#    # Sort the series by its index to have the decades in chronological order                \n",
    "#    grp.sort_index(ascending=True, inplace=True)\n",
    "#    grp_counts.sort_index(ascending=True, inplace=True)\n",
    "#    \n",
    "#    axis1 = grp.plot(kind='bar', xticks=range(1910, 2020, 10), linewidth=3, color=color)\n",
    "#    axis1.set_ylabel('Domestic Gross In Millions', fontsize=12)\n",
    "#    axis1.legend([genre], loc=2, fontsize=15)\n",
    "\n",
    "#    axis2 = axis1.twinx()\n",
    "\n",
    "#    axis2.plot(axis1.get_xticks(), grp_counts.values, linewidth=3, color='k')\n",
    "#    axis2.set_ylabel('Number of Movies', fontsize=12)\n",
    "#    axis2.legend(['counts'], loc=1, fontsize=15)\n",
    "    "
   ]
  },
  {
   "cell_type": "code",
   "execution_count": null,
   "metadata": {
    "hidden": true
   },
   "outputs": [],
   "source": [
    "#def bar_and_line_chart(grouped_series_data, grouped_series_count_data, figsize, color, figtitle, legend_text, axis1_ylabel, axis2_ylabel):\n",
    "#    # Figure and axes creation\n",
    "#    figure, axis = plt.subplots(nrows=1, ncols=1, figsize=(24, 5))\n",
    "#    second_axis = figure.add_axes()\n",
    "#    figure.suptitle('Mean Domestic Gross By Genre And Decade', fontsize=20, y=1.02)\n",
    "#    \n",
    "#    # Data creation\n",
    "#    grp = (data[data[genre]].groupby('release_decade').mean() / 1000000)['domestic_adj'].copy()\n",
    "#    grp_counts = data[data[genre]].groupby('release_decade')['domestic_adj'].count().copy()\n",
    "#    \n",
    "#    # If the series is missing a decade, add it as an index and set the value to zero\n",
    "#    for decade in range(1910, 2020, 10):\n",
    "#        if decade not in grp.index:\n",
    "#            grp.loc[decade] = 0\n",
    "#            grp_counts.loc[decade] = 0\n",
    "#            \n",
    "#    # Sort the series by its index to have the decades in chronological order                \n",
    "#    grp.sort_index(ascending=True, inplace=True)\n",
    "#    grp_counts.sort_index(ascending=True, inplace=True)\n",
    "#    \n",
    "#    # Set up axis1 graph\n",
    "#    axis1 = grp.plot(kind='bar', xticks=range(1910, 2020, 10), linewidth=3, color=color)\n",
    "#    axis1.set_ylabel('Domestic Gross In Millions', fontsize=12)\n",
    "#    axis1.legend([genre], loc=2, fontsize=15)\n",
    "\n",
    "#    axis2 = axis1.twinx()\n",
    "#    \n",
    "#    # Set up axis2 graph\n",
    "#    axis2.plot(axis1.get_xticks(), grp_counts.values, linewidth=3, color='k')\n",
    "#    axis2.set_ylabel('Number of Movies', fontsize=12)\n",
    "#    axis2.legend(['counts'], loc=1, fontsize=15)\n",
    "#    \n",
    "#    plt.tight_layout()"
   ]
  },
  {
   "cell_type": "markdown",
   "metadata": {
    "hidden": true
   },
   "source": [
    "#### Production Budget"
   ]
  },
  {
   "cell_type": "code",
   "execution_count": null,
   "metadata": {
    "hidden": true
   },
   "outputs": [],
   "source": [
    "figure, axes = plt.subplots(nrows=6, ncols=1, sharex=True, sharey=True, figsize=(24, 16))\n",
    "figure.suptitle('Mean Production Budget By Genre And Release Week', fontsize=20, y=1.02)\n",
    "\n",
    "ax1, ax2, ax3, ax4, ax5, ax6 = axes.flatten()\n",
    "axes_list = [ax1, ax2, ax3, ax4, ax5, ax6]\n",
    "\n",
    "for genre, axis, color in zip(genres_budgets_order, axes_list, colors):\n",
    "    # We must replace missing decades with zeroes to have the bar plots xticks line up\n",
    "    \n",
    "    # Create a series with decades as indexes and domestic gross as values\n",
    "    grp = (data[data[genre]].groupby('release_decade').mean() / 1000000)['budget_adj'].copy()\n",
    "    \n",
    "    # If the series is missing a decade, add it as an index and set the value to zero\n",
    "    for decade in range(1910, 2020, 10):\n",
    "        if decade not in grp.index:\n",
    "            grp.loc[decade] = 0\n",
    "    \n",
    "    # Sort the series by its index to have the decades in chronological order                \n",
    "    grp.sort_index(ascending=True, inplace=True)\n",
    "        \n",
    "    grp.plot(kind='bar', xticks=range(1910, 2020, 10), ax=axis, linewidth=3, color=color)\n",
    "    axis.set_ylabel('Domestic Gross In Millions', fontsize=12)\n",
    "    axis.legend([genre], loc=2, fontsize=15)\n",
    "    autolabel(axis)\n",
    "\n",
    "plt.tight_layout() "
   ]
  },
  {
   "cell_type": "markdown",
   "metadata": {
    "hidden": true
   },
   "source": [
    "Key Takeaways:\n",
    "- Production budgets for Action and Adventure have been increasing since the 1980s\n",
    "- Production budgets for all other genres have declined since the 1980s\n",
    "- This is probably due to the heavy use of expensive CGI in Action and Adventure movies, which has only increased over time. Meanwhile, technological advancements have decreased the overall cost of producing movies in general."
   ]
  },
  {
   "cell_type": "code",
   "execution_count": null,
   "metadata": {
    "hidden": true
   },
   "outputs": [],
   "source": []
  },
  {
   "cell_type": "code",
   "execution_count": null,
   "metadata": {
    "hidden": true
   },
   "outputs": [],
   "source": []
  },
  {
   "cell_type": "code",
   "execution_count": null,
   "metadata": {
    "hidden": true
   },
   "outputs": [],
   "source": []
  },
  {
   "cell_type": "code",
   "execution_count": null,
   "metadata": {
    "hidden": true
   },
   "outputs": [],
   "source": []
  },
  {
   "cell_type": "code",
   "execution_count": null,
   "metadata": {
    "hidden": true
   },
   "outputs": [],
   "source": []
  },
  {
   "cell_type": "code",
   "execution_count": null,
   "metadata": {
    "hidden": true
   },
   "outputs": [],
   "source": []
  },
  {
   "cell_type": "code",
   "execution_count": null,
   "metadata": {
    "hidden": true
   },
   "outputs": [],
   "source": []
  },
  {
   "cell_type": "code",
   "execution_count": null,
   "metadata": {
    "hidden": true
   },
   "outputs": [],
   "source": []
  },
  {
   "cell_type": "code",
   "execution_count": null,
   "metadata": {
    "hidden": true
   },
   "outputs": [],
   "source": []
  },
  {
   "cell_type": "code",
   "execution_count": null,
   "metadata": {
    "hidden": true
   },
   "outputs": [],
   "source": []
  },
  {
   "cell_type": "code",
   "execution_count": null,
   "metadata": {
    "hidden": true
   },
   "outputs": [],
   "source": []
  },
  {
   "cell_type": "code",
   "execution_count": null,
   "metadata": {
    "hidden": true
   },
   "outputs": [],
   "source": []
  },
  {
   "cell_type": "code",
   "execution_count": null,
   "metadata": {
    "hidden": true
   },
   "outputs": [],
   "source": []
  },
  {
   "cell_type": "code",
   "execution_count": null,
   "metadata": {
    "hidden": true
   },
   "outputs": [],
   "source": []
  },
  {
   "cell_type": "code",
   "execution_count": null,
   "metadata": {
    "hidden": true
   },
   "outputs": [],
   "source": []
  },
  {
   "cell_type": "code",
   "execution_count": null,
   "metadata": {
    "hidden": true
   },
   "outputs": [],
   "source": []
  },
  {
   "cell_type": "code",
   "execution_count": null,
   "metadata": {
    "hidden": true
   },
   "outputs": [],
   "source": []
  },
  {
   "cell_type": "code",
   "execution_count": null,
   "metadata": {
    "hidden": true
   },
   "outputs": [],
   "source": []
  },
  {
   "cell_type": "code",
   "execution_count": null,
   "metadata": {
    "hidden": true
   },
   "outputs": [],
   "source": []
  },
  {
   "cell_type": "code",
   "execution_count": null,
   "metadata": {
    "hidden": true
   },
   "outputs": [],
   "source": []
  },
  {
   "cell_type": "code",
   "execution_count": null,
   "metadata": {
    "hidden": true
   },
   "outputs": [],
   "source": []
  },
  {
   "cell_type": "code",
   "execution_count": null,
   "metadata": {
    "hidden": true
   },
   "outputs": [],
   "source": []
  },
  {
   "cell_type": "code",
   "execution_count": null,
   "metadata": {
    "hidden": true
   },
   "outputs": [],
   "source": []
  },
  {
   "cell_type": "code",
   "execution_count": null,
   "metadata": {
    "hidden": true
   },
   "outputs": [],
   "source": []
  },
  {
   "cell_type": "code",
   "execution_count": null,
   "metadata": {
    "hidden": true
   },
   "outputs": [],
   "source": []
  },
  {
   "cell_type": "code",
   "execution_count": null,
   "metadata": {
    "hidden": true
   },
   "outputs": [],
   "source": []
  },
  {
   "cell_type": "code",
   "execution_count": null,
   "metadata": {
    "hidden": true
   },
   "outputs": [],
   "source": []
  },
  {
   "cell_type": "code",
   "execution_count": null,
   "metadata": {
    "hidden": true
   },
   "outputs": [],
   "source": []
  },
  {
   "cell_type": "code",
   "execution_count": null,
   "metadata": {
    "hidden": true
   },
   "outputs": [],
   "source": []
  },
  {
   "cell_type": "markdown",
   "metadata": {
    "hidden": true
   },
   "source": [
    "### Analyze By Breakeven"
   ]
  },
  {
   "cell_type": "code",
   "execution_count": null,
   "metadata": {
    "hidden": true
   },
   "outputs": [],
   "source": [
    "figure, axes = plt.subplots(nrows=6, ncols=1, sharex=True, sharey=True, figsize=(24, 16))\n",
    "figure.suptitle('Percentage of Movies That Breakeven By Decade', fontsize=20, y=1.02)\n",
    "\n",
    "ax1, ax2, ax3, ax4, ax5, ax6 = axes.flatten()\n",
    "axes_list = [ax1, ax2, ax3, ax4, ax5, ax6]\n",
    "\n",
    "for genre, axis, color in zip(genres_budgets_order, axes_list, colors):\n",
    "    # Create two series with decades as indexes and count and sum as values\n",
    "    grp_count = data[data[genre]].groupby('release_decade')['domestic_breakeven'].count().copy()\n",
    "    grp_sum = data[data[genre]].groupby('release_decade')['domestic_breakeven'].sum().copy()\n",
    "\n",
    "    # If the series is missing a decade, add it as an index\n",
    "    # Then set the count to 1 and the sum to 0\n",
    "    # This avoids division by zero problems when calculating the percentages\n",
    "    for decade in range(1910, 2020, 10):\n",
    "        if decade not in grp_count.index:\n",
    "            grp_count.loc[decade] = 0\n",
    "            grp_sum.loc[decade] = 0\n",
    "\n",
    "    # Sort the series by their index to have the decades in chronological order                \n",
    "    grp_count.sort_index(ascending=True, inplace=True)\n",
    "    grp_sum.sort_index(ascending=True, inplace=True)\n",
    "\n",
    "    (grp_sum / grp_count * 100).plot(kind='bar', xticks=range(1910, 2020, 10), ax=axis, linewidth=3, color=color)\n",
    "    axis.set_ylabel('Percentage', fontsize=12)\n",
    "    axis.legend([genre], loc=2, fontsize=15)\n",
    "    \n",
    "    # Put the count of how many movies breakeven above each bar\n",
    "    autolabel_with_count(axis, grp_count.values)\n",
    "    \n",
    "plt.tight_layout() "
   ]
  },
  {
   "cell_type": "code",
   "execution_count": null,
   "metadata": {
    "hidden": true
   },
   "outputs": [],
   "source": [
    "for genre in genres_budgets_order:\n",
    "    # Create two series with decades as indexes and count and sum as values\n",
    "    grp_count = data[data[genre]].groupby('release_decade')['domestic_breakeven'].count().copy()\n",
    "    grp_sum = data[data[genre]].groupby('release_decade')['domestic_breakeven'].sum().copy()\n",
    "    \n",
    "    print(grp_count.values)\n",
    "    print(type(grp_count.values))\n",
    "    \n",
    "    #print(genre, grp_sum / grp_count * 100)\n",
    "    \n",
    "#    # We must replace missing decades with zeroes to have the bar plots xticks line up\n",
    "#    \n",
    "#    # Create a series with decades as indexes and domestic gross as values\n",
    "#    grp = (data[data[genre]].groupby('release_decade')['domestic_breakeven'].count().copy()\n",
    "#    \n",
    "#    # If the series is missing a decade, add it as an index and set the value to zero\n",
    "#    for decade in range(1910, 2020, 10):\n",
    "#        if decade not in grp.index:\n",
    "#            grp.loc[decade] = 0\n",
    "#    \n",
    "#    # Sort the series by its index to have the decades in chronological order                \n",
    "#    grp.sort_index(ascending=True, inplace=True)\n",
    "#    \n",
    "#    #grp = data[data[genre]].groupby('release_decade')\n",
    "#    (grp['domestic_breakeven'].sum() / grp['domestic_breakeven'].count() * 100).plot(kind='bar', xticks=range(1910, 2020, 10), ax=axis, linewidth=3, color=color)\n",
    "#    axis.set_ylabel('Percentage', fontsize=12)\n",
    "#    axis.legend([genre], loc=1, fontsize=15)\n",
    "\n",
    "#plt.tight_layout() "
   ]
  },
  {
   "cell_type": "code",
   "execution_count": null,
   "metadata": {
    "hidden": true
   },
   "outputs": [],
   "source": [
    "grp = data[data['comedy']].groupby('release_decade')['domestic_breakeven'].count().copy()\n",
    "grp.index"
   ]
  },
  {
   "cell_type": "code",
   "execution_count": null,
   "metadata": {
    "hidden": true
   },
   "outputs": [],
   "source": [
    "# Create a series with decades as indexes and domestic gross as values\n",
    "grp_count = data[data[genre]].groupby('release_decade')['domestic_breakeven'].count().copy()\n",
    "grp_sum = data[data[genre]].groupby('release_decade')['domestic_breakeven'].sum().copy()\n",
    "\n",
    "print(grp_count)\n",
    "print(grp_sum)\n",
    "\n",
    "# If the series is missing a decade, add it as an index and set the value to zero\n",
    "for decade in range(1910, 2020, 10):\n",
    "    if decade not in grp_count.index:\n",
    "        grp_count.loc[decade] = 1\n",
    "        grp_sum.loc[decade] = 0\n",
    "        \n",
    "# Sort the series by its index to have the decades in chronological order                \n",
    "grp_count.sort_index(ascending=True, inplace=True)\n",
    "grp_sum.sort_index(ascending=True, inplace=True)\n",
    "\n",
    "(grp_sum / grp_count * 100).plot(kind='bar', xticks=range(1910, 2020, 10))"
   ]
  },
  {
   "cell_type": "code",
   "execution_count": null,
   "metadata": {
    "hidden": true
   },
   "outputs": [],
   "source": [
    "figure, ax1 = plt.subplots(1,1)\n",
    "\n",
    "for genre in [adventure, action, drama, comedy, thriller_suspense, horror]:\n",
    "    grp = genre.groupby('release_decade')\n",
    "    (grp['domestic_breakeven'].sum() / grp['domestic_breakeven'].count() * 100).plot(xticks=range(1910, 2020, 10), figsize=(18,9), ax=ax1, title='Breakeven By Decade and Genre', linewidth=3)\n",
    "    \n",
    "ax1.set_ylabel('Percentage of Movies That Breakeven')\n",
    "ax1.legend(['adventure', 'action', 'drama', 'comedy', 'thriller_suspense', 'horror'])\n",
    "plt.tight_layout() "
   ]
  },
  {
   "cell_type": "code",
   "execution_count": null,
   "metadata": {
    "hidden": true
   },
   "outputs": [],
   "source": [
    "names = ['adventure', 'action', 'drama', 'comedy', 'thriller_suspense', 'horror']\n",
    "genres = [adventure, action, drama, comedy, thriller_suspense, horror]\n",
    "\n",
    "for name, genre in zip(names, genres):\n",
    "    print('There are {} movies in the {} genre'.format(len(genre), name))"
   ]
  },
  {
   "cell_type": "code",
   "execution_count": null,
   "metadata": {
    "hidden": true
   },
   "outputs": [],
   "source": [
    "gb = data.groupby('release_decade')\n",
    "\n",
    "# Cool way to filter using a groupby\n",
    "comedy = gb.apply(lambda df: df[df['genres_mojo'].str.contains('Comedy', na=False)])\n",
    "\n",
    "# Can set a groupby back with `set_index` but you lose the original index values\n",
    "comedy.set_index('release_decade', inplace=True)\n",
    "comedy.reset_index(inplace=True)\n",
    "\n",
    "comedy.head()"
   ]
  },
  {
   "cell_type": "code",
   "execution_count": null,
   "metadata": {
    "hidden": true
   },
   "outputs": [],
   "source": [
    "gb = data.groupby('release_decade')\n",
    "\n",
    "# Cool way to filter using a groupby\n",
    "comedy = gb.apply(lambda df: df[df['genres_mojo'].str.contains('Comedy', na=False)])\n",
    "\n",
    "# Another way to reset the index, by dropping the groupby'd column\n",
    "comedy = comedy.reset_index(drop=True)\n",
    "\n",
    "comedy.head()"
   ]
  },
  {
   "cell_type": "code",
   "execution_count": null,
   "metadata": {
    "hidden": true
   },
   "outputs": [],
   "source": [
    "comedy = data[data['genres_mojo'].str.contains('Comedy', na=False)].groupby('release_decade')\n",
    "\n",
    "comedy.head()"
   ]
  },
  {
   "cell_type": "code",
   "execution_count": null,
   "metadata": {
    "hidden": true
   },
   "outputs": [],
   "source": []
  },
  {
   "cell_type": "code",
   "execution_count": null,
   "metadata": {
    "hidden": true
   },
   "outputs": [],
   "source": []
  },
  {
   "cell_type": "code",
   "execution_count": null,
   "metadata": {
    "hidden": true,
    "scrolled": false
   },
   "outputs": [],
   "source": [
    "figure, axes = plt.subplots(nrows=3, ncols=2, figsize=(18,9), sharey=True)\n",
    "\n",
    "ax1, ax2, ax3, ax4, ax5, ax6 = axes.flatten()\n",
    "axes_list = [ax1, ax2, ax3, ax4, ax5, ax6]\n",
    "\n",
    "genres = [adventure, action, drama, comedy, thriller_suspense, horror]\n",
    "names = ['adventure', 'action', 'drama', 'comedy', 'thriller_suspense', 'horror']\n",
    "\n",
    "for axis, genre, name in zip(axes_list, genres, names):\n",
    "    genre.groupby('release_decade')['title'].count().plot(kind='bar', ax=axis)\n",
    "    axis.set_ylabel('Count of Movies By Genre')\n",
    "    axis.set_title(name)\n",
    "    autolabel(axis)\n",
    "        \n",
    "    #for i in axis.patches:\n",
    "    #    axis.annotate(str(i.get_height()), (i.get_x(), i.get_height()), fontsize=12)\n",
    "        \n",
    "plt.tight_layout()"
   ]
  },
  {
   "cell_type": "markdown",
   "metadata": {
    "hidden": true
   },
   "source": [
    "Key Takeaways:\n",
    "- The most common movies are drama and comedy. This probably is due in part to their smaller budgets. Although we would expect there to be more horror movies if that was the primary cause.\n",
    "- More movies of all genres seem to get made as time goes on."
   ]
  },
  {
   "cell_type": "code",
   "execution_count": null,
   "metadata": {
    "hidden": true
   },
   "outputs": [],
   "source": []
  },
  {
   "cell_type": "code",
   "execution_count": null,
   "metadata": {
    "hidden": true
   },
   "outputs": [],
   "source": []
  },
  {
   "cell_type": "code",
   "execution_count": null,
   "metadata": {
    "hidden": true
   },
   "outputs": [],
   "source": []
  },
  {
   "cell_type": "code",
   "execution_count": null,
   "metadata": {
    "hidden": true
   },
   "outputs": [],
   "source": []
  },
  {
   "cell_type": "code",
   "execution_count": null,
   "metadata": {
    "hidden": true
   },
   "outputs": [],
   "source": []
  },
  {
   "cell_type": "code",
   "execution_count": null,
   "metadata": {
    "hidden": true
   },
   "outputs": [],
   "source": []
  },
  {
   "cell_type": "code",
   "execution_count": null,
   "metadata": {
    "hidden": true
   },
   "outputs": [],
   "source": [
    "figure, ax1 = plt.subplots(1, 1)\n",
    "\n",
    "data['domestic_breakeven'] = data['domestic_adj'] >= 3 * data['budget_adj']\n",
    "\n",
    "decades = data.groupby('release_decade')\n",
    "\n",
    "decades['domestic_breakeven'].count().plot(xticks=range(1910, 2020, 10), figsize=(12,9), title='Breakeven By Decade', ax=ax1)\n",
    "ax1.set_ylabel('Percentage of Movies That Breakeven')"
   ]
  },
  {
   "cell_type": "code",
   "execution_count": null,
   "metadata": {
    "hidden": true
   },
   "outputs": [],
   "source": [
    "comedy.groupby('release_decade')['domestic_breakeven'].sum().head()"
   ]
  },
  {
   "cell_type": "code",
   "execution_count": null,
   "metadata": {
    "hidden": true
   },
   "outputs": [],
   "source": [
    "comedy.groupby('release_decade')['domestic_breakeven'].count().head()"
   ]
  },
  {
   "cell_type": "code",
   "execution_count": null,
   "metadata": {
    "hidden": true
   },
   "outputs": [],
   "source": [
    "comedy.groupby('release_decade').count().head()"
   ]
  },
  {
   "cell_type": "code",
   "execution_count": null,
   "metadata": {
    "hidden": true
   },
   "outputs": [],
   "source": []
  },
  {
   "cell_type": "code",
   "execution_count": null,
   "metadata": {
    "hidden": true
   },
   "outputs": [],
   "source": []
  },
  {
   "cell_type": "code",
   "execution_count": null,
   "metadata": {
    "hidden": true
   },
   "outputs": [],
   "source": []
  },
  {
   "cell_type": "markdown",
   "metadata": {
    "hidden": true
   },
   "source": [
    "## Analyze By Worldwide"
   ]
  },
  {
   "cell_type": "markdown",
   "metadata": {
    "hidden": true
   },
   "source": [
    "### Import needed libraries"
   ]
  },
  {
   "cell_type": "code",
   "execution_count": null,
   "metadata": {
    "hidden": true
   },
   "outputs": [],
   "source": [
    "import pandas as pd\n",
    "import numpy as np\n",
    "import matplotlib.pyplot as plt\n",
    "%matplotlib inline\n",
    "import pprint"
   ]
  },
  {
   "cell_type": "code",
   "execution_count": null,
   "metadata": {
    "hidden": true
   },
   "outputs": [],
   "source": [
    "from IPython.core.display import display, HTML\n",
    "display(HTML(\"<style>.container { width:80% !important; }</style>\"))\n",
    "\n",
    "pd.options.display.max_rows = 400\n",
    "pd.options.display.max_columns = 50"
   ]
  },
  {
   "cell_type": "markdown",
   "metadata": {
    "hidden": true
   },
   "source": [
    "### Import dataset"
   ]
  },
  {
   "cell_type": "code",
   "execution_count": null,
   "metadata": {
    "hidden": true
   },
   "outputs": [],
   "source": [
    "data = pd.read_csv('cleaned_movie_data.csv', parse_dates=['release_date'])\n",
    "\n",
    "# Only look at movies that made money worldwide\n",
    "data = data[data['worldwide_adj'].notna() & data['worldwide_adj'] > 0]\n",
    "\n",
    "data['release_decade'] = data['release_year'].apply(lambda x: x // 10 * 10)"
   ]
  },
  {
   "cell_type": "code",
   "execution_count": null,
   "metadata": {
    "hidden": true,
    "scrolled": true
   },
   "outputs": [],
   "source": [
    "data['genres_mojo'].value_counts(dropna=False)"
   ]
  },
  {
   "cell_type": "markdown",
   "metadata": {
    "hidden": true
   },
   "source": [
    "Since so many movies are categorized with multiple genres, we will include movies in all the genres they are listed as having.\n",
    "\n",
    "This is to avoid deciding what one genre a movie belongs to."
   ]
  },
  {
   "cell_type": "code",
   "execution_count": null,
   "metadata": {
    "hidden": true
   },
   "outputs": [],
   "source": [
    "adventure = data[data['genres_mojo'].str.contains('Adventure', na=False)] \n",
    "action = data[data['genres_mojo'].str.contains('Action', na=False)]\n",
    "drama = data[data['genres_mojo'].str.contains('Drama', na=False)]\n",
    "comedy = data[data['genres_mojo'].str.contains('Comedy', na=False)]\n",
    "thriller_suspense = data[data['genres_mojo'].str.contains('Thriller|Suspense', na=False, regex=True)]\n",
    "horror = data[data['genres_mojo'].str.contains('Horror', na=False)]"
   ]
  },
  {
   "cell_type": "code",
   "execution_count": null,
   "metadata": {
    "hidden": true
   },
   "outputs": [],
   "source": [
    "print('adventure has ', len(adventure), 'movies')\n",
    "print('action has ', len(action), 'movies')\n",
    "print('drama has ', len(drama), 'movies')\n",
    "print('comedy has ', len(comedy), 'movies')\n",
    "print('thriller_suspense has ', len(thriller_suspense), 'movies')\n",
    "print('horror has ', len(horror), 'movies')"
   ]
  },
  {
   "cell_type": "markdown",
   "metadata": {
    "hidden": true
   },
   "source": [
    "### Analyze By Release Week"
   ]
  },
  {
   "cell_type": "code",
   "execution_count": null,
   "metadata": {
    "hidden": true
   },
   "outputs": [],
   "source": [
    "figure, ax1 = plt.subplots(1,1)\n",
    "\n",
    "for genre in [adventure, action, drama, comedy, thriller_suspense, horror]:\n",
    "    grp = genre.groupby('release_week').mean() / 1000000\n",
    "    grp.plot(y='worldwide_adj', xticks=range(1, 54), figsize=(18,9), ax=ax1, title='Mean Worldwide Gross By Genre And Release Week', linewidth=3)\n",
    "    \n",
    "ax1.set_ylabel('Worldwide Gross In Millions')\n",
    "ax1.legend(['adventure', 'action', 'drama', 'comedy', 'thriller_suspense', 'horror'])\n",
    "plt.tight_layout()    "
   ]
  },
  {
   "cell_type": "code",
   "execution_count": null,
   "metadata": {
    "hidden": true
   },
   "outputs": [],
   "source": [
    "dfs = [adventure, action, drama, comedy, thriller_suspense, horror]\n",
    "genres = ['adventure', 'action', 'drama', 'comedy', 'thriller_suspense', 'horror']\n",
    "\n",
    "for df, genre in zip(dfs, genres):\n",
    "    print('{0} has a worldwide mean of {1:.1f} million dollars'.format(genre, df['worldwide_adj'].mean() / 1000000))"
   ]
  },
  {
   "cell_type": "markdown",
   "metadata": {
    "hidden": true
   },
   "source": [
    "Key Takeaways:\n",
    "- In aggregate it seems the top selling genres are Adventure, Action, and Horror\n",
    "- The spikes in popularity of release week are less clear for Comedy, Thriller/Suspense, and Drama. This makes sense as these are not typically 'spectacle' genres that people associate with blockbusters \n",
    "- Adventure has spikes at weeks 9 and 17-18, which we haven't seen before. \n",
    "- Adventure and Action have spikes on Memorial Day, Summer, and Holidays.\n",
    "- The spikes are less pronounced when movies are separated by genre. I thought Summer in particular would be even more exagerrated for Action and Adventure movies."
   ]
  },
  {
   "cell_type": "markdown",
   "metadata": {
    "hidden": true
   },
   "source": [
    "### Analyze By Decade"
   ]
  },
  {
   "cell_type": "code",
   "execution_count": null,
   "metadata": {
    "hidden": true
   },
   "outputs": [],
   "source": [
    "figure, ax1 = plt.subplots(1,1)\n",
    "\n",
    "for genre in [adventure, action, drama, comedy, thriller_suspense, horror]:\n",
    "    grp = genre.groupby('release_decade').mean() / 1000000\n",
    "    grp.plot(y='worldwide_adj', xticks=range(1910, 2020, 10), figsize=(18,9), ax=ax1, title='Mean Worldwide Gross By Genre And Decade', linewidth=3)\n",
    "    \n",
    "ax1.set_ylabel('Worldwide Gross In Millions')\n",
    "ax1.legend(['adventure', 'action', 'drama', 'comedy', 'thriller_suspense', 'horror'])\n",
    "plt.tight_layout()    "
   ]
  },
  {
   "cell_type": "markdown",
   "metadata": {
    "hidden": true
   },
   "source": [
    "Key Takeaways:\n",
    "- Like with domestic, we're missing a lot of genre labeling before 1950.\n",
    "- It still seems that Adventure, Action, and Horror are the biggest winners."
   ]
  },
  {
   "cell_type": "markdown",
   "metadata": {
    "hidden": true
   },
   "source": [
    "### Analyze By Breakeven"
   ]
  },
  {
   "cell_type": "code",
   "execution_count": null,
   "metadata": {
    "hidden": true
   },
   "outputs": [],
   "source": []
  },
  {
   "cell_type": "code",
   "execution_count": null,
   "metadata": {
    "hidden": true
   },
   "outputs": [],
   "source": []
  },
  {
   "cell_type": "code",
   "execution_count": null,
   "metadata": {
    "hidden": true
   },
   "outputs": [],
   "source": []
  },
  {
   "cell_type": "code",
   "execution_count": null,
   "metadata": {
    "hidden": true
   },
   "outputs": [],
   "source": []
  },
  {
   "cell_type": "code",
   "execution_count": null,
   "metadata": {
    "hidden": true
   },
   "outputs": [],
   "source": []
  },
  {
   "cell_type": "code",
   "execution_count": null,
   "metadata": {
    "hidden": true
   },
   "outputs": [],
   "source": []
  },
  {
   "cell_type": "code",
   "execution_count": null,
   "metadata": {
    "hidden": true
   },
   "outputs": [],
   "source": []
  },
  {
   "cell_type": "code",
   "execution_count": null,
   "metadata": {
    "hidden": true
   },
   "outputs": [],
   "source": []
  },
  {
   "cell_type": "code",
   "execution_count": null,
   "metadata": {
    "hidden": true
   },
   "outputs": [],
   "source": []
  },
  {
   "cell_type": "code",
   "execution_count": null,
   "metadata": {
    "hidden": true
   },
   "outputs": [],
   "source": [
    "decade_mean = data.groupby('release_decade').mean() / 1000000\n",
    "# decades_median = data.groupby('release_decade').median() / 1000000\n",
    "\n",
    "fig, (ax1, ax2) = plt.subplots(2, 1)\n",
    "\n",
    "decades_mean.plot(y='domestic_adj', xticks=range(1910, 2020, 10), figsize=(12,9), title=\"Mean Earnings vs Budget By Decade\", ax=ax1)\n",
    "decades_mean.plot(y='budget_adj', xticks=range(1910, 2020, 10), ax=ax1)\n",
    "ax1.legend(['Mean Earnings', 'Mean Budget'])\n",
    "\n",
    "decades_median.plot(y='domestic_adj', xticks=range(1910, 2020, 10), figsize=(12,9), title=\"Median Earnings vs Budget By Decade\", ax=ax2)\n",
    "decades_median.plot(y='budget_adj', xticks=range(1910, 2020, 10), ax=ax2)\n",
    "ax2.legend(['Median Earnings', 'Median Budget'])\n",
    "\n",
    "plt.tight_layout()\n",
    "\n",
    "figure, (ax1, ax2) = plt.subplots(2, 1)\n",
    "\n",
    "# Mean groupby\n",
    "domestic_mean = data.groupby('release_week').mean() / 1000000\n",
    "\n",
    "domestic_mean['difference'] = domestic_mean['domestic_adj'] - domestic_mean['budget_adj']\n",
    "\n",
    "# Median groupby\n",
    "# domestic_median = data.groupby('release_week').median() / 1000000\n",
    "\n",
    "domestic_mean.plot(y=['domestic_adj', 'budget_adj'], xticks=range(1,54), figsize=(12,6), ax=ax1, title='Domestic Gross and Budget versus Release Week')\n",
    "#domestic_median.plot(y='domestic_adj', xticks=range(1,54), figsize=(12,6), ax=ax1)\n",
    "ax1.set_ylabel('Dollars In Millions')\n",
    "ax1.legend(['Mean Domestic Gross', 'Mean Production Budget'])\n",
    "\n",
    "domestic_mean.plot(y='difference', xticks=range(1,54), figsize=(12,6), title='Domestic Gross Minus Budget versus Release Week', ax=ax2)\n",
    "ax2.set_ylabel('Dollars In Millions')\n",
    "ax2.legend(['Domestic Gross Minus Budget'])\n",
    "ax2.axhline(0, color='k', linestyle='--')\n",
    "\n",
    "plt.tight_layout()"
   ]
  },
  {
   "cell_type": "markdown",
   "metadata": {
    "hidden": true
   },
   "source": [
    "### Analyze By Breakeven"
   ]
  },
  {
   "cell_type": "code",
   "execution_count": null,
   "metadata": {
    "hidden": true
   },
   "outputs": [],
   "source": [
    "figure, ax1 = plt.subplots(1, 1)\n",
    "\n",
    "data['domestic_breakeven'] = data['domestic_adj'] >= 3 * data['budget_adj']\n",
    "\n",
    "decades = data.groupby('release_decade')\n",
    "\n",
    "(decades['domestic_breakeven'].sum() / decades['domestic_breakeven'].count() * 100).plot(xticks=range(1910, 2020, 10), figsize=(12,9), title='Breakeven By Decade', ax=ax1)\n",
    "ax1.set_ylabel('Percentage of Movies That Breakeven')"
   ]
  },
  {
   "cell_type": "markdown",
   "metadata": {
    "hidden": true
   },
   "source": [
    "## Analyze By Breakeven"
   ]
  },
  {
   "cell_type": "code",
   "execution_count": null,
   "metadata": {
    "hidden": true
   },
   "outputs": [],
   "source": [
    "data['domestic_breakeven'] = data['domestic_adj'] >= 3 * data['budget_adj']\n",
    "data['worldwide_breakeven'] = data['worldwide_adj'] >= 2 * data['budget_adj']"
   ]
  },
  {
   "cell_type": "code",
   "execution_count": null,
   "metadata": {
    "hidden": true,
    "scrolled": true
   },
   "outputs": [],
   "source": [
    "domestic = data[data['domestic_adj'].notnull() & data['domestic_adj'] > 0]\n",
    "\n",
    "domestic_grp = domestic.groupby('release_decade')\n",
    "\n",
    "(domestic_grp['domestic_breakeven'].sum() / domestic_grp['domestic_breakeven'].count() * 100).plot()"
   ]
  },
  {
   "cell_type": "code",
   "execution_count": null,
   "metadata": {
    "hidden": true
   },
   "outputs": [],
   "source": [
    "len(data[data['domestic_adj'].notna() & data['worldwide_adj'].isna()])"
   ]
  },
  {
   "cell_type": "code",
   "execution_count": null,
   "metadata": {
    "hidden": true
   },
   "outputs": [],
   "source": [
    "data[data['domestic_adj'].notna() & data['worldwide_adj'].isna()].sort_values('domestic_adj', ascending=True)"
   ]
  },
  {
   "cell_type": "code",
   "execution_count": null,
   "metadata": {
    "hidden": true
   },
   "outputs": [],
   "source": [
    "data['distributor_mojo'].value_counts()"
   ]
  },
  {
   "cell_type": "code",
   "execution_count": null,
   "metadata": {
    "hidden": true
   },
   "outputs": [],
   "source": [
    "data[data['distributor_mojo'].str.contains('Warner', na=False)]['distributor_mojo'].value_counts()"
   ]
  },
  {
   "cell_type": "code",
   "execution_count": null,
   "metadata": {
    "hidden": true
   },
   "outputs": [],
   "source": [
    "data[data['distributor_mojo'].str.contains('Universal', na=False)]['distributor_mojo'].value_counts()"
   ]
  },
  {
   "cell_type": "code",
   "execution_count": null,
   "metadata": {
    "hidden": true
   },
   "outputs": [],
   "source": [
    "data[data['distributor_mojo'].str.contains('Fox', na=False)]['distributor_mojo'].value_counts()"
   ]
  },
  {
   "cell_type": "code",
   "execution_count": null,
   "metadata": {
    "hidden": true
   },
   "outputs": [],
   "source": []
  },
  {
   "cell_type": "code",
   "execution_count": null,
   "metadata": {
    "hidden": true
   },
   "outputs": [],
   "source": []
  },
  {
   "cell_type": "code",
   "execution_count": null,
   "metadata": {
    "hidden": true
   },
   "outputs": [],
   "source": []
  },
  {
   "cell_type": "code",
   "execution_count": null,
   "metadata": {
    "hidden": true
   },
   "outputs": [],
   "source": []
  },
  {
   "cell_type": "code",
   "execution_count": null,
   "metadata": {
    "hidden": true
   },
   "outputs": [],
   "source": []
  },
  {
   "cell_type": "code",
   "execution_count": null,
   "metadata": {
    "hidden": true
   },
   "outputs": [],
   "source": []
  },
  {
   "cell_type": "markdown",
   "metadata": {
    "heading_collapsed": true
   },
   "source": [
    "# Domestic vs Worldwide"
   ]
  },
  {
   "cell_type": "code",
   "execution_count": null,
   "metadata": {
    "hidden": true
   },
   "outputs": [],
   "source": [
    "figure, (ax1, ax2) = plt.subplots(2, 1)\n",
    "\n",
    "# Only use data with domestic box office\n",
    "domestic = data[(data['domestic_adj'].notna()) & (data['domestic_adj'] > 0)]\n",
    "worldwide = data[(data['worldwide_adj'].notna()) & (data['worldwide_adj'] > 0)]\n",
    "\n",
    "# Mean groupbys\n",
    "domestic_mean = domestic.groupby('release_week').mean() / 1000000\n",
    "worldwide_mean = worldwide.groupby('release_week').mean() / 1000000\n",
    "\n",
    "# Median groupbys\n",
    "domestic_median = domestic.groupby('release_week').median() / 1000000\n",
    "worldwide_median = worldwide.groupby('release_week').median() / 1000000\n",
    "\n",
    "# Black verticals are weeks where both domestic and worldwide have the highest grosses\n",
    "# Blue vertical is domestic\n",
    "# Orange vertical is worldwide\n",
    "\n",
    "domestic_mean.plot(y='domestic_adj', xticks=range(1,54), figsize=(24,9), ax=ax1, title='Mean versus Release Week')\n",
    "worldwide_mean.plot(y='worldwide_adj', xticks=range(1,54), figsize=(24,9), ax=ax1)\n",
    "ax1.set_ylabel('Box Office In Millions')\n",
    "ax1.axvline(51, color='k', linestyle='--')\n",
    "ax1.axvline(50, color='k', linestyle='--')\n",
    "ax1.axvline(27, color='k', linestyle='--')\n",
    "ax1.axvline(21, color='k', linestyle='--')\n",
    "ax1.axvline(52, color='#1f77b4', linestyle='--')\n",
    "ax1.axvline(46, color='#ff7f0e', linestyle='--')\n",
    "ax1.axhline(domestic['domestic_adj'].mean() / 1000000, color='#ff7f0e', linestyle='--')\n",
    "ax1.axhline(worldwide['domestic_adj'].mean() / 1000000, color='#1f77b4', linestyle='--')\n",
    "\n",
    "domestic_median.plot(y='domestic_adj', xticks=range(1,54), figsize=(24,9), ax=ax2, title='Median versus Release Week')\n",
    "worldwide_median.plot(y='worldwide_adj', xticks=range(1,54), figsize=(24,9), ax=ax2)\n",
    "ax2.set_ylabel('Box Office In Millions')\n",
    "ax2.axvline(51, color='k', linestyle='--')\n",
    "ax2.axvline(52, color='k', linestyle='--')\n",
    "ax2.axvline(50, color='k', linestyle='--')\n",
    "ax2.axvline(47, color='k', linestyle='--')\n",
    "ax2.axvline(21, color='k', linestyle='--')\n",
    "\n",
    "plt.tight_layout()"
   ]
  },
  {
   "cell_type": "code",
   "execution_count": null,
   "metadata": {
    "hidden": true
   },
   "outputs": [],
   "source": [
    "domestic_median.sort_values('domestic_adj', ascending=False)[:5]"
   ]
  },
  {
   "cell_type": "code",
   "execution_count": null,
   "metadata": {
    "hidden": true
   },
   "outputs": [],
   "source": [
    "worldwide_median.sort_values('worldwide_adj', ascending=False)[:5]"
   ]
  },
  {
   "cell_type": "code",
   "execution_count": null,
   "metadata": {
    "hidden": true
   },
   "outputs": [],
   "source": [
    "domestic_mean.sort_values('domestic_adj', ascending=False)[:5]"
   ]
  },
  {
   "cell_type": "code",
   "execution_count": null,
   "metadata": {
    "hidden": true
   },
   "outputs": [],
   "source": [
    "worldwide_mean.sort_values('worldwide_adj', ascending=False)[:5]"
   ]
  },
  {
   "cell_type": "markdown",
   "metadata": {
    "hidden": true
   },
   "source": [
    "So far, the data support what is commonly known about the best weeks to open large movies.\n",
    "\n",
    "The highest earning weeks are the Christmas holidays (weeks 50-52), Thanksgiving (week 46-47), Memorial Day (week 21), and the start of summer (week 27).\n",
    "\n",
    "The order of the weeks depends if we measure based on median box office grosses or the mean box office gross. \n",
    "\n",
    "Higher tails on big Memorial Day and Summer movies skew those weeks over "
   ]
  },
  {
   "cell_type": "code",
   "execution_count": null,
   "metadata": {
    "hidden": true
   },
   "outputs": [],
   "source": [
    "figure, (ax1, ax2) = plt.subplots(2, 1)\n",
    "\n",
    "# Only use data with domestic box office\n",
    "domestic_not_adjusted = data[(data['domestic'].notna()) & (data['domestic'] > 0)]\n",
    "worldwide_not_adjusted = data[(data['worldwide'].notna()) & (data['worldwide'] > 0)]\n",
    "\n",
    "# Mean groupbys\n",
    "domestic_not_adjusted_mean = domestic_not_adjusted.groupby('release_week').mean() / 1000000\n",
    "worldwide_not_adjusted_mean = worldwide_not_adjusted.groupby('release_week').mean() / 1000000\n",
    "\n",
    "# Median groupbys\n",
    "domestic_not_adjusted_median = domestic_not_adjusted.groupby('release_week').median() / 1000000\n",
    "worldwide_not_adjusted_median = worldwide_not_adjusted.groupby('release_week').median() / 1000000\n",
    "\n",
    "# Black verticals are weeks where both domestic and worldwide have the highest grosses\n",
    "# Blue vertical is domestic\n",
    "# Orange vertical is worldwide\n",
    "\n",
    "domestic_not_adjusted_mean.plot(y='domestic', xticks=range(1,54), figsize=(24,9), ax=ax1, title='Unadjusted Mean versus Release Week')\n",
    "worldwide_not_adjusted_mean.plot(y='worldwide', xticks=range(1,54), figsize=(24,9), ax=ax1)\n",
    "ax1.set_ylabel('Box Office In Millions')\n",
    "ax1.axvline(51, color='k', linestyle='--')\n",
    "ax1.axvline(50, color='k', linestyle='--')\n",
    "ax1.axvline(27, color='k', linestyle='--')\n",
    "ax1.axvline(21, color='k', linestyle='--')\n",
    "ax1.axvline(52, color='#1f77b4', linestyle='--')\n",
    "ax1.axvline(46, color='#ff7f0e', linestyle='--')\n",
    "\n",
    "domestic_not_adjusted_median.plot(y='domestic', xticks=range(1,54), figsize=(24,9), ax=ax2, title='Unadjusted Median versus Release Week')\n",
    "worldwide_not_adjusted_median.plot(y='worldwide', xticks=range(1,54), figsize=(24,9), ax=ax2)\n",
    "ax2.set_ylabel('Box Office In Millions')\n",
    "ax2.axvline(51, color='k', linestyle='--')\n",
    "ax2.axvline(52, color='k', linestyle='--')\n",
    "ax2.axvline(50, color='k', linestyle='--')\n",
    "ax2.axvline(47, color='k', linestyle='--')\n",
    "ax2.axvline(21, color='k', linestyle='--')\n",
    "\n",
    "plt.tight_layout()"
   ]
  },
  {
   "cell_type": "markdown",
   "metadata": {
    "hidden": true
   },
   "source": [
    "This was a test to see if adjusted versus unadjusted box office figures would make a difference in our analysis.\n",
    "\n",
    "There is not much difference between the two, so we will stick with the adjusted numbers."
   ]
  },
  {
   "cell_type": "code",
   "execution_count": null,
   "metadata": {
    "hidden": true
   },
   "outputs": [],
   "source": [
    "domestic.info()"
   ]
  },
  {
   "cell_type": "code",
   "execution_count": null,
   "metadata": {
    "hidden": true
   },
   "outputs": [],
   "source": [
    "figure, (ax1, ax2) = plt.subplots(2, 1)\n",
    "\n",
    "# Only use data with domestic box office\n",
    "domestic = data[(data['domestic_adj'].notna()) & (data['domestic_adj'] > 0)]\n",
    "# worldwide = data[(data['worldwide_adj'].notna()) & (data['worldwide_adj'] > 0)]\n",
    "\n",
    "# Mean groupbys\n",
    "domestic_mean = domestic.groupby('release_week').mean() / 1000000\n",
    "# worldwide_mean = worldwide.groupby('release_week').mean() / 1000000\n",
    "\n",
    "# Median groupbys\n",
    "domestic_median = domestic.groupby('release_week').median() / 1000000\n",
    "# worldwide_median = worldwide.groupby('release_week').median() / 1000000\n",
    "\n",
    "# Black verticals are weeks where both domestic and worldwide have the highest grosses\n",
    "# Blue vertical is domestic\n",
    "# Orange vertical is worldwide\n",
    "\n",
    "domestic_mean.plot(y='domestic_adj', xticks=range(1,54), yticks=range(0, 100, 20), figsize=(24,9), ax=ax1, title='Mean versus Release Week')\n",
    "# worldwide_mean.plot(y='worldwide_adj', xticks=range(1,54), figsize=(24,9), ax=ax1)\n",
    "ax1.set_ylabel('Box Office In Millions')\n",
    "\n",
    "for value in domestic_mean.sort_values('domestic_adj', ascending=False).index[:5]:\n",
    "    ax1.axvline(value, color='k', linestyle='--')\n",
    "\n",
    "#ax1.axvline(51, color='k', linestyle='--')\n",
    "#ax1.axvline(50, color='k', linestyle='--')\n",
    "#ax1.axvline(27, color='k', linestyle='--')\n",
    "#ax1.axvline(21, color='k', linestyle='--')\n",
    "#ax1.axvline(52, color='k', linestyle='--')\n",
    "# ax1.axvline(46, color='#ff7f0e', linestyle='--')\n",
    "ax1.axhline(domestic['domestic_adj'].mean() / 1000000, color='k', linestyle='--')\n",
    "# ax1.axhline(worldwide['domestic_adj'].mean() / 1000000, color='#1f77b4', linestyle='--')\n",
    "\n",
    "domestic_median.plot(y='domestic_adj', xticks=range(1,54), yticks=range(0, 100, 20), figsize=(24,9), ax=ax2, sharey=True, title='Median versus Release Week')\n",
    "# worldwide_median.plot(y='worldwide_adj', xticks=range(1,54), figsize=(24,9), ax=ax2)\n",
    "ax2.set_ylabel('Box Office In Millions')\n",
    "\n",
    "for value in domestic_median.sort_values('domestic_adj', ascending=False).index[:5]:\n",
    "    ax2.axvline(value, color='k', linestyle='--')\n",
    "    \n",
    "#ax2.axvline(51, color='k', linestyle='--')\n",
    "#ax2.axvline(52, color='k', linestyle='--')\n",
    "#ax2.axvline(50, color='k', linestyle='--')\n",
    "#ax2.axvline(47, color='k', linestyle='--')\n",
    "#ax2.axvline(32, color='k', linestyle='--')\n",
    "ax2.axhline(domestic['domestic_adj'].median() / 1000000, color='k', linestyle='--')\n",
    "\n",
    "plt.tight_layout()"
   ]
  },
  {
   "cell_type": "code",
   "execution_count": null,
   "metadata": {
    "hidden": true
   },
   "outputs": [],
   "source": [
    "print(\"The mean domestic box office value across all years and release weeks is\", domestic['domestic_adj'].mean() / 1000000, \"million dollars\")\n",
    "print(\"The median domestic box office value across all years and release weeks is\", domestic['domestic_adj'].median() / 1000000, \"million dollars\")"
   ]
  },
  {
   "cell_type": "code",
   "execution_count": null,
   "metadata": {
    "hidden": true
   },
   "outputs": [],
   "source": [
    "dom_sort = domestic.sort_values('domestic_adj', ascending=True)\n",
    "\n",
    "dom_sort.tail()"
   ]
  },
  {
   "cell_type": "code",
   "execution_count": null,
   "metadata": {
    "hidden": true
   },
   "outputs": [],
   "source": [
    "dom_sort.plot(x='release_date', y=['domestic_adj', 'budget_adj'], kind='line', figsize=(24, 12))"
   ]
  },
  {
   "cell_type": "code",
   "execution_count": null,
   "metadata": {
    "hidden": true
   },
   "outputs": [],
   "source": [
    "dom_sort['domestic_gross_profit'] = dom_sort['domestic_adj'] - dom_sort['budget_adj']\n",
    "\n",
    "dom_sort.plot(x='release_date', y='domestic_gross_profit', kind='line', figsize=(24, 12))"
   ]
  },
  {
   "cell_type": "code",
   "execution_count": null,
   "metadata": {
    "hidden": true
   },
   "outputs": [],
   "source": [
    "dom_sort_with_budget = dom_sort[(dom_sort['budget_adj'].notna()) & dom_sort['budget_adj'] > 0]\n",
    "\n",
    "dom_sort_with_budget.info()"
   ]
  },
  {
   "cell_type": "code",
   "execution_count": null,
   "metadata": {
    "hidden": true
   },
   "outputs": [],
   "source": [
    "dom_sort_with_budget['domestic_gross_profit'] = dom_sort_with_budget['domestic_adj'] - dom_sort_with_budget['budget_adj']\n",
    "\n",
    "fig, ax1 = plt.subplots(1, 1)\n",
    "\n",
    "dom_sort_with_budget.plot(x='release_date', y='domestic_gross_profit', kind='line', figsize=(24, 12), ax=ax1)\n",
    "\n",
    "ax1.axhline(0, color='k', linestyle='--')"
   ]
  },
  {
   "cell_type": "code",
   "execution_count": null,
   "metadata": {
    "hidden": true
   },
   "outputs": [],
   "source": [
    "dom_sort_with_budget['domestic_gross_profit'].sort_values(ascending=True)"
   ]
  },
  {
   "cell_type": "markdown",
   "metadata": {
    "heading_collapsed": true
   },
   "source": [
    "# Profitability Equation\n",
    "\n",
    "It is difficult to determine exactly how much studios spend on marketing their movies. An article at [How Stuff Works](https://entertainment.howstuffworks.com/movie-cost1.htm) cites that marketing spend is typically around 50% of the production budget of a movie.\n",
    "\n",
    "According to this article on [The Week](https://theweek.com/articles/647394/when-buy-movie-ticket-where-does-that-money), movie studios keep about 60% of theatrical money (while movie theaters get the other 40%). Once you account for 10% of that money going to pay distributors, movie studios keep about 50% of total theatrical money.\n",
    "\n",
    "To come up with a profitability equation, we will use these numbers. We will say a movie broke even if it grossed three times its production budget domestically. \n",
    "\n",
    "Total spend = 150% production budget (adding 50% of production budget on top for marketing)\n",
    "Total earnings = 0.5 * domestic box office\n",
    "\n",
    "We want to analyze where Total spend = Total earnings, as this is the breakeven point.\n",
    "\n",
    "1.5 * production budget = 0.5 * domestic box office -- is the breakeven point\n",
    "\n",
    "So domestic box office = 3 * production budget\n",
    "\n",
    "Another estimate from [Gizmodo](https://io9.gizmodo.com/how-much-money-does-a-movie-need-to-make-to-be-profitab-5747305) is that a movie breaks even when it earns twice its production budget worldwide. Since we have far more data points with domestic box office, we will stick to the domestic calculations for now. But a deeper dive could be explored if more worldwide figures were found."
   ]
  },
  {
   "cell_type": "markdown",
   "metadata": {
    "heading_collapsed": true,
    "hidden": true
   },
   "source": [
    "## Import needed libraries"
   ]
  },
  {
   "cell_type": "code",
   "execution_count": null,
   "metadata": {
    "hidden": true
   },
   "outputs": [],
   "source": [
    "import pandas as pd\n",
    "import numpy as np\n",
    "import matplotlib.pyplot as plt\n",
    "%matplotlib inline\n",
    "import pprint"
   ]
  },
  {
   "cell_type": "code",
   "execution_count": null,
   "metadata": {
    "hidden": true
   },
   "outputs": [],
   "source": [
    "from IPython.core.display import display, HTML\n",
    "display(HTML(\"<style>.container { width:80% !important; }</style>\"))\n",
    "\n",
    "pd.options.display.max_rows = 400\n",
    "pd.options.display.max_columns = 50"
   ]
  },
  {
   "cell_type": "markdown",
   "metadata": {
    "hidden": true
   },
   "source": [
    "## Import dataset"
   ]
  },
  {
   "cell_type": "code",
   "execution_count": null,
   "metadata": {
    "hidden": true
   },
   "outputs": [],
   "source": [
    "data = pd.read_csv('cleaned_movie_data.csv', parse_dates=['release_date'])\n",
    "\n",
    "data = data[['title', 'release_week', 'release_year', 'release_date', 'domestic_adj', 'worldwide_adj', 'genres_mojo', 'budget_adj', 'domestic', 'worldwide']]\n",
    "\n",
    "data.head(10)"
   ]
  },
  {
   "cell_type": "markdown",
   "metadata": {
    "hidden": true
   },
   "source": [
    "## Examine data"
   ]
  },
  {
   "cell_type": "code",
   "execution_count": null,
   "metadata": {
    "hidden": true
   },
   "outputs": [],
   "source": [
    "data['breakeven'] = data['domestic_adj'] >= 3 * data['budget_adj']\n",
    "\n",
    "# Only 1075 movies out of 17,759 have broken even\n",
    "data['breakeven'].sum()"
   ]
  },
  {
   "cell_type": "code",
   "execution_count": null,
   "metadata": {
    "hidden": true
   },
   "outputs": [],
   "source": [
    "data_grp = data[data['breakeven'] == True].groupby('release_year')"
   ]
  },
  {
   "cell_type": "code",
   "execution_count": null,
   "metadata": {
    "hidden": true
   },
   "outputs": [],
   "source": [
    "# The number of movies each year that breaks even has increased dramatically\n",
    "data_grp['breakeven'].count().plot()"
   ]
  },
  {
   "cell_type": "code",
   "execution_count": null,
   "metadata": {
    "hidden": true
   },
   "outputs": [],
   "source": [
    "data_grp3 = data.groupby('release_year')\n",
    "\n",
    "# However, the number of movies released each year has also increased\n",
    "data_grp3['release_year'].count().plot()"
   ]
  },
  {
   "cell_type": "code",
   "execution_count": null,
   "metadata": {
    "hidden": true,
    "scrolled": true
   },
   "outputs": [],
   "source": [
    "# Controlling for number of movies released, the \"average\" number of breakeven movies seems to be declining in recent years\n",
    "(data_grp2['breakeven'].sum() / data_grp2['breakeven'].count() * 100).plot()"
   ]
  },
  {
   "cell_type": "markdown",
   "metadata": {
    "heading_collapsed": true
   },
   "source": [
    "# Looking At Worldwide Data\n",
    "\n",
    "What happens if we look at how many movies break even based on worldwide totals?\n",
    "\n",
    "In our case, a movie will breakeven if its worldwide box office is twice its production budget."
   ]
  },
  {
   "cell_type": "markdown",
   "metadata": {
    "hidden": true
   },
   "source": [
    "## Import needed libraries"
   ]
  },
  {
   "cell_type": "code",
   "execution_count": null,
   "metadata": {
    "hidden": true
   },
   "outputs": [],
   "source": [
    "import pandas as pd\n",
    "import numpy as np\n",
    "import matplotlib.pyplot as plt\n",
    "%matplotlib inline\n",
    "import pprint"
   ]
  },
  {
   "cell_type": "code",
   "execution_count": null,
   "metadata": {
    "hidden": true
   },
   "outputs": [],
   "source": [
    "from IPython.core.display import display, HTML\n",
    "display(HTML(\"<style>.container { width:80% !important; }</style>\"))\n",
    "\n",
    "pd.options.display.max_rows = 400\n",
    "pd.options.display.max_columns = 50"
   ]
  },
  {
   "cell_type": "markdown",
   "metadata": {
    "hidden": true
   },
   "source": [
    "## Import dataset"
   ]
  },
  {
   "cell_type": "code",
   "execution_count": null,
   "metadata": {
    "hidden": true
   },
   "outputs": [],
   "source": [
    "data = pd.read_csv('cleaned_movie_data.csv', parse_dates=['release_date'])\n",
    "\n",
    "data = data[['title', 'release_week', 'release_year', 'release_date', 'domestic_adj', 'worldwide_adj', 'genres_mojo', 'budget_adj', 'domestic', 'worldwide']]\n",
    "\n",
    "data = data[data['worldwide_adj'].notnull() & data['worldwide_adj'] > 0]\n",
    "\n",
    "data.info()"
   ]
  },
  {
   "cell_type": "code",
   "execution_count": null,
   "metadata": {
    "hidden": true
   },
   "outputs": [],
   "source": [
    "data['breakeven'] = data['worldwide_adj'] >= 2 * data['budget_adj']\n",
    "\n",
    "data_grp = data.groupby('release_year')"
   ]
  },
  {
   "cell_type": "code",
   "execution_count": null,
   "metadata": {
    "hidden": true
   },
   "outputs": [],
   "source": [
    "data_grp['breakeven'].sum().plot()"
   ]
  },
  {
   "cell_type": "code",
   "execution_count": null,
   "metadata": {
    "hidden": true
   },
   "outputs": [],
   "source": [
    "data_grp['release_year'].count().plot()"
   ]
  },
  {
   "cell_type": "code",
   "execution_count": null,
   "metadata": {
    "hidden": true
   },
   "outputs": [],
   "source": [
    "# Percentage of movies each year that break even\n",
    "(data_grp['breakeven'].sum() / data_grp['breakeven'].count() * 100).plot()"
   ]
  },
  {
   "cell_type": "code",
   "execution_count": null,
   "metadata": {
    "hidden": true
   },
   "outputs": [],
   "source": [
    "data_grp['release_year'].count()"
   ]
  },
  {
   "cell_type": "markdown",
   "metadata": {
    "heading_collapsed": true
   },
   "source": [
    "# Combining domestic and worldwide into one graph"
   ]
  },
  {
   "cell_type": "markdown",
   "metadata": {
    "hidden": true
   },
   "source": [
    "## Import dataset"
   ]
  },
  {
   "cell_type": "code",
   "execution_count": null,
   "metadata": {
    "hidden": true
   },
   "outputs": [],
   "source": [
    "data = pd.read_csv('cleaned_movie_data.csv', parse_dates=['release_date'])\n",
    "\n",
    "data = data[['title', 'release_week', 'release_year', 'release_date', 'domestic_adj', 'worldwide_adj', 'genres_mojo', 'budget_adj', 'domestic', 'worldwide']]\n",
    "\n",
    "#data = data[data['worldwide_adj'].notnull() & data['worldwide_adj'] > 0]\n",
    "\n",
    "data.info()"
   ]
  },
  {
   "cell_type": "code",
   "execution_count": null,
   "metadata": {
    "hidden": true
   },
   "outputs": [],
   "source": [
    "data['domestic_breakeven'] = data['domestic_adj'] >= 3 * data['budget_adj']\n",
    "data['worldwide_breakeven'] = data['worldwide_adj'] >= 2 * data['budget_adj']"
   ]
  },
  {
   "cell_type": "code",
   "execution_count": null,
   "metadata": {
    "hidden": true,
    "scrolled": true
   },
   "outputs": [],
   "source": [
    "domestic = data[data['domestic_adj'].notnull() & data['domestic_adj'] > 0]\n",
    "\n",
    "domestic_grp = domestic.groupby('release_year')\n",
    "\n",
    "(domestic_grp['domestic_breakeven'].sum() / domestic_grp['domestic_breakeven'].count() * 100).plot()"
   ]
  },
  {
   "cell_type": "code",
   "execution_count": null,
   "metadata": {
    "hidden": true,
    "scrolled": false
   },
   "outputs": [],
   "source": [
    "# We have 17,759 movies that made money domestically\n",
    "domestic.info()"
   ]
  },
  {
   "cell_type": "code",
   "execution_count": null,
   "metadata": {
    "hidden": true,
    "scrolled": true
   },
   "outputs": [],
   "source": [
    "worldwide = data[data['worldwide_adj'].notnull() & data['worldwide_adj'] > 0]\n",
    "\n",
    "worldwide_grp = worldwide.groupby('release_year')\n",
    "\n",
    "(worldwide_grp['worldwide_breakeven'].sum() / worldwide_grp['worldwide_breakeven'].count() * 100).plot()"
   ]
  },
  {
   "cell_type": "code",
   "execution_count": null,
   "metadata": {
    "hidden": true,
    "scrolled": true
   },
   "outputs": [],
   "source": [
    "# We have 9,915 movies that made money worldwide.\n",
    "worldwide.info()"
   ]
  },
  {
   "cell_type": "code",
   "execution_count": null,
   "metadata": {
    "hidden": true
   },
   "outputs": [],
   "source": [
    "# Movies that earn money overseas have a much better chance of breaking even than those that are only domestic.\n",
    "\n",
    "figure, ax1 = plt.subplots(1, 1)\n",
    "\n",
    "(domestic_grp['domestic_breakeven'].sum() / domestic_grp['domestic_breakeven'].count() * 100).plot(figsize=(24,9), ax=ax1, title=\"Breakeven Percentages By Year\")\n",
    "(worldwide_grp['worldwide_breakeven'].sum() / worldwide_grp['worldwide_breakeven'].count() * 100).plot(figsize=(24,9), ax=ax1)\n",
    "\n",
    "plt.tight_layout()"
   ]
  },
  {
   "cell_type": "code",
   "execution_count": null,
   "metadata": {
    "hidden": true
   },
   "outputs": [],
   "source": [
    "# I want to be able to subtract the domestic breakeven percentage from the worldwide percentage to get a single line\n",
    "\n",
    "subtraction = (worldwide_grp['worldwide_breakeven'].sum() / worldwide_grp['worldwide_breakeven'].count() * 100) - (domestic_grp['domestic_breakeven'].sum() / domestic_grp['domestic_breakeven'].count() * 100)\n",
    "\n",
    "subtraction.plot(figsize=(24,9), title=\"Average Difference In Breakeven Percentages By Year (Worldwide - Domestic)\")"
   ]
  },
  {
   "cell_type": "markdown",
   "metadata": {
    "heading_collapsed": true
   },
   "source": [
    "# Decade Analysis"
   ]
  },
  {
   "cell_type": "code",
   "execution_count": null,
   "metadata": {
    "hidden": true
   },
   "outputs": [],
   "source": [
    "import pandas as pd\n",
    "import numpy as np\n",
    "import matplotlib.pyplot as plt\n",
    "%matplotlib inline\n",
    "import pprint"
   ]
  },
  {
   "cell_type": "code",
   "execution_count": null,
   "metadata": {
    "hidden": true
   },
   "outputs": [],
   "source": [
    "from IPython.core.display import display, HTML\n",
    "display(HTML(\"<style>.container { width:80% !important; }</style>\"))\n",
    "\n",
    "pd.options.display.max_rows = 400\n",
    "pd.options.display.max_columns = 50"
   ]
  },
  {
   "cell_type": "markdown",
   "metadata": {
    "hidden": true
   },
   "source": [
    "## Import dataset"
   ]
  },
  {
   "cell_type": "code",
   "execution_count": null,
   "metadata": {
    "hidden": true
   },
   "outputs": [],
   "source": [
    "data = pd.read_csv('cleaned_movie_data.csv', parse_dates=['release_date'])\n",
    "\n",
    "data = data[['title', 'release_week', 'release_year', 'release_date', 'domestic_adj', 'worldwide_adj', 'genres_mojo', 'budget_adj', 'domestic', 'worldwide']]\n",
    "\n",
    "data['release_decade'] = data['release_year'].apply(lambda x: x // 10 * 10)\n",
    "\n",
    "# data = data[data['worldwide_adj'].notnull() & data['worldwide_adj'] > 0]\n",
    "\n",
    "data.info()"
   ]
  },
  {
   "cell_type": "code",
   "execution_count": null,
   "metadata": {
    "hidden": true
   },
   "outputs": [],
   "source": [
    "data['release_decade'].value_counts(dropna=False)"
   ]
  },
  {
   "cell_type": "code",
   "execution_count": null,
   "metadata": {
    "hidden": true
   },
   "outputs": [],
   "source": [
    "data['domestic_breakeven'] = data['domestic_adj'] >= 3 * data['budget_adj']\n",
    "data['worldwide_breakeven'] = data['worldwide_adj'] >= 2 * data['budget_adj']"
   ]
  },
  {
   "cell_type": "code",
   "execution_count": null,
   "metadata": {
    "hidden": true,
    "scrolled": true
   },
   "outputs": [],
   "source": [
    "domestic = data[data['domestic_adj'].notnull() & data['domestic_adj'] > 0]\n",
    "\n",
    "domestic_grp = domestic.groupby('release_decade')\n",
    "\n",
    "(domestic_grp['domestic_breakeven'].sum() / domestic_grp['domestic_breakeven'].count() * 100).plot()"
   ]
  },
  {
   "cell_type": "code",
   "execution_count": null,
   "metadata": {
    "hidden": true,
    "scrolled": false
   },
   "outputs": [],
   "source": [
    "# We have 17,759 movies that made money domestically\n",
    "domestic.info()"
   ]
  },
  {
   "cell_type": "code",
   "execution_count": null,
   "metadata": {
    "hidden": true
   },
   "outputs": [],
   "source": [
    "domestic_grp_year = domestic.groupby('release_year')\n",
    "\n",
    "(domestic_grp_year['domestic_breakeven'].sum() / domestic_grp_year['domestic_breakeven'].count() * 100).plot()"
   ]
  },
  {
   "cell_type": "code",
   "execution_count": null,
   "metadata": {
    "hidden": true
   },
   "outputs": [],
   "source": []
  },
  {
   "cell_type": "code",
   "execution_count": null,
   "metadata": {
    "hidden": true
   },
   "outputs": [],
   "source": []
  },
  {
   "cell_type": "code",
   "execution_count": null,
   "metadata": {
    "hidden": true
   },
   "outputs": [],
   "source": []
  },
  {
   "cell_type": "code",
   "execution_count": null,
   "metadata": {
    "hidden": true
   },
   "outputs": [],
   "source": []
  },
  {
   "cell_type": "code",
   "execution_count": null,
   "metadata": {
    "hidden": true
   },
   "outputs": [],
   "source": []
  },
  {
   "cell_type": "code",
   "execution_count": null,
   "metadata": {
    "hidden": true
   },
   "outputs": [],
   "source": []
  },
  {
   "cell_type": "code",
   "execution_count": null,
   "metadata": {
    "hidden": true,
    "scrolled": true
   },
   "outputs": [],
   "source": [
    "worldwide = data[data['worldwide_adj'].notnull() & data['worldwide_adj'] > 0]\n",
    "\n",
    "worldwide_grp = worldwide.groupby('release_decade')\n",
    "\n",
    "(worldwide_grp['worldwide_breakeven'].sum() / worldwide_grp['worldwide_breakeven'].count() * 100).plot()"
   ]
  },
  {
   "cell_type": "code",
   "execution_count": null,
   "metadata": {
    "hidden": true,
    "scrolled": true
   },
   "outputs": [],
   "source": [
    "# We have 9,915 movies that made money worldwide.\n",
    "worldwide.info()"
   ]
  },
  {
   "cell_type": "code",
   "execution_count": null,
   "metadata": {
    "hidden": true
   },
   "outputs": [],
   "source": [
    "# Movies that earn money overseas have a much better chance of breaking even than those that are only domestic.\n",
    "\n",
    "figure, ax1 = plt.subplots(1, 1)\n",
    "\n",
    "(domestic_grp['domestic_breakeven'].sum() / domestic_grp['domestic_breakeven'].count() * 100).plot(figsize=(24,9), xticks=range(1910, 2020, 10), ax=ax1, title=\"Breakeven Percentages By Decade\")\n",
    "(worldwide_grp['worldwide_breakeven'].sum() / worldwide_grp['worldwide_breakeven'].count() * 100).plot(figsize=(24,9), ax=ax1)\n",
    "\n",
    "plt.tight_layout()"
   ]
  },
  {
   "cell_type": "code",
   "execution_count": null,
   "metadata": {
    "hidden": true
   },
   "outputs": [],
   "source": [
    "# I want to be able to subtract the domestic breakeven percentage from the worldwide percentage to get a single line\n",
    "\n",
    "subtraction = (worldwide_grp['worldwide_breakeven'].sum() / worldwide_grp['worldwide_breakeven'].count() * 100) - (domestic_grp['domestic_breakeven'].sum() / domestic_grp['domestic_breakeven'].count() * 100)\n",
    "\n",
    "subtraction.plot(xticks=range(1910, 2020, 10), figsize=(24,9), title=\"Average Difference In Breakeven Percentages By Decade (Worldwide - Domestic)\")"
   ]
  },
  {
   "cell_type": "markdown",
   "metadata": {
    "hidden": true
   },
   "source": [
    "Overall, movies that have a worldwide release are far more likely to breakeven than movies released only domestically. \n",
    "\n",
    "This could just be due to the size of the average worldwide movie compared to a domestic one.\n",
    "\n",
    "For example, we would think the average movie released worldwide had a higher budget than one just released domestically."
   ]
  },
  {
   "cell_type": "code",
   "execution_count": null,
   "metadata": {
    "hidden": true
   },
   "outputs": [],
   "source": [
    "only_worldwide = data[((data['worldwide_adj'] > 0) & (data['worldwide_adj'].notnull())) & ((data['domestic_adj'] == 0) | (data['domestic_adj'].isnull()))]"
   ]
  },
  {
   "cell_type": "code",
   "execution_count": null,
   "metadata": {
    "hidden": true
   },
   "outputs": [],
   "source": [
    "only_worldwide['worldwide_adj'].mean()"
   ]
  },
  {
   "cell_type": "code",
   "execution_count": null,
   "metadata": {
    "hidden": true
   },
   "outputs": [],
   "source": [
    "and_worldwide = data[(data['worldwide_adj'] > 0) & (data['worldwide_adj'].notnull())]"
   ]
  },
  {
   "cell_type": "code",
   "execution_count": null,
   "metadata": {
    "hidden": true
   },
   "outputs": [],
   "source": [
    "and_worldwide['worldwide_adj'].mean()"
   ]
  },
  {
   "cell_type": "code",
   "execution_count": null,
   "metadata": {
    "hidden": true
   },
   "outputs": [],
   "source": [
    "only_domestic = data[((data['domestic_adj'] > 0) & (data['domestic_adj'].notnull())) & ((data['worldwide_adj'] == 0) | (data['worldwide_adj'].isnull()))]"
   ]
  },
  {
   "cell_type": "code",
   "execution_count": null,
   "metadata": {
    "hidden": true
   },
   "outputs": [],
   "source": [
    "print(\"Average box office for only released domestically\", only_domestic['domestic_adj'].mean())\n",
    "print(\"Average budget for only released domestically\", only_domestic['budget_adj'].mean())\n",
    "print(\"Average profit for only released domestically\", (only_domestic['domestic_adj'] - 3 * domestic['budget_adj']).mean())"
   ]
  },
  {
   "cell_type": "code",
   "execution_count": null,
   "metadata": {
    "hidden": true
   },
   "outputs": [],
   "source": [
    "print(\"Average box office for anthing with a worldwide release\", and_worldwide['worldwide_adj'].mean())\n",
    "print(\"Average budget for for anthing with a worldwide release\", and_worldwide['budget_adj'].mean())\n",
    "print(\"Average profit for for anthing with a worldwide release\", (and_worldwide['worldwide_adj'] - 2 * and_worldwide['budget_adj']).mean())"
   ]
  },
  {
   "cell_type": "markdown",
   "metadata": {
    "hidden": true
   },
   "source": [
    "Movies with a worldwide footprint make more money."
   ]
  },
  {
   "cell_type": "code",
   "execution_count": null,
   "metadata": {
    "hidden": true
   },
   "outputs": [],
   "source": []
  },
  {
   "cell_type": "code",
   "execution_count": null,
   "metadata": {
    "hidden": true
   },
   "outputs": [],
   "source": []
  },
  {
   "cell_type": "code",
   "execution_count": null,
   "metadata": {
    "hidden": true
   },
   "outputs": [],
   "source": []
  },
  {
   "cell_type": "code",
   "execution_count": null,
   "metadata": {
    "hidden": true
   },
   "outputs": [],
   "source": [
    "data_grp = data.groupby('release_year')"
   ]
  },
  {
   "cell_type": "code",
   "execution_count": null,
   "metadata": {
    "hidden": true
   },
   "outputs": [],
   "source": [
    "figure, ax1 = plt.subplots(1, 1)\n",
    "\n",
    "(data_grp['domestic_breakeven'].sum() / data_grp['domestic_breakeven'].count() * 100).plot(figsize=(24,9), ax=ax1, title=\"Domestic Breakeven Percentages By Year\")\n",
    "(data_grp['worldwide_breakeven'].sum() / data_grp['worldwide_breakeven'].count() * 100).plot(figsize=(24,9), ax=ax1, title=\"Worldwide Breakeven Percentages By Year\")\n"
   ]
  },
  {
   "cell_type": "code",
   "execution_count": null,
   "metadata": {
    "hidden": true
   },
   "outputs": [],
   "source": []
  },
  {
   "cell_type": "code",
   "execution_count": null,
   "metadata": {
    "hidden": true
   },
   "outputs": [],
   "source": []
  },
  {
   "cell_type": "code",
   "execution_count": null,
   "metadata": {
    "hidden": true
   },
   "outputs": [],
   "source": []
  },
  {
   "cell_type": "code",
   "execution_count": null,
   "metadata": {
    "hidden": true
   },
   "outputs": [],
   "source": []
  },
  {
   "cell_type": "code",
   "execution_count": null,
   "metadata": {
    "hidden": true
   },
   "outputs": [],
   "source": []
  },
  {
   "cell_type": "code",
   "execution_count": null,
   "metadata": {
    "hidden": true
   },
   "outputs": [],
   "source": []
  },
  {
   "cell_type": "code",
   "execution_count": null,
   "metadata": {
    "hidden": true
   },
   "outputs": [],
   "source": []
  },
  {
   "cell_type": "code",
   "execution_count": null,
   "metadata": {
    "hidden": true
   },
   "outputs": [],
   "source": []
  },
  {
   "cell_type": "code",
   "execution_count": null,
   "metadata": {
    "hidden": true
   },
   "outputs": [],
   "source": []
  },
  {
   "cell_type": "code",
   "execution_count": null,
   "metadata": {
    "hidden": true
   },
   "outputs": [],
   "source": [
    "domestic[domestic['release_week'] == 6].sort_values('domestic_gross_2019', ascending=False)"
   ]
  },
  {
   "cell_type": "code",
   "execution_count": null,
   "metadata": {
    "hidden": true
   },
   "outputs": [],
   "source": [
    "domestic.sort_values('domestic_gross_2019', ascending=False)"
   ]
  },
  {
   "cell_type": "code",
   "execution_count": null,
   "metadata": {
    "hidden": true
   },
   "outputs": [],
   "source": [
    "domestic_grp_no_mean = domestic.groupby('release_week')\n",
    "domestic_grp_no_mean.sort_values('domestic_gross_2019', ascending=False)"
   ]
  },
  {
   "cell_type": "code",
   "execution_count": null,
   "metadata": {
    "hidden": true
   },
   "outputs": [],
   "source": []
  },
  {
   "cell_type": "code",
   "execution_count": null,
   "metadata": {
    "hidden": true
   },
   "outputs": [],
   "source": []
  },
  {
   "cell_type": "code",
   "execution_count": null,
   "metadata": {
    "hidden": true
   },
   "outputs": [],
   "source": []
  },
  {
   "cell_type": "code",
   "execution_count": null,
   "metadata": {
    "hidden": true
   },
   "outputs": [],
   "source": [
    "comedy = domestic[domestic['genres_mojo'].str.contains('Comedy', na=False)]\n",
    "romance = domestic[domestic['genres_mojo'].str.contains('Roman', na=False)]\n",
    "action = domestic[domestic['genres_mojo'].str.contains('Action', na=False)]\n",
    "sci_fi = domestic[domestic['genres_mojo'].str.contains('Sci-Fi', na=False)]\n",
    "fantasy = domestic[domestic['genres_mojo'].str.contains('Fantasy', na=False)]\n",
    "horror = domestic[domestic['genres_mojo'].str.contains('Horror', na=False)]\n",
    "animation = domestic[domestic['genres_mojo'].str.contains('Animat', na=False)]"
   ]
  },
  {
   "cell_type": "code",
   "execution_count": null,
   "metadata": {
    "hidden": true
   },
   "outputs": [],
   "source": [
    "comedy.index"
   ]
  },
  {
   "cell_type": "code",
   "execution_count": null,
   "metadata": {
    "hidden": true
   },
   "outputs": [],
   "source": [
    "comedy.groupby('release_week')['domestic_gross_2019'].mean().max()/30"
   ]
  },
  {
   "cell_type": "code",
   "execution_count": null,
   "metadata": {
    "hidden": true
   },
   "outputs": [],
   "source": [
    "print(comedy_gb.head())"
   ]
  },
  {
   "cell_type": "code",
   "execution_count": null,
   "metadata": {
    "hidden": true
   },
   "outputs": [],
   "source": [
    "comedy.plot(x='release_week', y='domestic_gross_2019', kind='bar')"
   ]
  },
  {
   "cell_type": "code",
   "execution_count": null,
   "metadata": {
    "hidden": true
   },
   "outputs": [],
   "source": [
    "romance.plot(x='release_week', y='domestic_gross_2019', kind='scatter')\n",
    "action.plot(x='release_week', y='domestic_gross_2019', kind='scatter')\n",
    "sci_fi.plot(x='release_week', y='domestic_gross_2019', kind='scatter')\n",
    "fantasy.plot(x='release_week', y='domestic_gross_2019', kind='scatter')\n",
    "horror.plot(x='release_week', y='domestic_gross_2019', kind='scatter')\n",
    "animation.plot(x='release_week', y='domestic_gross_2019', kind='scatter')"
   ]
  },
  {
   "cell_type": "code",
   "execution_count": null,
   "metadata": {
    "hidden": true
   },
   "outputs": [],
   "source": []
  },
  {
   "cell_type": "code",
   "execution_count": null,
   "metadata": {
    "hidden": true
   },
   "outputs": [],
   "source": []
  },
  {
   "cell_type": "code",
   "execution_count": null,
   "metadata": {
    "hidden": true
   },
   "outputs": [],
   "source": []
  },
  {
   "cell_type": "code",
   "execution_count": null,
   "metadata": {
    "hidden": true
   },
   "outputs": [],
   "source": []
  },
  {
   "cell_type": "code",
   "execution_count": null,
   "metadata": {
    "hidden": true
   },
   "outputs": [],
   "source": [
    "all_by_week=movies1.groupby('week_number')\n",
    "action_by_week=action.groupby('week_number')\n",
    "animation_by_week=animation.groupby('week_number')\n",
    "comedy_by_week=comedy.groupby('week_number')\n",
    "fantasy_by_week=fantasy.groupby('week_number')\n",
    "horror_by_week=horror.groupby('week_number')\n",
    "romance_by_week=romance.groupby('week_number')\n",
    "scifi_by_week=scifi.groupby('week_number')"
   ]
  },
  {
   "cell_type": "code",
   "execution_count": null,
   "metadata": {
    "hidden": true
   },
   "outputs": [],
   "source": []
  },
  {
   "cell_type": "code",
   "execution_count": null,
   "metadata": {
    "hidden": true
   },
   "outputs": [],
   "source": []
  },
  {
   "cell_type": "code",
   "execution_count": null,
   "metadata": {
    "hidden": true
   },
   "outputs": [],
   "source": []
  },
  {
   "cell_type": "code",
   "execution_count": null,
   "metadata": {
    "hidden": true
   },
   "outputs": [],
   "source": []
  },
  {
   "cell_type": "code",
   "execution_count": null,
   "metadata": {
    "hidden": true
   },
   "outputs": [],
   "source": []
  },
  {
   "cell_type": "code",
   "execution_count": null,
   "metadata": {
    "hidden": true
   },
   "outputs": [],
   "source": []
  },
  {
   "cell_type": "code",
   "execution_count": null,
   "metadata": {
    "hidden": true,
    "scrolled": true
   },
   "outputs": [],
   "source": [
    "# pandas_profiling.ProfileReport(outer_merged)"
   ]
  },
  {
   "cell_type": "markdown",
   "metadata": {
    "heading_collapsed": true
   },
   "source": [
    "# Test"
   ]
  },
  {
   "cell_type": "code",
   "execution_count": null,
   "metadata": {
    "hidden": true
   },
   "outputs": [],
   "source": []
  },
  {
   "cell_type": "code",
   "execution_count": null,
   "metadata": {
    "hidden": true
   },
   "outputs": [],
   "source": [
    "figure, ax1 = plt.subplots(1,1)\n",
    "\n",
    "for genre in [adventure, action, drama, comedy, thriller_suspense, horror]:\n",
    "    grp = genre.groupby('release_decade').mean() / 1000000\n",
    "    grp.plot(y='domestic_adj', xticks=range(1910, 2020, 10), figsize=(18,9), ax=ax1, title='Mean Domestic Gross By Genre And Decade', linewidth=3)\n",
    "    \n",
    "ax1.set_ylabel('Domestic Gross In Millions')\n",
    "ax1.legend(['adventure', 'action', 'drama', 'comedy', 'thriller_suspense', 'horror'])\n",
    "plt.tight_layout()    "
   ]
  },
  {
   "cell_type": "markdown",
   "metadata": {
    "hidden": true
   },
   "source": [
    "Key Takeaways:\n",
    "- We're missing a lot of genre labeling before 1950.\n",
    "- It still seems that Adventure, Action, and Horror are the biggest winners."
   ]
  },
  {
   "cell_type": "code",
   "execution_count": null,
   "metadata": {
    "hidden": true
   },
   "outputs": [],
   "source": [
    "figure, ax1 = plt.subplots(1,1)\n",
    "\n",
    "for genre in ['adventure', 'action', 'drama', 'comedy', 'thriller_suspense', 'horror']:\n",
    "    grp = data[data[genre]].groupby('release_week').mean() / 1000000\n",
    "    grp.plot(y='domestic_adj', xticks=range(1, 54), figsize=(18,9), ax=ax1, title='Mean Domestic Gross By Genre And Release Week', linewidth=3)\n",
    "    \n",
    "ax1.set_ylabel('Domestic Gross In Millions')\n",
    "ax1.legend(['adventure', 'action', 'drama', 'comedy', 'thriller_suspense', 'horror'])\n",
    "plt.tight_layout()   "
   ]
  },
  {
   "cell_type": "code",
   "execution_count": null,
   "metadata": {
    "hidden": true
   },
   "outputs": [],
   "source": [
    "figure, ax1 = plt.subplots(1,1)\n",
    "\n",
    "for genre in [adventure, action, drama, comedy, thriller_suspense, horror]:\n",
    "    grp = genre.groupby('release_week').mean() / 1000000\n",
    "    grp.plot(y='domestic_adj', xticks=range(1, 54), figsize=(18,9), ax=ax1, title='Mean Domestic Gross By Genre And Release Week', linewidth=3)\n",
    "    \n",
    "ax1.set_ylabel('Domestic Gross In Millions')\n",
    "ax1.legend(['adventure', 'action', 'drama', 'comedy', 'thriller_suspense', 'horror'])\n",
    "plt.tight_layout()    "
   ]
  },
  {
   "cell_type": "code",
   "execution_count": null,
   "metadata": {
    "hidden": true
   },
   "outputs": [],
   "source": [
    "dfs = [adventure, action, drama, comedy, thriller_suspense, horror]\n",
    "genres = ['adventure', 'action', 'drama', 'comedy', 'thriller_suspense', 'horror']\n",
    "\n",
    "for df, genre in zip(dfs, genres):\n",
    "    print('{0} has a domestic mean of {1:.1f} million dollars'.format(genre, df['domestic_adj'].mean() / 1000000))"
   ]
  },
  {
   "cell_type": "markdown",
   "metadata": {
    "hidden": true
   },
   "source": [
    "Key Takeaways:\n",
    "- In aggregate it seems the top selling genres are Adventure, Action, and Horror\n",
    "- End of spring into summer and winter are the best box office times of the year\n",
    "- Horror has a big bump around the Winter Holidays"
   ]
  },
  {
   "cell_type": "code",
   "execution_count": null,
   "metadata": {
    "hidden": true
   },
   "outputs": [],
   "source": [
    "figure, axes = plt.subplots(nrows=3, ncols=2, figsize=(18,9), sharey=True)\n",
    "\n",
    "ax1, ax2, ax3, ax4, ax5, ax6 = axes.flatten()\n",
    "axes_list = [ax1, ax2, ax3, ax4, ax5, ax6]\n",
    "\n",
    "genres = [adventure, action, drama, comedy, thriller_suspense, horror]\n",
    "names = ['adventure', 'action', 'drama', 'comedy', 'thriller_suspense', 'horror']\n",
    "\n",
    "for axis, genre, name in zip(axes_list, genres, names):\n",
    "    genre.hist('release_decade', ax=axis)\n",
    "    axis.set_ylabel('Count of Movies By Genre')\n",
    "    axis.set_title(name)\n",
    "\n",
    "plt.tight_layout()"
   ]
  },
  {
   "cell_type": "code",
   "execution_count": null,
   "metadata": {
    "hidden": true
   },
   "outputs": [],
   "source": [
    "import matplotlib.pyplot as plt\n",
    "%matplotlib inline"
   ]
  },
  {
   "cell_type": "code",
   "execution_count": null,
   "metadata": {
    "hidden": true
   },
   "outputs": [],
   "source": [
    "# Draw a graph with pandas and keep what's returned\n",
    "ax = outer_merged.plot(kind='scatter', x='production_budget_mojo_2019', y='production_budget_numbers_2019')\n",
    "\n",
    "# Set the x scale because otherwise it goes into weird negative numbers\n",
    "# ax.set_xlim(outer_merged.index)\n",
    "\n",
    "# Set the x-axis label\n",
    "ax.set_xlabel(\"production_budget_mojo_2019\")\n",
    "\n",
    "# Set the y-axis label\n",
    "ax.set_ylabel(\"production_budget_numbers_2019\")"
   ]
  },
  {
   "cell_type": "code",
   "execution_count": null,
   "metadata": {
    "hidden": true
   },
   "outputs": [],
   "source": [
    "# Draw a graph with pandas and keep what's returned\n",
    "ax = outer_merged.plot(kind='scatter', x='domestic_gross_mojo_2019', y='domestic_gross_numbers_2019')\n",
    "\n",
    "# Set the x scale because otherwise it goes into weird negative numbers\n",
    "# ax.set_xlim(outer_merged.index)\n",
    "\n",
    "# Set the x-axis label\n",
    "ax.set_xlabel(\"domestic_gross_mojo_2019\")\n",
    "\n",
    "# Set the y-axis label\n",
    "ax.set_ylabel(\"domestic_gross_numbers_2019\")"
   ]
  },
  {
   "cell_type": "code",
   "execution_count": null,
   "metadata": {
    "hidden": true
   },
   "outputs": [],
   "source": [
    "outer_merged.columns"
   ]
  },
  {
   "cell_type": "code",
   "execution_count": null,
   "metadata": {
    "hidden": true
   },
   "outputs": [],
   "source": [
    "fig = plt.figure()\n",
    "\n",
    "ax1 = fig.add_subplot(1, 3, 1)\n",
    "ax1 = outer_merged.plot(kind='scatter', x='production_budget_mojo_2019', y='production_budget_numbers_2019')\n",
    "ax1.set_xlabel(\"production_budget_mojo_2019\")\n",
    "ax1.set_ylabel(\"production_budget_numbers_2019\")\n",
    "\n",
    "#ax2 = fig.add_subplot(1, 3, 2)\n",
    "#ax2.plot(kind='scatter', x='domestic_gross_mojo_2019', y='domestic_gross_numbers_2019')\n",
    "#ax2.set_xlabel(\"domestic_gross_mojo_2019\")\n",
    "#ax2.set_ylabel(\"domestic_gross_numbers_2019\")\n",
    "\n",
    "#ax3 = fig.add_subplot(1, 3, 3)\n",
    "#ax3.plot(kind='scatter', x='worldwide_gross_mojo_2019', y='worldwide_gross_numbers_2019')\n",
    "#ax3.set_xlabel(\"worldwide_gross_mojo_2019\")\n",
    "#ax3.set_ylabel(\"worldwide_gross_numbers_2019\")\n",
    "\n",
    "#ax2 = fig.add_subplot(4, 4, 2)\n",
    "#ax2 = outer_merged.plot(kind='scatter', x='domestic_gross_mojo_2019', y='domestic_gross_numbers_2019')\n",
    "#ax2.set_xlabel(\"domestic_gross_mojo_2019\")\n",
    "#ax2.set_ylabel(\"domestic_gross_numbers_2019\")\n",
    "\n"
   ]
  },
  {
   "cell_type": "code",
   "execution_count": null,
   "metadata": {
    "hidden": true
   },
   "outputs": [],
   "source": [
    "figure, (ax1, ax2, ax3) = plt.subplots(1, 3, sharex=True, sharey=True)\n",
    "ax1.plot(kind='scatter', x=outer_merged['production_budget_mojo_2019'], y=outer_merged['production_budget_numbers_2019'])\n",
    "ax1.set_xlabel(\"production_budget_mojo_2019\")\n",
    "ax1.set_ylabel(\"production_budget_numbers_2019\")\n",
    "\n",
    "ax2.plot(kind='scatter', x=outer_merged['domestic_gross_mojo_2019'], y=outer_merged['domestic_gross_numbers_2019'])\n",
    "ax2.set_xlabel(\"domestic_gross_mojo_2019\")\n",
    "ax2.set_ylabel(\"domestic_gross_numbers_2019\")\n",
    "\n",
    "ax3.plot(kind='scatter', x=outer_merged['worldwide_gross_mojo_2019'], y=outer_merged['worldwide_gross_numbers_2019'])\n",
    "ax3.set_xlabel(\"worldwide_gross_mojo_2019\")\n",
    "ax3.set_ylabel(\"worldwide_gross_numbers_2019\")"
   ]
  },
  {
   "cell_type": "code",
   "execution_count": null,
   "metadata": {
    "hidden": true
   },
   "outputs": [],
   "source": [
    "DataFrame.plot(x=None, y=None, kind='line', ax=None, subplots=False, sharex=None, sharey=False, layout=None, figsize=None, use_index=True, title=None, grid=None, legend=True, style=None, logx=False, logy=False, loglog=False, xticks=None, yticks=None, xlim=None, ylim=None, rot=None, fontsize=None, colormap=None, table=False, yerr=None, xerr=None, secondary_y=False, sort_columns=False, **kwds)"
   ]
  },
  {
   "cell_type": "code",
   "execution_count": null,
   "metadata": {
    "hidden": true
   },
   "outputs": [],
   "source": [
    "figure, (ax1, ax2, ax3) = plt.subplots(1, 3, sharex=True, sharey=True, figsize=(10,10))\n",
    "\n",
    "outer_merged.plot(x='production_budget_mojo_2019', y='production_budget_numbers_2019', kind='scatter', ax=ax1)\n",
    "outer_merged.plot(x='domestic_gross_mojo_2019', y='domestic_gross_numbers_2019', kind='scatter', ax=ax2)\n",
    "outer_merged.plot(x='worldwide_gross_mojo_2019', y='worldwide_gross_numbers_2019', kind='scatter', ax=ax3)"
   ]
  },
  {
   "cell_type": "markdown",
   "metadata": {
    "heading_collapsed": true
   },
   "source": [
    "# Genres"
   ]
  },
  {
   "cell_type": "code",
   "execution_count": null,
   "metadata": {
    "hidden": true
   },
   "outputs": [],
   "source": []
  },
  {
   "cell_type": "code",
   "execution_count": null,
   "metadata": {
    "hidden": true
   },
   "outputs": [],
   "source": [
    "# outer_merged['Comedy'] = outer_merged['genres_mojo'].str.contains('Comedy', na=False)\n",
    "# outer_merged['Romance'] = outer_merged['genres_mojo'].str.contains('Roman', na=False)\n",
    "# outer_merged['Drama'] = outer_merged['genres_mojo'].str.contains('Drama', na=False)\n",
    "# outer_merged['Thriller'] = outer_merged['genres_mojo'].str.contains('Thriller', na=False)\n",
    "# outer_merged['Sci-Fi'] = outer_merged['genres_mojo'].str.contains('Sci-Fi', na=False)\n",
    "# outer_merged['Action'] = outer_merged['genres_mojo'].str.contains('Action', na=False)\n",
    "# outer_merged['Period'] = outer_merged['genres_mojo'].str.contains('Period', na=False)\n",
    "# outer_merged['Sports'] = outer_merged['genres_mojo'].str.contains('Sports', na=False)\n",
    "# outer_merged['Adventure'] = outer_merged['genres_mojo'].str.contains('Adventure', na=False)\n",
    "# outer_merged['Fantasy'] = outer_merged['genres_mojo'].str.contains('Fantasy', na=False)\n",
    "# outer_merged['Western'] = outer_merged['genres_mojo'].str.contains('Western', na=False)\n",
    "# outer_merged['Horror'] = outer_merged['genres_mojo'].str.contains('Horror', na=False)\n",
    "# outer_merged['War'] = outer_merged['genres_mojo'].str.contains('War', na=False)\n",
    "# outer_merged['Family'] = outer_merged['genres_mojo'].str.contains('Family', na=False)\n",
    "# outer_merged['Crime'] = outer_merged['genres_mojo'].str.contains('Crime', na=False)\n",
    "# outer_merged['Animation'] = outer_merged['genres_mojo'].str.contains('Animation', na=False)"
   ]
  },
  {
   "cell_type": "code",
   "execution_count": null,
   "metadata": {
    "hidden": true
   },
   "outputs": [],
   "source": [
    "comedy = outer_merged[outer_merged['genres_mojo'].str.contains('Comedy', na=False)]\n",
    "romance = outer_merged[outer_merged['genres_mojo'].str.contains('Roman', na=False)]\n",
    "action = outer_merged[outer_merged['genres_mojo'].str.contains('Action', na=False)]\n",
    "sci_fi = outer_merged[outer_merged['genres_mojo'].str.contains('Sci-Fi', na=False)]\n",
    "fantasy = outer_merged[outer_merged['genres_mojo'].str.contains('Fantasy', na=False)]\n",
    "horror = outer_merged[outer_merged['genres_mojo'].str.contains('Horror', na=False)]\n",
    "animation = outer_merged[outer_merged['genres_mojo'].str.contains('Animat', na=False)]"
   ]
  },
  {
   "cell_type": "code",
   "execution_count": null,
   "metadata": {
    "hidden": true
   },
   "outputs": [],
   "source": [
    "comedy.plot(x='release_week', y='production_budget_mojo_2019', kind='line')\n",
    "comedy.plot(x='release_week', y='domestic_gross_mojo_2019', kind='line')"
   ]
  },
  {
   "cell_type": "code",
   "execution_count": null,
   "metadata": {
    "hidden": true
   },
   "outputs": [],
   "source": [
    "outer_merged.groupby(\"genres_mojo\").plot(x=\"release_week\", y=\"domestic_gross_mojo_2019\")"
   ]
  }
 ],
 "metadata": {
  "kernelspec": {
   "display_name": "Python 3",
   "language": "python",
   "name": "python3"
  },
  "language_info": {
   "codemirror_mode": {
    "name": "ipython",
    "version": 3
   },
   "file_extension": ".py",
   "mimetype": "text/x-python",
   "name": "python",
   "nbconvert_exporter": "python",
   "pygments_lexer": "ipython3",
   "version": "3.6.8"
  },
  "toc": {
   "base_numbering": 1,
   "nav_menu": {},
   "number_sections": true,
   "sideBar": true,
   "skip_h1_title": false,
   "title_cell": "Table of Contents",
   "title_sidebar": "Contents",
   "toc_cell": false,
   "toc_position": {
    "height": "113.542px",
    "left": "1727.89px",
    "top": "109.721px",
    "width": "363px"
   },
   "toc_section_display": true,
   "toc_window_display": true
  }
 },
 "nbformat": 4,
 "nbformat_minor": 2
}
