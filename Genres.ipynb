{
 "cells": [
  {
   "cell_type": "markdown",
   "metadata": {
    "heading_collapsed": true
   },
   "source": [
    "# Analyzing Domestic Box Office"
   ]
  },
  {
   "cell_type": "markdown",
   "metadata": {
    "hidden": true
   },
   "source": [
    "## Import needed libraries"
   ]
  },
  {
   "cell_type": "code",
   "execution_count": null,
   "metadata": {
    "hidden": true
   },
   "outputs": [],
   "source": [
    "import pandas as pd\n",
    "import numpy as np\n",
    "import matplotlib.pyplot as plt\n",
    "%matplotlib inline\n",
    "import pprint"
   ]
  },
  {
   "cell_type": "code",
   "execution_count": null,
   "metadata": {
    "hidden": true
   },
   "outputs": [],
   "source": [
    "from IPython.core.display import display, HTML\n",
    "display(HTML(\"<style>.container { width:80% !important; }</style>\"))\n",
    "\n",
    "pd.options.display.max_rows = 400\n",
    "pd.options.display.max_columns = 50"
   ]
  },
  {
   "cell_type": "markdown",
   "metadata": {
    "hidden": true
   },
   "source": [
    "## Import dataset"
   ]
  },
  {
   "cell_type": "code",
   "execution_count": null,
   "metadata": {
    "hidden": true
   },
   "outputs": [],
   "source": [
    "data = pd.read_csv('cleaned_movie_data.csv', parse_dates=['release_date'])\n",
    "\n",
    "# Only look at movies that made money domestically\n",
    "data = data[data['domestic_adj'].notna() & data['domestic_adj'] > 0]"
   ]
  },
  {
   "cell_type": "code",
   "execution_count": null,
   "metadata": {
    "hidden": true,
    "scrolled": true
   },
   "outputs": [],
   "source": [
    "data.info()"
   ]
  },
  {
   "cell_type": "markdown",
   "metadata": {
    "hidden": true
   },
   "source": [
    "## Analyze By Release Week"
   ]
  },
  {
   "cell_type": "code",
   "execution_count": null,
   "metadata": {
    "hidden": true,
    "scrolled": false
   },
   "outputs": [],
   "source": [
    "figure, (ax1, ax2) = plt.subplots(2, 1)\n",
    "\n",
    "# Mean groupby\n",
    "week_mean = data.groupby('release_week').mean() / 1000000\n",
    "\n",
    "week_mean['difference'] = week_mean['domestic_adj'] - week_mean['budget_adj']\n",
    "\n",
    "# Median groupby\n",
    "# domestic_median = data.groupby('release_week').median() / 1000000\n",
    "\n",
    "week_mean.plot(y=['domestic_adj', 'budget_adj'], xticks=range(1,54), figsize=(12,6), ax=ax1, title='Domestic Gross and Budget versus Release Week')\n",
    "#domestic_median.plot(y='domestic_adj', xticks=range(1,54), figsize=(12,6), ax=ax1)\n",
    "ax1.set_ylabel('Dollars In Millions')\n",
    "ax1.legend(['Mean Domestic Gross', 'Mean Production Budget'])\n",
    "\n",
    "week_mean.plot(y='difference', xticks=range(1,54), figsize=(12,6), title='Domestic Gross Minus Budget versus Release Week', ax=ax2)\n",
    "ax2.set_ylabel('Dollars In Millions')\n",
    "ax2.legend(['Domestic Gross Minus Budget'])\n",
    "ax2.axhline(0, color='k', linestyle='--')\n",
    "\n",
    "plt.tight_layout()"
   ]
  },
  {
   "cell_type": "code",
   "execution_count": null,
   "metadata": {
    "hidden": true,
    "scrolled": true
   },
   "outputs": [],
   "source": [
    "print('Mean box office gross is', '{0:.1f}'.format(data['domestic_adj'].mean() / 1000000), \"million dollars\")\n",
    "print('Mean box office budget is', '{0:.1f}'.format(data['budget_adj'].mean() / 1000000), \"million dollars\")\n",
    "print('The difference is a mean gain/loss of', '{0:.1f}'.format(data['domestic_adj'].mean() / 1000000 - data['budget_adj'].mean() / 1000000), 'million dollars')"
   ]
  },
  {
   "cell_type": "code",
   "execution_count": null,
   "metadata": {
    "hidden": true
   },
   "outputs": [],
   "source": [
    "print(\"Median box office gross is\", '{0:.1f}'.format(data['domestic_adj'].median() / 1000000), \"million dollars\")\n",
    "print(\"Median box office budget is\", '{0:.1f}'.format(data['budget_adj'].median() / 1000000), \"million dollars\")\n",
    "print('The difference is a median gain/loss of', '{0:.1f}'.format(data['domestic_adj'].median() / 1000000 - data['budget_adj'].median() / 1000000), 'million dollars')"
   ]
  },
  {
   "cell_type": "markdown",
   "metadata": {
    "hidden": true
   },
   "source": [
    "Key Takeaways:\n",
    "- Memorial Day, Summer, and Holiday release weeks are the best\n",
    "- Most movies are not profitable when analyzed domestically\n",
    "- Movies are a risky venture\n",
    "- This doesn't cover the entire picture. Studios only keep a fraction of domestic box office. They also spend a lot on marketing. And this doesn't account for worldwide box office yet."
   ]
  },
  {
   "cell_type": "markdown",
   "metadata": {
    "hidden": true
   },
   "source": [
    "###  Breakeven Percentage By Release Week\n",
    "\n",
    "It is difficult to determine exactly how much studios spend on marketing their movies. An article at [How Stuff Works](https://entertainment.howstuffworks.com/movie-cost1.htm) cites that marketing spend is typically around 50% of the production budget of a movie.\n",
    "\n",
    "According to this article on [The Week](https://theweek.com/articles/647394/when-buy-movie-ticket-where-does-that-money), movie studios keep about 60% of theatrical money (while movie theaters get the other 40%). Once you account for 10% of that money going to pay distributors, movie studios keep about 50% of total theatrical money.\n",
    "\n",
    "To come up with a profitability equation, we will use these numbers. We will say a movie broke even if it grossed three times its production budget domestically. \n",
    "\n",
    "Total spend = 150% production budget (adding 50% of production budget on top for marketing)\n",
    "\n",
    "Total earnings = 0.5 * domestic box office\n",
    "\n",
    "We want to analyze where Total spend = Total earnings, as this is the breakeven point.\n",
    "\n",
    "1.5 * production budget = 0.5 * domestic box office -- is the breakeven point\n",
    "\n",
    "So domestic box office = 3 * production budget"
   ]
  },
  {
   "cell_type": "code",
   "execution_count": null,
   "metadata": {
    "hidden": true
   },
   "outputs": [],
   "source": [
    "figure, ax1 = plt.subplots(1, 1)\n",
    "\n",
    "data['domestic_breakeven'] = data['domestic_adj'] >= 3 * data['budget_adj']\n",
    "\n",
    "week = data.groupby('release_week')\n",
    "\n",
    "(week['domestic_breakeven'].sum() / week['domestic_breakeven'].count() * 100).plot(xticks=range(1,54), figsize=(18,9), ax=ax1, title='Breakeven By Release Week')\n",
    "ax1.set_ylabel('Percentage of Movies That Breakeven')\n",
    "ax1.axhline((data['domestic_breakeven'].sum() / data['domestic_breakeven'].count() * 100).mean(), color='k', linestyle='--')"
   ]
  },
  {
   "cell_type": "code",
   "execution_count": null,
   "metadata": {
    "hidden": true
   },
   "outputs": [],
   "source": [
    "print('Breakeven average percentage for all movies is ', '{0:.1f}'.format((data['domestic_breakeven'].sum() / data['domestic_breakeven'].count() * 100).mean()), '%')"
   ]
  },
  {
   "cell_type": "markdown",
   "metadata": {
    "hidden": true
   },
   "source": [
    "Key Takeaways:\n",
    "- Valentine's Day, Memorial Day, Summer, and Holiday release weeks have the best chance of breaking even.\n",
    "- In aggregate, only a little over 6% of movies breakeven."
   ]
  },
  {
   "cell_type": "markdown",
   "metadata": {
    "hidden": true
   },
   "source": [
    "## Analyze By Decade"
   ]
  },
  {
   "cell_type": "code",
   "execution_count": null,
   "metadata": {
    "hidden": true
   },
   "outputs": [],
   "source": [
    "data['release_decade'] = data['release_year'].apply(lambda x: x // 10 * 10)\n",
    "\n",
    "figure, (ax1, ax2) = plt.subplots(2, 1)\n",
    "\n",
    "# Mean groupby\n",
    "decade_mean = data.groupby('release_decade').mean() / 1000000\n",
    "\n",
    "decade_mean['difference'] = decade_mean['domestic_adj'] - decade_mean['budget_adj']\n",
    "\n",
    "# Median groupby\n",
    "# domestic_median = data.groupby('release_week').median() / 1000000\n",
    "\n",
    "decade_mean.plot(y=['domestic_adj', 'budget_adj'], xticks=range(1910, 2020, 10), figsize=(12,6), ax=ax1, title='Domestic Gross and Budget versus Decade')\n",
    "#domestic_median.plot(y='domestic_adj', xticks=range(1,54), figsize=(12,6), ax=ax1)\n",
    "ax1.set_ylabel('Dollars In Millions')\n",
    "ax1.legend(['Mean Domestic Gross', 'Mean Production Budget'])\n",
    "\n",
    "decade_mean.plot(y='difference', xticks=range(1910, 2020, 10), figsize=(12,6), title='Domestic Gross Minus Budget versus Decade', ax=ax2)\n",
    "ax2.set_ylabel('Dollars In Millions')\n",
    "ax2.legend(['Domestic Gross Minus Budget'])\n",
    "ax2.axhline(0, color='k', linestyle='--')\n",
    "\n",
    "plt.tight_layout()"
   ]
  },
  {
   "cell_type": "code",
   "execution_count": null,
   "metadata": {
    "hidden": true,
    "scrolled": true
   },
   "outputs": [],
   "source": [
    "print(decade_mean[['domestic_adj', 'budget_adj', 'difference']])"
   ]
  },
  {
   "cell_type": "markdown",
   "metadata": {
    "hidden": true
   },
   "source": [
    "Key Takeaways:\n",
    "- Movies seem like a surer bet before the 1980s\n",
    "- Production budgets have increased over time"
   ]
  },
  {
   "cell_type": "markdown",
   "metadata": {
    "hidden": true
   },
   "source": [
    "### Breakeven Percentage By Decade"
   ]
  },
  {
   "cell_type": "code",
   "execution_count": null,
   "metadata": {
    "hidden": true
   },
   "outputs": [],
   "source": [
    "figure, ax1 = plt.subplots(1, 1)\n",
    "\n",
    "decade = data.groupby('release_decade')\n",
    "\n",
    "(decade['domestic_breakeven'].sum() / decade['domestic_breakeven'].count() * 100).plot(xticks=range(1910, 2020, 10), figsize=(18,9), ax=ax1, title='Breakeven By Decade')\n",
    "ax1.set_ylabel('Percentage of Movies That Breakeven')\n",
    "ax1.axhline((data['domestic_breakeven'].sum() / data['domestic_breakeven'].count() * 100).mean(), color='k', linestyle='--')"
   ]
  },
  {
   "cell_type": "code",
   "execution_count": null,
   "metadata": {
    "hidden": true
   },
   "outputs": [],
   "source": [
    "print('Breakeven average percentage for all movies is ', '{0:.1f}'.format((data['domestic_breakeven'].sum() / data['domestic_breakeven'].count() * 100).mean()), '%')"
   ]
  },
  {
   "cell_type": "markdown",
   "metadata": {
    "hidden": true
   },
   "source": [
    "Key Takeaways:\n",
    "- A movie's profitablity based on domestic box office has declined over time\n",
    "- When separating movies by decade, it seems movies made before 1980 were more successful domestically when comparing box office to budget\n",
    "- Something is amiss because these high levels of \"profitability\" don't mesh with our per movie average breakeven of 6.1%. Perhaps the sheer amount of movies released more recently is plunging this percentage. For example, more failures released nowadays than ever before? Something to investigate."
   ]
  },
  {
   "cell_type": "markdown",
   "metadata": {
    "hidden": true
   },
   "source": [
    "## Analyze By Number of Movies Released"
   ]
  },
  {
   "cell_type": "code",
   "execution_count": null,
   "metadata": {
    "hidden": true
   },
   "outputs": [],
   "source": [
    "figure, ax1 = plt.subplots(1,1)\n",
    "\n",
    "decade['release_decade'].count().plot(xticks=range(1910, 2020, 10), figsize=(18,9), ax=ax1, title='Number of Movies By Decade')\n",
    "ax1.set_ylabel('Number of Movies')\n",
    "ax1.axhline(decade['release_decade'].count().mean(), color='k', linestyle='--', label='Mean Number Released By Decade')"
   ]
  },
  {
   "cell_type": "code",
   "execution_count": null,
   "metadata": {
    "hidden": true
   },
   "outputs": [],
   "source": [
    "print('Mean number of movies released by decade is', '{0:.1f}'.format(decade['release_decade'].count().mean()))\n",
    "print('\\n')\n",
    "print(decade['release_decade'].count())"
   ]
  },
  {
   "cell_type": "markdown",
   "metadata": {
    "hidden": true
   },
   "source": [
    "Key Takeaways:\n",
    "- Our dataset is skewed towards having more information for more recent movies.\n",
    "- It seems like we are missing helpful information about movies from the early to mid 1900s. Let's doublecheck those figures.\n",
    "\n",
    "[The Numbers](https://www.the-numbers.com/movies/#tab=year) actually has a page of information with the total number of movies released domestically by year. It also includes movies that were only released on video, so we will just see if our numbers are similar."
   ]
  },
  {
   "cell_type": "code",
   "execution_count": null,
   "metadata": {
    "hidden": true
   },
   "outputs": [],
   "source": [
    "import requests\n",
    "\n",
    "url = 'https://www.the-numbers.com/movies/#tab=year'\n",
    "\n",
    "header = {\n",
    "  \"User-Agent\": \"Mozilla/5.0 (X11; Linux x86_64) AppleWebKit/537.36 (KHTML, like Gecko) Chrome/50.0.2661.75 Safari/537.36\",\n",
    "  \"X-Requested-With\": \"XMLHttpRequest\"\n",
    "}\n",
    "\n",
    "response = requests.get(url, headers=header)\n",
    "\n",
    "dfs = pd.read_html(response.text)"
   ]
  },
  {
   "cell_type": "code",
   "execution_count": null,
   "metadata": {
    "hidden": true
   },
   "outputs": [],
   "source": [
    "for df in dfs:\n",
    "    print(df.head())\n",
    "    print('\\n\\n')"
   ]
  },
  {
   "cell_type": "code",
   "execution_count": null,
   "metadata": {
    "hidden": true,
    "scrolled": true
   },
   "outputs": [],
   "source": [
    "dfs[0].info()"
   ]
  },
  {
   "cell_type": "code",
   "execution_count": null,
   "metadata": {
    "hidden": true
   },
   "outputs": [],
   "source": [
    "dfs[0].head()"
   ]
  },
  {
   "cell_type": "code",
   "execution_count": null,
   "metadata": {
    "hidden": true
   },
   "outputs": [],
   "source": [
    "movies_per_year = dfs[0][['Year', 'TotalMovies']].copy()\n",
    "\n",
    "# We don't want the TBD year\n",
    "movies_per_year.drop(0, axis=0, inplace=True)\n",
    "movies_per_year['Year'] = movies_per_year['Year'].astype(int)\n",
    "\n",
    "# We are only looking at movies up until 2018\n",
    "movies_per_year = movies_per_year[movies_per_year['Year'] < 2019]\n",
    "\n",
    "# Create a decade column\n",
    "movies_per_year['release_decade'] = movies_per_year['Year'].apply(lambda x: x // 10 * 10)\n",
    "\n",
    "movies_per_year.head()"
   ]
  },
  {
   "cell_type": "code",
   "execution_count": null,
   "metadata": {
    "hidden": true
   },
   "outputs": [],
   "source": [
    "movies_per_year_grp = movies_per_year.groupby('release_decade').sum()\n",
    "\n",
    "movies_per_year_grp.head(20)"
   ]
  },
  {
   "cell_type": "code",
   "execution_count": null,
   "metadata": {
    "hidden": true
   },
   "outputs": [],
   "source": [
    "figure, ax1 = plt.subplots(1,1)\n",
    "\n",
    "decade['release_decade'].count().plot(xticks=range(1910, 2020, 10), figsize=(18,9), ax=ax1, title='Number of Movies By Decade')\n",
    "movies_per_year_grp.plot(y='TotalMovies', xticks=range(1910, 2020, 10), ax=ax1)\n",
    "ax1.set_ylabel('Number of Movies')\n",
    "ax1.legend(['Scraped Data', 'The Numbers Aggregate Data'])\n",
    "# ax1.axhline(decade['release_decade'].count().mean(), color='k', linestyle='--', label='Mean Number Released By Decade')"
   ]
  },
  {
   "cell_type": "markdown",
   "metadata": {
    "hidden": true
   },
   "source": [
    "Our dataset is clearly missing many movies, most notably from 1990 onwards. \n",
    "\n",
    "However, many entries on The Numbers are direct to video, so our numbers might not be too far off.\n",
    "\n",
    "A potential future investgiation could be to further research movies releases in the 1990s and beyond to verify the data from The Numbers.\n",
    "\n",
    "For now, we will continue with the data we have collected."
   ]
  },
  {
   "cell_type": "markdown",
   "metadata": {
    "hidden": true
   },
   "source": [
    "## Preliminary Thoughts\n",
    "\n",
    "We have more data on recent movies, so directly comparing with past movies is more difficult.\n",
    "\n",
    "It does appear that movies in aggregate have become less profitable when we only look at domestic box office.\n",
    "\n",
    "Perhaps one of the reasons this is possible is the growth of worldwide distribution. If studios are banking on foreign box office, then they can afford to spend more on movies.\n",
    "\n",
    "We will know incorporate worldwide box office into our analysis."
   ]
  },
  {
   "cell_type": "markdown",
   "metadata": {
    "heading_collapsed": true
   },
   "source": [
    "# Analyze By Worldwide Box Office"
   ]
  },
  {
   "cell_type": "markdown",
   "metadata": {
    "hidden": true
   },
   "source": [
    "## Import needed libraries"
   ]
  },
  {
   "cell_type": "code",
   "execution_count": null,
   "metadata": {
    "hidden": true
   },
   "outputs": [],
   "source": [
    "import pandas as pd\n",
    "import numpy as np\n",
    "import matplotlib.pyplot as plt\n",
    "%matplotlib inline\n",
    "import pprint"
   ]
  },
  {
   "cell_type": "code",
   "execution_count": null,
   "metadata": {
    "hidden": true
   },
   "outputs": [],
   "source": [
    "from IPython.core.display import display, HTML\n",
    "display(HTML(\"<style>.container { width:80% !important; }</style>\"))\n",
    "\n",
    "pd.options.display.max_rows = 400\n",
    "pd.options.display.max_columns = 50"
   ]
  },
  {
   "cell_type": "markdown",
   "metadata": {
    "hidden": true
   },
   "source": [
    "## Import dataset"
   ]
  },
  {
   "cell_type": "code",
   "execution_count": null,
   "metadata": {
    "hidden": true
   },
   "outputs": [],
   "source": [
    "data = pd.read_csv('cleaned_movie_data.csv', parse_dates=['release_date'])\n",
    "\n",
    "# Only look at movies that made money worldwide\n",
    "data = data[data['worldwide_adj'].notna() & data['worldwide_adj'] > 0]"
   ]
  },
  {
   "cell_type": "code",
   "execution_count": null,
   "metadata": {
    "hidden": true,
    "scrolled": true
   },
   "outputs": [],
   "source": [
    "data.info()"
   ]
  },
  {
   "cell_type": "markdown",
   "metadata": {
    "hidden": true
   },
   "source": [
    "We have 9,915 movies with worldwide box office figures."
   ]
  },
  {
   "cell_type": "markdown",
   "metadata": {
    "hidden": true
   },
   "source": [
    "## Analyze By Release Week"
   ]
  },
  {
   "cell_type": "code",
   "execution_count": null,
   "metadata": {
    "hidden": true,
    "scrolled": false
   },
   "outputs": [],
   "source": [
    "figure, (ax1, ax2) = plt.subplots(2, 1)\n",
    "\n",
    "# Mean groupby\n",
    "week_mean = data.groupby('release_week').mean() / 1000000\n",
    "\n",
    "week_mean['difference'] = week_mean['worldwide_adj'] - week_mean['budget_adj']\n",
    "\n",
    "# Median groupby\n",
    "# domestic_median = data.groupby('release_week').median() / 1000000\n",
    "\n",
    "week_mean.plot(y=['worldwide_adj', 'budget_adj'], xticks=range(1,54), figsize=(12,6), ax=ax1, title='Worldwide Gross and Budget versus Release Week')\n",
    "#domestic_median.plot(y='domestic_adj', xticks=range(1,54), figsize=(12,6), ax=ax1)\n",
    "ax1.set_ylabel('Dollars In Millions')\n",
    "ax1.legend(['Mean Worldwide Gross', 'Mean Production Budget'])\n",
    "\n",
    "week_mean.plot(y='difference', xticks=range(1,54), figsize=(12,6), title='Worldwide Gross Minus Budget versus Release Week', ax=ax2)\n",
    "ax2.set_ylabel('Dollars In Millions')\n",
    "ax2.legend(['Worldwide Gross Minus Budget'])\n",
    "ax2.axhline(0, color='k', linestyle='--')\n",
    "\n",
    "plt.tight_layout()"
   ]
  },
  {
   "cell_type": "code",
   "execution_count": null,
   "metadata": {
    "hidden": true,
    "scrolled": true
   },
   "outputs": [],
   "source": [
    "print('Mean worldwide gross is', '{0:.1f}'.format(data['worldwide_adj'].mean() / 1000000), \"million dollars\")\n",
    "print('Mean worldwide budget is', '{0:.1f}'.format(data['budget_adj'].mean() / 1000000), \"million dollars\")\n",
    "print('The difference is a mean gain/loss of', '{0:.1f}'.format(data['worldwide_adj'].mean() / 1000000 - data['budget_adj'].mean() / 1000000), 'million dollars')"
   ]
  },
  {
   "cell_type": "code",
   "execution_count": null,
   "metadata": {
    "hidden": true
   },
   "outputs": [],
   "source": [
    "print(\"Median worldwide gross is\", '{0:.1f}'.format(data['worldwide_adj'].median() / 1000000), \"million dollars\")\n",
    "print(\"Median worldwide budget is\", '{0:.1f}'.format(data['budget_adj'].median() / 1000000), \"million dollars\")\n",
    "print('The difference is a median gain/loss of', '{0:.1f}'.format(data['worldwide_adj'].median() / 1000000 - data['budget_adj'].median() / 1000000), 'million dollars')"
   ]
  },
  {
   "cell_type": "markdown",
   "metadata": {
    "hidden": true
   },
   "source": [
    "Key Takeaways:\n",
    "- When averaging by release week, no groups earn less in worldwide receipts than spent on production\n",
    "- The state of movies looks far more promising when factoring in worldwide box office"
   ]
  },
  {
   "cell_type": "code",
   "execution_count": null,
   "metadata": {
    "hidden": true
   },
   "outputs": [],
   "source": [
    "figure, ax1 = plt.subplots(1,1)\n",
    "\n",
    "data[(data['worldwide_adj'] - data['budget_adj']) <= 0].groupby('release_year').count().plot(y='title', figsize=(12,9), ax=ax1, title='Number Of Movies With Worldwide Box Office Less Than Or Equal To Production Budget')\n",
    "data.groupby('release_year').count().plot(y='title', ax=ax1)\n",
    "ax1.set_ylabel('Number Of Movies')\n",
    "ax1.legend(['Worldwide <= Budget', 'All Movies'])"
   ]
  },
  {
   "cell_type": "markdown",
   "metadata": {
    "hidden": true
   },
   "source": [
    "Key Takeaways:\n",
    "- Starting in the 1990s, there was a dramatic increase in the number of movies released worldwide\n",
    "- This also meant a dramatic increase in the number of movies that didn't cover their budget\n",
    "- There's a recent decrease in these failures"
   ]
  },
  {
   "cell_type": "markdown",
   "metadata": {
    "hidden": true
   },
   "source": [
    "###  Breakeven Percentage By Release Week\n",
    "\n",
    "Calculating the breakeven point for worldwide movies is different than for domestic ones.\n",
    "\n",
    "An estimate from [Gizmodo](https://io9.gizmodo.com/how-much-money-does-a-movie-need-to-make-to-be-profitab-5747305) is that a movie breaks even when it earns twice its production budget worldwide. We will go with that formula for worldwide comparisons."
   ]
  },
  {
   "cell_type": "code",
   "execution_count": null,
   "metadata": {
    "hidden": true
   },
   "outputs": [],
   "source": [
    "figure, ax1 = plt.subplots(1, 1)\n",
    "\n",
    "data['worldwide_breakeven'] = data['worldwide_adj'] >= 2 * data['budget_adj']\n",
    "\n",
    "week = data.groupby('release_week')\n",
    "\n",
    "(week['worldwide_breakeven'].sum() / week['worldwide_breakeven'].count() * 100).plot(xticks=range(1,54), figsize=(18,9), ax=ax1, title='Worldwide Breakeven By Release Week')\n",
    "ax1.set_ylabel('Percentage of Movies That Breakeven')\n",
    "ax1.axhline((data['worldwide_breakeven'].sum() / data['worldwide_breakeven'].count() * 100).mean(), color='k', linestyle='--')"
   ]
  },
  {
   "cell_type": "code",
   "execution_count": null,
   "metadata": {
    "hidden": true
   },
   "outputs": [],
   "source": [
    "print('Breakeven average percentage for all movies is ', '{0:.1f}'.format((data['worldwide_breakeven'].sum() / data['worldwide_breakeven'].count() * 100).mean()), '%')"
   ]
  },
  {
   "cell_type": "markdown",
   "metadata": {
    "hidden": true
   },
   "source": [
    "Key Takeaways:\n",
    "- Movies are far more profitable when accounting for worldwide box office\n",
    "- In aggregate, only a little over 30% of worldwide movies breakeven."
   ]
  },
  {
   "cell_type": "markdown",
   "metadata": {
    "hidden": true
   },
   "source": [
    "## Analyze By Decade"
   ]
  },
  {
   "cell_type": "code",
   "execution_count": null,
   "metadata": {
    "hidden": true
   },
   "outputs": [],
   "source": [
    "data['release_decade'] = data['release_year'].apply(lambda x: x // 10 * 10)\n",
    "\n",
    "figure, (ax1, ax2) = plt.subplots(2, 1)\n",
    "\n",
    "# Mean groupby\n",
    "decade_mean = data.groupby('release_decade').mean() / 1000000\n",
    "\n",
    "decade_mean['difference'] = decade_mean['worldwide_adj'] - decade_mean['budget_adj']\n",
    "\n",
    "# Median groupby\n",
    "# domestic_median = data.groupby('release_week').median() / 1000000\n",
    "\n",
    "decade_mean.plot(y=['worldwide_adj', 'budget_adj'], xticks=range(1910, 2020, 10), figsize=(12,6), ax=ax1, title='Worldwide Gross and Budget versus Decade')\n",
    "#domestic_median.plot(y='domestic_adj', xticks=range(1,54), figsize=(12,6), ax=ax1)\n",
    "ax1.set_ylabel('Dollars In Millions')\n",
    "ax1.legend(['Mean Worldwide Gross', 'Mean Production Budget'])\n",
    "\n",
    "decade_mean.plot(y='difference', xticks=range(1910, 2020, 10), figsize=(12,6), title='Worldwide Gross Minus Budget versus Decade', ax=ax2)\n",
    "ax2.set_ylabel('Dollars In Millions')\n",
    "ax2.legend(['Worldwide Gross Minus Budget'])\n",
    "ax2.axhline(0, color='k', linestyle='--')\n",
    "\n",
    "plt.tight_layout()"
   ]
  },
  {
   "cell_type": "code",
   "execution_count": null,
   "metadata": {
    "hidden": true,
    "scrolled": true
   },
   "outputs": [],
   "source": [
    "print(decade_mean[['worldwide_adj', 'budget_adj', 'difference']])"
   ]
  },
  {
   "cell_type": "markdown",
   "metadata": {
    "hidden": true
   },
   "source": [
    "Key Takeaways:\n",
    "- In aggreate, worldwide movies are surer bets than just domestic ones"
   ]
  },
  {
   "cell_type": "markdown",
   "metadata": {
    "hidden": true
   },
   "source": [
    "### Breakeven Percentage By Decade"
   ]
  },
  {
   "cell_type": "code",
   "execution_count": null,
   "metadata": {
    "hidden": true
   },
   "outputs": [],
   "source": [
    "figure, ax1 = plt.subplots(1, 1)\n",
    "\n",
    "decade = data.groupby('release_decade')\n",
    "\n",
    "(decade['worldwide_breakeven'].sum() / decade['worldwide_breakeven'].count() * 100).plot(xticks=range(1910, 2020, 10), figsize=(18,9), ax=ax1, title='Worldwide Breakeven By Decade')\n",
    "ax1.set_ylabel('Percentage of Movies That Breakeven')\n",
    "ax1.axhline((data['worldwide_breakeven'].sum() / data['worldwide_breakeven'].count() * 100).mean(), color='k', linestyle='--')"
   ]
  },
  {
   "cell_type": "code",
   "execution_count": null,
   "metadata": {
    "hidden": true
   },
   "outputs": [],
   "source": [
    "print('Breakeven average percentage for all movies is ', '{0:.1f}'.format((data['worldwide_breakeven'].sum() / data['worldwide_breakeven'].count() * 100).mean()), '%')"
   ]
  },
  {
   "cell_type": "markdown",
   "metadata": {
    "hidden": true
   },
   "source": [
    "Key Takeaways:\n",
    "- Currently, we are below the historical average for breakeven percentage\n",
    "- This probably has to do with how many more movies are made now, but we shall investigate this"
   ]
  },
  {
   "cell_type": "markdown",
   "metadata": {
    "hidden": true
   },
   "source": [
    "## Analyze By Number of Movies Released"
   ]
  },
  {
   "cell_type": "code",
   "execution_count": null,
   "metadata": {
    "hidden": true
   },
   "outputs": [],
   "source": [
    "figure, ax1 = plt.subplots(1,1)\n",
    "\n",
    "decade['release_decade'].count().plot(xticks=range(1910, 2020, 10), figsize=(18,9), ax=ax1, title='Number of Movies By Decade')\n",
    "ax1.set_ylabel('Number of Movies')\n",
    "ax1.axhline(decade['release_decade'].count().mean(), color='k', linestyle='--', label='Mean Number Released By Decade')"
   ]
  },
  {
   "cell_type": "code",
   "execution_count": null,
   "metadata": {
    "hidden": true
   },
   "outputs": [],
   "source": [
    "print('Mean number of movies released by decade is', '{0:.1f}'.format(decade['release_decade'].count().mean()))\n",
    "print('\\n')\n",
    "print(decade['release_decade'].count())"
   ]
  },
  {
   "cell_type": "markdown",
   "metadata": {
    "hidden": true
   },
   "source": [
    "Like before, we will use [The Numbers](https://www.the-numbers.com/movies/#tab=year) actually has a page of information with the total number of movies released domestically by year. It also includes movies that were only released on video, so we will just see if our numbers are similar."
   ]
  },
  {
   "cell_type": "code",
   "execution_count": null,
   "metadata": {
    "hidden": true
   },
   "outputs": [],
   "source": [
    "import requests\n",
    "\n",
    "url = 'https://www.the-numbers.com/movies/#tab=year'\n",
    "\n",
    "header = {\n",
    "  \"User-Agent\": \"Mozilla/5.0 (X11; Linux x86_64) AppleWebKit/537.36 (KHTML, like Gecko) Chrome/50.0.2661.75 Safari/537.36\",\n",
    "  \"X-Requested-With\": \"XMLHttpRequest\"\n",
    "}\n",
    "\n",
    "response = requests.get(url, headers=header)\n",
    "\n",
    "dfs = pd.read_html(response.text)"
   ]
  },
  {
   "cell_type": "code",
   "execution_count": null,
   "metadata": {
    "hidden": true
   },
   "outputs": [],
   "source": [
    "movies_per_year = dfs[0][['Year', 'TotalMovies']].copy()\n",
    "\n",
    "# We don't want the TBD year\n",
    "movies_per_year.drop(0, axis=0, inplace=True)\n",
    "movies_per_year['Year'] = movies_per_year['Year'].astype(int)\n",
    "\n",
    "# We are only looking at movies up until 2018\n",
    "movies_per_year = movies_per_year[movies_per_year['Year'] < 2019]\n",
    "\n",
    "# Create a decade column\n",
    "movies_per_year['release_decade'] = movies_per_year['Year'].apply(lambda x: x // 10 * 10)\n",
    "\n",
    "movies_per_year.head()"
   ]
  },
  {
   "cell_type": "code",
   "execution_count": null,
   "metadata": {
    "hidden": true
   },
   "outputs": [],
   "source": [
    "movies_per_year_grp = movies_per_year.groupby('release_decade').sum()\n",
    "\n",
    "movies_per_year_grp.head(20)"
   ]
  },
  {
   "cell_type": "code",
   "execution_count": null,
   "metadata": {
    "hidden": true
   },
   "outputs": [],
   "source": [
    "figure, ax1 = plt.subplots(1,1)\n",
    "\n",
    "decade['release_decade'].count().plot(xticks=range(1910, 2020, 10), figsize=(18,9), ax=ax1, title='Number of Worldwide Movies By Decade')\n",
    "movies_per_year_grp.plot(y='TotalMovies', xticks=range(1910, 2020, 10), ax=ax1)\n",
    "ax1.set_ylabel('Number of Movies')\n",
    "ax1.legend(['Scraped Data', 'The Numbers Aggregate Data'])\n",
    "# ax1.axhline(decade['release_decade'].count().mean(), color='k', linestyle='--', label='Mean Number Released By Decade')"
   ]
  },
  {
   "cell_type": "markdown",
   "metadata": {
    "hidden": true
   },
   "source": [
    "We seem to be missing data on many worldwide movies. Hopefully, the sample we have is representative enough for analysis."
   ]
  },
  {
   "cell_type": "markdown",
   "metadata": {
    "heading_collapsed": true
   },
   "source": [
    "# One Genre To Rule Them All... Domestically\n",
    "\n",
    "We work for a [\"Big Five\"](https://en.wikipedia.org/wiki/Major_film_studio#Present) Hollywood movie studio, and we're deciding which movies to make this year.\n",
    "\n",
    "But the guys upstairs don't want to go through the hassle of reading a bunch of scripts and sitting through a lot of meetings.\n",
    "\n",
    "They just want to know which genre has the best chance of succeeding.\n",
    "\n",
    "That's where we come in.\n",
    "\n",
    "Our goal, should we choose to accept it, or be forced into it by powerful people who write our checks, is to analyze domestic movies by genre and determine which ones seem the most promising.\n",
    "\n",
    "So let's get to it!"
   ]
  },
  {
   "cell_type": "markdown",
   "metadata": {
    "heading_collapsed": true
   },
   "source": [
    "# The Domestic Market\n",
    "\n",
    "We'll be using the movie data from the `Data_Cleaning` notebook. If you haven't had a chance to check it out, it's a collection of movies from [The Numbers](https://www.the-numbers.com/) and [Box Office Mojo](https://www.boxofficemojo.com/), two great sources of movie information. As a reminder, all monetary data has been converted to 2018 dollars to normalize them.\n",
    "\n",
    "**We only care about the domestic box office for this study.** Yes, increasingly movies are being released worldwide, but we want to first judge a movie's chances in the domestic market. Who knows, maybe a worldwide analysis will take place at another time (or notebook... in this repository... nudge nudge).\n",
    "\n",
    "Here are the steps we will use to accomplish our task:\n",
    "- Decide which genres to consider in our analysis.\n",
    " \n",
    "- Decide on a profitability measure.\n",
    "\n",
    "- Whittle our dataset down to movies released by the Big Five. This is to control for factors like lack of budget or marketing affecting a movie's success. Sure, independent movies can succeed, but our bosses want to see how the genres performed with all the help of a studio behind them.\n",
    "\n",
    "- Analyze the historical performance of the genres by decade. There might be some trends over time that would be useful to know.\n",
    "\n",
    "- Analyze the historical performance of the genres by release week. Maybe certain genres perform better at certain times of year.\n",
    "\n",
    "- Hopefully, give our bosses actionable insight!"
   ]
  },
  {
   "cell_type": "markdown",
   "metadata": {
    "heading_collapsed": true
   },
   "source": [
    "# Deciding on Genres\n",
    "\n",
    "According to [The Numbers](https://www.the-numbers.com/market/), the top six genres in terms of box office gross are:\n",
    "- Adventure\n",
    "- Action\n",
    "- Drama\n",
    "- Comedy\n",
    "- Thriller/Suspense\n",
    "- Horror\n",
    "\n",
    "Our bosses like making money.\n",
    "\n",
    "Sold."
   ]
  },
  {
   "cell_type": "markdown",
   "metadata": {
    "heading_collapsed": true
   },
   "source": [
    "# Is This Movie Profitable? \n",
    "\n",
    "The toughest question out there. Hollywood studios are notorious for phony accounting, cough cough [Harry Potter and the Order of the Phoenix](https://deadline.com/2010/07/studio-shame-even-harry-potter-pic-loses-money-because-of-warner-bros-phony-baloney-accounting-51886/).\n",
    "\n",
    "Not our bosses though. They're great. Real... stand up... people.\n",
    "\n",
    "Anyway, we must decide on a measure for how \"successful\" a movie is.\n",
    "\n",
    "For simplicity, we will judge a movie as a success if it breaks even. The reason is that there are additional revenue streams for movies beyond the theaters. There's TV airings, rentals, DVD sales, merchandise, theme park rides, spinoff TV shows, sequels, etc. \n",
    "\n",
    "\n",
    "## How much do studios spend on movies?\n",
    "\n",
    "Well, there's the production budget. We can either get that information or we can't.\n",
    "\n",
    "Then there's the second biggest expense: marketing. But it's difficult to know the marketing costs of movies. An article at [How Stuff Works](https://entertainment.howstuffworks.com/movie-cost1.htm) cites that marketing spend is typically around 50% of the production budget of a movie.\n",
    "\n",
    "## How much do studios make from the domestic box office?\n",
    "\n",
    "According to this article on [The Week](https://theweek.com/articles/647394/when-buy-movie-ticket-where-does-that-money), movie studios only end up with about 50% of the total domestic box office. Movie theaters keep about 40%. Distributors get about 10%. \n",
    "\n",
    "\n",
    "## Profitability equation\n",
    "\n",
    "Total spend = 150% production budget (adding 50% of production budget on top for marketing)\n",
    "\n",
    "Total earnings = 0.5 * domestic box office\n",
    "\n",
    "We want to know the point where Total spend = Total earnings, as this is the breakeven point.\n",
    "\n",
    "Total spend = Total earnings\n",
    "\n",
    "1.5 * production budget = 0.5 * domestic box office\n",
    "\n",
    "**Domestic box office = 3 * Production budget**\n",
    "\n",
    "So if a movie earns at least three times its production budget domestically, it is a winner!"
   ]
  },
  {
   "cell_type": "markdown",
   "metadata": {},
   "source": [
    "# Curate our dataset"
   ]
  },
  {
   "cell_type": "markdown",
   "metadata": {},
   "source": [
    "## Import libraries and settings"
   ]
  },
  {
   "cell_type": "code",
   "execution_count": 1,
   "metadata": {},
   "outputs": [
    {
     "data": {
      "text/html": [
       "<style>.container { width:70% !important; }</style>"
      ],
      "text/plain": [
       "<IPython.core.display.HTML object>"
      ]
     },
     "metadata": {},
     "output_type": "display_data"
    }
   ],
   "source": [
    "import pandas as pd\n",
    "import numpy as np\n",
    "\n",
    "import matplotlib.pyplot as plt\n",
    "%matplotlib inline\n",
    "\n",
    "from IPython.core.display import display, HTML\n",
    "display(HTML(\"<style>.container { width:70% !important; }</style>\"))\n",
    "\n",
    "pd.options.display.max_rows = 400\n",
    "pd.options.display.max_columns = 50"
   ]
  },
  {
   "cell_type": "markdown",
   "metadata": {},
   "source": [
    "## Import data"
   ]
  },
  {
   "cell_type": "code",
   "execution_count": 2,
   "metadata": {},
   "outputs": [],
   "source": [
    "data = pd.read_csv('cleaned_movie_data.csv', parse_dates=['release_date'], usecols=['title', 'distributor_mojo', 'domestic_adj', 'budget_adj',  'genres_mojo', 'release_year', 'release_week', 'release_date'])\n",
    "\n",
    "# Only look at movies that made money domestically\n",
    "data = data[data['domestic_adj'].notna() & data['domestic_adj'] > 0]\n",
    "\n",
    "# For decade analysis\n",
    "data['release_decade'] = data['release_year'].apply(lambda x: x // 10 * 10)\n",
    "\n",
    "# For breakeven analysis\n",
    "data['domestic_breakeven'] = data['domestic_adj'] >= 3 * data['budget_adj']\n",
    "\n",
    "# Create columns for genres\n",
    "# A movie can have multiple genres. If so, we will count them for all the genres its classified with.\n",
    "data['adventure'] = data['genres_mojo'].str.contains('Adventure', na=False) \n",
    "data['action'] = data['genres_mojo'].str.contains('Action', na=False)\n",
    "data['drama'] = data['genres_mojo'].str.contains('Drama', na=False)\n",
    "data['comedy'] = data['genres_mojo'].str.contains('Comedy', na=False)\n",
    "data['thriller_suspense'] = data['genres_mojo'].str.contains('Thriller|Suspense', na=False, regex=True)\n",
    "data['horror'] = data['genres_mojo'].str.contains('Horror', na=False)\n",
    "\n",
    "# Create dataframes for the genres\n",
    "adventure = data[data['genres_mojo'].str.contains('Adventure', na=False)] \n",
    "action = data[data['genres_mojo'].str.contains('Action', na=False)]\n",
    "drama = data[data['genres_mojo'].str.contains('Drama', na=False)]\n",
    "comedy = data[data['genres_mojo'].str.contains('Comedy', na=False)]\n",
    "thriller_suspense = data[data['genres_mojo'].str.contains('Thriller|Suspense', na=False, regex=True)]\n",
    "horror = data[data['genres_mojo'].str.contains('Horror', na=False)]"
   ]
  },
  {
   "cell_type": "code",
   "execution_count": 3,
   "metadata": {},
   "outputs": [
    {
     "name": "stdout",
     "output_type": "stream",
     "text": [
      "<class 'pandas.core.frame.DataFrame'>\n",
      "Int64Index: 17759 entries, 1 to 19777\n",
      "Data columns (total 16 columns):\n",
      "title                 17759 non-null object\n",
      "release_year          17759 non-null int64\n",
      "distributor_mojo      16535 non-null object\n",
      "genres_mojo           16535 non-null object\n",
      "release_date          17759 non-null datetime64[ns]\n",
      "domestic_adj          17759 non-null float64\n",
      "budget_adj            6196 non-null float64\n",
      "release_week          17759 non-null int64\n",
      "release_decade        17759 non-null int64\n",
      "domestic_breakeven    17759 non-null bool\n",
      "adventure             17759 non-null bool\n",
      "action                17759 non-null bool\n",
      "drama                 17759 non-null bool\n",
      "comedy                17759 non-null bool\n",
      "thriller_suspense     17759 non-null bool\n",
      "horror                17759 non-null bool\n",
      "dtypes: bool(7), datetime64[ns](1), float64(2), int64(3), object(3)\n",
      "memory usage: 1.5+ MB\n"
     ]
    }
   ],
   "source": [
    "data.info()"
   ]
  },
  {
   "cell_type": "markdown",
   "metadata": {},
   "source": [
    "## Organize By Distributors\n",
    "\n",
    "The [Big Five](https://en.wikipedia.org/wiki/Major_film_studio#Past) studios we will use in our analysis are:\n",
    "- Universal\n",
    "- Paramount\n",
    "- Warner Bros.\n",
    "- Disney\n",
    "- Sony\n",
    "\n",
    "Studios have come and gone a lot historically. They get bought out by competitors, or go out of business. A lot of messy stuff.\n",
    "\n",
    "To simplify, we will categorize a movie by its current studio owner. So for example, Disney [recently purchased](https://theweek.com/speedreads/780191/disney-buys-21st-century-fox-713-billion) 20th Century Fox. So we will categorize a 20th Century Fox movie as Disney."
   ]
  },
  {
   "cell_type": "code",
   "execution_count": 4,
   "metadata": {},
   "outputs": [
    {
     "data": {
      "text/plain": [
       "Warner Bros.                         461\n",
       "Universal                            428\n",
       "Fox                                  387\n",
       "Paramount                            340\n",
       "Buena Vista                          332\n",
       "Sony / Columbia                      307\n",
       "Miramax                              157\n",
       "New Line                             138\n",
       "MGM                                  134\n",
       "Sony Classics                        127\n",
       "Fox Searchlight                      123\n",
       "Lionsgate                            112\n",
       "Focus Features                        73\n",
       "Sony / Screen Gems                    71\n",
       "Columbia                              68\n",
       "Lions Gate                            62\n",
       "United Artists                        60\n",
       "DreamWorks                            59\n",
       "Weinstein Company                     58\n",
       "Warner Bros. (New Line)               54\n",
       "IFC                                   53\n",
       "Magnolia                              50\n",
       "TriStar                               46\n",
       "Roadside Attractions                  39\n",
       "Paramount (DreamWorks)                37\n",
       "Sony (Revolution)                     34\n",
       "Open Road Films                       33\n",
       "Relativity                            32\n",
       "Lionsgate/Summit                      31\n",
       "Summit Entertainment                  28\n",
       "Samuel Goldwyn                        28\n",
       "A24                                   26\n",
       "Artisan                               25\n",
       "ThinkFilm                             25\n",
       "Freestyle Releasing                   25\n",
       "Orion Pictures                        23\n",
       "Fine Line                             23\n",
       "STX Entertainment                     20\n",
       "Gramercy                              19\n",
       "Dimension Films                       19\n",
       "Paramount Vantage                     19\n",
       "Paramount Classics                    18\n",
       "Anchor Bay Films                      18\n",
       "MGM (Weinstein)                       18\n",
       "Strand                                16\n",
       "Weinstein / Dimension                 16\n",
       "IDP                                   15\n",
       "First Look                            15\n",
       "Warner Independent                    14\n",
       "USA Films                             14\n",
       "Indican                               13\n",
       "Overture Films                        13\n",
       "FilmDistrict                          12\n",
       "CBS Films                             12\n",
       "Newmarket                             11\n",
       "BH Tilt                               10\n",
       "Yash Raj                              10\n",
       "Picturehouse                           9\n",
       "October                                9\n",
       "Rogue Pictures                         9\n",
       "Broad Green Pictures                   9\n",
       "Monterey Media, Inc.                   8\n",
       "Oscilloscope Pictures                  8\n",
       "Trimark                                8\n",
       "Eros                                   8\n",
       "Excel                                  7\n",
       "Disney                                 7\n",
       "Cannon Films                           7\n",
       "Unknown                                7\n",
       "Bleecker Street                        7\n",
       "Radius-TWC                             7\n",
       "Annapurna Pictures                     6\n",
       "Destination                            6\n",
       "New World                              6\n",
       "Millennium Ent.                        6\n",
       "Cowboy                                 6\n",
       "Island Pictures                        5\n",
       "Apparition                             5\n",
       "Embassy                                5\n",
       "Kino                                   5\n",
       "Regent Releasing                       5\n",
       "Rocky Mountain Pictures                5\n",
       "The Bigger Picture                     5\n",
       "RKO                                    5\n",
       "Yari Film Group                        5\n",
       "Drafthouse                             5\n",
       "First Run                              5\n",
       "Savoy                                  5\n",
       "PolyGram                               5\n",
       "Zeitgeist                              4\n",
       "Tribeca Film                           4\n",
       "Pure Flix                              4\n",
       "Roxie                                  4\n",
       "Alliance                               4\n",
       "Five & Two Pictures                    4\n",
       "Palm                                   4\n",
       "Third Rail Releasing                   4\n",
       "EuropaCorp                             4\n",
       "Orion Classics                         4\n",
       "Vitagraph                              3\n",
       "Entertainment One                      3\n",
       "Slowhand Cinema                        3\n",
       "Wellspring                             3\n",
       "UTV Communications                     3\n",
       "Screen Media                           3\n",
       "Interstar                              3\n",
       "Artistic License                       3\n",
       "Focus World                            3\n",
       "AVCO Embassy                           3\n",
       "Fox Atomic                             3\n",
       "First Independent Pictures             3\n",
       "Abramorama                             3\n",
       "Music Box Films                        3\n",
       "TLA Releasing                          3\n",
       "Galaxy International                   3\n",
       "Well Go USA                            3\n",
       "Variance Films                         3\n",
       "Vestron                                3\n",
       "Halestorm                              3\n",
       "Image Entertainment                    3\n",
       "International Film Circuit             3\n",
       "Rainforest                             2\n",
       "Vertical Entertainment                 2\n",
       "Sony / AFFIRM Films                    2\n",
       "LD Entertainment                       2\n",
       "Wrekin Hill                            2\n",
       "Phaedra                                2\n",
       "United Film Distribution Company       2\n",
       "Atlantic                               2\n",
       "The Orchard                            2\n",
       "Cohen Media Group                      2\n",
       "Gathr Films                            2\n",
       "Cinecom                                2\n",
       "Slater Brothers                        2\n",
       "Stratosphere                           2\n",
       "DEG                                    2\n",
       "Hannover House                         2\n",
       "Phase 4                                2\n",
       "Paramount Insurge                      2\n",
       "Outsider Films                         2\n",
       "City Lights Pictures Releasing         2\n",
       "Lionsgate Premiere                     2\n",
       "Goodbye Cruel Releasing                2\n",
       "Pantelion                              2\n",
       "Providence                             2\n",
       "Entertainment Studios                  2\n",
       "Saban Films                            2\n",
       "The Film Arcade                        2\n",
       "Truly Indie                            2\n",
       "Paladin                                2\n",
       "Filmways                               2\n",
       "Clarius Entertainment                  2\n",
       "Arab Film Dist.                        2\n",
       "Studio 8                               2\n",
       "Vivendi Entertainment                  2\n",
       "Gold Circle                            2\n",
       "Shapiro-Glickenhaus                    2\n",
       "Cinema Libre Studio                    2\n",
       "Alchemy                                2\n",
       "8X Entertainment                       2\n",
       "SModcast Pictures                      1\n",
       "AdLabs                                 1\n",
       "Cinema Service                         1\n",
       "Painted Zebra Releasing                1\n",
       "Datari Turner Productions              1\n",
       "RBC Radio                              1\n",
       "FilmBuff                               1\n",
       "Maya Entertainment                     1\n",
       "Xenon Pictures                         1\n",
       "Next Millenium                         1\n",
       "Echo Bridge Entertainment              1\n",
       "China Lion                             1\n",
       "Moviestore Ent.                        1\n",
       "IndustryWorks                          1\n",
       "21st Century Film Production           1\n",
       "Cinema Libre                           1\n",
       "Film Movement                          1\n",
       "New Century                            1\n",
       "Cafe Pictures                          1\n",
       "Trillion                               1\n",
       "Big Pictures                           1\n",
       "Slugger Pictures                       1\n",
       "MAC Releasing                          1\n",
       "Amazon Studios                         1\n",
       "Republic                               1\n",
       "Picturehouse (II)                      1\n",
       "CJ Entertainment                       1\n",
       "Hemdale                                1\n",
       "Palisades Ent.                         1\n",
       "Outrider                               1\n",
       "Jensen Farley                          1\n",
       "Janson Media                           1\n",
       "H Collective                           1\n",
       "Testimony                              1\n",
       "Cloud Ten                              1\n",
       "Fox Meadows Films                      1\n",
       "Feature Presentations Releasing        1\n",
       "New Yorker                             1\n",
       "Chicago Pictures                       1\n",
       "Exclusive Media                        1\n",
       "Imperial Ent.                          1\n",
       "Gigapix Releasing                      1\n",
       "Cinelou Films                          1\n",
       "JF Productions                         1\n",
       "Independent Artists                    1\n",
       "RS                                     1\n",
       "IRS Media                              1\n",
       "Independent                            1\n",
       "Quality Flix                           1\n",
       "Neon                                   1\n",
       "Seville                                1\n",
       "EchoLight Studios                      1\n",
       "David Keith                            1\n",
       "Briarcliff                             1\n",
       "Moving Visions Entertainment           1\n",
       "ATO Pictures                           1\n",
       "Callbox LLC                            1\n",
       "Innovation Film Group                  1\n",
       "Darius Films                           1\n",
       "Romar Entertainment                    1\n",
       "Submarine Deluxe                       1\n",
       "Cinerama                               1\n",
       "Kenn Viselman Presents                 1\n",
       "North by Northwest                     1\n",
       "Cleopatra Films                        1\n",
       "Electric Entertainment                 1\n",
       "PMK*BNC                                1\n",
       "Scarlet Sky Productions                1\n",
       "IndieVest Pictures                     1\n",
       "Stone Five Studios                     1\n",
       "eOne Entertainment                     1\n",
       "Island Alive                           1\n",
       "Empire Pictures                        1\n",
       "Illuminare Entertainment               1\n",
       "Lavendar House Films                   1\n",
       "National Geographic Entertainment      1\n",
       "Banner Entertainment                   1\n",
       "Big Fat Movies                         1\n",
       "Found-Charger Cinema                   1\n",
       "DEJ                                    1\n",
       "BBC Worldwide North America            1\n",
       "Rolling Thunder                        1\n",
       "Seatzy/IMA                             1\n",
       "Reliance Big Pictures                  1\n",
       "Selznick Releasing                     1\n",
       "Icarus Films                           1\n",
       "AFFRM                                  1\n",
       "Metro Pictures Corporation             1\n",
       "Argot Pictures                         1\n",
       "American International Pictures        1\n",
       "Good Machine                           1\n",
       "Power Point                            1\n",
       "Off-Holywd. Dist.                      1\n",
       "AfterLight                             1\n",
       "Borotoro                               1\n",
       "Vineyard Distribution                  1\n",
       "GKIDS                                  1\n",
       "IM Global/Blumhouse                    1\n",
       "Bullz Eye Productions                  1\n",
       "Hammond                                1\n",
       "Ten Furlongs                           1\n",
       "Gunpowder & Sky                        1\n",
       "Triumph                                1\n",
       "Area23a                                1\n",
       "Fader Films                            1\n",
       "GVN Releasing                          1\n",
       "Cineville                              1\n",
       "RLJ Entertainment                      1\n",
       "Millennium Films, Inc.                 1\n",
       "Quaker Media                           1\n",
       "Odeon                                  1\n",
       "Starz Media                            1\n",
       "Wingate Distribution                   1\n",
       "Hummingbird Pictures                   1\n",
       "Film Foundry                           1\n",
       "Ketchup Entertainment                  1\n",
       "Mangusta Productions                   1\n",
       "Zion                                   1\n",
       "Driving With Our Eyes Shut             1\n",
       "Cinema Guild                           1\n",
       "B.D. Fox                               1\n",
       "Associated Film Dist.                  1\n",
       "New Films Cinema                       1\n",
       "Ocean Avenue Entertainment             1\n",
       "Blackrock Films                        1\n",
       "Pro-Motion Pictures                    1\n",
       "Lot 47                                 1\n",
       "Fred Herman Co.                        1\n",
       "North/South Pictures                   1\n",
       "Brothers' Ink Productions              1\n",
       "Peninsula                              1\n",
       "Shooting Gallery                       1\n",
       "Small Planet                           1\n",
       "Access                                 1\n",
       "Senator Distribution                   1\n",
       "Lorimar                                1\n",
       "Honorara Productions                   1\n",
       "Circle                                 1\n",
       "Fabrication Films                      1\n",
       "Priority Films                         1\n",
       "Crimson Forest                         1\n",
       "Mulberry Square                        1\n",
       "Christal Films                         1\n",
       "New Latin                              1\n",
       "Neverland                              1\n",
       "Cyan Pictures                          1\n",
       "Women Make Movies                      1\n",
       "Tartan                                 1\n",
       "Global Road                            1\n",
       "Compass                                1\n",
       "Sony Repertory                         1\n",
       "Industrial House                       1\n",
       "Gorilla Factory Productions            1\n",
       "Aviron                                 1\n",
       "Indomina Media                         1\n",
       "Producers Distribution Agency          1\n",
       "Kino Lorber                            1\n",
       "Avenue Pict.                           1\n",
       "Purdie Distribution                    1\n",
       "Main Street Movie Co.                  1\n",
       "ImaginAsian Pictures                   1\n",
       "Janus Films                            1\n",
       "Libero, LLC                            1\n",
       "Mormon Movies                          1\n",
       "Aloha Releasing                        1\n",
       "Video Sound                            1\n",
       "Silver Nitrate                         1\n",
       "Viva Pictures Distribution             1\n",
       "Matson Films                           1\n",
       "3D Entertainment                       1\n",
       "Phantom Pain Films                     1\n",
       "Greycat                                1\n",
       "Name: distributor_mojo, dtype: int64"
      ]
     },
     "execution_count": 4,
     "metadata": {},
     "output_type": "execute_result"
    }
   ],
   "source": [
    "data[data['budget_adj'].notna() & data['distributor_mojo'].notna()]['distributor_mojo'].value_counts()"
   ]
  },
  {
   "cell_type": "code",
   "execution_count": 5,
   "metadata": {},
   "outputs": [
    {
     "name": "stdout",
     "output_type": "stream",
     "text": [
      "Universal                       719\n",
      "Focus Features                  128\n",
      "Gramercy                         65\n",
      "DreamWorks                       60\n",
      "Focus World                      17\n",
      "Universal Home Entertainment      1\n",
      "Universal Classics                1\n",
      "Name: distributor_mojo, dtype: int64\n",
      "Sum: 991\n"
     ]
    }
   ],
   "source": [
    "# https://en.wikipedia.org/wiki/Major_film_studio#Past\n",
    "nbcuniversal = 'Universal|Focus Features|Focus World|Gramercy|Working Title|Big Idea|DreamWorks$|Illumination|Carnival|Mac Guff|United International'\n",
    "\n",
    "print(data[data['distributor_mojo'].str.contains(nbcuniversal, na=False, regex=True)]['distributor_mojo'].value_counts())\n",
    "print('Sum:', data[data['distributor_mojo'].str.contains(nbcuniversal, na=False, regex=True)]['distributor_mojo'].value_counts().sum())"
   ]
  },
  {
   "cell_type": "code",
   "execution_count": 6,
   "metadata": {
    "scrolled": true
   },
   "outputs": [
    {
     "name": "stdout",
     "output_type": "stream",
     "text": [
      "Paramount                 619\n",
      "Paramount Classics         54\n",
      "Paramount (DreamWorks)     39\n",
      "Paramount Vantage          26\n",
      "Paramount Insurge           2\n",
      "Name: distributor_mojo, dtype: int64\n",
      "Sum: 740\n"
     ]
    }
   ],
   "source": [
    "viacom = 'Paramount|BET|Comedy Central|MTV|Nickelodeon|Bardel Entertainment|MTV Animation|Nickelodeon Animation Studio|Awesomeness|CMT|Melange|United International Pictures|VH1|Viacom 18 Motion Pictures'\n",
    "\n",
    "print(data[data['distributor_mojo'].str.contains(viacom, na=False, regex=True)]['distributor_mojo'].value_counts())\n",
    "print('Sum:', data[data['distributor_mojo'].str.contains(viacom, na=False, regex=True)]['distributor_mojo'].value_counts().sum())"
   ]
  },
  {
   "cell_type": "code",
   "execution_count": 7,
   "metadata": {},
   "outputs": [
    {
     "name": "stdout",
     "output_type": "stream",
     "text": [
      "Warner Bros.               882\n",
      "New Line                   247\n",
      "Warner Bros. (New Line)     60\n",
      "HBO                          1\n",
      "Cinemax                      1\n",
      "Name: distributor_mojo, dtype: int64\n",
      "Sum: 1191\n"
     ]
    }
   ],
   "source": [
    "warnermedia = 'Warner Bros.|CNN Films|HBO|DC Films|New Line|Cartoon Network Studios|Wang Film Productions|Adult Swim Films|Castle Rock Entertainment|Cinemax|Flagship|Fullscreen|Hello Sunshine|Spyglass'\n",
    "\n",
    "print(data[data['distributor_mojo'].str.contains(warnermedia, na=False, regex=True)]['distributor_mojo'].value_counts())\n",
    "print('Sum:', data[data['distributor_mojo'].str.contains(warnermedia, na=False, regex=True)]['distributor_mojo'].value_counts().sum())"
   ]
  },
  {
   "cell_type": "code",
   "execution_count": 8,
   "metadata": {},
   "outputs": [
    {
     "name": "stdout",
     "output_type": "stream",
     "text": [
      "Fox                                  639\n",
      "Buena Vista                          619\n",
      "Fox Searchlight                      182\n",
      "Disney                                30\n",
      "National Geographic Entertainment     15\n",
      "Fox Atomic                             4\n",
      "Name: distributor_mojo, dtype: int64\n",
      "Sum: 1489\n"
     ]
    }
   ],
   "source": [
    "disney = 'Walt Disney|^Fox$|Fox Atomic|A&E|Disneynature|ESPN|Fox Searchlight|Hulu|National Geographic|VICE|Fox Family|Lucasfilm|Marvel|The Muppets Studio|UTV Motion Pictures|20th Century Fox Animation|Blue Sky Studios|Lucasfilm Animation|Marvel Animation|Pixar Animation Studios|Buena Vista|Disney|Dragonfly Film Productions|Fox Star Studios|Fox Studios Australia|Kudos Film|New Regency|Patagonik Film Group|Shine Group|Tiger Aspect Productions|Zero Day Fox'\n",
    "\n",
    "print(data[data['distributor_mojo'].str.contains(disney, na=False, regex=True)]['distributor_mojo'].value_counts())\n",
    "print('Sum:', data[data['distributor_mojo'].str.contains(disney, na=False, regex=True)]['distributor_mojo'].value_counts().sum())"
   ]
  },
  {
   "cell_type": "code",
   "execution_count": 9,
   "metadata": {},
   "outputs": [
    {
     "name": "stdout",
     "output_type": "stream",
     "text": [
      "Sony / Columbia            420\n",
      "Sony Classics              405\n",
      "Columbia                   239\n",
      "TriStar                    160\n",
      "Sony / Screen Gems          78\n",
      "Sony (Revolution)           40\n",
      "Sony Repertory               7\n",
      "Sony / AFFIRM Films          2\n",
      "Sony BMG                     2\n",
      "Sony Pictures Home Ent.      2\n",
      "Name: distributor_mojo, dtype: int64\n",
      "Sum: 1355\n"
     ]
    }
   ],
   "source": [
    "sony = 'Sony|Columbia|Affirm|Screen Gems|Stage 6|Ghost Corps|Funimation|Madhouse|Manga Entertainment UK|TriStar|Destination Films|Left Bank Pictures|Triumph Films'\n",
    "\n",
    "print(data[data['distributor_mojo'].str.contains(sony, na=False, regex=True)]['distributor_mojo'].value_counts())\n",
    "print('Sum:', data[data['distributor_mojo'].str.contains(sony, na=False, regex=True)]['distributor_mojo'].value_counts().sum())"
   ]
  },
  {
   "cell_type": "code",
   "execution_count": 10,
   "metadata": {},
   "outputs": [],
   "source": [
    "data['universal'] = data['distributor_mojo'].str.contains(nbcuniversal, na=False, regex=True)\n",
    "data['paramount'] = data['distributor_mojo'].str.contains(viacom, na=False, regex=True)\n",
    "data['warner'] = data['distributor_mojo'].str.contains(warnermedia, na=False, regex=True)\n",
    "data['disney'] = data['distributor_mojo'].str.contains(disney, na=False, regex=True)\n",
    "data['sony'] = data['distributor_mojo'].str.contains(sony, na=False, regex=True)\n",
    "data['distributor'] = np.nan"
   ]
  },
  {
   "cell_type": "code",
   "execution_count": 11,
   "metadata": {},
   "outputs": [],
   "source": [
    "data.loc[data['universal'], 'distributor'] = 'Universal'\n",
    "data.loc[data['paramount'], 'distributor'] = 'Paramount'\n",
    "data.loc[data['warner'], 'distributor'] = 'Warner'\n",
    "data.loc[data['disney'], 'distributor'] = 'Disney'\n",
    "data.loc[data['sony'], 'distributor'] = 'Sony'"
   ]
  },
  {
   "cell_type": "code",
   "execution_count": 12,
   "metadata": {},
   "outputs": [
    {
     "name": "stdout",
     "output_type": "stream",
     "text": [
      "<class 'pandas.core.frame.DataFrame'>\n",
      "Int64Index: 5766 entries, 7 to 19775\n",
      "Data columns (total 22 columns):\n",
      "title                 5766 non-null object\n",
      "release_year          5766 non-null int64\n",
      "distributor_mojo      5766 non-null object\n",
      "genres_mojo           5766 non-null object\n",
      "release_date          5766 non-null datetime64[ns]\n",
      "domestic_adj          5766 non-null float64\n",
      "budget_adj            3160 non-null float64\n",
      "release_week          5766 non-null int64\n",
      "release_decade        5766 non-null int64\n",
      "domestic_breakeven    5766 non-null bool\n",
      "adventure             5766 non-null bool\n",
      "action                5766 non-null bool\n",
      "drama                 5766 non-null bool\n",
      "comedy                5766 non-null bool\n",
      "thriller_suspense     5766 non-null bool\n",
      "horror                5766 non-null bool\n",
      "universal             5766 non-null bool\n",
      "paramount             5766 non-null bool\n",
      "warner                5766 non-null bool\n",
      "disney                5766 non-null bool\n",
      "sony                  5766 non-null bool\n",
      "distributor           5766 non-null object\n",
      "dtypes: bool(12), datetime64[ns](1), float64(2), int64(3), object(4)\n",
      "memory usage: 563.1+ KB\n"
     ]
    }
   ],
   "source": [
    "data = data[data['distributor'].notna()]\n",
    "data.info()"
   ]
  },
  {
   "cell_type": "markdown",
   "metadata": {},
   "source": [
    "## Summary\n",
    "\n",
    "Our filtered dataset now has 5,766 entries. \n",
    "\n",
    "The only missing information in our dataframe is in the `budget_adj` column, which is a movie's production budget.\n",
    "\n",
    "We will just ignore the missing entries when we need the production budget information. \n",
    "\n",
    "The reason we won't fill in missing budgets with a genre's mean budget is that many movies have multiple genres. This would open the door to bad estimates of a movie's budget. For example, if we have an action comedy movie, do we give it the mean budget of action or comedy? The average of both genres? \n",
    "\n",
    "We will reassess this decision later if it seems like the lack of budget information is a problem."
   ]
  },
  {
   "cell_type": "code",
   "execution_count": 13,
   "metadata": {},
   "outputs": [
    {
     "data": {
      "text/plain": [
       "Unknown               511\n",
       "Comedy                290\n",
       "Drama                 196\n",
       "Foreign               124\n",
       "Animation             121\n",
       "Romantic Comedy       112\n",
       "Documentary            95\n",
       "Comedy / Drama         81\n",
       "Thriller               70\n",
       "Romance                67\n",
       "Horror                 65\n",
       "Family Comedy          62\n",
       "Family Adventure       54\n",
       "Action Comedy          47\n",
       "Action                 45\n",
       "Drama / Thriller       37\n",
       "Crime Drama            33\n",
       "Music Drama            32\n",
       "Fantasy                30\n",
       "IMAX                   29\n",
       "Fantasy Comedy         27\n",
       "Crime Comedy           27\n",
       "Sports Drama           26\n",
       "Period Drama           26\n",
       "Sports Comedy          24\n",
       "Musical                21\n",
       "Action Thriller        21\n",
       "Horror Comedy          18\n",
       "Period Comedy          17\n",
       "Crime Thriller         16\n",
       "Sci-Fi Adventure       16\n",
       "Family                 16\n",
       "Western                15\n",
       "Horror Thriller        14\n",
       "War Drama              14\n",
       "Romantic Thriller      14\n",
       "Action Drama           14\n",
       "Sci-Fi Comedy          13\n",
       "Action / Crime         12\n",
       "Sci-Fi Horror          12\n",
       "Concert                11\n",
       "Period Adventure       11\n",
       "Adventure              10\n",
       "Sci-Fi Action           9\n",
       "Comedy Thriller         9\n",
       "Fantasy Drama           9\n",
       "Sci-Fi Fantasy          8\n",
       "Sci-Fi Thriller         8\n",
       "Action / Adventure      7\n",
       "War                     7\n",
       "Foreign / Action        7\n",
       "Historical Drama        5\n",
       "Adventure Comedy        5\n",
       "Sci-Fi                  5\n",
       "Western Comedy          5\n",
       "Action Horror           4\n",
       "Foreign / Horror        4\n",
       "Action Fantasy          3\n",
       "Period Action           3\n",
       "Crime                   3\n",
       "Sports Action           3\n",
       "Historical Epic         3\n",
       "Romantic Adventure      2\n",
       "Sports                  1\n",
       "Name: genres_mojo, dtype: int64"
      ]
     },
     "execution_count": 13,
     "metadata": {},
     "output_type": "execute_result"
    }
   ],
   "source": [
    "data[data['budget_adj'].isna()]['genres_mojo'].value_counts()"
   ]
  },
  {
   "cell_type": "markdown",
   "metadata": {},
   "source": [
    "# Bird's Eye View Of The Data\n",
    "\n",
    "We create two custom functions `autolabel` and `autolabel_with_count` for adding the count information into our bar plots.\n",
    "\n",
    "We will do some exploratory data analysis to get a sense of our dataset's breakdown by genre."
   ]
  },
  {
   "cell_type": "code",
   "execution_count": 14,
   "metadata": {},
   "outputs": [],
   "source": [
    "# Tailored from matplotlib documentation\n",
    "# https://matplotlib.org/examples/api/barchart_demo.html\n",
    "def autolabel(axis):\n",
    "    \"\"\"\n",
    "    Attach a text label above each bar displaying its height\n",
    "    \"\"\"\n",
    "    for i in axis.patches:\n",
    "        height = i.get_height()\n",
    "        axis.text(i.get_x() + i.get_width()/2, 1.05*height, '%d' % int(height), ha='center', va='bottom', fontsize=20)"
   ]
  },
  {
   "cell_type": "code",
   "execution_count": 15,
   "metadata": {},
   "outputs": [],
   "source": [
    "# Tailored from matplotlib documentation\n",
    "# https://matplotlib.org/examples/api/barchart_demo.html\n",
    "# Customized for adding the counts when a percentage height is used instead of the count\n",
    "# Must send in an array of the corresponding counts for each bar\n",
    "def autolabel_with_count(axis, counts):\n",
    "    \"\"\"\n",
    "    Attach a text label above each bar displaying its count\n",
    "    \"\"\"\n",
    "    for i, val in enumerate(axis.patches):\n",
    "        height = counts[i]\n",
    "        axis.text(val.get_x() + val.get_width()/2, val.get_height()*1.05, '%d' % int(height), ha='center', va='bottom')"
   ]
  },
  {
   "cell_type": "code",
   "execution_count": 16,
   "metadata": {},
   "outputs": [
    {
     "data": {
      "image/png": "[encoded data removed]",
      "text/plain": [
       "<Figure size 1728x648 with 1 Axes>"
      ]
     },
     "metadata": {
      "needs_background": "light"
     },
     "output_type": "display_data"
    }
   ],
   "source": [
    "genres = ['adventure', 'action', 'drama', 'comedy', 'thriller_suspense', 'horror']\n",
    "colors = ['b', 'g', 'r', 'c', 'm', 'y', 'k', 'w']\n",
    "\n",
    "# Dictionary of genres and the amount of movies each has\n",
    "num_movies_per_genre = {genre: sum(data[genre]) for genre in genres}\n",
    "\n",
    "# Sorted list of genres in descending order of number of movies\n",
    "num_movies_per_genre_sorted = sorted(num_movies_per_genre.items(), key=lambda x: x[1], reverse=True)\n",
    "\n",
    "num_movies_by_genre_df = pd.DataFrame(num_movies_per_genre_sorted)\n",
    "\n",
    "num_movies_by_genre_df.set_index(0, inplace=True)\n",
    "\n",
    "figure, axis = plt.subplots(nrows=1, ncols=1, figsize=(24, 9))\n",
    "figure.suptitle('Number of Movies Per Genre', fontsize=20, y=1.02)\n",
    "\n",
    "num_movies_by_genre_df.plot(kind='bar', color=colors[0], ax=axis, legend=False)\n",
    "axis.set_ylabel('')\n",
    "axis.set_xlabel('')\n",
    "axis.tick_params(labelsize=20)\n",
    "autolabel(axis)\n",
    "\n",
    "plt.tight_layout()"
   ]
  },
  {
   "cell_type": "code",
   "execution_count": 17,
   "metadata": {},
   "outputs": [
    {
     "data": {
      "image/png": "[encoded data removed]",
      "text/plain": [
       "<Figure size 1728x648 with 1 Axes>"
      ]
     },
     "metadata": {
      "needs_background": "light"
     },
     "output_type": "display_data"
    }
   ],
   "source": [
    "# Sort the genres in descending order of mean domestic adjusted gross\n",
    "\n",
    "# All genres\n",
    "genres = ['adventure', 'action', 'drama', 'comedy', 'thriller_suspense', 'horror']\n",
    "\n",
    "# Dictionary of genres and their mean domestic adjusted gross\n",
    "genres_mean_domestic = {genre: round(data[data[genre]]['domestic_adj'].mean() / 1000000, 1) for genre in genres}\n",
    "\n",
    "# Sorted list of genres in descending order of mean domestic adjusted gross\n",
    "genres_mean_domestic_sorted = sorted(genres_mean_domestic.items(), key=lambda x: x[1], reverse=True)\n",
    "\n",
    "genres_mean_domestic_df = pd.DataFrame(genres_mean_domestic_sorted)\n",
    "\n",
    "genres_mean_domestic_df.set_index(0, inplace=True)\n",
    "\n",
    "figure, axis = plt.subplots(nrows=1, ncols=1, figsize=(24, 9))\n",
    "figure.suptitle('Mean Domestic Gross Per Genre', fontsize=20, y=1.02)\n",
    "\n",
    "genres_mean_domestic_df.plot(kind='bar', ax=axis, color=colors[1], legend=False)\n",
    "axis.set_ylabel('Millions of Dollars', fontsize=20)\n",
    "axis.set_xlabel('')\n",
    "axis.tick_params(labelsize=20)\n",
    "autolabel(axis)\n",
    "\n",
    "plt.tight_layout()"
   ]
  },
  {
   "cell_type": "code",
   "execution_count": 18,
   "metadata": {},
   "outputs": [
    {
     "data": {
      "image/png": "[encoded data removed]",
      "text/plain": [
       "<Figure size 1728x648 with 1 Axes>"
      ]
     },
     "metadata": {
      "needs_background": "light"
     },
     "output_type": "display_data"
    }
   ],
   "source": [
    "# Calculate expected historical domestic value per genre\n",
    "# Combine the `genres_mean_domestic_df` and `num_movies_by_genre_df`\n",
    "genres_mean_domestic_df = genres_mean_domestic_df.sort_index()\n",
    "num_movies_by_genre_df = num_movies_by_genre_df.sort_index()\n",
    "summary_df = pd.concat([genres_mean_domestic_df, num_movies_by_genre_df], axis=1)\n",
    "summary_df.columns = ['mean_domestic', 'num_movies']\n",
    "\n",
    "# Compute estimated overall return of each genre historically\n",
    "summary_df['expected_historical_value'] = summary_df['mean_domestic'] * summary_df['num_movies']\n",
    "summary_df.sort_values('expected_historical_value', ascending=False, inplace=True)\n",
    "\n",
    "figure, axis = plt.subplots(nrows=1, ncols=1, figsize=(24, 9))\n",
    "figure.suptitle('Expected Historical Value Per Genre', fontsize=20, y=1.02)\n",
    "\n",
    "summary_df.plot(y='expected_historical_value', kind='bar', ax=axis, color=colors[2], legend=False)\n",
    "axis.set_ylabel('Millions of Dollars', fontsize=20)\n",
    "axis.set_xlabel('')\n",
    "axis.tick_params(labelsize=20)\n",
    "autolabel(axis)\n",
    "\n",
    "plt.tight_layout()"
   ]
  },
  {
   "cell_type": "code",
   "execution_count": 19,
   "metadata": {},
   "outputs": [
    {
     "data": {
      "text/plain": [
       "<matplotlib.axes._subplots.AxesSubplot at 0x1e7cf955ac8>"
      ]
     },
     "execution_count": 19,
     "metadata": {},
     "output_type": "execute_result"
    },
    {
     "data": {
      "image/png": "[encoded data removed]",
      "text/plain": [
       "<Figure size 1296x648 with 1 Axes>"
      ]
     },
     "metadata": {
      "needs_background": "light"
     },
     "output_type": "display_data"
    }
   ],
   "source": [
    "figure, ax1 = plt.subplots(nrows=1, ncols=1, figsize=(18,9))\n",
    "\n",
    "# Since we are dealing with boolean columns, we must use 'sum' to get the total counts\n",
    "data.groupby('release_decade').sum().plot.bar(y=['adventure', 'action', 'drama', 'comedy', 'thriller_suspense', 'horror'], ax=ax1, title='Number of Genre Movies Released Domestically By Decade')"
   ]
  },
  {
   "cell_type": "markdown",
   "metadata": {},
   "source": [
    "## Quick Takeaways\n",
    "\n",
    "`Comedy` and `Drama` are historically the most produced genres by big movie studios by a healthy margin.\n",
    "\n",
    "`Adventure` and `Action` historically gross the highest average amount per movie.\n",
    "\n",
    "If we do a rough expected historical value calculation by multiplying the number of movies per genre by the mean domestic gross per genre, we see the most amount of money has been earned by `Comedy`, `Action`, `Drama`, and `Adventure`.\n",
    "\n",
    "It might seem like those four genres are slam-dunk contenders to present to our bosses. Why would we ever suggest making a `Thriller/Suspense` or `Horror` movie? In aggregate, they are produced less frequently and earn less money.\n",
    "\n",
    "But we haven't touched on a key element of moviemaking -- how much it costs to produce each genre. That's next."
   ]
  },
  {
   "cell_type": "markdown",
   "metadata": {},
   "source": [
    "# Production Budget"
   ]
  },
  {
   "cell_type": "code",
   "execution_count": 22,
   "metadata": {},
   "outputs": [
    {
     "data": {
      "image/png": "[encoded data removed]",
      "text/plain": [
       "<Figure size 1728x648 with 1 Axes>"
      ]
     },
     "metadata": {
      "needs_background": "light"
     },
     "output_type": "display_data"
    }
   ],
   "source": [
    "# Sort the genres in descending order of mean adjusted production budgets\n",
    "\n",
    "# All genres\n",
    "genres = ['adventure', 'action', 'drama', 'comedy', 'thriller_suspense', 'horror']\n",
    "\n",
    "# Dictionary of genres and their mean production budgets\n",
    "genres_mean_budgets = {genre: round(data[data[genre]]['budget_adj'].mean() / 1000000, 1) for genre in genres}\n",
    "\n",
    "# Sorted list of genres in descending order of mean domestic adjusted gross\n",
    "genres_mean_budgets_sorted = sorted(genres_mean_budgets.items(), key=lambda x: x[1], reverse=True)\n",
    "\n",
    "mean_budgets_by_genre_df = pd.DataFrame(genres_mean_budgets_sorted)\n",
    "\n",
    "mean_budgets_by_genre_df.set_index(0, inplace=True)\n",
    "\n",
    "figure, axis = plt.subplots(nrows=1, ncols=1, figsize=(24, 9))\n",
    "figure.suptitle('Mean Production Budgets Per Genre', fontsize=20, y=1.02)\n",
    "\n",
    "mean_budgets_by_genre_df.plot(kind='bar', ax=axis, color=colors[2], legend=False)\n",
    "axis.set_ylabel('Millions of Dollars', fontsize=20)\n",
    "axis.set_xlabel('')\n",
    "axis.tick_params(labelsize=20)\n",
    "autolabel(axis)\n",
    "\n",
    "plt.tight_layout()"
   ]
  },
  {
   "cell_type": "code",
   "execution_count": 23,
   "metadata": {},
   "outputs": [
    {
     "name": "stdout",
     "output_type": "stream",
     "text": [
      "Number of movies by genre with production budget information:\n",
      "Adventure            261\n",
      "Action               494\n",
      "Thriller_Suspense    369\n",
      "Comedy               1000\n",
      "Horror               261\n",
      "Drama                693\n"
     ]
    }
   ],
   "source": [
    "sorted_genres = [k for k,v in genres_mean_budgets_sorted]\n",
    "\n",
    "print('Number of movies by genre with production budget information:')\n",
    "\n",
    "for genre in sorted_genres:\n",
    "    print('{0:<20} {1}'.format(genre.title(), data[data[genre]]['budget_adj'].count()))"
   ]
  },
  {
   "cell_type": "markdown",
   "metadata": {},
   "source": [
    "## Quick Takeaways\n",
    "\n",
    "`Adventure` and `Action` movies have the highest mean budget. This isn't surprising as they tend to be more epic in scale and use more CGI than other genres.\n",
    "\n",
    "We have production budget information on at least 250 movies in each genre. This seems like a reasonable enough number to capture some insights."
   ]
  },
  {
   "cell_type": "markdown",
   "metadata": {},
   "source": [
    "# Performance By Decade"
   ]
  },
  {
   "cell_type": "code",
   "execution_count": 26,
   "metadata": {},
   "outputs": [
    {
     "data": {
      "image/png": "[encoded data removed]",
      "text/plain": [
       "<Figure size 1728x1152 with 6 Axes>"
      ]
     },
     "metadata": {
      "needs_background": "light"
     },
     "output_type": "display_data"
    }
   ],
   "source": [
    "figure, axes = plt.subplots(nrows=6, ncols=1, sharex=True, sharey=True, figsize=(24, 16))\n",
    "figure.suptitle('Percentage of Movies That Breakeven By Decade', fontsize=20, y=1.02)\n",
    "\n",
    "ax1, ax2, ax3, ax4, ax5, ax6 = axes.flatten()\n",
    "axes_list = [ax1, ax2, ax3, ax4, ax5, ax6]\n",
    "\n",
    "for genre, axis, color in zip(sorted_genres, axes_list, colors):\n",
    "    # Create two series with decades as indexes and count and sum as values\n",
    "    grp_count = data[data[genre]].groupby('release_decade')['domestic_breakeven'].count().copy()\n",
    "    grp_sum = data[data[genre]].groupby('release_decade')['domestic_breakeven'].sum().copy()\n",
    "\n",
    "    # If the series is missing a decade, add it as an index\n",
    "    # Then set the count to 1 and the sum to 0\n",
    "    # This avoids division by zero problems when calculating the percentages\n",
    "    for decade in range(1910, 2020, 10):\n",
    "        if decade not in grp_count.index:\n",
    "            grp_count.loc[decade] = 0\n",
    "            grp_sum.loc[decade] = 0\n",
    "\n",
    "    # Sort the series by their index to have the decades in chronological order                \n",
    "    grp_count.sort_index(ascending=True, inplace=True)\n",
    "    grp_sum.sort_index(ascending=True, inplace=True)\n",
    "\n",
    "    (grp_sum / grp_count * 100).plot(kind='bar', xticks=range(1910, 2020, 10), ax=axis, linewidth=3, color=color)\n",
    "    axis.set_ylabel('Percentage', fontsize=12)\n",
    "    axis.legend([genre], loc=2, fontsize=15)\n",
    "    \n",
    "    # Put the count of how many movies breakeven above each bar\n",
    "    autolabel_with_count(axis, grp_count.values)\n",
    "    \n",
    "plt.tight_layout() "
   ]
  },
  {
   "cell_type": "markdown",
   "metadata": {},
   "source": [
    "Key Takeaways:\n",
    "- According to the dataset we have, movies seems way more risky than in the past (1950s - 1970s)\n",
    "- However, we shouldn't put too much stock into this conclusion as we have far fewer datapoints for older decades than current ones\n",
    "- Currently (i.e. in the 2010s), Thriller/Suspense and Horror have the highest chance to breakeven in the domestic market\n",
    "- This is not including worldwide box office, which is a huge component of a movie's profit these days\n",
    "- If a movie is only going to be released domestically, the 'safest' genre (none of them have high chances to succeed) to bet on is Horror"
   ]
  },
  {
   "cell_type": "markdown",
   "metadata": {},
   "source": [
    "# Looking At This Decade"
   ]
  },
  {
   "cell_type": "code",
   "execution_count": 28,
   "metadata": {},
   "outputs": [
    {
     "data": {
      "image/png": "[encoded data removed]",
      "text/plain": [
       "<Figure size 1728x1152 with 6 Axes>"
      ]
     },
     "metadata": {
      "needs_background": "light"
     },
     "output_type": "display_data"
    }
   ],
   "source": [
    "years = data[data['release_year'] >= 2010].copy()\n",
    "\n",
    "figure, axes = plt.subplots(nrows=6, ncols=1, sharex=True, sharey=True, figsize=(24, 16))\n",
    "figure.suptitle('Percentage of Movies That Breakeven This Decade', fontsize=20, y=1.02)\n",
    "\n",
    "ax1, ax2, ax3, ax4, ax5, ax6 = axes.flatten()\n",
    "axes_list = [ax1, ax2, ax3, ax4, ax5, ax6]\n",
    "\n",
    "for genre, axis, color in zip(sorted_genres, axes_list, colors):\n",
    "    # Create two series with decades as indexes and count and sum as values\n",
    "    grp_count = years[years[genre]].groupby('release_year')['domestic_breakeven'].count().copy()\n",
    "    grp_sum = years[years[genre]].groupby('release_year')['domestic_breakeven'].sum().copy()\n",
    "\n",
    "    # If the series is missing a decade, add it as an index\n",
    "    # Then set the count to 1 and the sum to 0\n",
    "    # This avoids division by zero problems when calculating the percentages\n",
    "    for year in range(2010, 2019, 1):\n",
    "        if year not in grp_count.index:\n",
    "            grp_count.loc[year] = 0\n",
    "            grp_sum.loc[year] = 0\n",
    "\n",
    "    # Sort the series by their index to have the decades in chronological order                \n",
    "    grp_count.sort_index(ascending=True, inplace=True)\n",
    "    grp_sum.sort_index(ascending=True, inplace=True)\n",
    "\n",
    "    (grp_sum / grp_count * 100).plot(kind='bar', xticks=range(2010, 2019, 1), ax=axis, linewidth=3, color=color)\n",
    "    axis.set_ylabel('Percentage', fontsize=12)\n",
    "    axis.legend([genre], loc=2, fontsize=15)\n",
    "    \n",
    "    # Put the count of how many movies breakeven above each bar\n",
    "    autolabel_with_count(axis, grp_count.values)\n",
    "    \n",
    "plt.tight_layout() "
   ]
  },
  {
   "cell_type": "markdown",
   "metadata": {},
   "source": [
    "## Quick Takeaways\n",
    "\n",
    "`Adventure` and `Action` seem like the worst domestic movies from a profitability standpoint.\n",
    "\n",
    "`Horror` seems like the outright best-performing domestic movie genre."
   ]
  },
  {
   "cell_type": "markdown",
   "metadata": {},
   "source": [
    "# Dollar For Dollar Evaluation\n",
    "\n",
    "For every dollar invested in a genre, what can a studio expect to get back?"
   ]
  },
  {
   "cell_type": "markdown",
   "metadata": {},
   "source": [
    "## All Time"
   ]
  },
  {
   "cell_type": "code",
   "execution_count": null,
   "metadata": {},
   "outputs": [],
   "source": [
    "figure, axes = plt.subplots(nrows=6, ncols=1, sharex=True, sharey=True, figsize=(24, 16))\n",
    "figure.suptitle('Dollars Earned For Every Dollar Spent All-Time', fontsize=20, y=1.02)\n",
    "\n",
    "ax1, ax2, ax3, ax4, ax5, ax6 = axes.flatten()\n",
    "axes_list = [ax1, ax2, ax3, ax4, ax5, ax6]\n",
    "\n",
    "for genre, axis, color in zip(sorted_genres, axes_list, colors):\n",
    "    # Create two series with decades as indexes and count and sum as values\n",
    "    grp_count = years[years[genre]].groupby('release_year')['domestic_breakeven'].count().copy()\n",
    "    grp_sum = years[years[genre]].groupby('release_year')['domestic_breakeven'].sum().copy()\n",
    "\n",
    "    # If the series is missing a decade, add it as an index\n",
    "    # Then set the count to 1 and the sum to 0\n",
    "    # This avoids division by zero problems when calculating the percentages\n",
    "    for year in range(2010, 2019, 1):\n",
    "        if year not in grp_count.index:\n",
    "            grp_count.loc[year] = 0\n",
    "            grp_sum.loc[year] = 0\n",
    "\n",
    "    # Sort the series by their index to have the decades in chronological order                \n",
    "    grp_count.sort_index(ascending=True, inplace=True)\n",
    "    grp_sum.sort_index(ascending=True, inplace=True)\n",
    "\n",
    "    (grp_sum / grp_count * 100).plot(kind='bar', xticks=range(2010, 2019, 1), ax=axis, linewidth=3, color=color)\n",
    "    axis.set_ylabel('Percentage', fontsize=12)\n",
    "    axis.legend([genre], loc=2, fontsize=15)\n",
    "    \n",
    "    # Put the count of how many movies breakeven above each bar\n",
    "    autolabel_with_count(axis, grp_count.values)\n",
    "    \n",
    "plt.tight_layout() "
   ]
  },
  {
   "cell_type": "code",
   "execution_count": 31,
   "metadata": {},
   "outputs": [
    {
     "data": {
      "image/png": "[encoded data removed]",
      "text/plain": [
       "<Figure size 1728x648 with 1 Axes>"
      ]
     },
     "metadata": {
      "needs_background": "light"
     },
     "output_type": "display_data"
    }
   ],
   "source": [
    "# Sort the genres in descending order of mean adjusted production budgets\n",
    "\n",
    "# All genres\n",
    "genres = ['adventure', 'action', 'drama', 'comedy', 'thriller_suspense', 'horror']\n",
    "\n",
    "# Dictionary of genres and their mean production budgets\n",
    "genres_all_time_budgets = {genre: round(data[data[genre]]['budget_adj'].sum() / 1000000, 1) for genre in genres}\n",
    "\n",
    "# Sorted list of genres in descending order of mean domestic adjusted gross\n",
    "genres_all_time_budgets_sorted = sorted(genres_all_time_budgets.items(), key=lambda x: x[1], reverse=True)\n",
    "\n",
    "all_time_budgets_by_genre_df = pd.DataFrame(genres_all_time_budgets_sorted)\n",
    "\n",
    "all_time_budgets_by_genre_df.set_index(0, inplace=True)\n",
    "\n",
    "figure, axis = plt.subplots(nrows=1, ncols=1, figsize=(24, 9))\n",
    "figure.suptitle('All Time Budgets Per Genre', fontsize=20, y=1.02)\n",
    "\n",
    "all_time_budgets_by_genre_df.plot(kind='bar', ax=axis, color=colors[2], legend=False)\n",
    "axis.set_ylabel('Millions of Dollars', fontsize=20)\n",
    "axis.set_xlabel('')\n",
    "axis.tick_params(labelsize=20)\n",
    "autolabel(axis)\n",
    "\n",
    "plt.tight_layout()"
   ]
  },
  {
   "cell_type": "code",
   "execution_count": 43,
   "metadata": {},
   "outputs": [
    {
     "name": "stdout",
     "output_type": "stream",
     "text": [
      "49880213850.0\n",
      "31717209238.0\n",
      "45185011274.0\n",
      "28051883971.0\n",
      "20600691081.0\n",
      "11376150551.0\n"
     ]
    }
   ],
   "source": [
    "print(data[data['action']]['budget_adj'].sum())\n",
    "print(data[data['adventure']]['budget_adj'].sum())\n",
    "print(data[data['comedy']]['budget_adj'].sum())\n",
    "print(data[data['drama']]['budget_adj'].sum())\n",
    "print(data[data['thriller_suspense']]['budget_adj'].sum())\n",
    "print(data[data['horror']]['budget_adj'].sum())"
   ]
  },
  {
   "cell_type": "code",
   "execution_count": 36,
   "metadata": {},
   "outputs": [
    {
     "name": "stderr",
     "output_type": "stream",
     "text": [
      "C:\\Users\\Colin\\Anaconda3\\lib\\site-packages\\ipykernel_launcher.py:1: FutureWarning: Sorting because non-concatenation axis is not aligned. A future version\n",
      "of pandas will change to not sort by default.\n",
      "\n",
      "To accept the future behavior, pass 'sort=False'.\n",
      "\n",
      "To retain the current behavior and silence the warning, pass 'sort=True'.\n",
      "\n",
      "  \"\"\"Entry point for launching an IPython kernel.\n"
     ]
    },
    {
     "ename": "ValueError",
     "evalue": "Length mismatch: Expected axis has 2 elements, new values have 4 elements",
     "output_type": "error",
     "traceback": [
      "\u001b[1;31m---------------------------------------------------------------------------\u001b[0m",
      "\u001b[1;31mValueError\u001b[0m                                Traceback (most recent call last)",
      "\u001b[1;32m<ipython-input-36-a73704d26173>\u001b[0m in \u001b[0;36m<module>\u001b[1;34m\u001b[0m\n\u001b[0;32m      1\u001b[0m \u001b[0msummary_df\u001b[0m \u001b[1;33m=\u001b[0m \u001b[0mpd\u001b[0m\u001b[1;33m.\u001b[0m\u001b[0mconcat\u001b[0m\u001b[1;33m(\u001b[0m\u001b[1;33m[\u001b[0m\u001b[0mgenres_mean_domestic_df\u001b[0m\u001b[1;33m,\u001b[0m \u001b[0mnum_movies_by_genre_df\u001b[0m\u001b[1;33m]\u001b[0m\u001b[1;33m,\u001b[0m \u001b[0maxis\u001b[0m\u001b[1;33m=\u001b[0m\u001b[1;36m1\u001b[0m\u001b[1;33m)\u001b[0m\u001b[1;33m\u001b[0m\u001b[1;33m\u001b[0m\u001b[0m\n\u001b[1;32m----> 2\u001b[1;33m \u001b[0msummary_df\u001b[0m\u001b[1;33m.\u001b[0m\u001b[0mcolumns\u001b[0m \u001b[1;33m=\u001b[0m \u001b[1;33m[\u001b[0m\u001b[1;34m'mean_domestic'\u001b[0m\u001b[1;33m,\u001b[0m \u001b[1;34m'num_movies'\u001b[0m\u001b[1;33m,\u001b[0m \u001b[1;34m'expected_historical_value'\u001b[0m\u001b[1;33m,\u001b[0m \u001b[1;34m'all_time_budget_total'\u001b[0m\u001b[1;33m]\u001b[0m\u001b[1;33m\u001b[0m\u001b[1;33m\u001b[0m\u001b[0m\n\u001b[0m",
      "\u001b[1;32mC:\\Users\\Colin\\Anaconda3\\lib\\site-packages\\pandas\\core\\generic.py\u001b[0m in \u001b[0;36m__setattr__\u001b[1;34m(self, name, value)\u001b[0m\n\u001b[0;32m   5078\u001b[0m         \u001b[1;32mtry\u001b[0m\u001b[1;33m:\u001b[0m\u001b[1;33m\u001b[0m\u001b[1;33m\u001b[0m\u001b[0m\n\u001b[0;32m   5079\u001b[0m             \u001b[0mobject\u001b[0m\u001b[1;33m.\u001b[0m\u001b[0m__getattribute__\u001b[0m\u001b[1;33m(\u001b[0m\u001b[0mself\u001b[0m\u001b[1;33m,\u001b[0m \u001b[0mname\u001b[0m\u001b[1;33m)\u001b[0m\u001b[1;33m\u001b[0m\u001b[1;33m\u001b[0m\u001b[0m\n\u001b[1;32m-> 5080\u001b[1;33m             \u001b[1;32mreturn\u001b[0m \u001b[0mobject\u001b[0m\u001b[1;33m.\u001b[0m\u001b[0m__setattr__\u001b[0m\u001b[1;33m(\u001b[0m\u001b[0mself\u001b[0m\u001b[1;33m,\u001b[0m \u001b[0mname\u001b[0m\u001b[1;33m,\u001b[0m \u001b[0mvalue\u001b[0m\u001b[1;33m)\u001b[0m\u001b[1;33m\u001b[0m\u001b[1;33m\u001b[0m\u001b[0m\n\u001b[0m\u001b[0;32m   5081\u001b[0m         \u001b[1;32mexcept\u001b[0m \u001b[0mAttributeError\u001b[0m\u001b[1;33m:\u001b[0m\u001b[1;33m\u001b[0m\u001b[1;33m\u001b[0m\u001b[0m\n\u001b[0;32m   5082\u001b[0m             \u001b[1;32mpass\u001b[0m\u001b[1;33m\u001b[0m\u001b[1;33m\u001b[0m\u001b[0m\n",
      "\u001b[1;32mpandas\\_libs\\properties.pyx\u001b[0m in \u001b[0;36mpandas._libs.properties.AxisProperty.__set__\u001b[1;34m()\u001b[0m\n",
      "\u001b[1;32mC:\\Users\\Colin\\Anaconda3\\lib\\site-packages\\pandas\\core\\generic.py\u001b[0m in \u001b[0;36m_set_axis\u001b[1;34m(self, axis, labels)\u001b[0m\n\u001b[0;32m    636\u001b[0m \u001b[1;33m\u001b[0m\u001b[0m\n\u001b[0;32m    637\u001b[0m     \u001b[1;32mdef\u001b[0m \u001b[0m_set_axis\u001b[0m\u001b[1;33m(\u001b[0m\u001b[0mself\u001b[0m\u001b[1;33m,\u001b[0m \u001b[0maxis\u001b[0m\u001b[1;33m,\u001b[0m \u001b[0mlabels\u001b[0m\u001b[1;33m)\u001b[0m\u001b[1;33m:\u001b[0m\u001b[1;33m\u001b[0m\u001b[1;33m\u001b[0m\u001b[0m\n\u001b[1;32m--> 638\u001b[1;33m         \u001b[0mself\u001b[0m\u001b[1;33m.\u001b[0m\u001b[0m_data\u001b[0m\u001b[1;33m.\u001b[0m\u001b[0mset_axis\u001b[0m\u001b[1;33m(\u001b[0m\u001b[0maxis\u001b[0m\u001b[1;33m,\u001b[0m \u001b[0mlabels\u001b[0m\u001b[1;33m)\u001b[0m\u001b[1;33m\u001b[0m\u001b[1;33m\u001b[0m\u001b[0m\n\u001b[0m\u001b[0;32m    639\u001b[0m         \u001b[0mself\u001b[0m\u001b[1;33m.\u001b[0m\u001b[0m_clear_item_cache\u001b[0m\u001b[1;33m(\u001b[0m\u001b[1;33m)\u001b[0m\u001b[1;33m\u001b[0m\u001b[1;33m\u001b[0m\u001b[0m\n\u001b[0;32m    640\u001b[0m \u001b[1;33m\u001b[0m\u001b[0m\n",
      "\u001b[1;32mC:\\Users\\Colin\\Anaconda3\\lib\\site-packages\\pandas\\core\\internals\\managers.py\u001b[0m in \u001b[0;36mset_axis\u001b[1;34m(self, axis, new_labels)\u001b[0m\n\u001b[0;32m    153\u001b[0m             raise ValueError(\n\u001b[0;32m    154\u001b[0m                 \u001b[1;34m'Length mismatch: Expected axis has {old} elements, new '\u001b[0m\u001b[1;33m\u001b[0m\u001b[1;33m\u001b[0m\u001b[0m\n\u001b[1;32m--> 155\u001b[1;33m                 'values have {new} elements'.format(old=old_len, new=new_len))\n\u001b[0m\u001b[0;32m    156\u001b[0m \u001b[1;33m\u001b[0m\u001b[0m\n\u001b[0;32m    157\u001b[0m         \u001b[0mself\u001b[0m\u001b[1;33m.\u001b[0m\u001b[0maxes\u001b[0m\u001b[1;33m[\u001b[0m\u001b[0maxis\u001b[0m\u001b[1;33m]\u001b[0m \u001b[1;33m=\u001b[0m \u001b[0mnew_labels\u001b[0m\u001b[1;33m\u001b[0m\u001b[1;33m\u001b[0m\u001b[0m\n",
      "\u001b[1;31mValueError\u001b[0m: Length mismatch: Expected axis has 2 elements, new values have 4 elements"
     ]
    }
   ],
   "source": [
    "summary_df = pd.concat([genres_mean_domestic_df, num_movies_by_genre_df], axis=1)\n",
    "summary_df.columns = ['mean_domestic', 'num_movies', 'expected_historical_value', 'all_time_budget_total']"
   ]
  },
  {
   "cell_type": "code",
   "execution_count": 41,
   "metadata": {},
   "outputs": [],
   "source": [
    "all_time_budgets_by_genre_df.sort_index(inplace=True)\n",
    "summary_df = pd.concat([summary_df, all_time_budgets_by_genre_df], axis=1)\n",
    "summary_df.columns = ['mean_domestic', 'num_movies', 'expected_historical_value', 'all_time_budget_total']"
   ]
  },
  {
   "cell_type": "code",
   "execution_count": 42,
   "metadata": {},
   "outputs": [
    {
     "data": {
      "text/html": [
       "<div>\n",
       "<style scoped>\n",
       "    .dataframe tbody tr th:only-of-type {\n",
       "        vertical-align: middle;\n",
       "    }\n",
       "\n",
       "    .dataframe tbody tr th {\n",
       "        vertical-align: top;\n",
       "    }\n",
       "\n",
       "    .dataframe thead th {\n",
       "        text-align: right;\n",
       "    }\n",
       "</style>\n",
       "<table border=\"1\" class=\"dataframe\">\n",
       "  <thead>\n",
       "    <tr style=\"text-align: right;\">\n",
       "      <th></th>\n",
       "      <th>mean_domestic</th>\n",
       "      <th>num_movies</th>\n",
       "      <th>expected_historical_value</th>\n",
       "      <th>all_time_budget_total</th>\n",
       "    </tr>\n",
       "    <tr>\n",
       "      <th>0</th>\n",
       "      <th></th>\n",
       "      <th></th>\n",
       "      <th></th>\n",
       "      <th></th>\n",
       "    </tr>\n",
       "  </thead>\n",
       "  <tbody>\n",
       "    <tr>\n",
       "      <th>action</th>\n",
       "      <td>116.6</td>\n",
       "      <td>669</td>\n",
       "      <td>49880.2</td>\n",
       "      <td>49880.2</td>\n",
       "    </tr>\n",
       "    <tr>\n",
       "      <th>adventure</th>\n",
       "      <td>151.0</td>\n",
       "      <td>366</td>\n",
       "      <td>31717.2</td>\n",
       "      <td>31717.2</td>\n",
       "    </tr>\n",
       "    <tr>\n",
       "      <th>comedy</th>\n",
       "      <td>65.6</td>\n",
       "      <td>1737</td>\n",
       "      <td>45185.0</td>\n",
       "      <td>45185.0</td>\n",
       "    </tr>\n",
       "    <tr>\n",
       "      <th>drama</th>\n",
       "      <td>50.3</td>\n",
       "      <td>1166</td>\n",
       "      <td>28051.9</td>\n",
       "      <td>28051.9</td>\n",
       "    </tr>\n",
       "    <tr>\n",
       "      <th>horror</th>\n",
       "      <td>76.9</td>\n",
       "      <td>378</td>\n",
       "      <td>11376.2</td>\n",
       "      <td>11376.2</td>\n",
       "    </tr>\n",
       "    <tr>\n",
       "      <th>thriller_suspense</th>\n",
       "      <td>65.3</td>\n",
       "      <td>558</td>\n",
       "      <td>20600.7</td>\n",
       "      <td>20600.7</td>\n",
       "    </tr>\n",
       "  </tbody>\n",
       "</table>\n",
       "</div>"
      ],
      "text/plain": [
       "                   mean_domestic  num_movies  expected_historical_value  \\\n",
       "0                                                                         \n",
       "action                     116.6         669                    49880.2   \n",
       "adventure                  151.0         366                    31717.2   \n",
       "comedy                      65.6        1737                    45185.0   \n",
       "drama                       50.3        1166                    28051.9   \n",
       "horror                      76.9         378                    11376.2   \n",
       "thriller_suspense           65.3         558                    20600.7   \n",
       "\n",
       "                   all_time_budget_total  \n",
       "0                                         \n",
       "action                           49880.2  \n",
       "adventure                        31717.2  \n",
       "comedy                           45185.0  \n",
       "drama                            28051.9  \n",
       "horror                           11376.2  \n",
       "thriller_suspense                20600.7  "
      ]
     },
     "execution_count": 42,
     "metadata": {},
     "output_type": "execute_result"
    }
   ],
   "source": [
    "summary_df"
   ]
  },
  {
   "cell_type": "code",
   "execution_count": null,
   "metadata": {},
   "outputs": [],
   "source": []
  },
  {
   "cell_type": "code",
   "execution_count": null,
   "metadata": {},
   "outputs": [],
   "source": []
  },
  {
   "cell_type": "code",
   "execution_count": null,
   "metadata": {},
   "outputs": [],
   "source": [
    "# Sort the genres in descending order of mean domestic adjusted gross\n",
    "\n",
    "# All genres\n",
    "genres = ['adventure', 'action', 'drama', 'comedy', 'thriller_suspense', 'horror']\n",
    "\n",
    "# Dictionary of genres and their mean domestic adjusted gross\n",
    "genres_mean_domestic = {genre: round(data[data[genre]]['domestic_adj'].mean() / 1000000, 1) for genre in genres}\n",
    "\n",
    "# Sorted list of genres in descending order of mean domestic adjusted gross\n",
    "genres_mean_domestic_sorted = sorted(genres_mean_domestic.items(), key=lambda x: x[1], reverse=True)\n",
    "\n",
    "genres_mean_domestic_df = pd.DataFrame(genres_mean_domestic_sorted)\n",
    "\n",
    "genres_mean_domestic_df.set_index(0, inplace=True)\n",
    "\n",
    "figure, axis = plt.subplots(nrows=1, ncols=1, figsize=(24, 9))\n",
    "figure.suptitle('Mean Domestic Gross Per Genre', fontsize=20, y=1.02)\n",
    "\n",
    "genres_mean_domestic_df.plot(kind='bar', ax=axis, color=colors[1], legend=False)\n",
    "axis.set_ylabel('Millions of Dollars', fontsize=20)\n",
    "axis.set_xlabel('')\n",
    "axis.tick_params(labelsize=20)\n",
    "autolabel(axis)\n",
    "\n",
    "plt.tight_layout()"
   ]
  },
  {
   "cell_type": "code",
   "execution_count": 30,
   "metadata": {},
   "outputs": [
    {
     "data": {
      "text/html": [
       "<div>\n",
       "<style scoped>\n",
       "    .dataframe tbody tr th:only-of-type {\n",
       "        vertical-align: middle;\n",
       "    }\n",
       "\n",
       "    .dataframe tbody tr th {\n",
       "        vertical-align: top;\n",
       "    }\n",
       "\n",
       "    .dataframe thead th {\n",
       "        text-align: right;\n",
       "    }\n",
       "</style>\n",
       "<table border=\"1\" class=\"dataframe\">\n",
       "  <thead>\n",
       "    <tr style=\"text-align: right;\">\n",
       "      <th></th>\n",
       "      <th>mean_domestic</th>\n",
       "      <th>num_movies</th>\n",
       "      <th>expected_historical_value</th>\n",
       "    </tr>\n",
       "    <tr>\n",
       "      <th>0</th>\n",
       "      <th></th>\n",
       "      <th></th>\n",
       "      <th></th>\n",
       "    </tr>\n",
       "  </thead>\n",
       "  <tbody>\n",
       "    <tr>\n",
       "      <th>action</th>\n",
       "      <td>116.6</td>\n",
       "      <td>669</td>\n",
       "      <td>78005.4</td>\n",
       "    </tr>\n",
       "    <tr>\n",
       "      <th>adventure</th>\n",
       "      <td>151.0</td>\n",
       "      <td>366</td>\n",
       "      <td>55266.0</td>\n",
       "    </tr>\n",
       "    <tr>\n",
       "      <th>comedy</th>\n",
       "      <td>65.6</td>\n",
       "      <td>1737</td>\n",
       "      <td>113947.2</td>\n",
       "    </tr>\n",
       "    <tr>\n",
       "      <th>drama</th>\n",
       "      <td>50.3</td>\n",
       "      <td>1166</td>\n",
       "      <td>58649.8</td>\n",
       "    </tr>\n",
       "    <tr>\n",
       "      <th>horror</th>\n",
       "      <td>76.9</td>\n",
       "      <td>378</td>\n",
       "      <td>29068.2</td>\n",
       "    </tr>\n",
       "    <tr>\n",
       "      <th>thriller_suspense</th>\n",
       "      <td>65.3</td>\n",
       "      <td>558</td>\n",
       "      <td>36437.4</td>\n",
       "    </tr>\n",
       "  </tbody>\n",
       "</table>\n",
       "</div>"
      ],
      "text/plain": [
       "                   mean_domestic  num_movies  expected_historical_value\n",
       "0                                                                      \n",
       "action                     116.6         669                    78005.4\n",
       "adventure                  151.0         366                    55266.0\n",
       "comedy                      65.6        1737                   113947.2\n",
       "drama                       50.3        1166                    58649.8\n",
       "horror                      76.9         378                    29068.2\n",
       "thriller_suspense           65.3         558                    36437.4"
      ]
     },
     "execution_count": 30,
     "metadata": {},
     "output_type": "execute_result"
    }
   ],
   "source": [
    "summary_df"
   ]
  },
  {
   "cell_type": "code",
   "execution_count": null,
   "metadata": {},
   "outputs": [],
   "source": []
  },
  {
   "cell_type": "code",
   "execution_count": 59,
   "metadata": {},
   "outputs": [
    {
     "data": {
      "text/plain": [
       "{'action': [669, 116.6, 77996.4, 101.0, 49880.2, 1.6, 1.0],\n",
       " 'adventure': [366, 151.0, 55281.9, 121.5, 31717.2, 1.7, 1.2],\n",
       " 'comedy': [1737, 65.6, 114009.4, 45.2, 45185.0, 2.5, 1.7],\n",
       " 'drama': [1166, 50.3, 58622.1, 40.5, 28051.9, 2.1, 1.4],\n",
       " 'horror': [378, 76.9, 29052.2, 43.6, 11376.2, 2.6, 1.7],\n",
       " 'thriller_suspense': [558, 65.3, 36418.6, 55.8, 20600.7, 1.8, 1.2]}"
      ]
     },
     "execution_count": 59,
     "metadata": {},
     "output_type": "execute_result"
    }
   ],
   "source": [
    "genres = ['action', 'adventure', 'comedy', 'drama', 'horror', 'thriller_suspense']\n",
    "#colors = ['b', 'g', 'r', 'c', 'm', 'y', 'k', 'w']\n",
    "\n",
    "# Create a summary dataframe by genre\n",
    "# Number of movies\n",
    "# Average gross\n",
    "# All-time gross\n",
    "# Average budget\n",
    "# All-time budget\n",
    "# Dollar earned for dollar spent (not including marketing)\n",
    "# Dollar earned for dollar spent (including marketing)\n",
    "\n",
    "aggregation_stats_per_genre = {\n",
    "    genre: [sum(data[genre]),\n",
    "            round(data[data[genre]]['domestic_adj'].mean() / 1000000, 1),\n",
    "            round(data[data[genre]]['domestic_adj'].sum() / 1000000, 1),\n",
    "            round(data[data[genre]]['budget_adj'].mean() / 1000000, 1),\n",
    "            round(data[data[genre]]['budget_adj'].sum() / 1000000, 1),\n",
    "            round((data[data[genre]]['domestic_adj'].sum() / 1000000) / (data[data[genre]]['budget_adj'].sum() / 1000000), 1),\n",
    "            round((data[data[genre]]['domestic_adj'].sum() / 1000000) / (1.5 * data[data[genre]]['budget_adj'].sum() / 1000000), 1)\n",
    "           ] for genre in genres}\n",
    "\n",
    "aggregation_stats_per_genre\n",
    "\n",
    "# # Dictionary of genres and the amount of movies each has\n",
    "# num_movies_per_genre = {genre: sum(data[genre]) for genre in genres}\n",
    "\n",
    "# # Sorted list of genres in descending order of number of movies\n",
    "# num_movies_per_genre_sorted = sorted(num_movies_per_genre.items(), key=lambda x: x[1], reverse=True)\n",
    "\n",
    "# num_movies_by_genre_df = pd.DataFrame(num_movies_per_genre_sorted)\n",
    "\n",
    "# num_movies_by_genre_df.set_index(0, inplace=True)\n",
    "\n"
   ]
  },
  {
   "cell_type": "code",
   "execution_count": 68,
   "metadata": {},
   "outputs": [
    {
     "data": {
      "text/html": [
       "<div>\n",
       "<style scoped>\n",
       "    .dataframe tbody tr th:only-of-type {\n",
       "        vertical-align: middle;\n",
       "    }\n",
       "\n",
       "    .dataframe tbody tr th {\n",
       "        vertical-align: top;\n",
       "    }\n",
       "\n",
       "    .dataframe thead th {\n",
       "        text-align: right;\n",
       "    }\n",
       "</style>\n",
       "<table border=\"1\" class=\"dataframe\">\n",
       "  <thead>\n",
       "    <tr style=\"text-align: right;\">\n",
       "      <th></th>\n",
       "      <th>num_movies</th>\n",
       "      <th>avg_gross</th>\n",
       "      <th>all_time_gross</th>\n",
       "      <th>avg_budget</th>\n",
       "      <th>all_time_budget</th>\n",
       "      <th>dollar_for_dollar_no_marketing</th>\n",
       "      <th>dollar_for_dollar_wit_marketing</th>\n",
       "    </tr>\n",
       "  </thead>\n",
       "  <tbody>\n",
       "    <tr>\n",
       "      <th>action</th>\n",
       "      <td>669</td>\n",
       "      <td>116.6</td>\n",
       "      <td>77996.4</td>\n",
       "      <td>101.0</td>\n",
       "      <td>49880.2</td>\n",
       "      <td>1.6</td>\n",
       "      <td>1.0</td>\n",
       "    </tr>\n",
       "    <tr>\n",
       "      <th>adventure</th>\n",
       "      <td>366</td>\n",
       "      <td>151.0</td>\n",
       "      <td>55281.9</td>\n",
       "      <td>121.5</td>\n",
       "      <td>31717.2</td>\n",
       "      <td>1.7</td>\n",
       "      <td>1.2</td>\n",
       "    </tr>\n",
       "    <tr>\n",
       "      <th>comedy</th>\n",
       "      <td>1737</td>\n",
       "      <td>65.6</td>\n",
       "      <td>114009.4</td>\n",
       "      <td>45.2</td>\n",
       "      <td>45185.0</td>\n",
       "      <td>2.5</td>\n",
       "      <td>1.7</td>\n",
       "    </tr>\n",
       "    <tr>\n",
       "      <th>drama</th>\n",
       "      <td>1166</td>\n",
       "      <td>50.3</td>\n",
       "      <td>58622.1</td>\n",
       "      <td>40.5</td>\n",
       "      <td>28051.9</td>\n",
       "      <td>2.1</td>\n",
       "      <td>1.4</td>\n",
       "    </tr>\n",
       "    <tr>\n",
       "      <th>horror</th>\n",
       "      <td>378</td>\n",
       "      <td>76.9</td>\n",
       "      <td>29052.2</td>\n",
       "      <td>43.6</td>\n",
       "      <td>11376.2</td>\n",
       "      <td>2.6</td>\n",
       "      <td>1.7</td>\n",
       "    </tr>\n",
       "    <tr>\n",
       "      <th>thriller_suspense</th>\n",
       "      <td>558</td>\n",
       "      <td>65.3</td>\n",
       "      <td>36418.6</td>\n",
       "      <td>55.8</td>\n",
       "      <td>20600.7</td>\n",
       "      <td>1.8</td>\n",
       "      <td>1.2</td>\n",
       "    </tr>\n",
       "  </tbody>\n",
       "</table>\n",
       "</div>"
      ],
      "text/plain": [
       "                   num_movies  avg_gross  all_time_gross  avg_budget  \\\n",
       "action                    669      116.6         77996.4       101.0   \n",
       "adventure                 366      151.0         55281.9       121.5   \n",
       "comedy                   1737       65.6        114009.4        45.2   \n",
       "drama                    1166       50.3         58622.1        40.5   \n",
       "horror                    378       76.9         29052.2        43.6   \n",
       "thriller_suspense         558       65.3         36418.6        55.8   \n",
       "\n",
       "                   all_time_budget  dollar_for_dollar_no_marketing  \\\n",
       "action                     49880.2                             1.6   \n",
       "adventure                  31717.2                             1.7   \n",
       "comedy                     45185.0                             2.5   \n",
       "drama                      28051.9                             2.1   \n",
       "horror                     11376.2                             2.6   \n",
       "thriller_suspense          20600.7                             1.8   \n",
       "\n",
       "                   dollar_for_dollar_wit_marketing  \n",
       "action                                         1.0  \n",
       "adventure                                      1.2  \n",
       "comedy                                         1.7  \n",
       "drama                                          1.4  \n",
       "horror                                         1.7  \n",
       "thriller_suspense                              1.2  "
      ]
     },
     "execution_count": 68,
     "metadata": {},
     "output_type": "execute_result"
    }
   ],
   "source": [
    "df = pd.DataFrame(blerg, index=genres)\n",
    "df"
   ]
  },
  {
   "cell_type": "code",
   "execution_count": null,
   "metadata": {},
   "outputs": [],
   "source": []
  },
  {
   "cell_type": "code",
   "execution_count": null,
   "metadata": {},
   "outputs": [],
   "source": []
  },
  {
   "cell_type": "code",
   "execution_count": null,
   "metadata": {},
   "outputs": [],
   "source": []
  },
  {
   "cell_type": "code",
   "execution_count": 69,
   "metadata": {},
   "outputs": [],
   "source": [
    "# Number of movies\n",
    "# Average gross\n",
    "# All-time gross\n",
    "# Average budget\n",
    "# All-time budget\n",
    "# Dollar earned for dollar spent (not including marketing)\n",
    "# Dollar earned for dollar spent (including marketing)\n",
    "\n",
    "\n",
    "aggregation_stats_per_genre = {\n",
    "    'num_movies': [sum(data[genre]) for genre in genres],\n",
    "    'avg_gross': [round(data[data[genre]]['domestic_adj'].mean() / 1000000, 1) for genre in genres],\n",
    "    'all_time_gross': [round(data[data[genre]]['domestic_adj'].sum() / 1000000, 1) for genre in genres],\n",
    "    'avg_budget': [round(data[data[genre]]['budget_adj'].mean() / 1000000, 1) for genre in genres],\n",
    "    'all_time_budget': [round(data[data[genre]]['budget_adj'].sum() / 1000000, 1) for genre in genres],\n",
    "    'dollar_for_dollar_no_marketing': [round((data[data[genre]]['domestic_adj'].sum() / 1000000) / (data[data[genre]]['budget_adj'].sum() / 1000000), 1) for genre in genres],\n",
    "    'dollar_for_dollar_wit_marketing': [round((data[data[genre]]['domestic_adj'].sum() / 1000000) / (1.5 * data[data[genre]]['budget_adj'].sum() / 1000000), 1) for genre in genres]\n",
    "}"
   ]
  },
  {
   "cell_type": "code",
   "execution_count": 70,
   "metadata": {},
   "outputs": [
    {
     "data": {
      "text/html": [
       "<div>\n",
       "<style scoped>\n",
       "    .dataframe tbody tr th:only-of-type {\n",
       "        vertical-align: middle;\n",
       "    }\n",
       "\n",
       "    .dataframe tbody tr th {\n",
       "        vertical-align: top;\n",
       "    }\n",
       "\n",
       "    .dataframe thead th {\n",
       "        text-align: right;\n",
       "    }\n",
       "</style>\n",
       "<table border=\"1\" class=\"dataframe\">\n",
       "  <thead>\n",
       "    <tr style=\"text-align: right;\">\n",
       "      <th></th>\n",
       "      <th>num_movies</th>\n",
       "      <th>avg_gross</th>\n",
       "      <th>all_time_gross</th>\n",
       "      <th>avg_budget</th>\n",
       "      <th>all_time_budget</th>\n",
       "      <th>dollar_for_dollar_no_marketing</th>\n",
       "      <th>dollar_for_dollar_wit_marketing</th>\n",
       "    </tr>\n",
       "  </thead>\n",
       "  <tbody>\n",
       "    <tr>\n",
       "      <th>action</th>\n",
       "      <td>669</td>\n",
       "      <td>116.6</td>\n",
       "      <td>77996.4</td>\n",
       "      <td>101.0</td>\n",
       "      <td>49880.2</td>\n",
       "      <td>1.6</td>\n",
       "      <td>1.0</td>\n",
       "    </tr>\n",
       "    <tr>\n",
       "      <th>adventure</th>\n",
       "      <td>366</td>\n",
       "      <td>151.0</td>\n",
       "      <td>55281.9</td>\n",
       "      <td>121.5</td>\n",
       "      <td>31717.2</td>\n",
       "      <td>1.7</td>\n",
       "      <td>1.2</td>\n",
       "    </tr>\n",
       "    <tr>\n",
       "      <th>comedy</th>\n",
       "      <td>1737</td>\n",
       "      <td>65.6</td>\n",
       "      <td>114009.4</td>\n",
       "      <td>45.2</td>\n",
       "      <td>45185.0</td>\n",
       "      <td>2.5</td>\n",
       "      <td>1.7</td>\n",
       "    </tr>\n",
       "    <tr>\n",
       "      <th>drama</th>\n",
       "      <td>1166</td>\n",
       "      <td>50.3</td>\n",
       "      <td>58622.1</td>\n",
       "      <td>40.5</td>\n",
       "      <td>28051.9</td>\n",
       "      <td>2.1</td>\n",
       "      <td>1.4</td>\n",
       "    </tr>\n",
       "    <tr>\n",
       "      <th>horror</th>\n",
       "      <td>378</td>\n",
       "      <td>76.9</td>\n",
       "      <td>29052.2</td>\n",
       "      <td>43.6</td>\n",
       "      <td>11376.2</td>\n",
       "      <td>2.6</td>\n",
       "      <td>1.7</td>\n",
       "    </tr>\n",
       "    <tr>\n",
       "      <th>thriller_suspense</th>\n",
       "      <td>558</td>\n",
       "      <td>65.3</td>\n",
       "      <td>36418.6</td>\n",
       "      <td>55.8</td>\n",
       "      <td>20600.7</td>\n",
       "      <td>1.8</td>\n",
       "      <td>1.2</td>\n",
       "    </tr>\n",
       "  </tbody>\n",
       "</table>\n",
       "</div>"
      ],
      "text/plain": [
       "                   num_movies  avg_gross  all_time_gross  avg_budget  \\\n",
       "action                    669      116.6         77996.4       101.0   \n",
       "adventure                 366      151.0         55281.9       121.5   \n",
       "comedy                   1737       65.6        114009.4        45.2   \n",
       "drama                    1166       50.3         58622.1        40.5   \n",
       "horror                    378       76.9         29052.2        43.6   \n",
       "thriller_suspense         558       65.3         36418.6        55.8   \n",
       "\n",
       "                   all_time_budget  dollar_for_dollar_no_marketing  \\\n",
       "action                     49880.2                             1.6   \n",
       "adventure                  31717.2                             1.7   \n",
       "comedy                     45185.0                             2.5   \n",
       "drama                      28051.9                             2.1   \n",
       "horror                     11376.2                             2.6   \n",
       "thriller_suspense          20600.7                             1.8   \n",
       "\n",
       "                   dollar_for_dollar_wit_marketing  \n",
       "action                                         1.0  \n",
       "adventure                                      1.2  \n",
       "comedy                                         1.7  \n",
       "drama                                          1.4  \n",
       "horror                                         1.7  \n",
       "thriller_suspense                              1.2  "
      ]
     },
     "execution_count": 70,
     "metadata": {},
     "output_type": "execute_result"
    }
   ],
   "source": [
    "df = pd.DataFrame(aggregation_stats_per_genre, index=genres)\n",
    "df"
   ]
  },
  {
   "cell_type": "code",
   "execution_count": 76,
   "metadata": {},
   "outputs": [
    {
     "data": {
      "text/plain": [
       "<matplotlib.axes._subplots.AxesSubplot at 0x1e7d0822518>"
      ]
     },
     "execution_count": 76,
     "metadata": {},
     "output_type": "execute_result"
    },
    {
     "data": {
      "image/png": "[encoded data removed]",
      "text/plain": [
       "<Figure size 432x288 with 1 Axes>"
      ]
     },
     "metadata": {
      "needs_background": "light"
     },
     "output_type": "display_data"
    }
   ],
   "source": [
    "df.sort_values(by='avg_gross', ascending=False, inplace=True)\n",
    "df.plot(y='avg_gross', kind='bar')"
   ]
  },
  {
   "cell_type": "code",
   "execution_count": null,
   "metadata": {},
   "outputs": [],
   "source": []
  },
  {
   "cell_type": "code",
   "execution_count": null,
   "metadata": {},
   "outputs": [],
   "source": []
  },
  {
   "cell_type": "code",
   "execution_count": null,
   "metadata": {},
   "outputs": [],
   "source": []
  },
  {
   "cell_type": "code",
   "execution_count": null,
   "metadata": {},
   "outputs": [],
   "source": [
    "# Sort the genres in descending order of mean domestic adjusted gross\n",
    "\n",
    "# All genres\n",
    "genres = ['adventure', 'action', 'drama', 'comedy', 'thriller_suspense', 'horror']\n",
    "\n",
    "# Dictionary of genres and their mean domestic adjusted gross\n",
    "genres_mean_domestic = {genre: round(data[data[genre]]['domestic_adj'].mean() / 1000000, 1) for genre in genres}\n",
    "\n",
    "# Sorted list of genres in descending order of mean domestic adjusted gross\n",
    "genres_mean_domestic_sorted = sorted(genres_mean_domestic.items(), key=lambda x: x[1], reverse=True)\n",
    "\n",
    "genres_mean_domestic_df = pd.DataFrame(genres_mean_domestic_sorted)\n",
    "\n",
    "genres_mean_domestic_df.set_index(0, inplace=True)\n",
    "\n"
   ]
  },
  {
   "cell_type": "code",
   "execution_count": 50,
   "metadata": {},
   "outputs": [
    {
     "data": {
      "text/plain": [
       "45185.011274"
      ]
     },
     "execution_count": 50,
     "metadata": {},
     "output_type": "execute_result"
    }
   ],
   "source": [
    "data[data['comedy']]['budget_adj'].sum() / 1000000"
   ]
  },
  {
   "cell_type": "code",
   "execution_count": null,
   "metadata": {},
   "outputs": [],
   "source": []
  },
  {
   "cell_type": "code",
   "execution_count": null,
   "metadata": {},
   "outputs": [],
   "source": []
  },
  {
   "cell_type": "code",
   "execution_count": null,
   "metadata": {},
   "outputs": [],
   "source": []
  },
  {
   "cell_type": "code",
   "execution_count": null,
   "metadata": {},
   "outputs": [],
   "source": []
  },
  {
   "cell_type": "code",
   "execution_count": null,
   "metadata": {},
   "outputs": [],
   "source": []
  },
  {
   "cell_type": "code",
   "execution_count": null,
   "metadata": {},
   "outputs": [],
   "source": []
  },
  {
   "cell_type": "code",
   "execution_count": null,
   "metadata": {},
   "outputs": [],
   "source": []
  },
  {
   "cell_type": "code",
   "execution_count": null,
   "metadata": {},
   "outputs": [],
   "source": []
  },
  {
   "cell_type": "code",
   "execution_count": null,
   "metadata": {},
   "outputs": [],
   "source": []
  },
  {
   "cell_type": "code",
   "execution_count": null,
   "metadata": {},
   "outputs": [],
   "source": []
  },
  {
   "cell_type": "code",
   "execution_count": null,
   "metadata": {},
   "outputs": [],
   "source": []
  },
  {
   "cell_type": "code",
   "execution_count": null,
   "metadata": {},
   "outputs": [],
   "source": []
  },
  {
   "cell_type": "code",
   "execution_count": null,
   "metadata": {},
   "outputs": [],
   "source": []
  },
  {
   "cell_type": "code",
   "execution_count": null,
   "metadata": {},
   "outputs": [],
   "source": []
  },
  {
   "cell_type": "code",
   "execution_count": null,
   "metadata": {},
   "outputs": [],
   "source": []
  },
  {
   "cell_type": "code",
   "execution_count": null,
   "metadata": {},
   "outputs": [],
   "source": []
  },
  {
   "cell_type": "code",
   "execution_count": null,
   "metadata": {},
   "outputs": [],
   "source": []
  },
  {
   "cell_type": "code",
   "execution_count": null,
   "metadata": {},
   "outputs": [],
   "source": []
  },
  {
   "cell_type": "code",
   "execution_count": null,
   "metadata": {},
   "outputs": [],
   "source": []
  },
  {
   "cell_type": "code",
   "execution_count": null,
   "metadata": {},
   "outputs": [],
   "source": []
  },
  {
   "cell_type": "markdown",
   "metadata": {},
   "source": [
    "## Analyze By Release Week"
   ]
  },
  {
   "cell_type": "code",
   "execution_count": null,
   "metadata": {},
   "outputs": [],
   "source": [
    "# The order to plot the genres\n",
    "genres_domestic_gross_order = [k for k,v in genres_mean_domestic_adj_sorted]\n",
    "\n",
    "colors = ['b', 'g', 'r', 'c', 'm', 'y', 'k', 'w']\n",
    "\n",
    "figure, axes = plt.subplots(nrows=6, ncols=1, sharex=True, sharey=True, figsize=(24, 16))\n",
    "figure.suptitle('Mean Domestic Gross By Genre And Release Week', fontsize=20, y=1.02)\n",
    "\n",
    "ax1, ax2, ax3, ax4, ax5, ax6 = axes.flatten()\n",
    "axes_list = [ax1, ax2, ax3, ax4, ax5, ax6]\n",
    "\n",
    "for genre, axis, color in zip(genres_domestic_gross_order, axes_list, colors):\n",
    "    grp = data[data[genre]].groupby('release_week').mean() / 1000000\n",
    "    grp.plot(kind='bar', y='domestic_adj', xticks=range(1, 54), ax=axis, linewidth=3, color=color)\n",
    "    axis.set_ylabel('Domestic Gross In Millions', fontsize=12)\n",
    "    axis.legend([genre], loc=2, fontsize=15)\n",
    "\n",
    "plt.tight_layout() "
   ]
  },
  {
   "cell_type": "markdown",
   "metadata": {},
   "source": [
    "Key Takeaways:\n",
    "- Action and Adventure have the biggest seasonal differences, most noticeably in Summer and at Thanksgiving and Christmas\n",
    "- All genres except Drama have a bump in Summer\n",
    "- All genres have a bump at Christmastime"
   ]
  },
  {
   "cell_type": "code",
   "execution_count": null,
   "metadata": {},
   "outputs": [],
   "source": [
    "# The order to plot the genres\n",
    "genres_budgets_order = [k for k,v in genres_mean_budgets_adj_sorted]\n",
    "\n",
    "colors = ['b', 'g', 'r', 'c', 'm', 'y', 'k', 'w']\n",
    "\n",
    "figure, axes = plt.subplots(nrows=6, ncols=1, sharex=True, sharey=True, figsize=(24, 16))\n",
    "figure.suptitle('Mean Production Budget By Genre And Release Week', fontsize=20, y=1.02)\n",
    "\n",
    "ax1, ax2, ax3, ax4, ax5, ax6 = axes.flatten()\n",
    "axes_list = [ax1, ax2, ax3, ax4, ax5, ax6]\n",
    "\n",
    "genres = ['adventure', 'action', 'drama', 'comedy', 'thriller_suspense', 'horror']\n",
    "colors = ['b', 'g', 'r', 'c', 'm', 'y', 'k', 'w']\n",
    "\n",
    "for genre, axis, color in zip(genres_budgets_order, axes_list, colors):\n",
    "    grp = data[data[genre]].groupby('release_week').mean() / 1000000\n",
    "    grp.plot(kind='bar', y='budget_adj', xticks=range(1, 54), ax=axis, linewidth=3, color=color)\n",
    "    axis.set_ylabel('Budget In Millions', fontsize=12)\n",
    "    axis.legend([genre], loc=2, fontsize=15)\n",
    "\n",
    "plt.tight_layout() "
   ]
  },
  {
   "cell_type": "markdown",
   "metadata": {},
   "source": [
    "Key Takeaways:\n",
    "- Action and Adventure have much larger budgets in general\n",
    "- Thriller/Suspense is third\n",
    "- Drama, Comedy, and Horror all have approximately the same mean budget"
   ]
  },
  {
   "cell_type": "code",
   "execution_count": null,
   "metadata": {},
   "outputs": [],
   "source": [
    "figure, axes = plt.subplots(nrows=6, ncols=1, sharex=True, sharey=True, figsize=(24, 16))\n",
    "figure.suptitle('Percentage of Movies That Breakeven By Release Week', fontsize=20, y=1.02)\n",
    "\n",
    "ax1, ax2, ax3, ax4, ax5, ax6 = axes.flatten()\n",
    "axes_list = [ax1, ax2, ax3, ax4, ax5, ax6]\n",
    "\n",
    "for genre, axis, color in zip(genres_budgets_order, axes_list, colors):\n",
    "    # Create two series with decades as indexes and count and sum as values\n",
    "    grp_count = data[data[genre]].groupby('release_week')['domestic_breakeven'].count().copy()\n",
    "    grp_sum = data[data[genre]].groupby('release_week')['domestic_breakeven'].sum().copy()\n",
    "\n",
    "    # If the series is missing a decade, add it as an index\n",
    "    # Then set the count to 1 and the sum to 0\n",
    "    # This avoids division by zero problems when calculating the percentages\n",
    "    for week in range(1, 54):\n",
    "        if week not in grp_count.index:\n",
    "            grp_count.loc[week] = 0\n",
    "            grp_sum.loc[week] = 0\n",
    "\n",
    "    # Sort the series by their index to have the decades in chronological order                \n",
    "    grp_count.sort_index(ascending=True, inplace=True)\n",
    "    grp_sum.sort_index(ascending=True, inplace=True)\n",
    "\n",
    "    (grp_sum / grp_count * 100).plot(kind='bar', xticks=range(1, 54), ax=axis, linewidth=3, color=color)\n",
    "    axis.set_ylabel('Percentage', fontsize=12)\n",
    "    axis.legend([genre], loc=2, fontsize=15)\n",
    "    \n",
    "    # Put the count of how many movies breakeven above each bar\n",
    "    autolabel_with_count(axis, grp_count.values)\n",
    "    \n",
    "plt.tight_layout() "
   ]
  },
  {
   "cell_type": "code",
   "execution_count": null,
   "metadata": {},
   "outputs": [],
   "source": [
    "print('Number of release weeks a genre has never broken even:')\n",
    "\n",
    "for genre in genres_budgets_order:\n",
    "    grp_count = data[data[genre]].groupby('release_week')['domestic_breakeven'].count().copy()\n",
    "    grp_sum = data[data[genre]].groupby('release_week')['domestic_breakeven'].sum().copy()\n",
    "    \n",
    "    # If the series is missing a decade, add it as an index\n",
    "    # Then set the count to 1 and the sum to 0\n",
    "    # This avoids division by zero problems when calculating the percentages\n",
    "    for week in range(1, 54):\n",
    "        if week not in grp_count.index:\n",
    "            grp_count.loc[week] = 0\n",
    "            grp_sum.loc[week] = 0\n",
    "    \n",
    "    breakeven_series = (grp_sum / grp_count * 100)\n",
    "    empty_week_count = 0\n",
    "    \n",
    "    for week in breakeven_series:\n",
    "        if week == 0:\n",
    "            empty_week_count += 1\n",
    "    \n",
    "    print('{0:<20} {1}'.format(genre.title(), empty_week_count))"
   ]
  },
  {
   "cell_type": "markdown",
   "metadata": {},
   "source": [
    "Key Takeaways:\n",
    "- Action, Adventure and Thriller/Suspense have the largest number of release weeks with no chance of breaking even domestically\n",
    "- Comedy and Drama are the least affected by release week. They can be profitable when released on almost any week\n",
    "- Each genre has had a chance at every release week (except the 53rd week which doesn't really count). Whether the success or failure can partially be attributed to the release week is another story. "
   ]
  },
  {
   "cell_type": "markdown",
   "metadata": {},
   "source": [
    "### Analyze By Decade"
   ]
  },
  {
   "cell_type": "markdown",
   "metadata": {},
   "source": [
    "#### Domestic Gross"
   ]
  },
  {
   "cell_type": "code",
   "execution_count": null,
   "metadata": {},
   "outputs": [],
   "source": [
    "# Create variables for first_axes, secondary_axes, and counter variables \n",
    "ax1, ax2, ax3, ax4, ax5, ax6 = 'abcdef'\n",
    "first_axes_list = [ax1, ax2, ax3, ax4, ax5, ax6]\n",
    "\n",
    "ax1_1, ax2_1, ax3_1, ax4_1, ax5_1, ax6_1 = 'abcdef'\n",
    "second_axes_list = [ax1_1, ax2_1, ax3_1, ax4_1, ax5_1, ax6_1]\n",
    "\n",
    "# Counters to keep track of iteration\n",
    "counters = [0, 1, 2, 3, 4, 5]\n",
    "\n",
    "for genre, first_axis, second_axis, color, count in zip(genres_domestic_gross_order, first_axes_list, second_axes_list, colors, counters):\n",
    "        figure, first_axis = plt.subplots(nrows=1, ncols=1, figsize=(24, 5))\n",
    "        second_axis = figure.add_axes()\n",
    "\n",
    "        # Only write the title once\n",
    "        if count == 0:\n",
    "            figure.suptitle('Mean Domestic Gross By Genre And Decade', fontsize=20, y=1.02)\n",
    "\n",
    "        grp = (data[data[genre]].groupby('release_decade').mean() / 1000000)['domestic_adj'].copy()\n",
    "        grp_counts = data[data[genre]].groupby('release_decade')['domestic_adj'].count().copy()\n",
    "    \n",
    "        # If the series is missing a decade, add it as an index and set the value to zero\n",
    "        for decade in range(1910, 2020, 10):\n",
    "            if decade not in grp.index:\n",
    "                grp.loc[decade] = 0\n",
    "                grp_counts.loc[decade] = 0\n",
    "\n",
    "        # Sort the series by its index to have the decades in chronological order                \n",
    "        grp.sort_index(ascending=True, inplace=True)\n",
    "        grp_counts.sort_index(ascending=True, inplace=True)\n",
    "        \n",
    "        # Set up y-axis    \n",
    "        first_axis = grp.plot(kind='bar', xticks=range(1910, 2020, 10), linewidth=3, color=color)\n",
    "        first_axis.set_ylabel('Domestic Gross In Millions', fontsize=12)\n",
    "        first_axis.legend([genre], loc=2, fontsize=15)\n",
    "        \n",
    "        # Set up second y-axis\n",
    "        second_axis = first_axis.twinx()\n",
    "        second_axis.plot(first_axis.get_xticks(), grp_counts.values, linewidth=3, color='k')\n",
    "        second_axis.set_ylabel('Number of Movies', fontsize=12)\n",
    "        second_axis.legend(['counts'], loc=1, fontsize=15)\n",
    "        \n",
    "        # Only show graphs when on the last one\n",
    "        if count == len(counters) - 1:\n",
    "            plt.tight_layout()"
   ]
  },
  {
   "cell_type": "code",
   "execution_count": null,
   "metadata": {},
   "outputs": [],
   "source": [
    "figure, axis = plt.subplots(1, 1, figsize=(24, 9))\n",
    "figure.suptitle('Number of Movies By Genre And Decade', fontsize=20, y=1.02)\n",
    "\n",
    "com = comedy.groupby('release_decade')['domestic_adj'].count()\n",
    "dra = drama.groupby('release_decade')['domestic_adj'].count()\n",
    "adv = adventure.groupby('release_decade')['domestic_adj'].count()\n",
    "act = action.groupby('release_decade')['domestic_adj'].count()\n",
    "thr = thriller_suspense.groupby('release_decade')['domestic_adj'].count()\n",
    "hor = horror.groupby('release_decade')['domestic_adj'].count()\n",
    "\n",
    "genres_groups = [com, dra, adv, act, thr, hor]\n",
    "\n",
    "for decade in range(1910, 2020, 10):\n",
    "    for genre in genres_groups:  \n",
    "        if decade not in genre.index:\n",
    "            #grp.loc[decade] = 0\n",
    "            genre.loc[decade] = 0\n",
    "            genre.sort_index(ascending=True, inplace=True)\n",
    "            \n",
    "for genre, color in zip(genres_groups, colors):\n",
    "    genre.plot(kind='line', xticks=range(1910, 2020, 10), linewidth=3, color=color)\n",
    "    \n",
    "axis.legend(['comedy', 'drama', 'adventure', 'action', 'thriller_suspense', 'horror'], fontsize=15)\n",
    "plt.tight_layout()"
   ]
  },
  {
   "cell_type": "markdown",
   "metadata": {},
   "source": [
    "Key Takeaways:\n",
    "- The 1970s seems like the best decade for the average movie in terms of domestic box office gross. Every genre had its most- or second-most profitable decade then.\n",
    "- The average domestic return of movies in all genres has declined significantly in the past four decades\n",
    "- This is probably due to the sheer number of movies releasd these days. A few big winners can't boost the average for the many losers."
   ]
  },
  {
   "cell_type": "code",
   "execution_count": null,
   "metadata": {},
   "outputs": [],
   "source": [
    "figure, axes = plt.subplots(nrows=6, ncols=1, sharex=True, sharey=True, figsize=(24,18))\n",
    "ax1, ax2, ax3, ax4, ax5, ax6 = axes.flatten()\n",
    "axes_list = [ax1, ax2, ax3, ax4, ax5, ax6]\n",
    "\n",
    "for genre, axis, color in zip(genres_domestic_gross_order, axes_list, colors):\n",
    "    grp_counts = data[data[genre]].groupby('release_decade')['domestic_adj'].count().copy()\n",
    "    \n",
    "    # If the series is missing a decade, add it as an index and set the value to zero\n",
    "    for decade in range(1910, 2020, 10):\n",
    "        if decade not in grp_counts.index:\n",
    "            #grp.loc[decade] = 0\n",
    "            grp_counts.loc[decade] = 0\n",
    "\n",
    "    # Sort the series by its index to have the decades in chronological order                \n",
    "    #grp.sort_index(ascending=True, inplace=True)\n",
    "    grp_counts.sort_index(ascending=True, inplace=True)\n",
    "\n",
    "    grp_counts.plot(kind='line', xticks=range(1910, 2020, 10), ax=axis, linewidth=3, color=color)\n",
    "    axis.legend([genre], loc=2, fontsize=15)\n",
    "    \n",
    "plt.tight_layout()"
   ]
  },
  {
   "cell_type": "markdown",
   "metadata": {},
   "source": [
    "Key Takeaways:\n",
    "- Increasingly, more movies are made in every genre in every decade.\n",
    "- Comedy and Drama in particular have had an explosion in numbers in the last few decades."
   ]
  },
  {
   "cell_type": "code",
   "execution_count": null,
   "metadata": {},
   "outputs": [],
   "source": []
  },
  {
   "cell_type": "code",
   "execution_count": null,
   "metadata": {},
   "outputs": [],
   "source": []
  },
  {
   "cell_type": "code",
   "execution_count": null,
   "metadata": {},
   "outputs": [],
   "source": []
  },
  {
   "cell_type": "code",
   "execution_count": null,
   "metadata": {},
   "outputs": [],
   "source": []
  },
  {
   "cell_type": "code",
   "execution_count": null,
   "metadata": {},
   "outputs": [],
   "source": []
  },
  {
   "cell_type": "code",
   "execution_count": null,
   "metadata": {},
   "outputs": [],
   "source": [
    "figure, axis = plt.subplots(1, 1, figsize=(24, 9))\n",
    "\n",
    "com = (comedy.groupby('release_decade').mean() / 1000000)['domestic_adj']\n",
    "dra = (drama.groupby('release_decade').mean() / 1000000)['domestic_adj']\n",
    "adv = (adventure.groupby('release_decade').mean() / 1000000)['domestic_adj']\n",
    "act = (action.groupby('release_decade').mean() / 1000000)['domestic_adj']\n",
    "thr = (thriller_suspense.groupby('release_decade').mean() / 1000000)['domestic_adj']\n",
    "hor = (horror.groupby('release_decade').mean() / 1000000)['domestic_adj']\n",
    "\n",
    "genres_groups = [com, dra, adv, act, thr, hor]\n",
    "\n",
    "for decade in range(1910, 2020, 10):\n",
    "    for genre in genres_groups:  \n",
    "        if decade not in genre.index:\n",
    "            #grp.loc[decade] = 0\n",
    "            genre.loc[decade] = 0\n",
    "            genre.sort_index(ascending=True, inplace=True)\n",
    "            \n",
    "for genre, color in zip(genres_groups, colors):\n",
    "    genre.plot(kind='line', xticks=range(1910, 2020, 10), linewidth=3, color=color)\n",
    "    \n",
    "axis.legend(['comedy', 'drama', 'adventure', 'action', 'thriller_suspense', 'horror'], fontsize=15)\n",
    "plt.tight_layout()"
   ]
  },
  {
   "cell_type": "code",
   "execution_count": null,
   "metadata": {},
   "outputs": [],
   "source": [
    "(week['domestic_breakeven'].sum() / week['domestic_breakeven'].count() * 100).plot(xticks=range(1,54), figsize=(18,9), ax=ax1, title='Breakeven By Release Week')\n",
    "ax1.set_ylabel('Percentage of Movies That Breakeven')\n",
    "ax1.axhline((data['domestic_breakeven'].sum() / data['domestic_breakeven'].count() * 100).mean(), color='k', linestyle='--')"
   ]
  },
  {
   "cell_type": "code",
   "execution_count": null,
   "metadata": {},
   "outputs": [],
   "source": [
    "figure, (axis1, axis2) = plt.subplots(2, 1) \n",
    "grp_c = data[data['comedy']].groupby('release_week')['domestic_breakeven'].sum() / data[data['comedy']].groupby('release_week')['domestic_breakeven'].count() * 100\n",
    "grp_a = data[data['adventure']].groupby('release_week')['domestic_breakeven'].sum() / data[data['adventure']].groupby('release_week')['domestic_breakeven'].count() * 100\n",
    "grp_c.plot(ax=axis1)\n",
    "grp_a.plot(ax=axis2)"
   ]
  },
  {
   "cell_type": "code",
   "execution_count": null,
   "metadata": {},
   "outputs": [],
   "source": [
    "grp = data[data['comedy']].groupby('release_week')['domestic_breakeven'].sum() / data[data['comedy']].groupby('release_week')['domestic_breakeven'].count() * 100\n",
    "grp.plot(kind='bar', figsize=(24,9))"
   ]
  },
  {
   "cell_type": "code",
   "execution_count": null,
   "metadata": {},
   "outputs": [],
   "source": [
    "grp = data.groupby('release_week')['domestic_breakeven'].sum() / data.groupby('release_week')['domestic_breakeven'].count() * 100\n",
    "grp"
   ]
  },
  {
   "cell_type": "code",
   "execution_count": null,
   "metadata": {},
   "outputs": [],
   "source": []
  },
  {
   "cell_type": "code",
   "execution_count": null,
   "metadata": {},
   "outputs": [],
   "source": []
  },
  {
   "cell_type": "code",
   "execution_count": null,
   "metadata": {},
   "outputs": [],
   "source": []
  },
  {
   "cell_type": "code",
   "execution_count": null,
   "metadata": {},
   "outputs": [],
   "source": []
  },
  {
   "cell_type": "code",
   "execution_count": null,
   "metadata": {},
   "outputs": [],
   "source": []
  },
  {
   "cell_type": "code",
   "execution_count": null,
   "metadata": {},
   "outputs": [],
   "source": []
  },
  {
   "cell_type": "code",
   "execution_count": null,
   "metadata": {},
   "outputs": [],
   "source": []
  },
  {
   "cell_type": "code",
   "execution_count": null,
   "metadata": {},
   "outputs": [],
   "source": []
  },
  {
   "cell_type": "code",
   "execution_count": null,
   "metadata": {},
   "outputs": [],
   "source": [
    "figure, axes = plt.subplots(nrows=6, ncols=1, sharex=True, sharey=True, figsize=(24, 16))\n",
    "figure.suptitle('Mean Domestic Gross By Genre And Decade', fontsize=20, y=1.02)\n",
    "\n",
    "ax1, ax2, ax3, ax4, ax5, ax6 = axes.flatten()\n",
    "axes_list = [ax1, ax2, ax3, ax4, ax5, ax6]\n",
    "\n",
    "for genre, axis, color in zip(genres_domestic_gross_order, axes_list, colors):\n",
    "    # We must replace missing decades with zeroes to have the bar plots xticks line up\n",
    "    \n",
    "    # Create a series with decades as indexes and domestic gross as values\n",
    "    grp = (data[data[genre]].groupby('release_decade').mean() / 1000000)['domestic_adj'].copy()\n",
    "    grp_counts = data[data[genre]].groupby('release_decade')['domestic_adj'].count().copy()\n",
    "    \n",
    "    # If the series is missing a decade, add it as an index and set the value to zero\n",
    "    for decade in range(1910, 2020, 10):\n",
    "        if decade not in grp.index:\n",
    "            grp.loc[decade] = 0\n",
    "            grp_counts.loc[decade] = 0\n",
    "    \n",
    "    # Sort the series by its index to have the decades in chronological order                \n",
    "    grp.sort_index(ascending=True, inplace=True)\n",
    "    grp_counts.sort_index(ascending=True, inplace=True)\n",
    "        \n",
    "    grp.plot(kind='bar', xticks=range(1910, 2020, 10), ax=axis, linewidth=3, color=color)\n",
    "    axis.set_ylabel('Domestic Gross In Millions', fontsize=12)\n",
    "    axis.legend([genre], loc=2, fontsize=15)\n",
    "    \n",
    "    # Put the count of each genre made per decade above each bar\n",
    "    autolabel_with_count(axis, grp_counts.values)\n",
    "\n",
    "plt.tight_layout() "
   ]
  },
  {
   "cell_type": "code",
   "execution_count": null,
   "metadata": {},
   "outputs": [],
   "source": [
    "# Figure and axes creation\n",
    "figure, first_axis = plt.subplots(nrows=1, ncols=1, figsize=(24, 18))\n",
    "second_axis = figure.add_axes()\n",
    "figure.suptitle('Mean Domestic Gross Of Comedies By Decade', fontsize=20, y=1.02)\n",
    "\n",
    "# Data creation\n",
    "grp = (data[data['comedy']].groupby('release_decade').mean() / 1000000)['domestic_adj'].copy()\n",
    "grp_counts = data[data['comedy']].groupby('release_decade')['domestic_adj'].count().copy()\n",
    "\n",
    "# If the series is missing a decade, add it as an index and set the value to zero\n",
    "for decade in range(1910, 2020, 10):\n",
    "    if decade not in grp.index:\n",
    "        grp.loc[decade] = 0\n",
    "        grp_counts.loc[decade] = 0\n",
    "\n",
    "# Sort the series by its index to have the decades in chronological order                \n",
    "grp.sort_index(ascending=True, inplace=True)\n",
    "grp_counts.sort_index(ascending=True, inplace=True)\n",
    "\n",
    "# Set up axis1 graph\n",
    "first_axis = grp.plot(kind='bar', xticks=range(1910, 2020, 10), linewidth=3, color='b')\n",
    "first_axis.set_ylabel('Domestic Gross In Millions', fontsize=12)\n",
    "first_axis.legend(['comedy'], loc=2, fontsize=15)\n",
    "\n",
    "second_axis = first_axis.twinx()\n",
    "\n",
    "# Set up axis2 graph\n",
    "second_axis.plot(first_axis.get_xticks(), grp_counts.values, linewidth=3, color='k')\n",
    "second_axis.set_ylabel('Number of Movies', fontsize=12)\n",
    "second_axis.legend(['count'], loc=1, fontsize=15)\n",
    "\n",
    "plt.tight_layout()"
   ]
  },
  {
   "cell_type": "code",
   "execution_count": null,
   "metadata": {},
   "outputs": [],
   "source": [
    "#bar_and_line_chart(\n",
    "#    grouped_series_data = (data[data['comedy']].groupby('release_decade').mean() / 1000000)['domestic_adj'],\n",
    "#    grouped_series_count_data=data[data['comedy']].groupby('release_decade')['domestic_adj'].count(),\n",
    "#    figsize=(24,5),\n",
    "#    color='b',\n",
    "#    figtitle='Mean Domestic Gross By Genre And Decade',\n",
    "#    axis1_ylabel='Domestic Gross In Millions',\n",
    "#    axis1_legend_text='comedy',\n",
    "#    axis2_ylabel='Number of Movies',\n",
    "#    axis2_legend_text='counts')"
   ]
  },
  {
   "cell_type": "code",
   "execution_count": null,
   "metadata": {},
   "outputs": [],
   "source": []
  },
  {
   "cell_type": "code",
   "execution_count": null,
   "metadata": {},
   "outputs": [],
   "source": []
  },
  {
   "cell_type": "code",
   "execution_count": null,
   "metadata": {},
   "outputs": [],
   "source": []
  },
  {
   "cell_type": "code",
   "execution_count": null,
   "metadata": {},
   "outputs": [],
   "source": [
    "figure, ax1 = plt.subplots(nrows=1, ncols=1, figsize=(24, 16))\n",
    "figure.suptitle('Mean Domestic Gross By Genre And Decade', fontsize=20, y=1.02)\n",
    "\n",
    "grp = (data[data['comedy']].groupby('release_decade').mean() / 1000000)['domestic_adj'].copy()\n",
    "grp_counts = data[data['comedy']].groupby('release_decade')['domestic_adj'].count().copy()\n",
    "    \n",
    "# If the series is missing a decade, add it as an index and set the value to zero\n",
    "for decade in range(1910, 2020, 10):\n",
    "    if decade not in grp.index:\n",
    "        grp.loc[decade] = 0\n",
    "        grp_counts.loc[decade] = 0\n",
    "    \n",
    "# Sort the series by its index to have the decades in chronological order                \n",
    "grp.sort_index(ascending=True, inplace=True)\n",
    "grp_counts.sort_index(ascending=True, inplace=True)\n",
    "\n",
    "    # Put the count of each genre made per decade above each bar\n",
    "    #autolabel_with_count(ax1, grp_counts.values)\n",
    "    \n",
    "ax1 = grp.plot(kind='bar', xticks=range(1910, 2020, 10), linewidth=3)\n",
    "ax1.set_ylabel('Domestic Gross In Millions', fontsize=12)\n",
    "ax1.legend(['comedy'], loc=2, fontsize=15)\n",
    "\n",
    "ax2 = ax1.twinx()\n",
    "    \n",
    "ax2.plot(ax1.get_xticks(), grp_counts.values, linewidth=3, color='k')\n",
    "ax2.set_ylabel('Number of Movies', fontsize=12)\n",
    "ax2.legend(['counts'], loc=1, fontsize=15)\n",
    "\n",
    "plt.tight_layout()"
   ]
  },
  {
   "cell_type": "code",
   "execution_count": null,
   "metadata": {},
   "outputs": [],
   "source": []
  },
  {
   "cell_type": "code",
   "execution_count": null,
   "metadata": {},
   "outputs": [],
   "source": [
    "def bar_and_line_chart(\n",
    "    grouped_series_data,\n",
    "    grouped_series_count_data,\n",
    "    figsize, color,\n",
    "    figtitle,\n",
    "    axis1_ylabel,\n",
    "    axis1_legend_text,\n",
    "    axis2_ylabel,\n",
    "    axis2_legend_text\n",
    "):\n",
    "    # Figure and axes creation\n",
    "    figure, axis = plt.subplots(nrows=1, ncols=1, figsize=figsize)\n",
    "    second_axis = figure.add_axes()\n",
    "    figure.suptitle(figtitle, fontsize=20, y=1.02)\n",
    "    \n",
    "    # Data creation\n",
    "    grp = grouped_series_data.copy()\n",
    "    grp_counts = grouped_series_count_data.copy()\n",
    "    \n",
    "    # If the series is missing a decade, add it as an index and set the value to zero\n",
    "    for decade in range(1910, 2020, 10):\n",
    "        if decade not in grp.index:\n",
    "            grp.loc[decade] = 0\n",
    "            grp_counts.loc[decade] = 0\n",
    "            \n",
    "    # Sort the series by its index to have the decades in chronological order                \n",
    "    grp.sort_index(ascending=True, inplace=True)\n",
    "    grp_counts.sort_index(ascending=True, inplace=True)\n",
    "    \n",
    "    # Set up axis1 graph\n",
    "    axis1 = grp.plot(kind='bar', xticks=range(1910, 2020, 10), linewidth=3, color=color)\n",
    "    axis1.set_ylabel(axis1_ylabel, fontsize=12)\n",
    "    axis1.legend([axis1_legend_text], loc=2, fontsize=15)\n",
    "\n",
    "    axis2 = axis1.twinx()\n",
    "    \n",
    "    # Set up axis2 graph\n",
    "    axis2.plot(axis1.get_xticks(), grp_counts.values, linewidth=3, color='k')\n",
    "    axis2.set_ylabel(axis2_ylabel, fontsize=12)\n",
    "    axis2.legend([axis2_legend_text], loc=1, fontsize=15)\n",
    "    \n",
    "    plt.tight_layout()"
   ]
  },
  {
   "cell_type": "code",
   "execution_count": null,
   "metadata": {},
   "outputs": [],
   "source": [
    "def multiple_bar_and_line_charts(\n",
    "    groupby_data_needs_separator,\n",
    "    groupby_data_for_counts_needs_separator,\n",
    "    data_separator_list,\n",
    "    first_axes_list,\n",
    "    second_axes_list,\n",
    "    colors_list,\n",
    "    counter_list,\n",
    "    figtitle,\n",
    "    figsize, \n",
    "    axis1_ylabel,\n",
    "    axis2_ylabel,\n",
    "):\n",
    "    for separator, first_axis, second_axis, color, count in zip(data_separator_list, first_axes_list, second_axes_list, colors_list, counter_list):\n",
    "        figure, axis = plt.subplots(nrows=1, ncols=1, figsize=figsize)\n",
    "        second_axis = figure.add_axes()\n",
    "\n",
    "        if count == 0:\n",
    "            figure.suptitle(figtitle, fontsize=20, y=1.02)\n",
    "\n",
    "        grp = groupby_data_needs_separator.copy()\n",
    "        grp_counts = groupby_data_for_counts_needs_separator.copy()\n",
    "    \n",
    "        # If the series is missing a decade, add it as an index and set the value to zero\n",
    "        for decade in range(1910, 2020, 10):\n",
    "            if decade not in grp.index:\n",
    "                grp.loc[decade] = 0\n",
    "                grp_counts.loc[decade] = 0\n",
    "\n",
    "        # Sort the series by its index to have the decades in chronological order                \n",
    "        grp.sort_index(ascending=True, inplace=True)\n",
    "        grp_counts.sort_index(ascending=True, inplace=True)\n",
    "    \n",
    "        first_axis = grp.plot(kind='bar', xticks=range(1910, 2020, 10), linewidth=3, color=color)\n",
    "        first_axis.set_ylabel(axis1_ylabel, fontsize=12)\n",
    "        first_axis.legend([separator], loc=2, fontsize=15)\n",
    "\n",
    "        second_axis = first_axis.twinx()\n",
    "\n",
    "        second_axis.plot(first_axis.get_xticks(), grp_counts.values, linewidth=3, color='k')\n",
    "        second_axis.set_ylabel(axis2_ylabel, fontsize=12)\n",
    "        second_axis.legend(['counts'], loc=1, fontsize=15)\n",
    "        \n",
    "        if count == len(counter) - 1:\n",
    "            plt.tight_layout()"
   ]
  },
  {
   "cell_type": "code",
   "execution_count": null,
   "metadata": {},
   "outputs": [],
   "source": [
    "def multiple_bar_and_line_charts(\n",
    "    groupby_data_needs_separator,\n",
    "    groupby_data_for_counts_needs_separator,\n",
    "    data_separator_list,\n",
    "    first_axes_list,\n",
    "    second_axes_list,\n",
    "    colors_list,\n",
    "    counter_list,\n",
    "    figtitle,\n",
    "    figsize, \n",
    "    axis1_legend_text,\n",
    "    axis2_legend_text\n",
    "    genres_list,\n",
    "    first_axes_list,\n",
    "    second_axes_list,\n",
    "):\n",
    "    for separator, first_axis, second_axis, color, count in zip(data_separator_list, first_axes_list, second_axes_list, colors_list, counter_list):\n",
    "        figure, axis = plt.subplots(nrows=1, ncols=1, figsize=(24, 5))\n",
    "        second_axis = figure.add_axes()\n",
    "\n",
    "        if count == 0:\n",
    "            figure.suptitle('Mean Domestic Gross By Genre And Decade', fontsize=20, y=1.02)\n",
    "\n",
    "        grp = (data[data[genre]].groupby('release_decade').mean() / 1000000)['domestic_adj'].copy()\n",
    "        grp_counts = data[data[genre]].groupby('release_decade')['domestic_adj'].count().copy()\n",
    "    \n",
    "        # If the series is missing a decade, add it as an index and set the value to zero\n",
    "        for decade in range(1910, 2020, 10):\n",
    "            if decade not in grp.index:\n",
    "                grp.loc[decade] = 0\n",
    "                grp_counts.loc[decade] = 0\n",
    "\n",
    "        # Sort the series by its index to have the decades in chronological order                \n",
    "        grp.sort_index(ascending=True, inplace=True)\n",
    "        grp_counts.sort_index(ascending=True, inplace=True)\n",
    "    \n",
    "        axis = grp.plot(kind='bar', xticks=range(1910, 2020, 10), linewidth=3, color=color)\n",
    "        axis.set_ylabel('Domestic Gross In Millions', fontsize=12)\n",
    "        axis.legend([genre], loc=2, fontsize=15)\n",
    "\n",
    "        second_axis = axis.twinx()\n",
    "\n",
    "        second_axis.plot(axis.get_xticks(), grp_counts.values, linewidth=3, color='k')\n",
    "        second_axis.set_ylabel('Number of Movies', fontsize=12)\n",
    "        second_axis.legend(['counts'], loc=1, fontsize=15)\n",
    "        \n",
    "        if count == len(counter) - 1:\n",
    "            plt.tight_layout()"
   ]
  },
  {
   "cell_type": "code",
   "execution_count": null,
   "metadata": {},
   "outputs": [],
   "source": [
    "#def bar_and_line_chart(axis1, second_axis, genre, color):\n",
    "#    grp = (data[data[genre]].groupby('release_decade').mean() / 1000000)['domestic_adj'].copy()\n",
    "#    grp_counts = data[data[genre]].groupby('release_decade')['domestic_adj'].count().copy()\n",
    "#    \n",
    "#    # If the series is missing a decade, add it as an index and set the value to zero\n",
    "#    for decade in range(1910, 2020, 10):\n",
    "#        if decade not in grp.index:\n",
    "#            grp.loc[decade] = 0\n",
    "#            grp_counts.loc[decade] = 0\n",
    "#            \n",
    "#    # Sort the series by its index to have the decades in chronological order                \n",
    "#    grp.sort_index(ascending=True, inplace=True)\n",
    "#    grp_counts.sort_index(ascending=True, inplace=True)\n",
    "#    \n",
    "#    axis1 = grp.plot(kind='bar', xticks=range(1910, 2020, 10), linewidth=3, color=color)\n",
    "#    axis1.set_ylabel('Domestic Gross In Millions', fontsize=12)\n",
    "#    axis1.legend([genre], loc=2, fontsize=15)\n",
    "\n",
    "#    axis2 = axis1.twinx()\n",
    "\n",
    "#    axis2.plot(axis1.get_xticks(), grp_counts.values, linewidth=3, color='k')\n",
    "#    axis2.set_ylabel('Number of Movies', fontsize=12)\n",
    "#    axis2.legend(['counts'], loc=1, fontsize=15)\n",
    "    "
   ]
  },
  {
   "cell_type": "code",
   "execution_count": null,
   "metadata": {},
   "outputs": [],
   "source": [
    "#def bar_and_line_chart(grouped_series_data, grouped_series_count_data, figsize, color, figtitle, legend_text, axis1_ylabel, axis2_ylabel):\n",
    "#    # Figure and axes creation\n",
    "#    figure, axis = plt.subplots(nrows=1, ncols=1, figsize=(24, 5))\n",
    "#    second_axis = figure.add_axes()\n",
    "#    figure.suptitle('Mean Domestic Gross By Genre And Decade', fontsize=20, y=1.02)\n",
    "#    \n",
    "#    # Data creation\n",
    "#    grp = (data[data[genre]].groupby('release_decade').mean() / 1000000)['domestic_adj'].copy()\n",
    "#    grp_counts = data[data[genre]].groupby('release_decade')['domestic_adj'].count().copy()\n",
    "#    \n",
    "#    # If the series is missing a decade, add it as an index and set the value to zero\n",
    "#    for decade in range(1910, 2020, 10):\n",
    "#        if decade not in grp.index:\n",
    "#            grp.loc[decade] = 0\n",
    "#            grp_counts.loc[decade] = 0\n",
    "#            \n",
    "#    # Sort the series by its index to have the decades in chronological order                \n",
    "#    grp.sort_index(ascending=True, inplace=True)\n",
    "#    grp_counts.sort_index(ascending=True, inplace=True)\n",
    "#    \n",
    "#    # Set up axis1 graph\n",
    "#    axis1 = grp.plot(kind='bar', xticks=range(1910, 2020, 10), linewidth=3, color=color)\n",
    "#    axis1.set_ylabel('Domestic Gross In Millions', fontsize=12)\n",
    "#    axis1.legend([genre], loc=2, fontsize=15)\n",
    "\n",
    "#    axis2 = axis1.twinx()\n",
    "#    \n",
    "#    # Set up axis2 graph\n",
    "#    axis2.plot(axis1.get_xticks(), grp_counts.values, linewidth=3, color='k')\n",
    "#    axis2.set_ylabel('Number of Movies', fontsize=12)\n",
    "#    axis2.legend(['counts'], loc=1, fontsize=15)\n",
    "#    \n",
    "#    plt.tight_layout()"
   ]
  },
  {
   "cell_type": "markdown",
   "metadata": {},
   "source": [
    "#### Production Budget"
   ]
  },
  {
   "cell_type": "code",
   "execution_count": null,
   "metadata": {},
   "outputs": [],
   "source": [
    "figure, axes = plt.subplots(nrows=6, ncols=1, sharex=True, sharey=True, figsize=(24, 16))\n",
    "figure.suptitle('Mean Production Budget By Genre And Release Week', fontsize=20, y=1.02)\n",
    "\n",
    "ax1, ax2, ax3, ax4, ax5, ax6 = axes.flatten()\n",
    "axes_list = [ax1, ax2, ax3, ax4, ax5, ax6]\n",
    "\n",
    "for genre, axis, color in zip(genres_budgets_order, axes_list, colors):\n",
    "    # We must replace missing decades with zeroes to have the bar plots xticks line up\n",
    "    \n",
    "    # Create a series with decades as indexes and domestic gross as values\n",
    "    grp = (data[data[genre]].groupby('release_decade').mean() / 1000000)['budget_adj'].copy()\n",
    "    \n",
    "    # If the series is missing a decade, add it as an index and set the value to zero\n",
    "    for decade in range(1910, 2020, 10):\n",
    "        if decade not in grp.index:\n",
    "            grp.loc[decade] = 0\n",
    "    \n",
    "    # Sort the series by its index to have the decades in chronological order                \n",
    "    grp.sort_index(ascending=True, inplace=True)\n",
    "        \n",
    "    grp.plot(kind='bar', xticks=range(1910, 2020, 10), ax=axis, linewidth=3, color=color)\n",
    "    axis.set_ylabel('Domestic Gross In Millions', fontsize=12)\n",
    "    axis.legend([genre], loc=2, fontsize=15)\n",
    "    autolabel(axis)\n",
    "\n",
    "plt.tight_layout() "
   ]
  },
  {
   "cell_type": "markdown",
   "metadata": {},
   "source": [
    "Key Takeaways:\n",
    "- Production budgets for Action and Adventure have been increasing since the 1980s\n",
    "- Production budgets for all other genres have declined since the 1980s\n",
    "- This is probably due to the heavy use of expensive CGI in Action and Adventure movies, which has only increased over time. Meanwhile, technological advancements have decreased the overall cost of producing movies in general."
   ]
  },
  {
   "cell_type": "code",
   "execution_count": null,
   "metadata": {},
   "outputs": [],
   "source": []
  },
  {
   "cell_type": "code",
   "execution_count": null,
   "metadata": {},
   "outputs": [],
   "source": []
  },
  {
   "cell_type": "code",
   "execution_count": null,
   "metadata": {},
   "outputs": [],
   "source": []
  },
  {
   "cell_type": "code",
   "execution_count": null,
   "metadata": {},
   "outputs": [],
   "source": []
  },
  {
   "cell_type": "code",
   "execution_count": null,
   "metadata": {},
   "outputs": [],
   "source": []
  },
  {
   "cell_type": "code",
   "execution_count": null,
   "metadata": {},
   "outputs": [],
   "source": []
  },
  {
   "cell_type": "code",
   "execution_count": null,
   "metadata": {},
   "outputs": [],
   "source": []
  },
  {
   "cell_type": "code",
   "execution_count": null,
   "metadata": {},
   "outputs": [],
   "source": []
  },
  {
   "cell_type": "code",
   "execution_count": null,
   "metadata": {},
   "outputs": [],
   "source": []
  },
  {
   "cell_type": "code",
   "execution_count": null,
   "metadata": {},
   "outputs": [],
   "source": []
  },
  {
   "cell_type": "code",
   "execution_count": null,
   "metadata": {},
   "outputs": [],
   "source": []
  },
  {
   "cell_type": "code",
   "execution_count": null,
   "metadata": {},
   "outputs": [],
   "source": []
  },
  {
   "cell_type": "code",
   "execution_count": null,
   "metadata": {},
   "outputs": [],
   "source": []
  },
  {
   "cell_type": "code",
   "execution_count": null,
   "metadata": {},
   "outputs": [],
   "source": []
  },
  {
   "cell_type": "code",
   "execution_count": null,
   "metadata": {},
   "outputs": [],
   "source": []
  },
  {
   "cell_type": "code",
   "execution_count": null,
   "metadata": {},
   "outputs": [],
   "source": []
  },
  {
   "cell_type": "code",
   "execution_count": null,
   "metadata": {},
   "outputs": [],
   "source": []
  },
  {
   "cell_type": "code",
   "execution_count": null,
   "metadata": {},
   "outputs": [],
   "source": []
  },
  {
   "cell_type": "code",
   "execution_count": null,
   "metadata": {},
   "outputs": [],
   "source": []
  },
  {
   "cell_type": "code",
   "execution_count": null,
   "metadata": {},
   "outputs": [],
   "source": []
  },
  {
   "cell_type": "code",
   "execution_count": null,
   "metadata": {},
   "outputs": [],
   "source": []
  },
  {
   "cell_type": "code",
   "execution_count": null,
   "metadata": {},
   "outputs": [],
   "source": []
  },
  {
   "cell_type": "code",
   "execution_count": null,
   "metadata": {},
   "outputs": [],
   "source": []
  },
  {
   "cell_type": "code",
   "execution_count": null,
   "metadata": {},
   "outputs": [],
   "source": []
  },
  {
   "cell_type": "code",
   "execution_count": null,
   "metadata": {},
   "outputs": [],
   "source": []
  },
  {
   "cell_type": "code",
   "execution_count": null,
   "metadata": {},
   "outputs": [],
   "source": []
  },
  {
   "cell_type": "code",
   "execution_count": null,
   "metadata": {},
   "outputs": [],
   "source": []
  },
  {
   "cell_type": "code",
   "execution_count": null,
   "metadata": {},
   "outputs": [],
   "source": []
  },
  {
   "cell_type": "code",
   "execution_count": null,
   "metadata": {},
   "outputs": [],
   "source": []
  },
  {
   "cell_type": "markdown",
   "metadata": {},
   "source": [
    "### Analyze By Breakeven"
   ]
  },
  {
   "cell_type": "code",
   "execution_count": null,
   "metadata": {},
   "outputs": [],
   "source": [
    "figure, axes = plt.subplots(nrows=6, ncols=1, sharex=True, sharey=True, figsize=(24, 16))\n",
    "figure.suptitle('Percentage of Movies That Breakeven By Decade', fontsize=20, y=1.02)\n",
    "\n",
    "ax1, ax2, ax3, ax4, ax5, ax6 = axes.flatten()\n",
    "axes_list = [ax1, ax2, ax3, ax4, ax5, ax6]\n",
    "\n",
    "for genre, axis, color in zip(genres_budgets_order, axes_list, colors):\n",
    "    # Create two series with decades as indexes and count and sum as values\n",
    "    grp_count = data[data[genre]].groupby('release_decade')['domestic_breakeven'].count().copy()\n",
    "    grp_sum = data[data[genre]].groupby('release_decade')['domestic_breakeven'].sum().copy()\n",
    "\n",
    "    # If the series is missing a decade, add it as an index\n",
    "    # Then set the count to 1 and the sum to 0\n",
    "    # This avoids division by zero problems when calculating the percentages\n",
    "    for decade in range(1910, 2020, 10):\n",
    "        if decade not in grp_count.index:\n",
    "            grp_count.loc[decade] = 0\n",
    "            grp_sum.loc[decade] = 0\n",
    "\n",
    "    # Sort the series by their index to have the decades in chronological order                \n",
    "    grp_count.sort_index(ascending=True, inplace=True)\n",
    "    grp_sum.sort_index(ascending=True, inplace=True)\n",
    "\n",
    "    (grp_sum / grp_count * 100).plot(kind='bar', xticks=range(1910, 2020, 10), ax=axis, linewidth=3, color=color)\n",
    "    axis.set_ylabel('Percentage', fontsize=12)\n",
    "    axis.legend([genre], loc=2, fontsize=15)\n",
    "    \n",
    "    # Put the count of how many movies breakeven above each bar\n",
    "    autolabel_with_count(axis, grp_count.values)\n",
    "    \n",
    "plt.tight_layout() "
   ]
  },
  {
   "cell_type": "code",
   "execution_count": null,
   "metadata": {},
   "outputs": [],
   "source": [
    "for genre in genres_budgets_order:\n",
    "    # Create two series with decades as indexes and count and sum as values\n",
    "    grp_count = data[data[genre]].groupby('release_decade')['domestic_breakeven'].count().copy()\n",
    "    grp_sum = data[data[genre]].groupby('release_decade')['domestic_breakeven'].sum().copy()\n",
    "    \n",
    "    print(grp_count.values)\n",
    "    print(type(grp_count.values))\n",
    "    \n",
    "    #print(genre, grp_sum / grp_count * 100)\n",
    "    \n",
    "#    # We must replace missing decades with zeroes to have the bar plots xticks line up\n",
    "#    \n",
    "#    # Create a series with decades as indexes and domestic gross as values\n",
    "#    grp = (data[data[genre]].groupby('release_decade')['domestic_breakeven'].count().copy()\n",
    "#    \n",
    "#    # If the series is missing a decade, add it as an index and set the value to zero\n",
    "#    for decade in range(1910, 2020, 10):\n",
    "#        if decade not in grp.index:\n",
    "#            grp.loc[decade] = 0\n",
    "#    \n",
    "#    # Sort the series by its index to have the decades in chronological order                \n",
    "#    grp.sort_index(ascending=True, inplace=True)\n",
    "#    \n",
    "#    #grp = data[data[genre]].groupby('release_decade')\n",
    "#    (grp['domestic_breakeven'].sum() / grp['domestic_breakeven'].count() * 100).plot(kind='bar', xticks=range(1910, 2020, 10), ax=axis, linewidth=3, color=color)\n",
    "#    axis.set_ylabel('Percentage', fontsize=12)\n",
    "#    axis.legend([genre], loc=1, fontsize=15)\n",
    "\n",
    "#plt.tight_layout() "
   ]
  },
  {
   "cell_type": "code",
   "execution_count": null,
   "metadata": {},
   "outputs": [],
   "source": [
    "grp = data[data['comedy']].groupby('release_decade')['domestic_breakeven'].count().copy()\n",
    "grp.index"
   ]
  },
  {
   "cell_type": "code",
   "execution_count": null,
   "metadata": {},
   "outputs": [],
   "source": [
    "# Create a series with decades as indexes and domestic gross as values\n",
    "grp_count = data[data[genre]].groupby('release_decade')['domestic_breakeven'].count().copy()\n",
    "grp_sum = data[data[genre]].groupby('release_decade')['domestic_breakeven'].sum().copy()\n",
    "\n",
    "print(grp_count)\n",
    "print(grp_sum)\n",
    "\n",
    "# If the series is missing a decade, add it as an index and set the value to zero\n",
    "for decade in range(1910, 2020, 10):\n",
    "    if decade not in grp_count.index:\n",
    "        grp_count.loc[decade] = 1\n",
    "        grp_sum.loc[decade] = 0\n",
    "        \n",
    "# Sort the series by its index to have the decades in chronological order                \n",
    "grp_count.sort_index(ascending=True, inplace=True)\n",
    "grp_sum.sort_index(ascending=True, inplace=True)\n",
    "\n",
    "(grp_sum / grp_count * 100).plot(kind='bar', xticks=range(1910, 2020, 10))"
   ]
  },
  {
   "cell_type": "code",
   "execution_count": null,
   "metadata": {},
   "outputs": [],
   "source": [
    "figure, ax1 = plt.subplots(1,1)\n",
    "\n",
    "for genre in [adventure, action, drama, comedy, thriller_suspense, horror]:\n",
    "    grp = genre.groupby('release_decade')\n",
    "    (grp['domestic_breakeven'].sum() / grp['domestic_breakeven'].count() * 100).plot(xticks=range(1910, 2020, 10), figsize=(18,9), ax=ax1, title='Breakeven By Decade and Genre', linewidth=3)\n",
    "    \n",
    "ax1.set_ylabel('Percentage of Movies That Breakeven')\n",
    "ax1.legend(['adventure', 'action', 'drama', 'comedy', 'thriller_suspense', 'horror'])\n",
    "plt.tight_layout() "
   ]
  },
  {
   "cell_type": "code",
   "execution_count": null,
   "metadata": {},
   "outputs": [],
   "source": [
    "names = ['adventure', 'action', 'drama', 'comedy', 'thriller_suspense', 'horror']\n",
    "genres = [adventure, action, drama, comedy, thriller_suspense, horror]\n",
    "\n",
    "for name, genre in zip(names, genres):\n",
    "    print('There are {} movies in the {} genre'.format(len(genre), name))"
   ]
  },
  {
   "cell_type": "code",
   "execution_count": null,
   "metadata": {},
   "outputs": [],
   "source": [
    "gb = data.groupby('release_decade')\n",
    "\n",
    "# Cool way to filter using a groupby\n",
    "comedy = gb.apply(lambda df: df[df['genres_mojo'].str.contains('Comedy', na=False)])\n",
    "\n",
    "# Can set a groupby back with `set_index` but you lose the original index values\n",
    "comedy.set_index('release_decade', inplace=True)\n",
    "comedy.reset_index(inplace=True)\n",
    "\n",
    "comedy.head()"
   ]
  },
  {
   "cell_type": "code",
   "execution_count": null,
   "metadata": {},
   "outputs": [],
   "source": [
    "gb = data.groupby('release_decade')\n",
    "\n",
    "# Cool way to filter using a groupby\n",
    "comedy = gb.apply(lambda df: df[df['genres_mojo'].str.contains('Comedy', na=False)])\n",
    "\n",
    "# Another way to reset the index, by dropping the groupby'd column\n",
    "comedy = comedy.reset_index(drop=True)\n",
    "\n",
    "comedy.head()"
   ]
  },
  {
   "cell_type": "code",
   "execution_count": null,
   "metadata": {},
   "outputs": [],
   "source": [
    "comedy = data[data['genres_mojo'].str.contains('Comedy', na=False)].groupby('release_decade')\n",
    "\n",
    "comedy.head()"
   ]
  },
  {
   "cell_type": "code",
   "execution_count": null,
   "metadata": {},
   "outputs": [],
   "source": []
  },
  {
   "cell_type": "code",
   "execution_count": null,
   "metadata": {},
   "outputs": [],
   "source": []
  },
  {
   "cell_type": "code",
   "execution_count": null,
   "metadata": {
    "scrolled": false
   },
   "outputs": [],
   "source": [
    "figure, axes = plt.subplots(nrows=3, ncols=2, figsize=(18,9), sharey=True)\n",
    "\n",
    "ax1, ax2, ax3, ax4, ax5, ax6 = axes.flatten()\n",
    "axes_list = [ax1, ax2, ax3, ax4, ax5, ax6]\n",
    "\n",
    "genres = [adventure, action, drama, comedy, thriller_suspense, horror]\n",
    "names = ['adventure', 'action', 'drama', 'comedy', 'thriller_suspense', 'horror']\n",
    "\n",
    "for axis, genre, name in zip(axes_list, genres, names):\n",
    "    genre.groupby('release_decade')['title'].count().plot(kind='bar', ax=axis)\n",
    "    axis.set_ylabel('Count of Movies By Genre')\n",
    "    axis.set_title(name)\n",
    "    autolabel(axis)\n",
    "        \n",
    "    #for i in axis.patches:\n",
    "    #    axis.annotate(str(i.get_height()), (i.get_x(), i.get_height()), fontsize=12)\n",
    "        \n",
    "plt.tight_layout()"
   ]
  },
  {
   "cell_type": "markdown",
   "metadata": {},
   "source": [
    "Key Takeaways:\n",
    "- The most common movies are drama and comedy. This probably is due in part to their smaller budgets. Although we would expect there to be more horror movies if that was the primary cause.\n",
    "- More movies of all genres seem to get made as time goes on."
   ]
  },
  {
   "cell_type": "code",
   "execution_count": null,
   "metadata": {},
   "outputs": [],
   "source": []
  },
  {
   "cell_type": "code",
   "execution_count": null,
   "metadata": {},
   "outputs": [],
   "source": []
  },
  {
   "cell_type": "code",
   "execution_count": null,
   "metadata": {},
   "outputs": [],
   "source": []
  },
  {
   "cell_type": "code",
   "execution_count": null,
   "metadata": {},
   "outputs": [],
   "source": []
  },
  {
   "cell_type": "code",
   "execution_count": null,
   "metadata": {},
   "outputs": [],
   "source": []
  },
  {
   "cell_type": "code",
   "execution_count": null,
   "metadata": {},
   "outputs": [],
   "source": []
  },
  {
   "cell_type": "code",
   "execution_count": null,
   "metadata": {},
   "outputs": [],
   "source": [
    "figure, ax1 = plt.subplots(1, 1)\n",
    "\n",
    "data['domestic_breakeven'] = data['domestic_adj'] >= 3 * data['budget_adj']\n",
    "\n",
    "decades = data.groupby('release_decade')\n",
    "\n",
    "decades['domestic_breakeven'].count().plot(xticks=range(1910, 2020, 10), figsize=(12,9), title='Breakeven By Decade', ax=ax1)\n",
    "ax1.set_ylabel('Percentage of Movies That Breakeven')"
   ]
  },
  {
   "cell_type": "code",
   "execution_count": null,
   "metadata": {},
   "outputs": [],
   "source": [
    "comedy.groupby('release_decade')['domestic_breakeven'].sum().head()"
   ]
  },
  {
   "cell_type": "code",
   "execution_count": null,
   "metadata": {},
   "outputs": [],
   "source": [
    "comedy.groupby('release_decade')['domestic_breakeven'].count().head()"
   ]
  },
  {
   "cell_type": "code",
   "execution_count": null,
   "metadata": {},
   "outputs": [],
   "source": [
    "comedy.groupby('release_decade').count().head()"
   ]
  },
  {
   "cell_type": "code",
   "execution_count": null,
   "metadata": {},
   "outputs": [],
   "source": []
  },
  {
   "cell_type": "code",
   "execution_count": null,
   "metadata": {},
   "outputs": [],
   "source": []
  },
  {
   "cell_type": "code",
   "execution_count": null,
   "metadata": {},
   "outputs": [],
   "source": []
  },
  {
   "cell_type": "markdown",
   "metadata": {},
   "source": [
    "## Analyze By Worldwide"
   ]
  },
  {
   "cell_type": "markdown",
   "metadata": {},
   "source": [
    "### Import needed libraries"
   ]
  },
  {
   "cell_type": "code",
   "execution_count": null,
   "metadata": {},
   "outputs": [],
   "source": [
    "import pandas as pd\n",
    "import numpy as np\n",
    "import matplotlib.pyplot as plt\n",
    "%matplotlib inline\n",
    "import pprint"
   ]
  },
  {
   "cell_type": "code",
   "execution_count": null,
   "metadata": {},
   "outputs": [],
   "source": [
    "from IPython.core.display import display, HTML\n",
    "display(HTML(\"<style>.container { width:80% !important; }</style>\"))\n",
    "\n",
    "pd.options.display.max_rows = 400\n",
    "pd.options.display.max_columns = 50"
   ]
  },
  {
   "cell_type": "markdown",
   "metadata": {},
   "source": [
    "### Import dataset"
   ]
  },
  {
   "cell_type": "code",
   "execution_count": null,
   "metadata": {},
   "outputs": [],
   "source": [
    "data = pd.read_csv('cleaned_movie_data.csv', parse_dates=['release_date'])\n",
    "\n",
    "# Only look at movies that made money worldwide\n",
    "data = data[data['worldwide_adj'].notna() & data['worldwide_adj'] > 0]\n",
    "\n",
    "data['release_decade'] = data['release_year'].apply(lambda x: x // 10 * 10)"
   ]
  },
  {
   "cell_type": "code",
   "execution_count": null,
   "metadata": {
    "scrolled": true
   },
   "outputs": [],
   "source": [
    "data['genres_mojo'].value_counts(dropna=False)"
   ]
  },
  {
   "cell_type": "markdown",
   "metadata": {},
   "source": [
    "Since so many movies are categorized with multiple genres, we will include movies in all the genres they are listed as having.\n",
    "\n",
    "This is to avoid deciding what one genre a movie belongs to."
   ]
  },
  {
   "cell_type": "code",
   "execution_count": null,
   "metadata": {},
   "outputs": [],
   "source": [
    "adventure = data[data['genres_mojo'].str.contains('Adventure', na=False)] \n",
    "action = data[data['genres_mojo'].str.contains('Action', na=False)]\n",
    "drama = data[data['genres_mojo'].str.contains('Drama', na=False)]\n",
    "comedy = data[data['genres_mojo'].str.contains('Comedy', na=False)]\n",
    "thriller_suspense = data[data['genres_mojo'].str.contains('Thriller|Suspense', na=False, regex=True)]\n",
    "horror = data[data['genres_mojo'].str.contains('Horror', na=False)]"
   ]
  },
  {
   "cell_type": "code",
   "execution_count": null,
   "metadata": {},
   "outputs": [],
   "source": [
    "print('adventure has ', len(adventure), 'movies')\n",
    "print('action has ', len(action), 'movies')\n",
    "print('drama has ', len(drama), 'movies')\n",
    "print('comedy has ', len(comedy), 'movies')\n",
    "print('thriller_suspense has ', len(thriller_suspense), 'movies')\n",
    "print('horror has ', len(horror), 'movies')"
   ]
  },
  {
   "cell_type": "markdown",
   "metadata": {},
   "source": [
    "### Analyze By Release Week"
   ]
  },
  {
   "cell_type": "code",
   "execution_count": null,
   "metadata": {},
   "outputs": [],
   "source": [
    "figure, ax1 = plt.subplots(1,1)\n",
    "\n",
    "for genre in [adventure, action, drama, comedy, thriller_suspense, horror]:\n",
    "    grp = genre.groupby('release_week').mean() / 1000000\n",
    "    grp.plot(y='worldwide_adj', xticks=range(1, 54), figsize=(18,9), ax=ax1, title='Mean Worldwide Gross By Genre And Release Week', linewidth=3)\n",
    "    \n",
    "ax1.set_ylabel('Worldwide Gross In Millions')\n",
    "ax1.legend(['adventure', 'action', 'drama', 'comedy', 'thriller_suspense', 'horror'])\n",
    "plt.tight_layout()    "
   ]
  },
  {
   "cell_type": "code",
   "execution_count": null,
   "metadata": {},
   "outputs": [],
   "source": [
    "dfs = [adventure, action, drama, comedy, thriller_suspense, horror]\n",
    "genres = ['adventure', 'action', 'drama', 'comedy', 'thriller_suspense', 'horror']\n",
    "\n",
    "for df, genre in zip(dfs, genres):\n",
    "    print('{0} has a worldwide mean of {1:.1f} million dollars'.format(genre, df['worldwide_adj'].mean() / 1000000))"
   ]
  },
  {
   "cell_type": "markdown",
   "metadata": {},
   "source": [
    "Key Takeaways:\n",
    "- In aggregate it seems the top selling genres are Adventure, Action, and Horror\n",
    "- The spikes in popularity of release week are less clear for Comedy, Thriller/Suspense, and Drama. This makes sense as these are not typically 'spectacle' genres that people associate with blockbusters \n",
    "- Adventure has spikes at weeks 9 and 17-18, which we haven't seen before. \n",
    "- Adventure and Action have spikes on Memorial Day, Summer, and Holidays.\n",
    "- The spikes are less pronounced when movies are separated by genre. I thought Summer in particular would be even more exagerrated for Action and Adventure movies."
   ]
  },
  {
   "cell_type": "markdown",
   "metadata": {},
   "source": [
    "### Analyze By Decade"
   ]
  },
  {
   "cell_type": "code",
   "execution_count": null,
   "metadata": {},
   "outputs": [],
   "source": [
    "figure, ax1 = plt.subplots(1,1)\n",
    "\n",
    "for genre in [adventure, action, drama, comedy, thriller_suspense, horror]:\n",
    "    grp = genre.groupby('release_decade').mean() / 1000000\n",
    "    grp.plot(y='worldwide_adj', xticks=range(1910, 2020, 10), figsize=(18,9), ax=ax1, title='Mean Worldwide Gross By Genre And Decade', linewidth=3)\n",
    "    \n",
    "ax1.set_ylabel('Worldwide Gross In Millions')\n",
    "ax1.legend(['adventure', 'action', 'drama', 'comedy', 'thriller_suspense', 'horror'])\n",
    "plt.tight_layout()    "
   ]
  },
  {
   "cell_type": "markdown",
   "metadata": {},
   "source": [
    "Key Takeaways:\n",
    "- Like with domestic, we're missing a lot of genre labeling before 1950.\n",
    "- It still seems that Adventure, Action, and Horror are the biggest winners."
   ]
  },
  {
   "cell_type": "markdown",
   "metadata": {},
   "source": [
    "### Analyze By Breakeven"
   ]
  },
  {
   "cell_type": "code",
   "execution_count": null,
   "metadata": {},
   "outputs": [],
   "source": []
  },
  {
   "cell_type": "code",
   "execution_count": null,
   "metadata": {},
   "outputs": [],
   "source": []
  },
  {
   "cell_type": "code",
   "execution_count": null,
   "metadata": {},
   "outputs": [],
   "source": []
  },
  {
   "cell_type": "code",
   "execution_count": null,
   "metadata": {},
   "outputs": [],
   "source": []
  },
  {
   "cell_type": "code",
   "execution_count": null,
   "metadata": {},
   "outputs": [],
   "source": []
  },
  {
   "cell_type": "code",
   "execution_count": null,
   "metadata": {},
   "outputs": [],
   "source": []
  },
  {
   "cell_type": "code",
   "execution_count": null,
   "metadata": {},
   "outputs": [],
   "source": []
  },
  {
   "cell_type": "code",
   "execution_count": null,
   "metadata": {},
   "outputs": [],
   "source": []
  },
  {
   "cell_type": "code",
   "execution_count": null,
   "metadata": {},
   "outputs": [],
   "source": []
  },
  {
   "cell_type": "code",
   "execution_count": null,
   "metadata": {},
   "outputs": [],
   "source": [
    "decade_mean = data.groupby('release_decade').mean() / 1000000\n",
    "# decades_median = data.groupby('release_decade').median() / 1000000\n",
    "\n",
    "fig, (ax1, ax2) = plt.subplots(2, 1)\n",
    "\n",
    "decades_mean.plot(y='domestic_adj', xticks=range(1910, 2020, 10), figsize=(12,9), title=\"Mean Earnings vs Budget By Decade\", ax=ax1)\n",
    "decades_mean.plot(y='budget_adj', xticks=range(1910, 2020, 10), ax=ax1)\n",
    "ax1.legend(['Mean Earnings', 'Mean Budget'])\n",
    "\n",
    "decades_median.plot(y='domestic_adj', xticks=range(1910, 2020, 10), figsize=(12,9), title=\"Median Earnings vs Budget By Decade\", ax=ax2)\n",
    "decades_median.plot(y='budget_adj', xticks=range(1910, 2020, 10), ax=ax2)\n",
    "ax2.legend(['Median Earnings', 'Median Budget'])\n",
    "\n",
    "plt.tight_layout()\n",
    "\n",
    "figure, (ax1, ax2) = plt.subplots(2, 1)\n",
    "\n",
    "# Mean groupby\n",
    "domestic_mean = data.groupby('release_week').mean() / 1000000\n",
    "\n",
    "domestic_mean['difference'] = domestic_mean['domestic_adj'] - domestic_mean['budget_adj']\n",
    "\n",
    "# Median groupby\n",
    "# domestic_median = data.groupby('release_week').median() / 1000000\n",
    "\n",
    "domestic_mean.plot(y=['domestic_adj', 'budget_adj'], xticks=range(1,54), figsize=(12,6), ax=ax1, title='Domestic Gross and Budget versus Release Week')\n",
    "#domestic_median.plot(y='domestic_adj', xticks=range(1,54), figsize=(12,6), ax=ax1)\n",
    "ax1.set_ylabel('Dollars In Millions')\n",
    "ax1.legend(['Mean Domestic Gross', 'Mean Production Budget'])\n",
    "\n",
    "domestic_mean.plot(y='difference', xticks=range(1,54), figsize=(12,6), title='Domestic Gross Minus Budget versus Release Week', ax=ax2)\n",
    "ax2.set_ylabel('Dollars In Millions')\n",
    "ax2.legend(['Domestic Gross Minus Budget'])\n",
    "ax2.axhline(0, color='k', linestyle='--')\n",
    "\n",
    "plt.tight_layout()"
   ]
  },
  {
   "cell_type": "markdown",
   "metadata": {},
   "source": [
    "### Analyze By Breakeven"
   ]
  },
  {
   "cell_type": "code",
   "execution_count": null,
   "metadata": {},
   "outputs": [],
   "source": [
    "figure, ax1 = plt.subplots(1, 1)\n",
    "\n",
    "data['domestic_breakeven'] = data['domestic_adj'] >= 3 * data['budget_adj']\n",
    "\n",
    "decades = data.groupby('release_decade')\n",
    "\n",
    "(decades['domestic_breakeven'].sum() / decades['domestic_breakeven'].count() * 100).plot(xticks=range(1910, 2020, 10), figsize=(12,9), title='Breakeven By Decade', ax=ax1)\n",
    "ax1.set_ylabel('Percentage of Movies That Breakeven')"
   ]
  },
  {
   "cell_type": "markdown",
   "metadata": {},
   "source": [
    "## Analyze By Breakeven"
   ]
  },
  {
   "cell_type": "code",
   "execution_count": null,
   "metadata": {},
   "outputs": [],
   "source": [
    "data['domestic_breakeven'] = data['domestic_adj'] >= 3 * data['budget_adj']\n",
    "data['worldwide_breakeven'] = data['worldwide_adj'] >= 2 * data['budget_adj']"
   ]
  },
  {
   "cell_type": "code",
   "execution_count": null,
   "metadata": {
    "scrolled": true
   },
   "outputs": [],
   "source": [
    "domestic = data[data['domestic_adj'].notnull() & data['domestic_adj'] > 0]\n",
    "\n",
    "domestic_grp = domestic.groupby('release_decade')\n",
    "\n",
    "(domestic_grp['domestic_breakeven'].sum() / domestic_grp['domestic_breakeven'].count() * 100).plot()"
   ]
  },
  {
   "cell_type": "code",
   "execution_count": null,
   "metadata": {},
   "outputs": [],
   "source": [
    "len(data[data['domestic_adj'].notna() & data['worldwide_adj'].isna()])"
   ]
  },
  {
   "cell_type": "code",
   "execution_count": null,
   "metadata": {},
   "outputs": [],
   "source": [
    "data[data['domestic_adj'].notna() & data['worldwide_adj'].isna()].sort_values('domestic_adj', ascending=True)"
   ]
  },
  {
   "cell_type": "code",
   "execution_count": null,
   "metadata": {},
   "outputs": [],
   "source": [
    "data['distributor_mojo'].value_counts()"
   ]
  },
  {
   "cell_type": "code",
   "execution_count": null,
   "metadata": {},
   "outputs": [],
   "source": [
    "data[data['distributor_mojo'].str.contains('Warner', na=False)]['distributor_mojo'].value_counts()"
   ]
  },
  {
   "cell_type": "code",
   "execution_count": null,
   "metadata": {},
   "outputs": [],
   "source": [
    "data[data['distributor_mojo'].str.contains('Universal', na=False)]['distributor_mojo'].value_counts()"
   ]
  },
  {
   "cell_type": "code",
   "execution_count": null,
   "metadata": {},
   "outputs": [],
   "source": [
    "data[data['distributor_mojo'].str.contains('Fox', na=False)]['distributor_mojo'].value_counts()"
   ]
  },
  {
   "cell_type": "code",
   "execution_count": null,
   "metadata": {},
   "outputs": [],
   "source": []
  },
  {
   "cell_type": "code",
   "execution_count": null,
   "metadata": {},
   "outputs": [],
   "source": []
  },
  {
   "cell_type": "code",
   "execution_count": null,
   "metadata": {},
   "outputs": [],
   "source": []
  },
  {
   "cell_type": "code",
   "execution_count": null,
   "metadata": {},
   "outputs": [],
   "source": []
  },
  {
   "cell_type": "code",
   "execution_count": null,
   "metadata": {},
   "outputs": [],
   "source": []
  },
  {
   "cell_type": "code",
   "execution_count": null,
   "metadata": {},
   "outputs": [],
   "source": []
  }
 ],
 "metadata": {
  "kernelspec": {
   "display_name": "Python 3",
   "language": "python",
   "name": "python3"
  },
  "language_info": {
   "codemirror_mode": {
    "name": "ipython",
    "version": 3
   },
   "file_extension": ".py",
   "mimetype": "text/x-python",
   "name": "python",
   "nbconvert_exporter": "python",
   "pygments_lexer": "ipython3",
   "version": "3.6.8"
  },
  "toc": {
   "base_numbering": 1,
   "nav_menu": {},
   "number_sections": true,
   "sideBar": true,
   "skip_h1_title": false,
   "title_cell": "Table of Contents",
   "title_sidebar": "Contents",
   "toc_cell": false,
   "toc_position": {
    "height": "113.542px",
    "left": "1727.89px",
    "top": "109.721px",
    "width": "376px"
   },
   "toc_section_display": true,
   "toc_window_display": true
  }
 },
 "nbformat": 4,
 "nbformat_minor": 2
}
