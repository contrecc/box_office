{
 "cells": [
  {
   "cell_type": "markdown",
   "metadata": {},
   "source": [
    "# Data Cleaning"
   ]
  },
  {
   "cell_type": "markdown",
   "metadata": {
    "heading_collapsed": true
   },
   "source": [
    "## Import needed libraries"
   ]
  },
  {
   "cell_type": "code",
   "execution_count": null,
   "metadata": {
    "hidden": true
   },
   "outputs": [],
   "source": [
    "import pandas as pd\n",
    "import numpy as np\n",
    "import pprint\n",
    "\n",
    "# For converting past dollars to 2018 dollars\n",
    "# https://github.com/datadesk/cpi\n",
    "import cpi"
   ]
  },
  {
   "cell_type": "code",
   "execution_count": null,
   "metadata": {
    "hidden": true
   },
   "outputs": [],
   "source": [
    "from IPython.core.display import display, HTML\n",
    "display(HTML(\"<style>.container { width:80% !important; }</style>\"))\n",
    "\n",
    "pd.options.display.max_rows = 400\n",
    "pd.options.display.max_columns = 50"
   ]
  },
  {
   "cell_type": "markdown",
   "metadata": {
    "heading_collapsed": true
   },
   "source": [
    "## Import Box Office Mojo dataset and fix small issues\n",
    "\n",
    "We read in the Box Office Mojo.\n",
    "\n",
    "We remove redundant columns and rename the labels with `_mojo` suffixes to avoid confusion. \n",
    "\n",
    "We skip the columns `title` and `release_year` though, since we will be joining on those columns."
   ]
  },
  {
   "cell_type": "code",
   "execution_count": null,
   "metadata": {
    "hidden": true
   },
   "outputs": [],
   "source": [
    "mojo = pd.read_csv(\"movie_data.csv\", parse_dates=[\"release_date_formatted\"])\n",
    "\n",
    "mojo.drop(labels=[\n",
    "    'runtime',\n",
    "    'release_date',\n",
    "    'domestic_gross',\n",
    "    'foreign_gross',\n",
    "    'worldwide_gross',\n",
    "    'adjusted_domestic_gross_2019'\n",
    "], axis=1, inplace=True)\n",
    "\n",
    "mojo.rename(mapper={\n",
    "    'distributor': 'distributor_mojo',\n",
    "    'rating': 'rating_mojo',\n",
    "    'genres': 'genres_mojo',\n",
    "    'production_budget': 'production_budget_mojo',\n",
    "    'runtime_formatted': 'runtime_mojo',\n",
    "    'release_date_formatted': 'release_date_mojo',\n",
    "    'domestic_gross_formatted': 'domestic_gross_mojo',\n",
    "    'foreign_gross_formatted': 'foreign_gross_mojo',\n",
    "    'worldwide_gross_formatted': 'worldwide_gross_mojo',\n",
    "    'adjusted_domestic_gross_2019_formatted': 'adjusted_domestic_gross_2019_mojo',\n",
    "    'director1': 'director1_mojo',\n",
    "    'director2': 'director2_mojo',\n",
    "    'writer1': 'writer1_mojo',\n",
    "    'writer2': 'writer2_mojo',\n",
    "    'writer3': 'writer3_mojo',\n",
    "    'actor1': 'actor1_mojo',\n",
    "    'actor2': 'actor2_mojo',\n",
    "    'actor3': 'actor3_mojo',\n",
    "    'actor4': 'actor4_mojo',\n",
    "    'actor5': 'actor5_mojo',\n",
    "    'actor6': 'actor6_mojo',\n",
    "    'producer1': 'producer1_mojo',\n",
    "    'producer2': 'producer2_mojo',\n",
    "    'producer3': 'producer3_mojo',\n",
    "    'producer4': 'producer4_mojo',\n",
    "    'producer5': 'producer5_mojo',\n",
    "    'producer6': 'producer6_mojo',\n",
    "    'cinematographer': 'cinematographer_mojo',\n",
    "    'composer1': 'composer1_mojo',\n",
    "    'composer2': 'composer2_mojo'\n",
    "}, axis=1, inplace=True)\n",
    "\n",
    "# Cast `release_year` as Nullable Integer Data Type to allow comparisons as integers and still have np.nan values\n",
    "mojo['release_year'] = mojo['release_date_mojo'].dt.year.astype(\"Int64\")\n",
    "\n",
    "mojo['runtime_mojo'] = mojo['runtime_mojo'].astype(\"Int64\")\n",
    "\n",
    "# Reorder the columns \n",
    "mojo = mojo[['title', 'release_year', 'release_date_mojo', 'distributor_mojo', 'runtime_mojo',\n",
    "             'rating_mojo', 'genres_mojo', 'production_budget_mojo', 'domestic_gross_mojo',\n",
    "             'foreign_gross_mojo', 'worldwide_gross_mojo', 'adjusted_domestic_gross_2019_mojo', 'director1_mojo',\n",
    "             'director2_mojo', 'writer1_mojo', 'writer2_mojo', 'writer3_mojo', 'actor1_mojo', 'actor2_mojo', 'actor3_mojo', 'actor4_mojo', 'actor5_mojo', \n",
    "             'actor6_mojo', 'producer1_mojo', 'producer2_mojo', 'producer3_mojo', 'producer4_mojo', 'producer5_mojo', 'producer6_mojo', 'cinematographer_mojo',\n",
    "             'composer1_mojo', 'composer2_mojo']]\n",
    "\n",
    "# Only analyze movies that were released up to 2018 to prevent incomplete box office numbers\n",
    "mojo = mojo[~(mojo['release_year'] > 2018)]\n",
    "\n",
    "# We only want entries that have a title\n",
    "mojo = mojo[~mojo['title'].isna()]\n",
    "\n",
    "# We will drop any duplicate rows\n",
    "mojo.drop_duplicates(inplace=True)"
   ]
  },
  {
   "cell_type": "code",
   "execution_count": null,
   "metadata": {
    "hidden": true,
    "scrolled": true
   },
   "outputs": [],
   "source": [
    "mojo.info()"
   ]
  },
  {
   "cell_type": "markdown",
   "metadata": {
    "hidden": true
   },
   "source": [
    "###  Fix `production-budget_mojo` column\n",
    "\n",
    "We must properly convert `production_budget_mojo` into a numeric form.\n",
    "\n",
    "Right now, it has entries like `$30 million` in it.\n",
    "\n",
    "There are a couple bad entries in it (e.g. `PG` and `Unrated`) from a bad web-scrape that we will fix. Doing some research, the websites for the movie in question is `https://www.boxofficemojo.com/movies/?id=picnicathangingrock98.htm` and `https://www.boxofficemojo.com/movies/?id=zyzzyxroad.htm`."
   ]
  },
  {
   "cell_type": "code",
   "execution_count": null,
   "metadata": {
    "hidden": true
   },
   "outputs": [],
   "source": [
    "mojo['production_budget_mojo'].value_counts(dropna=False)"
   ]
  },
  {
   "cell_type": "markdown",
   "metadata": {
    "hidden": true
   },
   "source": [
    "#### Fix webscraping errors"
   ]
  },
  {
   "cell_type": "markdown",
   "metadata": {
    "hidden": true
   },
   "source": [
    "Fix the `PG` entry."
   ]
  },
  {
   "cell_type": "code",
   "execution_count": null,
   "metadata": {
    "hidden": true
   },
   "outputs": [],
   "source": [
    "mojo[mojo['production_budget_mojo'] == 'PG']"
   ]
  },
  {
   "cell_type": "code",
   "execution_count": null,
   "metadata": {
    "hidden": true
   },
   "outputs": [],
   "source": [
    "# From the website\n",
    "mojo.at[1245, 'release_year'] = 1998\n",
    "mojo.at[1245, 'release_date_mojo'] = pd.to_datetime('19980626', format='%Y%m%d', errors='ignore')\n",
    "mojo.at[1245, 'distributor_mojo'] = 'Kit Parker Films'\n",
    "mojo.at[1245, 'runtime_mojo'] = 107\n",
    "mojo.at[1245, 'rating_mojo'] = 'PG'\n",
    "mojo.at[1245, 'genres_mojo'] = 'Unknown'\n",
    "mojo.at[1245, 'production_budget_mojo'] = np.nan\n",
    "mojo.at[1245, 'domestic_gross_mojo'] = 232201"
   ]
  },
  {
   "cell_type": "code",
   "execution_count": null,
   "metadata": {
    "hidden": true
   },
   "outputs": [],
   "source": [
    "mojo[mojo['title'] == 'Picnic at Hanging Rock (Re-issue)']"
   ]
  },
  {
   "cell_type": "markdown",
   "metadata": {
    "hidden": true
   },
   "source": [
    "Fix the `Unrated` entry."
   ]
  },
  {
   "cell_type": "code",
   "execution_count": null,
   "metadata": {
    "hidden": true
   },
   "outputs": [],
   "source": [
    "mojo[mojo['production_budget_mojo'] == 'Unrated']"
   ]
  },
  {
   "cell_type": "code",
   "execution_count": null,
   "metadata": {
    "hidden": true
   },
   "outputs": [],
   "source": [
    "# From the website\n",
    "mojo.at[2746, 'release_year'] = 2006\n",
    "mojo.at[2746, 'release_date_mojo'] = pd.to_datetime('20060225', format='%Y%m%d', errors='ignore')\n",
    "mojo.at[2746, 'distributor_mojo'] = 'Regent Releasing'\n",
    "mojo.at[2746, 'runtime_mojo'] = 90\n",
    "mojo.at[2746, 'rating_mojo'] = 'Unrated'\n",
    "mojo.at[2746, 'genres_mojo'] = 'Thriller'\n",
    "mojo.at[2746, 'production_budget_mojo'] = '2000000'\n",
    "mojo.at[2746, 'domestic_gross_mojo'] = 30"
   ]
  },
  {
   "cell_type": "code",
   "execution_count": null,
   "metadata": {
    "hidden": true
   },
   "outputs": [],
   "source": [
    "mojo[mojo['title'] == 'Zyzzyx Road']"
   ]
  },
  {
   "cell_type": "markdown",
   "metadata": {
    "hidden": true
   },
   "source": [
    "#### Fix numeric strings"
   ]
  },
  {
   "cell_type": "markdown",
   "metadata": {
    "hidden": true
   },
   "source": [
    "Fix strings like `million` in `production_budget_mojo`. Also, convert its type to \"Int64\"."
   ]
  },
  {
   "cell_type": "code",
   "execution_count": null,
   "metadata": {
    "hidden": true
   },
   "outputs": [],
   "source": [
    "mojo['production_budget_mojo'].head(10)"
   ]
  },
  {
   "cell_type": "code",
   "execution_count": null,
   "metadata": {
    "hidden": true
   },
   "outputs": [],
   "source": [
    "mojo['production_budget_mojo'] = mojo['production_budget_mojo'].str.replace('$', '').str.replace(',', '').str.strip().str.split(' ')"
   ]
  },
  {
   "cell_type": "code",
   "execution_count": null,
   "metadata": {
    "hidden": true
   },
   "outputs": [],
   "source": [
    "mojo['production_budget_mojo'].sort_values(ascending=False)"
   ]
  },
  {
   "cell_type": "code",
   "execution_count": null,
   "metadata": {
    "hidden": true
   },
   "outputs": [],
   "source": [
    "results = []\n",
    "\n",
    "for entry in mojo['production_budget_mojo']:\n",
    "    if type(entry) is list:\n",
    "        if len(entry) > 1:\n",
    "            budget = float(entry[0]) * 1000000\n",
    "            budget = int(budget)\n",
    "            results.append(budget)\n",
    "        else:\n",
    "            results.append(int(entry[0]))\n",
    "    else:\n",
    "        results.append(entry)\n",
    "        \n",
    "mojo['production_budget_mojo'] = results\n",
    "mojo['production_budget_mojo'] = mojo['production_budget_mojo'].astype(\"Int64\")\n",
    "\n",
    "mojo['production_budget_mojo'].head()"
   ]
  },
  {
   "cell_type": "code",
   "execution_count": null,
   "metadata": {
    "hidden": true
   },
   "outputs": [],
   "source": [
    "mojo['production_budget_mojo'].sort_values(ascending=False)"
   ]
  },
  {
   "cell_type": "markdown",
   "metadata": {
    "heading_collapsed": true
   },
   "source": [
    "## Import The Numbers dataset and fix small issues"
   ]
  },
  {
   "cell_type": "code",
   "execution_count": null,
   "metadata": {
    "hidden": true
   },
   "outputs": [],
   "source": [
    "numbers = pd.read_csv(\"the_numbers_movie_data.csv\", parse_dates=[\"release_date\"])\n",
    "\n",
    "# Cast `release_year` as Nullable Integer Data Type to allow comparisons as integers and still have np.nan values\n",
    "numbers['release_year'] = numbers['release_date'].dt.year.astype(\"Int64\")\n",
    "\n",
    "numbers.rename(mapper={\n",
    "    'release_date': 'release_date_numbers',\n",
    "    'rank': 'rank_numbers',\n",
    "    'production_budget': 'production_budget_numbers',\n",
    "    'domestic_gross': 'domestic_gross_numbers',\n",
    "    'worldwide_gross': 'worldwide_gross_numbers'\n",
    "}, axis=1, inplace=True)\n",
    "\n",
    "# Reorder columns\n",
    "numbers = numbers[['title', 'release_year', 'release_date_numbers', 'rank_numbers', 'production_budget_numbers', 'domestic_gross_numbers', 'worldwide_gross_numbers']]\n",
    "\n",
    "# Only analyze movies that were released up to 2018 to prevent incomplete box office numbers\n",
    "numbers = numbers[~(numbers['release_year'] > 2018)]"
   ]
  },
  {
   "cell_type": "code",
   "execution_count": null,
   "metadata": {
    "hidden": true
   },
   "outputs": [],
   "source": [
    "numbers.info()"
   ]
  },
  {
   "cell_type": "markdown",
   "metadata": {
    "heading_collapsed": true
   },
   "source": [
    "## Merge Two DataFrames\n",
    "\n",
    "We will merge the two dataframes on the columns `title` and `release_year`.\n",
    "\n",
    "We will search for duplicate titles that may exist in both datasets but happen to have different years of release.\n",
    "\n",
    "We will combine the data from both datasets into one row of data for these instances."
   ]
  },
  {
   "cell_type": "code",
   "execution_count": null,
   "metadata": {
    "hidden": true
   },
   "outputs": [],
   "source": [
    "outer_merged = pd.merge(mojo, numbers, how='outer', on=['title', 'release_year'], suffixes=['_mojo', '_numbers'])"
   ]
  },
  {
   "cell_type": "code",
   "execution_count": null,
   "metadata": {
    "hidden": true
   },
   "outputs": [],
   "source": [
    "outer_merged.info()"
   ]
  },
  {
   "cell_type": "code",
   "execution_count": null,
   "metadata": {
    "hidden": true,
    "scrolled": false
   },
   "outputs": [],
   "source": [
    "# We want to remove duplicates from the two datasets.\n",
    "# We will create a subset of the outer_merged dataframe that contains duplicated titles.\n",
    "# Then we will sort it in descending order based on `title` and `release_year`.\n",
    "# If we find the same movie with consecutive release years, there's a good chance it's a duplicated entry.\n",
    "# We will check if the movie has already been merged on by checking if it has data from both `mojo` and `numbers`.\n",
    "# Then we will extract the duplicates that are from consecutive years.\n",
    "duplicated_df = pd.DataFrame(columns=outer_merged.columns)\n",
    "previous_row = None\n",
    "\n",
    "# We loop through a subset of outer_merged that contains duplicated titles\n",
    "for index, row in outer_merged[outer_merged['title'].duplicated(keep=False)].sort_values(['title', 'release_year'], ascending=[False, False]).iterrows():\n",
    "    if previous_row is None:\n",
    "        previous_row = outer_merged.iloc[index].copy()\n",
    "        continue\n",
    "        \n",
    "    if row['title'] != previous_row['title']:\n",
    "        previous_row = outer_merged.iloc[index].copy()\n",
    "        continue\n",
    "        \n",
    "    if row['release_year'] == previous_row['release_year'] - 1:\n",
    "        # If any title has both `release_date_mojo` and `release_date_numbers`, then it has already been merged on. \n",
    "        # We will assume another matching title in this instance is a separate movie. \n",
    "        if (pd.notnull(row['release_date_mojo']) & pd.notnull(row['release_date_numbers'])) | (pd.notnull(previous_row['release_date_mojo']) & pd.notnull(previous_row['release_date_numbers'])):\n",
    "            previous_row = outer_merged.iloc[index].copy()\n",
    "            continue\n",
    "            \n",
    "        else:\n",
    "            row_copy = row.copy()\n",
    "            duplicated_df = duplicated_df.append([previous_row, row_copy])\n",
    "            previous_row = outer_merged.iloc[index].copy()\n",
    "        \n",
    "    else:\n",
    "        previous_row = outer_merged.iloc[index].copy()"
   ]
  },
  {
   "cell_type": "code",
   "execution_count": null,
   "metadata": {
    "hidden": true
   },
   "outputs": [],
   "source": [
    "temp_df = pd.DataFrame(columns=outer_merged.columns)\n",
    "previous_row = None\n",
    "previous_index = None\n",
    "indexes_to_delete = []\n",
    "\n",
    "for index, row in duplicated_df.iterrows():\n",
    "    if previous_row is None:\n",
    "        previous_row = outer_merged.iloc[index].copy()\n",
    "        previous_index = index\n",
    "        continue\n",
    "        \n",
    "    if row['title'] != previous_row['title']:\n",
    "        previous_row = outer_merged.iloc[index].copy()\n",
    "        previous_index = index\n",
    "        continue\n",
    "        \n",
    "    if row['release_year'] == previous_row['release_year'] - 1:\n",
    "        the_numbers_check = pd.notnull(previous_row['production_budget_numbers'])\n",
    "        \n",
    "        if the_numbers_check:\n",
    "            # The current row is populated from The Numbers database, so we must populate the previous_row with The Numbers data.\n",
    "            # We will only keep the entry with the later release date, for consistency.\n",
    "            for column in numbers.columns:\n",
    "                row.loc[column] = previous_row.loc[column]\n",
    "                \n",
    "            indexes_to_delete.append(previous_index)\n",
    "            indexes_to_delete.append(index)\n",
    "            temp_df = temp_df.append(row)\n",
    "        else:\n",
    "            for column in mojo.columns:\n",
    "                row.loc[column] = previous_row.loc[column]\n",
    "            indexes_to_delete.append(previous_index)\n",
    "            indexes_to_delete.append(index)\n",
    "            temp_df = temp_df.append(row)\n",
    "            \n",
    "    previous_row = outer_merged.iloc[index].copy()\n",
    "    previous_index = index\n",
    "    \n",
    "outer_merged.drop(labels=indexes_to_delete, axis=0, inplace=True)\n",
    "outer_merged = outer_merged.append(temp_df)\n",
    "outer_merged.sort_values(['title', 'release_year'], ascending=[True, True], inplace=True)\n",
    "outer_merged.reset_index(drop=True, inplace=True)"
   ]
  },
  {
   "cell_type": "code",
   "execution_count": null,
   "metadata": {
    "hidden": true
   },
   "outputs": [],
   "source": [
    "outer_merged.info()"
   ]
  },
  {
   "cell_type": "markdown",
   "metadata": {
    "heading_collapsed": true
   },
   "source": [
    "## Consolidate Duplicate Columns\n",
    "\n",
    "We know have multiple sources of similar information, such as `production budget`, `domestic gross`, `worldwide gross`, and `release date`.\n",
    "\n",
    "We will combine these columns where appropriate to simplify our analysis."
   ]
  },
  {
   "cell_type": "markdown",
   "metadata": {
    "hidden": true
   },
   "source": [
    "### Consolidate `release_date_mojo` and `release_date_numbers`\n",
    "\n",
    "We will use the release date from Box Office Mojo if it exists. If not, we will defer to The Numbers."
   ]
  },
  {
   "cell_type": "code",
   "execution_count": null,
   "metadata": {
    "hidden": true
   },
   "outputs": [],
   "source": [
    "def select_release_date(row):\n",
    "    if pd.notnull(row['release_date_mojo']):\n",
    "        return row['release_date_mojo']\n",
    "    elif pd.notnull(row['release_date_numbers']):\n",
    "        return row['release_date_numbers']\n",
    "    else:\n",
    "        return np.nan"
   ]
  },
  {
   "cell_type": "code",
   "execution_count": null,
   "metadata": {
    "hidden": true
   },
   "outputs": [],
   "source": [
    "outer_merged['release_date'] = outer_merged.apply(select_release_date, axis=1)"
   ]
  },
  {
   "cell_type": "markdown",
   "metadata": {
    "hidden": true
   },
   "source": [
    "### Consolidate `production_budget_mojo` and `production_budget_numbers`\n",
    "\n",
    "Production budgets for movies are notoriously unreliable.\n",
    "\n",
    "To illustrate this, we take the difference between the `production_budget_numbers` and `production_budget_mojo` columns. \n",
    "\n",
    "For the same movies, The Numbers reports aggregate production budgets that are \\\\$2.2 trillion less than Box Office Mojo's.\n",
    "\n",
    "That equates to an average production budget difference of almost $1 million per movie."
   ]
  },
  {
   "cell_type": "code",
   "execution_count": null,
   "metadata": {
    "hidden": true
   },
   "outputs": [],
   "source": [
    "production_budget_difference = outer_merged['production_budget_numbers'] - outer_merged['production_budget_mojo'] \n",
    "print(\"The sum of all production budget differences is\", production_budget_difference.sum())\n",
    "print(\"The average production budget difference is\", production_budget_difference.mean())"
   ]
  },
  {
   "cell_type": "markdown",
   "metadata": {
    "hidden": true
   },
   "source": [
    "To help account for these discrepancies, where both sites have a production budget, we will keep the average. Otherwise, we will keep whichever production budget data is there."
   ]
  },
  {
   "cell_type": "code",
   "execution_count": null,
   "metadata": {
    "hidden": true
   },
   "outputs": [],
   "source": [
    "def select_production_budget(row):\n",
    "    if pd.notnull(row['production_budget_mojo']) & pd.notnull(row['production_budget_numbers']):\n",
    "        return round((row['production_budget_mojo'] + row['production_budget_numbers']) / 2)\n",
    "    \n",
    "    if pd.notnull(row['production_budget_mojo']):\n",
    "        return row['production_budget_mojo']\n",
    "    \n",
    "    if pd.notnull(row['production_budget_numbers']):\n",
    "        return row['production_budget_numbers']\n",
    "    \n",
    "    return np.nan"
   ]
  },
  {
   "cell_type": "code",
   "execution_count": null,
   "metadata": {
    "hidden": true
   },
   "outputs": [],
   "source": [
    "outer_merged['production_budget'] = outer_merged.apply(select_production_budget, axis=1)\n",
    "outer_merged['production_budget'] = outer_merged['production_budget'].astype(\"Int64\")"
   ]
  },
  {
   "cell_type": "markdown",
   "metadata": {
    "hidden": true
   },
   "source": [
    "We now have production budget information for 6739 movies."
   ]
  },
  {
   "cell_type": "code",
   "execution_count": null,
   "metadata": {
    "hidden": true
   },
   "outputs": [],
   "source": [
    "print(\"Box Office Mojo production budgets\", outer_merged['production_budget_mojo'].notna().sum())\n",
    "print(\"The Numbers production budgets\", outer_merged['production_budget_numbers'].notna().sum())\n",
    "print(\"Total useable production budgets\", outer_merged['production_budget'].notna().sum())"
   ]
  },
  {
   "cell_type": "markdown",
   "metadata": {
    "hidden": true
   },
   "source": [
    "###  Consolidate `domestic_gross_mojo` and `domestic_gross_numbers`¶\n",
    "\n",
    "Domestic box office gross is more reliable. \n",
    "\n",
    "For the same movies, The Numbers reports domestic grosses that are \\\\$120 million higher than Box Office Mojo's.\n",
    "\n",
    "The per movie difference is only \\\\$30,600.\n",
    "\n",
    "Like before, we will average where appropriate to smooth out the numbers."
   ]
  },
  {
   "cell_type": "code",
   "execution_count": null,
   "metadata": {
    "hidden": true
   },
   "outputs": [],
   "source": [
    "domestic_gross_difference = outer_merged['domestic_gross_numbers'] - outer_merged['domestic_gross_mojo'] \n",
    "print(\"The sum of all production budget differences is\", domestic_gross_difference.sum())\n",
    "print(\"The average production budget difference is\", domestic_gross_difference.mean())"
   ]
  },
  {
   "cell_type": "code",
   "execution_count": null,
   "metadata": {
    "hidden": true
   },
   "outputs": [],
   "source": [
    "def select_domestic_gross(row):\n",
    "    if pd.notnull(row['domestic_gross_mojo']) & pd.notnull(row['domestic_gross_numbers']):\n",
    "        return round((row['domestic_gross_mojo'] + row['domestic_gross_numbers']) / 2)\n",
    "    \n",
    "    if pd.notnull(row['domestic_gross_mojo']):\n",
    "        return row['domestic_gross_mojo']\n",
    "    \n",
    "    if pd.notnull(row['domestic_gross_numbers']):\n",
    "        return row['domestic_gross_numbers']\n",
    "    \n",
    "    return np.nan"
   ]
  },
  {
   "cell_type": "code",
   "execution_count": null,
   "metadata": {
    "hidden": true
   },
   "outputs": [],
   "source": [
    "outer_merged['domestic_gross'] = outer_merged.apply(select_domestic_gross, axis=1)\n",
    "outer_merged['domestic_gross'] = outer_merged['domestic_gross'].astype(\"Int64\")"
   ]
  },
  {
   "cell_type": "markdown",
   "metadata": {
    "hidden": true
   },
   "source": [
    "We now have domestic gross information for 18,278 movies."
   ]
  },
  {
   "cell_type": "code",
   "execution_count": null,
   "metadata": {
    "hidden": true
   },
   "outputs": [],
   "source": [
    "print(\"Box Office Mojo domestic grosses\", outer_merged['domestic_gross_mojo'].notna().sum())\n",
    "print(\"The Numbers domestic grosses\", outer_merged['domestic_gross_numbers'].notna().sum())\n",
    "print(\"Total useable domestic grosses\", outer_merged['domestic_gross'].notna().sum())"
   ]
  },
  {
   "cell_type": "markdown",
   "metadata": {
    "hidden": true
   },
   "source": [
    "### Consolidate `worldwide_gross_mojo` and `worldwide_gross_numbers`\n",
    "\n",
    "Worldwide gross figures differ greatly.\n",
    "\n",
    "For the same movies, The Numbers reports worldwide grosses that are \\\\$2 trillion less than Box Office Mojo's.\n",
    "\n",
    "The per movie difference is $650,000.\n",
    "\n",
    "Like before, we will average where appropriate to smooth out the numbers."
   ]
  },
  {
   "cell_type": "code",
   "execution_count": null,
   "metadata": {
    "hidden": true
   },
   "outputs": [],
   "source": [
    "worldwide_gross_difference = outer_merged['worldwide_gross_numbers'] - outer_merged['worldwide_gross_mojo'] \n",
    "print(\"The sum of all worldwide gross differences is\", worldwide_gross_difference.sum())\n",
    "print(\"The average worldwide gross difference is\", worldwide_gross_difference.mean())"
   ]
  },
  {
   "cell_type": "code",
   "execution_count": null,
   "metadata": {
    "hidden": true
   },
   "outputs": [],
   "source": [
    "def select_worldwide_gross(row):\n",
    "    if pd.notnull(row['worldwide_gross_mojo']) & pd.notnull(row['worldwide_gross_numbers']):\n",
    "        return round((row['worldwide_gross_mojo'] + row['worldwide_gross_numbers']) / 2)\n",
    "    \n",
    "    if pd.notnull(row['worldwide_gross_mojo']):\n",
    "        return row['worldwide_gross_mojo']\n",
    "    \n",
    "    if pd.notnull(row['worldwide_gross_numbers']):\n",
    "        return row['worldwide_gross_numbers']\n",
    "    \n",
    "    return np.nan"
   ]
  },
  {
   "cell_type": "code",
   "execution_count": null,
   "metadata": {
    "hidden": true
   },
   "outputs": [],
   "source": [
    "outer_merged['worldwide_gross'] = outer_merged.apply(select_worldwide_gross, axis=1)\n",
    "outer_merged['worldwide_gross'] = outer_merged['worldwide_gross'].astype(\"Int64\")"
   ]
  },
  {
   "cell_type": "markdown",
   "metadata": {
    "hidden": true
   },
   "source": [
    "We now have worldwide gross information for 10,337 movies."
   ]
  },
  {
   "cell_type": "code",
   "execution_count": null,
   "metadata": {
    "hidden": true
   },
   "outputs": [],
   "source": [
    "print(\"Box Office Mojo worldwide grosses\", outer_merged['worldwide_gross_mojo'].notna().sum())\n",
    "print(\"The Numbers worldwide grosses\", outer_merged['worldwide_gross_numbers'].notna().sum())\n",
    "print(\"Total useable worldwide grosses\", outer_merged['worldwide_gross'].notna().sum())"
   ]
  },
  {
   "cell_type": "markdown",
   "metadata": {
    "heading_collapsed": true
   },
   "source": [
    "## Adjusting Ticket Prices For Inflation\n",
    "\n",
    "We want to convert prices to 2018 dollars to normalize our prices. (We choose 2018 because we will ignore movies released in 2019 to avoid underrepresenting box office returns for movies that haven't had the time to earn their full potential. We don't want our data to be skewed lower because of that.) \n",
    "\n",
    "There are two ways to adjust box office grosses and production budgets for inflation. We could use the Consumer Price Index, or we could convert dollar amounts into contemporary ticket prices and calculate their equivalent in 2018 ticket prices. (For example, divide a 1940 movie's domestic gross by the 1940 ticket price, then calculate that amount by the 2018 ticket price.)\n",
    "\n",
    "We will do both options and compare the results to determine which coversion seems more appropriate."
   ]
  },
  {
   "cell_type": "markdown",
   "metadata": {
    "hidden": true
   },
   "source": [
    "### Conversion using ticket prices \n",
    "\n",
    "We found historical ticket prices from [Box Office Mojo Adjusting Ticket Price For Inflation](https://www.boxofficemojo.com/about/adjuster.htm) and [National Association of Theatre Owners](https://www.natoonline.org/data/ticket-price/), but the datasets are missing years.\n",
    "\n",
    "We create a custom function to fill in missing ticket prices in an incremental way. Filling in ticket prices using a forward fill or backwards fill seems less accurate, as movie ticket prices have consistently increased over time. (We would rather have a sliding scale than several discrete dollar amounts, given the overal trend in price appreciation.)\n",
    "\n",
    "Our custom function should smooth out missing ticket prices nicely."
   ]
  },
  {
   "cell_type": "code",
   "execution_count": null,
   "metadata": {
    "hidden": true
   },
   "outputs": [],
   "source": [
    "# Incomplete dictionary of ticket prices\n",
    "ticket_prices = {\n",
    "    \"2019\": 9.01,\n",
    "    \"2018\": 9.11,\n",
    "    \"2017\": 8.97,\n",
    "    \"2016\": 8.65,\n",
    "    \"2015\": 8.43,\n",
    "    \"2014\": 8.17,\n",
    "    \"2013\": 8.13,\n",
    "    \"2012\": 7.96,\n",
    "    \"2011\": 7.93,\n",
    "    \"2010\": 7.89,\n",
    "    \"2009\": 7.50,\n",
    "    \"2008\": 7.18,\n",
    "    \"2007\": 6.88,\n",
    "    \"2006\": 6.55,\n",
    "    \"2005\": 6.41,\n",
    "    \"2004\": 6.21,\n",
    "    \"2003\": 6.03,\n",
    "    \"2002\": 5.81,\n",
    "    \"2001\": 5.66,\n",
    "    \"2000\": 5.39,\n",
    "    \"1999\": 5.08,\n",
    "    \"1998\": 4.69,    \n",
    "    \"1997\": 4.59,\n",
    "    \"1996\": 4.42,\n",
    "    \"1995\": 4.35,\n",
    "    \"1994\": 4.18,\n",
    "    \"1993\": 4.14,\n",
    "    \"1992\": 4.15,\n",
    "    \"1991\": 4.21,\n",
    "    \"1990\": 4.23,\n",
    "    \"1989\": 3.97,\n",
    "    \"1988\": 4.11,\n",
    "    \"1987\": 3.91,\n",
    "    \"1986\": 3.71,\n",
    "    \"1985\": 3.55,\n",
    "    \"1984\": 3.36,\n",
    "    \"1983\": 3.15,\n",
    "    \"1982\": 2.94,\n",
    "    \"1981\": 2.78,\n",
    "    \"1980\": 2.69,\n",
    "    \"1979\": 2.51,\n",
    "    \"1978\": 2.34,\n",
    "    \"1977\": 2.23,\n",
    "    \"1976\": 2.13,\n",
    "    \"1975\": 2.05,\n",
    "    \"1974\": 1.87,\n",
    "    \"1973\": 1.77,\n",
    "    \"1972\": 1.70,\n",
    "    \"1971\": 1.65,\n",
    "    \"1970\": 1.55,\n",
    "    \"1969\": 1.42,\n",
    "    \"1968\": 1.31,\n",
    "    \"1967\": 1.20,\n",
    "    \"1966\": 1.09,\n",
    "    \"1965\": 1.01,\n",
    "    \"1964\": 0.93,\n",
    "    \"1963\": 0.85,\n",
    "    \"1962\": 0.70,\n",
    "    \"1961\": 0.69,\n",
    "    \"1959\": 0.51,\n",
    "    \"1958\": 0.68,\n",
    "    \"1956\": 0.50,\n",
    "    \"1954\": 0.45,\n",
    "    \"1953\": 0.60,\n",
    "    \"1951\": 0.53,\n",
    "    \"1949\": 0.46,\n",
    "    \"1948\": 0.40,\n",
    "    \"1945\": 0.35,\n",
    "    \"1944\": 0.32,\n",
    "    \"1943\": 0.29,\n",
    "    \"1942\": 0.27,\n",
    "    \"1941\": 0.25,\n",
    "    \"1940\": 0.24,\n",
    "    \"1939\": 0.23,\n",
    "    \"1936\": 0.25,\n",
    "    \"1935\": 0.24,\n",
    "    \"1934\": 0.23,\n",
    "    \"1929\": 0.35,\n",
    "    \"1924\": 0.25,\n",
    "    \"1910\": 0.07    \n",
    "}\n",
    "\n",
    "# Custom function that loops through the dictionary keys.\n",
    "# It sets a previous_closest_key, then loops until it finds a missing key, continually updating the previous_closest_key to be as close to the missing key as possible.\n",
    "# When it finds a missing key, it then loops until it finds the next key in the dictionary (i.e. the next_closest_key).\n",
    "# Then it calculates the distance from the next_closest_key and previous_closest_key as well as a price differential and a unit price per distance.\n",
    "# It adds the missing key along with its calculated value to the dictionary.\n",
    "# It then loops to fill in other missing keys until the next_closest_key.\n",
    "# Then it resets previous_closest_key to the value of next_closest_key and repeats the process.\n",
    "def fill_in_missing_prices(dictionary):\n",
    "    dictionary_copy = dictionary.copy()\n",
    "    keys_list = list(dictionary_copy.keys())\n",
    "    keys_list.sort()\n",
    "    \n",
    "    previous_closest_key = None\n",
    "    previous_closest_value = None\n",
    "\n",
    "    next_closest_key = None\n",
    "    next_closest_value = None\n",
    "\n",
    "    current_missing_key = None\n",
    "    current_missing_value = None\n",
    "\n",
    "    for i in range(int(keys_list[0]), int(keys_list[-1])):\n",
    "        # Check if we have set a previous key\n",
    "        if previous_closest_key is None:\n",
    "            if str(i) in dictionary_copy:\n",
    "                previous_closest_key = str(i)\n",
    "                previous_closest_value = dictionary_copy[previous_closest_key]\n",
    "                continue\n",
    "\n",
    "        if (str(i) in ticket_prices) & (current_missing_key is None):\n",
    "            previous_closest_key = str(i)\n",
    "            previous_closest_value = dictionary_copy[previous_closest_key]\n",
    "            continue\n",
    "\n",
    "        if str(i) not in ticket_prices:\n",
    "            if current_missing_key is None:\n",
    "                current_missing_key = str(i)\n",
    "            else:\n",
    "                continue\n",
    "\n",
    "        if (str(i) in ticket_prices) & (current_missing_key is not None):\n",
    "            # Set next_closest_key and next_closest_value\n",
    "            next_closest_key = str(i)\n",
    "            next_closest_value = dictionary_copy[next_closest_key]\n",
    "\n",
    "            # Calculate distance from next_closest_key to previous_closest_key\n",
    "            known_keys_distance = int(next_closest_key) - int(previous_closest_key)\n",
    "            known_price_difference = next_closest_value - previous_closest_value\n",
    "            unit_price_per_distance = known_price_difference / known_keys_distance\n",
    "\n",
    "            # Calculate missing_key_value\n",
    "            distance_from_previous_key = int(current_missing_key) - int(previous_closest_key)\n",
    "            current_missing_value = previous_closest_value + distance_from_previous_key * unit_price_per_distance\n",
    "\n",
    "            # Set current_missing_key and current_missing_value in the dictionary\n",
    "            dictionary_copy[current_missing_key] = round(current_missing_value, 2)\n",
    "\n",
    "            # Check if there are other in-between missing values to fill in before resetting all values\n",
    "            if int(next_closest_key) - int(current_missing_key) > 1:\n",
    "                for i in range(int(current_missing_key), int(next_closest_key)):\n",
    "                    dictionary_copy[str(i)] = round(dictionary_copy[str(i - 1)] + unit_price_per_distance, 2)\n",
    "\n",
    "            previous_closest_key = next_closest_key\n",
    "            previous_closest_value = next_closest_value\n",
    "            next_closest_key = None\n",
    "            next_closest_value = None\n",
    "            current_missing_key = None\n",
    "            current_missing_value = None\n",
    "            \n",
    "    return dictionary_copy\n",
    "\n",
    "historical_ticket_prices = fill_in_missing_prices(ticket_prices)\n",
    "\n",
    "# We now have data for every year in our dataset and have smoothed out the values where missing.\n",
    "pprint.pprint(historical_ticket_prices)"
   ]
  },
  {
   "cell_type": "code",
   "execution_count": null,
   "metadata": {
    "hidden": true
   },
   "outputs": [],
   "source": [
    "# Function to convert price columns to 2019 prices\n",
    "def apply_price_transform(dictionary, value):\n",
    "    if pd.isnull(value):\n",
    "        return np.nan\n",
    "    else:\n",
    "        return dictionary['2018'] / dictionary[str(value)]"
   ]
  },
  {
   "cell_type": "code",
   "execution_count": null,
   "metadata": {
    "hidden": true,
    "scrolled": true
   },
   "outputs": [],
   "source": [
    "# Create a price conversion series to apply to our numeric columns\n",
    "outer_merged['price_conversion'] = outer_merged['release_year'].apply(lambda x: apply_price_transform(historical_ticket_prices, x))\n",
    "\n",
    "outer_merged['price_conversion'].head()"
   ]
  },
  {
   "cell_type": "code",
   "execution_count": null,
   "metadata": {
    "hidden": true
   },
   "outputs": [],
   "source": [
    "# Now let's convert all dollar-valued columns into their 2019-priced equivalents\n",
    "# outer_merged['production_budget_mojo_2019'] = (outer_merged['production_budget_mojo'] * outer_merged['price_conversion']).astype(\"float64\")\n",
    "# outer_merged['production_budget_mojo_2019'] = round(outer_merged['production_budget_mojo_2019'])\n",
    "# outer_merged['production_budget_mojo_2019'] = outer_merged['production_budget_mojo_2019'].astype(\"Int64\")\n",
    "\n",
    "# outer_merged['domestic_gross_mojo_2019'] = (outer_merged['domestic_gross_mojo'] * outer_merged['price_conversion']).astype(\"float64\")\n",
    "# outer_merged['domestic_gross_mojo_2019'] = round(outer_merged['domestic_gross_mojo_2019'])\n",
    "# outer_merged['domestic_gross_mojo_2019'] = outer_merged['domestic_gross_mojo_2019'].astype(\"Int64\")\n",
    "\n",
    "# outer_merged['foreign_gross_mojo_2019'] = (outer_merged['foreign_gross_mojo'] * outer_merged['price_conversion']).astype(\"float64\")\n",
    "# outer_merged['foreign_gross_mojo_2019'] = round(outer_merged['foreign_gross_mojo_2019'])\n",
    "# outer_merged['foreign_gross_mojo_2019'] = outer_merged['foreign_gross_mojo_2019'].astype(\"Int64\")\n",
    "\n",
    "# outer_merged['worldwide_gross_mojo_2019'] = (outer_merged['worldwide_gross_mojo'] * outer_merged['price_conversion']).astype(\"float64\")\n",
    "# outer_merged['worldwide_gross_mojo_2019'] = round(outer_merged['worldwide_gross_mojo_2019'])\n",
    "# outer_merged['worldwide_gross_mojo_2019'] = outer_merged['worldwide_gross_mojo_2019'].astype(\"Int64\")\n",
    "\n",
    "# outer_merged['production_budget_numbers_2019'] = (outer_merged['production_budget_numbers'] * outer_merged['price_conversion']).astype(\"float64\")\n",
    "# outer_merged['production_budget_numbers_2019'] = round(outer_merged['production_budget_numbers_2019'])\n",
    "# outer_merged['production_budget_numbers_2019'] = outer_merged['production_budget_numbers_2019'].astype(\"Int64\")\n",
    "\n",
    "# outer_merged['domestic_gross_numbers_2019'] = (outer_merged['domestic_gross_numbers'] * outer_merged['price_conversion']).astype(\"float64\")\n",
    "# outer_merged['domestic_gross_numbers_2019'] = round(outer_merged['domestic_gross_numbers_2019'])\n",
    "# outer_merged['domestic_gross_numbers_2019'] = outer_merged['domestic_gross_numbers_2019'].astype(\"Int64\")\n",
    "\n",
    "# outer_merged['worldwide_gross_numbers_2019'] = (outer_merged['worldwide_gross_numbers'] * outer_merged['price_conversion']).astype(\"float64\")\n",
    "# outer_merged['worldwide_gross_numbers_2019'] = round(outer_merged['worldwide_gross_numbers_2019'])\n",
    "# outer_merged['worldwide_gross_numbers_2019'] = outer_merged['worldwide_gross_numbers_2019'].astype(\"Int64\")\n",
    "\n",
    "outer_merged['production_budget_ticket_conversion_2018'] = (outer_merged['production_budget'] * outer_merged['price_conversion']).astype(\"float64\")\n",
    "outer_merged['production_budget_ticket_conversion_2018'] = round(outer_merged['production_budget_ticket_conversion_2018'])\n",
    "outer_merged['production_budget_ticket_conversion_2018'] = outer_merged['production_budget_ticket_conversion_2018'].astype(\"Int64\")\n",
    "\n",
    "outer_merged['domestic_gross_ticket_conversion_2018'] = (outer_merged['domestic_gross'] * outer_merged['price_conversion']).astype(\"float64\")\n",
    "outer_merged['domestic_gross_ticket_conversion_2018'] = round(outer_merged['domestic_gross_ticket_conversion_2018'])\n",
    "outer_merged['domestic_gross_ticket_conversion_2018'] = outer_merged['domestic_gross_ticket_conversion_2018'].astype(\"Int64\")\n",
    "\n",
    "outer_merged['worldwide_gross_ticket_conversion_2018'] = (outer_merged['worldwide_gross'] * outer_merged['price_conversion']).astype(\"float64\")\n",
    "outer_merged['worldwide_gross_ticket_conversion_2018'] = round(outer_merged['worldwide_gross_ticket_conversion_2018'])\n",
    "outer_merged['worldwide_gross_ticket_conversion_2018'] = outer_merged['worldwide_gross_ticket_conversion_2018'].astype(\"Int64\")\n",
    "\n",
    "# Reset index \n",
    "outer_merged.reset_index(drop=True, inplace=True)"
   ]
  },
  {
   "cell_type": "code",
   "execution_count": null,
   "metadata": {
    "hidden": true
   },
   "outputs": [],
   "source": [
    "outer_merged.info()"
   ]
  },
  {
   "cell_type": "markdown",
   "metadata": {
    "hidden": true
   },
   "source": [
    "### Conversion using CPI (Consumer Price Index)\n",
    "\n",
    "`cpi` is a python package put out by the [Los Angeles Times Data Desk](https://github.com/datadesk).\n",
    "\n",
    "With it, we can convert the dollar amounts from any year to 2018 dollars. Let's do this and compare the results with the ticket price conversion.\n",
    "\n",
    "The `cpi` conversion won't work with null release years. Let's examine how many null entries we have there. "
   ]
  },
  {
   "cell_type": "code",
   "execution_count": null,
   "metadata": {
    "hidden": true
   },
   "outputs": [],
   "source": [
    "outer_merged['release_date'].value_counts(dropna=False)"
   ]
  },
  {
   "cell_type": "markdown",
   "metadata": {
    "hidden": true
   },
   "source": [
    "We are only missing 388 entries from `release_date`. Let's remove these entries."
   ]
  },
  {
   "cell_type": "code",
   "execution_count": null,
   "metadata": {
    "hidden": true
   },
   "outputs": [],
   "source": [
    "outer_merged = outer_merged[outer_merged['release_date'].notna()]"
   ]
  },
  {
   "cell_type": "code",
   "execution_count": null,
   "metadata": {
    "hidden": true
   },
   "outputs": [],
   "source": [
    "outer_merged.info()"
   ]
  },
  {
   "cell_type": "code",
   "execution_count": null,
   "metadata": {
    "hidden": true
   },
   "outputs": [],
   "source": [
    "outer_merged['domestic_cpi_adjusted'] = outer_merged.apply(lambda x: cpi.inflate(x['domestic_gross'], x['release_year']), axis=1)\n",
    "outer_merged['domestic_cpi_adjusted'] = round(outer_merged['domestic_cpi_adjusted'])\n",
    "outer_merged['domestic_cpi_adjusted'] = outer_merged['domestic_cpi_adjusted'].astype(\"Int64\")\n",
    "\n",
    "outer_merged['worldwide_cpi_adjusted'] = outer_merged.apply(lambda x: cpi.inflate(x['worldwide_gross'], x['release_year']), axis=1)\n",
    "outer_merged['worldwide_cpi_adjusted'] = round(outer_merged['worldwide_cpi_adjusted'])\n",
    "outer_merged['worldwide_cpi_adjusted'] = outer_merged['worldwide_cpi_adjusted'].astype(\"Int64\")\n",
    "\n",
    "outer_merged['production_budget_cpi_adjusted'] = outer_merged.apply(lambda x: cpi.inflate(x['production_budget'], x['release_year']), axis=1)\n",
    "outer_merged['production_budget_cpi_adjusted'] = round(outer_merged['production_budget_cpi_adjusted'])\n",
    "outer_merged['production_budget_cpi_adjusted'] = outer_merged['production_budget_cpi_adjusted'].astype(\"Int64\")"
   ]
  },
  {
   "cell_type": "markdown",
   "metadata": {
    "hidden": true
   },
   "source": [
    "### Compare two methods and choose winner"
   ]
  },
  {
   "cell_type": "code",
   "execution_count": null,
   "metadata": {
    "hidden": true
   },
   "outputs": [],
   "source": [
    "outer_merged['domestic_conversion_difference'] = outer_merged['domestic_gross_ticket_conversion_2018'] - outer_merged['domestic_cpi_adjusted']"
   ]
  },
  {
   "cell_type": "code",
   "execution_count": null,
   "metadata": {
    "hidden": true
   },
   "outputs": [],
   "source": [
    "outer_merged[['title', 'domestic_cpi_adjusted', 'domestic_gross_ticket_conversion_2018', 'domestic_conversion_difference']].sort_values('domestic_conversion_difference', ascending=False)"
   ]
  },
  {
   "cell_type": "code",
   "execution_count": null,
   "metadata": {
    "hidden": true
   },
   "outputs": [],
   "source": [
    "print(\"The sum of all domestic conversion differences is\", outer_merged['domestic_conversion_difference'].sum())\n",
    "print(\"The average domestic conversion difference is\", outer_merged['domestic_conversion_difference'].mean())"
   ]
  },
  {
   "cell_type": "markdown",
   "metadata": {
    "hidden": true
   },
   "source": [
    "It seems like using the CPI would give us less extreme dollar values. The average difference in dollar amount conversions per movie is about $5 million.\n",
    "\n",
    "In aggregate, using the ticket price conversion as opposed to CPI conversion gives us a total amount that is almost $90 billion higher.\n",
    "\n",
    "Since we want to smooth out our dataset and avoid such extreme values, we are leaning towards using the CPI."
   ]
  },
  {
   "cell_type": "code",
   "execution_count": null,
   "metadata": {
    "hidden": true
   },
   "outputs": [],
   "source": [
    "outer_merged['worldwide_conversion_difference'] = outer_merged['worldwide_gross_ticket_conversion_2018'] - outer_merged['worldwide_cpi_adjusted']\n",
    "outer_merged[['title', 'worldwide_cpi_adjusted', 'worldwide_gross_ticket_conversion_2018', 'worldwide_conversion_difference']].sort_values('worldwide_conversion_difference', ascending=False)"
   ]
  },
  {
   "cell_type": "code",
   "execution_count": null,
   "metadata": {
    "hidden": true
   },
   "outputs": [],
   "source": [
    "print(\"The sum of all worldwide conversion differences is\", outer_merged['worldwide_conversion_difference'].sum())\n",
    "print(\"The average worldwide conversion difference is\", outer_merged['worldwide_conversion_difference'].mean())"
   ]
  },
  {
   "cell_type": "markdown",
   "metadata": {
    "hidden": true
   },
   "source": [
    "The average conversion difference in worldwide box office amounts is about $12 million.\n",
    "\n",
    "The sum of all worldwide conversion differences is about $122 billion dollars."
   ]
  },
  {
   "cell_type": "code",
   "execution_count": null,
   "metadata": {
    "hidden": true
   },
   "outputs": [],
   "source": [
    "outer_merged['production_budget_conversion_difference'] = outer_merged['production_budget_ticket_conversion_2018'] - outer_merged['production_budget_cpi_adjusted']\n",
    "outer_merged[['title', 'production_budget_cpi_adjusted', 'production_budget_ticket_conversion_2018', 'production_budget_conversion_difference']].sort_values('production_budget_conversion_difference', ascending=False)"
   ]
  },
  {
   "cell_type": "code",
   "execution_count": null,
   "metadata": {
    "hidden": true
   },
   "outputs": [],
   "source": [
    "print(\"The sum of all production budget conversion differences is\", outer_merged['production_budget_conversion_difference'].sum())\n",
    "print(\"The average production budget conversion difference is\", outer_merged['production_budget_conversion_difference'].mean())"
   ]
  },
  {
   "cell_type": "markdown",
   "metadata": {
    "hidden": true
   },
   "source": [
    "The average conversion difference in production budget is about $4.7 million.\n",
    "\n",
    "The sum of all production budget differences is about $31.5 billion."
   ]
  },
  {
   "cell_type": "markdown",
   "metadata": {
    "hidden": true
   },
   "source": [
    "### Conversion choice\n",
    "\n",
    "There are many ways to calculate price inflation. In this study, because it results in less extreme price differences over time, we will use the CPI method.\n",
    "\n",
    "For example, in looking at Gone With The Wind with the CPI method, the domestic gross in 2018 dollars is $3.6 billion dollars. Using the ticket price conversion method, we get a domestic gross in 2018 dollars of $7.9 billion.\n",
    "\n",
    "Gone With The Wind was by far the biggest movie of its time, but it seems more sensible to compare its success to a current dollar amount of $3.6 billion instead of more than double that amount."
   ]
  },
  {
   "cell_type": "markdown",
   "metadata": {
    "heading_collapsed": true
   },
   "source": [
    "## Creating `release_week` column\n",
    "\n",
    "We will be analyzing box office performance in our analysis. One of the data points we will use is the release week of a movie, scaled from 1 - 53 based on how many weeks are in the year."
   ]
  },
  {
   "cell_type": "code",
   "execution_count": null,
   "metadata": {
    "hidden": true
   },
   "outputs": [],
   "source": [
    "outer_merged['release_week'] = outer_merged['release_date'].dt.week.astype(\"Int64\")"
   ]
  },
  {
   "cell_type": "markdown",
   "metadata": {
    "heading_collapsed": true
   },
   "source": [
    "## Rename columns\n",
    "\n",
    "We will rename some columns to make them easier to use in analysis."
   ]
  },
  {
   "cell_type": "code",
   "execution_count": null,
   "metadata": {
    "hidden": true
   },
   "outputs": [],
   "source": [
    "outer_merged.rename(mapper={\n",
    "    'production_budget': 'budget',\n",
    "    'production_budget_cpi_adjusted': 'budget_adj',\n",
    "    'domestic_gross': 'domestic',\n",
    "    'domestic_cpi_adjusted': 'domestic_adj',\n",
    "    'worldwide_gross': 'worldwide',\n",
    "    'worldwide_cpi_adjusted': 'worldwide_adj'\n",
    "}, axis=1, inplace=True)"
   ]
  },
  {
   "cell_type": "markdown",
   "metadata": {
    "heading_collapsed": true
   },
   "source": [
    "## Clean up datatypes"
   ]
  },
  {
   "cell_type": "code",
   "execution_count": null,
   "metadata": {
    "hidden": true
   },
   "outputs": [],
   "source": [
    "# Clean up datatypes before saving data\n",
    "outer_merged['release_week'] = outer_merged['release_week'].astype(\"Int64\")\n",
    "outer_merged['release_year'] = outer_merged['release_year'].astype(\"Int64\")\n",
    "outer_merged['runtime_mojo'] = outer_merged['runtime_mojo'].astype(\"Int64\")\n",
    "outer_merged['production_budget_mojo'] = outer_merged['production_budget_mojo'].astype(\"Int64\")\n",
    "outer_merged['domestic_gross_mojo'] = outer_merged['domestic_gross_mojo'].astype(\"Int64\")\n",
    "outer_merged['foreign_gross_mojo'] = outer_merged['foreign_gross_mojo'].astype(\"Int64\")\n",
    "outer_merged['worldwide_gross_mojo'] = outer_merged['worldwide_gross_mojo'].astype(\"Int64\")\n",
    "outer_merged['adjusted_domestic_gross_2019_mojo'] = outer_merged['adjusted_domestic_gross_2019_mojo'].astype(\"Int64\")\n",
    "outer_merged['rank_numbers'] = outer_merged['rank_numbers'].astype(\"Int64\")\n",
    "outer_merged['production_budget_numbers'] = outer_merged['production_budget_numbers'].astype(\"Int64\")\n",
    "outer_merged['domestic_gross_numbers'] = outer_merged['domestic_gross_numbers'].astype(\"Int64\")\n",
    "outer_merged['worldwide_gross_numbers'] = outer_merged['worldwide_gross_numbers'].astype(\"Int64\")\n",
    "outer_merged['budget'] = outer_merged['budget'].astype(\"Int64\")\n",
    "outer_merged['budget_adj'] = outer_merged['budget_adj'].astype(\"Int64\")\n",
    "outer_merged['domestic'] = outer_merged['domestic'].astype(\"Int64\")\n",
    "outer_merged['domestic_adj'] = outer_merged['domestic_adj'].astype(\"Int64\")\n",
    "outer_merged['worldwide'] = outer_merged['worldwide'].astype(\"Int64\")\n",
    "outer_merged['worldwide_adj'] = outer_merged['worldwide_adj'].astype(\"Int64\")"
   ]
  },
  {
   "cell_type": "code",
   "execution_count": null,
   "metadata": {
    "hidden": true
   },
   "outputs": [],
   "source": [
    "outer_merged.info()"
   ]
  },
  {
   "cell_type": "markdown",
   "metadata": {},
   "source": [
    "## Data Cleaning Summary\n",
    "\n",
    "In our data cleaning we have accomplished the following tasks:\n",
    "- Imported two different movie datasets from Box Office Mojo and The Numbers.\n",
    "- Fixed errors from webscraping the data, including data in the wrong columns and converting string data into properly formatted numeric data.\n",
    "- Merged our two datasets on the columns `title` and `release_year`.\n",
    "- Eliminated duplicated movie data stemming from the same movie titles existing in multiple rows.\n",
    "- Consolidated the `release_date_mojo` and `release_date_numbers` columns to maximize our useable release date information\n",
    "- Consolidated several columns into `production_budget`, `domestic_gross`, and `worldwide_gross` columns by averaging duplicate data or selecting the appropriate column where needed.\n",
    "- Tested two conversion methods and settled on using the CPI to convert our dollar amounts to 2018 dollars\n",
    "- Created a `release_week` column\n",
    "- Renamed columns to shorten them\n",
    "- Cleaned up our datatypes to make our numeric data Int64\n",
    "\n",
    "Now we can save our cleaned data and use that for our analysis."
   ]
  },
  {
   "cell_type": "code",
   "execution_count": null,
   "metadata": {},
   "outputs": [],
   "source": [
    "# Save cleaned movie data as a pickle (commenting out to avoid overwriting later)\n",
    "# outer_merged.to_pickle(\"cleaned_movie_data.pkl\")\n",
    "\n",
    "# Save cleaned movie data as a CSV (commenting out to avoid overwriting later)\n",
    "# outer_merged.to_csv(\"cleaned_movie_data.csv\", index=False)"
   ]
  }
 ],
 "metadata": {
  "kernelspec": {
   "display_name": "Python 3",
   "language": "python",
   "name": "python3"
  },
  "language_info": {
   "codemirror_mode": {
    "name": "ipython",
    "version": 3
   },
   "file_extension": ".py",
   "mimetype": "text/x-python",
   "name": "python",
   "nbconvert_exporter": "python",
   "pygments_lexer": "ipython3",
   "version": "3.6.8"
  },
  "toc": {
   "base_numbering": 1,
   "nav_menu": {},
   "number_sections": true,
   "sideBar": true,
   "skip_h1_title": false,
   "title_cell": "Table of Contents",
   "title_sidebar": "Contents",
   "toc_cell": false,
   "toc_position": {
    "height": "113.542px",
    "left": "1727.89px",
    "top": "109.721px",
    "width": "363px"
   },
   "toc_section_display": true,
   "toc_window_display": true
  }
 },
 "nbformat": 4,
 "nbformat_minor": 2
}
