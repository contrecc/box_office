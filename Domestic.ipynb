{
 "cells": [
  {
   "cell_type": "markdown",
   "metadata": {
    "heading_collapsed": true
   },
   "source": [
    "# One Genre To Rule Them All... Domestically\n",
    "\n",
    "We work for a [\"Big Five\"](https://en.wikipedia.org/wiki/Major_film_studio#Present) Hollywood movie studio, and we're deciding which movies to make this year.\n",
    "\n",
    "But the guys upstairs don't want to go through the hassle of reading a bunch of scripts and sitting through a lot of meetings.\n",
    "\n",
    "They just want to know which genre has the best chance of succeeding.\n",
    "\n",
    "That's where we come in.\n",
    "\n",
    "Our goal, should we choose to accept it, or be forced into it by powerful people who write our checks, is to analyze domestic movies by genre and determine which ones seem the most promising.\n",
    "\n",
    "So let's get to it!\n",
    "\n",
    "# The Domestic Market\n",
    "\n",
    "We'll be using the movie data from the `Data_Cleaning` notebook. If you haven't had a chance to check it out, it's a collection of movies from [The Numbers](https://www.the-numbers.com/) and [Box Office Mojo](https://www.boxofficemojo.com/), two great sources of movie information. As a reminder, all monetary data has been converted to 2018 dollars to normalize them.\n",
    "\n",
    "**We only care about the domestic box office for this study.** Yes, increasingly movies are being released worldwide, but we want to first judge a movie's chances in the domestic market. Who knows, maybe a worldwide analysis will take place at another time (or notebook... in this repository... nudge nudge).\n",
    "\n",
    "Here are the steps we will use to accomplish our task:\n",
    "- Decide which genres to consider in our analysis.\n",
    " \n",
    "- Decide on a profitability measure.\n",
    "\n",
    "- Whittle our dataset down to movies released by the Big Five. This is to control for factors like lack of budget or marketing affecting a movie's success. Sure, independent movies can succeed, but our bosses want to see how the genres performed with all the help of a studio behind them.\n",
    "\n",
    "- Analyze the historical performance of the genres by decade. There might be some trends over time that would be useful to know.\n",
    "\n",
    "- Analyze the historical performance of the genres by release week. Maybe certain genres perform better at certain times of year.\n",
    "\n",
    "- Hopefully, give our bosses actionable insight!\n",
    "\n",
    "# Deciding on Genres\n",
    "\n",
    "According to [The Numbers](https://www.the-numbers.com/market/), the top six genres in terms of box office gross are:\n",
    "- Adventure\n",
    "- Action\n",
    "- Drama\n",
    "- Comedy\n",
    "- Thriller/Suspense\n",
    "- Horror\n",
    "\n",
    "Our bosses like making money.\n",
    "\n",
    "Sold.\n",
    "\n",
    "# Is This Movie Profitable? \n",
    "\n",
    "The toughest question out there. Hollywood studios are notorious for phony accounting, cough cough [Harry Potter and the Order of the Phoenix](https://deadline.com/2010/07/studio-shame-even-harry-potter-pic-loses-money-because-of-warner-bros-phony-baloney-accounting-51886/).\n",
    "\n",
    "Not our bosses though. They're great. Real... stand up... people.\n",
    "\n",
    "Anyway, we must decide on a measure for how \"successful\" a movie is.\n",
    "\n",
    "For simplicity, we will judge a movie as a success if it breaks even. The reason is that there are additional revenue streams for movies beyond the theaters. There's TV airings, rentals, DVD sales, merchandise, theme park rides, spinoff TV shows, sequels, etc. \n",
    "\n",
    "\n",
    "## How much do studios spend on movies?\n",
    "\n",
    "Well, there's the production budget. We can either get that information or we can't.\n",
    "\n",
    "Then there's the second biggest expense: marketing. But it's difficult to know the marketing costs of movies. An article at [How Stuff Works](https://entertainment.howstuffworks.com/movie-cost1.htm) cites that marketing spend is typically around 50% of the production budget of a movie.\n",
    "\n",
    "## How much do studios make from the domestic box office?\n",
    "\n",
    "According to this article on [The Week](https://theweek.com/articles/647394/when-buy-movie-ticket-where-does-that-money), movie studios only end up with about 50% of the total domestic box office. Movie theaters get the other half. \n",
    "\n",
    "\n",
    "## Profitability equation\n",
    "\n",
    "Total spend = 150% production budget (adding 50% of production budget on top for marketing)\n",
    "\n",
    "Total earnings = 0.5 * domestic box office\n",
    "\n",
    "We want to know the point where Total spend = Total earnings, as this is the breakeven point.\n",
    "\n",
    "Total spend = Total earnings\n",
    "\n",
    "1.5 * production budget = 0.5 * domestic box office\n",
    "\n",
    "**Domestic box office = 3 * Production budget**\n",
    "\n",
    "So if a movie earns at least three times its production budget domestically, it is a winner!"
   ]
  },
  {
   "cell_type": "markdown",
   "metadata": {},
   "source": [
    "# Curate our dataset"
   ]
  },
  {
   "cell_type": "markdown",
   "metadata": {},
   "source": [
    "## Import libraries and settings"
   ]
  },
  {
   "cell_type": "code",
   "execution_count": 4,
   "metadata": {},
   "outputs": [
    {
     "data": {
      "text/html": [
       "<style>.container { width:70% !important; }</style>"
      ],
      "text/plain": [
       "<IPython.core.display.HTML object>"
      ]
     },
     "metadata": {},
     "output_type": "display_data"
    }
   ],
   "source": [
    "import pandas as pd\n",
    "import numpy as np\n",
    "\n",
    "import matplotlib.pyplot as plt\n",
    "%matplotlib inline\n",
    "\n",
    "from IPython.core.display import display, HTML\n",
    "display(HTML(\"<style>.container { width:70% !important; }</style>\"))\n",
    "\n",
    "pd.options.display.max_rows = 400\n",
    "pd.options.display.max_columns = 50"
   ]
  },
  {
   "cell_type": "markdown",
   "metadata": {},
   "source": [
    "## Import data"
   ]
  },
  {
   "cell_type": "code",
   "execution_count": 5,
   "metadata": {},
   "outputs": [],
   "source": [
    "data = pd.read_csv('cleaned_movie_data.csv', parse_dates=['release_date'], usecols=['title', 'distributor_mojo', 'domestic_adj', 'budget_adj',  'genres_mojo', 'release_year', 'release_week', 'release_date'])\n",
    "\n",
    "# Only look at movies that made money domestically\n",
    "data = data[data['domestic_adj'].notna() & data['domestic_adj'] > 0]\n",
    "\n",
    "# For decade analysis\n",
    "data['release_decade'] = data['release_year'].apply(lambda x: x // 10 * 10)\n",
    "\n",
    "# For breakeven analysis\n",
    "data['domestic_breakeven'] = data['domestic_adj'] >= 3 * data['budget_adj']\n",
    "\n",
    "# Create columns for genres\n",
    "# A movie can have multiple genres. If so, we will count them for all the genres its classified with.\n",
    "data['action'] = data['genres_mojo'].str.contains('Action', na=False)\n",
    "data['adventure'] = data['genres_mojo'].str.contains('Adventure', na=False) \n",
    "data['comedy'] = data['genres_mojo'].str.contains('Comedy', na=False)\n",
    "data['drama'] = data['genres_mojo'].str.contains('Drama', na=False)\n",
    "data['horror'] = data['genres_mojo'].str.contains('Horror', na=False)\n",
    "data['thriller_suspense'] = data['genres_mojo'].str.contains('Thriller|Suspense', na=False, regex=True)\n",
    "\n",
    "# Remove rows that don't contain one of our genres\n",
    "data = data[data['action'] | data['adventure'] | data['comedy'] | data['drama'] | data['horror'] | data['thriller_suspense']]\n",
    "\n",
    "# Create dataframes for the genres\n",
    "action = data[data['genres_mojo'].str.contains('Action', na=False)]\n",
    "adventure = data[data['genres_mojo'].str.contains('Adventure', na=False)] \n",
    "comedy = data[data['genres_mojo'].str.contains('Comedy', na=False)]\n",
    "drama = data[data['genres_mojo'].str.contains('Drama', na=False)]\n",
    "horror = data[data['genres_mojo'].str.contains('Horror', na=False)]\n",
    "thriller_suspense = data[data['genres_mojo'].str.contains('Thriller|Suspense', na=False, regex=True)]"
   ]
  },
  {
   "cell_type": "code",
   "execution_count": 6,
   "metadata": {},
   "outputs": [
    {
     "name": "stdout",
     "output_type": "stream",
     "text": [
      "<class 'pandas.core.frame.DataFrame'>\n",
      "Int64Index: 9241 entries, 2 to 19775\n",
      "Data columns (total 16 columns):\n",
      "title                 9241 non-null object\n",
      "release_year          9241 non-null int64\n",
      "distributor_mojo      9241 non-null object\n",
      "genres_mojo           9241 non-null object\n",
      "release_date          9241 non-null datetime64[ns]\n",
      "domestic_adj          9241 non-null float64\n",
      "budget_adj            3945 non-null float64\n",
      "release_week          9241 non-null int64\n",
      "release_decade        9241 non-null int64\n",
      "domestic_breakeven    9241 non-null bool\n",
      "action                9241 non-null bool\n",
      "adventure             9241 non-null bool\n",
      "comedy                9241 non-null bool\n",
      "drama                 9241 non-null bool\n",
      "horror                9241 non-null bool\n",
      "thriller_suspense     9241 non-null bool\n",
      "dtypes: bool(7), datetime64[ns](1), float64(2), int64(3), object(3)\n",
      "memory usage: 785.1+ KB\n"
     ]
    }
   ],
   "source": [
    "data.info()"
   ]
  },
  {
   "cell_type": "markdown",
   "metadata": {},
   "source": [
    "## Organize By Distributors\n",
    "\n",
    "The [Big Five](https://en.wikipedia.org/wiki/Major_film_studio#Past) studios we will use in our analysis are:\n",
    "- Universal\n",
    "- Paramount\n",
    "- Warner Bros.\n",
    "- Disney\n",
    "- Sony\n",
    "\n",
    "Studios have come and gone a lot historically. They get bought out by competitors, or go out of business. A lot of messy stuff.\n",
    "\n",
    "To simplify, we will categorize a movie by its current studio owner. So for example, Disney [recently purchased](https://theweek.com/speedreads/780191/disney-buys-21st-century-fox-713-billion) 20th Century Fox. So we will categorize a 20th Century Fox movie as Disney."
   ]
  },
  {
   "cell_type": "code",
   "execution_count": 7,
   "metadata": {},
   "outputs": [
    {
     "data": {
      "text/plain": [
       "Warner Bros.                        367\n",
       "Universal                           364\n",
       "Fox                                 309\n",
       "Paramount                           283\n",
       "Sony / Columbia                     272\n",
       "Buena Vista                         234\n",
       "New Line                            127\n",
       "Miramax                             121\n",
       "Fox Searchlight                     107\n",
       "Lionsgate                           104\n",
       "MGM                                 102\n",
       "Sony Classics                        81\n",
       "Sony / Screen Gems                   69\n",
       "Focus Features                       64\n",
       "Columbia                             53\n",
       "Weinstein Company                    49\n",
       "Warner Bros. (New Line)              49\n",
       "IFC                                  47\n",
       "Lions Gate                           44\n",
       "United Artists                       44\n",
       "DreamWorks                           42\n",
       "Magnolia                             41\n",
       "TriStar                              37\n",
       "Roadside Attractions                 35\n",
       "Open Road Films                      30\n",
       "Sony (Revolution)                    30\n",
       "Relativity                           27\n",
       "Lionsgate/Summit                     27\n",
       "A24                                  25\n",
       "Artisan                              23\n",
       "Freestyle Releasing                  20\n",
       "STX Entertainment                    19\n",
       "Summit Entertainment                 19\n",
       "Samuel Goldwyn                       19\n",
       "Dimension Films                      18\n",
       "Paramount (DreamWorks)               18\n",
       "Anchor Bay Films                     18\n",
       "Orion Pictures                       18\n",
       "Fine Line                            16\n",
       "MGM (Weinstein)                      16\n",
       "Paramount Vantage                    15\n",
       "Weinstein / Dimension                15\n",
       "Gramercy                             14\n",
       "ThinkFilm                            14\n",
       "Overture Films                       12\n",
       "FilmDistrict                         12\n",
       "CBS Films                            11\n",
       "Newmarket                            11\n",
       "BH Tilt                              10\n",
       "IDP                                  10\n",
       "Warner Independent                   10\n",
       "Paramount Classics                   10\n",
       "Rogue Pictures                        9\n",
       "USA Films                             9\n",
       "Indican                               9\n",
       "First Look                            9\n",
       "Monterey Media, Inc.                  8\n",
       "Broad Green Pictures                  8\n",
       "Bleecker Street                       7\n",
       "October                               7\n",
       "Radius-TWC                            7\n",
       "Strand                                7\n",
       "Picturehouse                          6\n",
       "Excel                                 6\n",
       "Unknown                               5\n",
       "Destination                           5\n",
       "Cannon Films                          5\n",
       "Annapurna Pictures                    5\n",
       "Apparition                            5\n",
       "Yari Film Group                       5\n",
       "Trimark                               5\n",
       "Oscilloscope Pictures                 5\n",
       "EuropaCorp                            4\n",
       "Pure Flix                             4\n",
       "PolyGram                              4\n",
       "Embassy                               4\n",
       "Third Rail Releasing                  4\n",
       "Savoy                                 4\n",
       "New World                             4\n",
       "Tribeca Film                          4\n",
       "Drafthouse                            4\n",
       "Yash Raj                              4\n",
       "Rocky Mountain Pictures               4\n",
       "The Bigger Picture                    4\n",
       "Vitagraph                             3\n",
       "Five & Two Pictures                   3\n",
       "Slowhand Cinema                       3\n",
       "Millennium Ent.                       3\n",
       "Screen Media                          3\n",
       "Well Go USA                           3\n",
       "Image Entertainment                   3\n",
       "Focus World                           3\n",
       "First Independent Pictures            3\n",
       "Eros                                  3\n",
       "Variance Films                        3\n",
       "Roxie                                 3\n",
       "Alliance                              3\n",
       "Palm                                  3\n",
       "Regent Releasing                      3\n",
       "Fox Atomic                            3\n",
       "Atlantic                              2\n",
       "Slater Brothers                       2\n",
       "Phase 4                               2\n",
       "Interstar                             2\n",
       "The Orchard                           2\n",
       "Alchemy                               2\n",
       "Entertainment Studios                 2\n",
       "Halestorm                             2\n",
       "Studio 8                              2\n",
       "TLA Releasing                         2\n",
       "Filmways                              2\n",
       "Sony / AFFIRM Films                   2\n",
       "Cohen Media Group                     2\n",
       "Vivendi Entertainment                 2\n",
       "Paramount Insurge                     2\n",
       "Kino                                  2\n",
       "Pantelion                             2\n",
       "Wellspring                            2\n",
       "Vertical Entertainment                2\n",
       "8X Entertainment                      2\n",
       "Stratosphere                          2\n",
       "International Film Circuit            2\n",
       "Rainforest                            2\n",
       "Goodbye Cruel Releasing               2\n",
       "LD Entertainment                      2\n",
       "Outsider Films                        2\n",
       "Lionsgate Premiere                    2\n",
       "City Lights Pictures Releasing        2\n",
       "Galaxy International                  2\n",
       "Paladin                               2\n",
       "Orion Classics                        2\n",
       "Hannover House                        2\n",
       "Gunpowder & Sky                       1\n",
       "Circle                                1\n",
       "Cinema Libre                          1\n",
       "Pro-Motion Pictures                   1\n",
       "GVN Releasing                         1\n",
       "First Run                             1\n",
       "SModcast Pictures                     1\n",
       "Bullz Eye Productions                 1\n",
       "Lorimar                               1\n",
       "Moving Visions Entertainment          1\n",
       "Amazon Studios                        1\n",
       "Ocean Avenue Entertainment            1\n",
       "Darius Films                          1\n",
       "Priority Films                        1\n",
       "Cafe Pictures                         1\n",
       "Industrial House                      1\n",
       "Fox Meadows Films                     1\n",
       "Neon                                  1\n",
       "IndustryWorks                         1\n",
       "21st Century Film Production          1\n",
       "Phantom Pain Films                    1\n",
       "Honorara Productions                  1\n",
       "American International Pictures       1\n",
       "Cowboy                                1\n",
       "Vineyard Distribution                 1\n",
       "Producers Distribution Agency         1\n",
       "FilmBuff                              1\n",
       "RBC Radio                             1\n",
       "Chicago Pictures                      1\n",
       "AVCO Embassy                          1\n",
       "Saban Films                           1\n",
       "Area23a                               1\n",
       "Associated Film Dist.                 1\n",
       "North/South Pictures                  1\n",
       "Wingate Distribution                  1\n",
       "Picturehouse (II)                     1\n",
       "Disney                                1\n",
       "Entertainment One                     1\n",
       "PMK*BNC                               1\n",
       "Wrekin Hill                           1\n",
       "Quaker Media                          1\n",
       "ATO Pictures                          1\n",
       "Mormon Movies                         1\n",
       "Electric Entertainment                1\n",
       "Mangusta Productions                  1\n",
       "UTV Communications                    1\n",
       "Big Fat Movies                        1\n",
       "Zeitgeist                             1\n",
       "IndieVest Pictures                    1\n",
       "Aloha Releasing                       1\n",
       "ImaginAsian Pictures                  1\n",
       "Millennium Films, Inc.                1\n",
       "RS                                    1\n",
       "Fabrication Films                     1\n",
       "Cineville                             1\n",
       "Lavendar House Films                  1\n",
       "Datari Turner Productions             1\n",
       "Driving With Our Eyes Shut            1\n",
       "Outrider                              1\n",
       "Music Box Films                       1\n",
       "Providence                            1\n",
       "Illuminare Entertainment              1\n",
       "Zion                                  1\n",
       "Truly Indie                           1\n",
       "Cyan Pictures                         1\n",
       "Metro Pictures Corporation            1\n",
       "Independent                           1\n",
       "Senator Distribution                  1\n",
       "RKO                                   1\n",
       "Main Street Movie Co.                 1\n",
       "Matson Films                          1\n",
       "Abramorama                            1\n",
       "Ketchup Entertainment                 1\n",
       "AFFRM                                 1\n",
       "Blackrock Films                       1\n",
       "Argot Pictures                        1\n",
       "Lot 47                                1\n",
       "The Film Arcade                       1\n",
       "Exclusive Media                       1\n",
       "Brothers' Ink Productions             1\n",
       "Film Foundry                          1\n",
       "United Film Distribution Company      1\n",
       "Global Road                           1\n",
       "Viva Pictures Distribution            1\n",
       "Cloud Ten                             1\n",
       "Compass                               1\n",
       "Scarlet Sky Productions               1\n",
       "B.D. Fox                              1\n",
       "Romar Entertainment                   1\n",
       "Hummingbird Pictures                  1\n",
       "Jensen Farley                         1\n",
       "Crimson Forest                        1\n",
       "IM Global/Blumhouse                   1\n",
       "eOne Entertainment                    1\n",
       "Painted Zebra Releasing               1\n",
       "Echo Bridge Entertainment             1\n",
       "New Films Cinema                      1\n",
       "Imperial Ent.                         1\n",
       "CJ Entertainment                      1\n",
       "Empire Pictures                       1\n",
       "Starz Media                           1\n",
       "Ten Furlongs                          1\n",
       "RLJ Entertainment                     1\n",
       "Cinelou Films                         1\n",
       "Libero, LLC                           1\n",
       "Vestron                               1\n",
       "Found-Charger Cinema                  1\n",
       "Independent Artists                   1\n",
       "Silver Nitrate                        1\n",
       "EchoLight Studios                     1\n",
       "Seatzy/IMA                            1\n",
       "Artistic License                      1\n",
       "Good Machine                          1\n",
       "Clarius Entertainment                 1\n",
       "Fader Films                           1\n",
       "AfterLight                            1\n",
       "Island Pictures                       1\n",
       "Shapiro-Glickenhaus                   1\n",
       "Xenon Pictures                        1\n",
       "Aviron                                1\n",
       "Cleopatra Films                       1\n",
       "Name: distributor_mojo, dtype: int64"
      ]
     },
     "execution_count": 7,
     "metadata": {},
     "output_type": "execute_result"
    }
   ],
   "source": [
    "data[data['budget_adj'].notna() & data['distributor_mojo'].notna()]['distributor_mojo'].value_counts()"
   ]
  },
  {
   "cell_type": "code",
   "execution_count": 8,
   "metadata": {},
   "outputs": [
    {
     "name": "stdout",
     "output_type": "stream",
     "text": [
      "Universal                       553\n",
      "Focus Features                  100\n",
      "Gramercy                         46\n",
      "DreamWorks                       43\n",
      "Focus World                      13\n",
      "Universal Home Entertainment      1\n",
      "Name: distributor_mojo, dtype: int64\n",
      "Sum: 756\n"
     ]
    }
   ],
   "source": [
    "# Create a regex string to combine movies into their respective distributor\n",
    "# https://en.wikipedia.org/wiki/Major_film_studio#Past\n",
    "nbcuniversal = 'Universal|Focus Features|Focus World|Gramercy|Working Title|Big Idea|DreamWorks$|Illumination|Carnival|Mac Guff|United International'\n",
    "\n",
    "print(data[data['distributor_mojo'].str.contains(nbcuniversal, na=False, regex=True)]['distributor_mojo'].value_counts())\n",
    "print('Sum:', data[data['distributor_mojo'].str.contains(nbcuniversal, na=False, regex=True)]['distributor_mojo'].value_counts().sum())"
   ]
  },
  {
   "cell_type": "code",
   "execution_count": 9,
   "metadata": {
    "scrolled": true
   },
   "outputs": [
    {
     "name": "stdout",
     "output_type": "stream",
     "text": [
      "Paramount                 459\n",
      "Paramount Classics         22\n",
      "Paramount Vantage          20\n",
      "Paramount (DreamWorks)     20\n",
      "Paramount Insurge           2\n",
      "Name: distributor_mojo, dtype: int64\n",
      "Sum: 523\n"
     ]
    }
   ],
   "source": [
    "viacom = 'Paramount|BET|Comedy Central|MTV|Nickelodeon|Bardel Entertainment|MTV Animation|Nickelodeon Animation Studio|Awesomeness|CMT|Melange|United International Pictures|VH1|Viacom 18 Motion Pictures'\n",
    "\n",
    "print(data[data['distributor_mojo'].str.contains(viacom, na=False, regex=True)]['distributor_mojo'].value_counts())\n",
    "print('Sum:', data[data['distributor_mojo'].str.contains(viacom, na=False, regex=True)]['distributor_mojo'].value_counts().sum())"
   ]
  },
  {
   "cell_type": "code",
   "execution_count": 10,
   "metadata": {},
   "outputs": [
    {
     "name": "stdout",
     "output_type": "stream",
     "text": [
      "Warner Bros.               621\n",
      "New Line                   198\n",
      "Warner Bros. (New Line)     51\n",
      "Name: distributor_mojo, dtype: int64\n",
      "Sum: 870\n"
     ]
    }
   ],
   "source": [
    "warnermedia = 'Warner Bros.|CNN Films|HBO|DC Films|New Line|Cartoon Network Studios|Wang Film Productions|Adult Swim Films|Castle Rock Entertainment|Cinemax|Flagship|Fullscreen|Hello Sunshine|Spyglass'\n",
    "\n",
    "print(data[data['distributor_mojo'].str.contains(warnermedia, na=False, regex=True)]['distributor_mojo'].value_counts())\n",
    "print('Sum:', data[data['distributor_mojo'].str.contains(warnermedia, na=False, regex=True)]['distributor_mojo'].value_counts().sum())"
   ]
  },
  {
   "cell_type": "code",
   "execution_count": 11,
   "metadata": {},
   "outputs": [
    {
     "name": "stdout",
     "output_type": "stream",
     "text": [
      "Fox                                  476\n",
      "Buena Vista                          400\n",
      "Fox Searchlight                      149\n",
      "Disney                                 8\n",
      "Fox Atomic                             4\n",
      "National Geographic Entertainment      3\n",
      "Name: distributor_mojo, dtype: int64\n",
      "Sum: 1040\n"
     ]
    }
   ],
   "source": [
    "disney = 'Walt Disney|^Fox$|Fox Atomic|A&E|Disneynature|ESPN|Fox Searchlight|Hulu|National Geographic|VICE|Fox Family|Lucasfilm|Marvel|The Muppets Studio|UTV Motion Pictures|20th Century Fox Animation|Blue Sky Studios|Lucasfilm Animation|Marvel Animation|Pixar Animation Studios|Buena Vista|Disney|Dragonfly Film Productions|Fox Star Studios|Fox Studios Australia|Kudos Film|New Regency|Patagonik Film Group|Shine Group|Tiger Aspect Productions|Zero Day Fox'\n",
    "\n",
    "print(data[data['distributor_mojo'].str.contains(disney, na=False, regex=True)]['distributor_mojo'].value_counts())\n",
    "print('Sum:', data[data['distributor_mojo'].str.contains(disney, na=False, regex=True)]['distributor_mojo'].value_counts().sum())"
   ]
  },
  {
   "cell_type": "code",
   "execution_count": 12,
   "metadata": {},
   "outputs": [
    {
     "name": "stdout",
     "output_type": "stream",
     "text": [
      "Sony / Columbia            348\n",
      "Sony Classics              182\n",
      "Columbia                   155\n",
      "TriStar                    107\n",
      "Sony / Screen Gems          75\n",
      "Sony (Revolution)           35\n",
      "Sony / AFFIRM Films          2\n",
      "Sony Pictures Home Ent.      1\n",
      "Sony BMG                     1\n",
      "Name: distributor_mojo, dtype: int64\n",
      "Sum: 906\n"
     ]
    }
   ],
   "source": [
    "sony = 'Sony|Columbia|Affirm|Screen Gems|Stage 6|Ghost Corps|Funimation|Madhouse|Manga Entertainment UK|TriStar|Destination Films|Left Bank Pictures|Triumph Films'\n",
    "\n",
    "print(data[data['distributor_mojo'].str.contains(sony, na=False, regex=True)]['distributor_mojo'].value_counts())\n",
    "print('Sum:', data[data['distributor_mojo'].str.contains(sony, na=False, regex=True)]['distributor_mojo'].value_counts().sum())"
   ]
  },
  {
   "cell_type": "code",
   "execution_count": 13,
   "metadata": {},
   "outputs": [],
   "source": [
    "data['universal'] = data['distributor_mojo'].str.contains(nbcuniversal, na=False, regex=True)\n",
    "data['paramount'] = data['distributor_mojo'].str.contains(viacom, na=False, regex=True)\n",
    "data['warner'] = data['distributor_mojo'].str.contains(warnermedia, na=False, regex=True)\n",
    "data['disney'] = data['distributor_mojo'].str.contains(disney, na=False, regex=True)\n",
    "data['sony'] = data['distributor_mojo'].str.contains(sony, na=False, regex=True)\n",
    "data['distributor'] = np.nan"
   ]
  },
  {
   "cell_type": "code",
   "execution_count": 14,
   "metadata": {},
   "outputs": [],
   "source": [
    "data.loc[data['universal'], 'distributor'] = 'Universal'\n",
    "data.loc[data['paramount'], 'distributor'] = 'Paramount'\n",
    "data.loc[data['warner'], 'distributor'] = 'Warner'\n",
    "data.loc[data['disney'], 'distributor'] = 'Disney'\n",
    "data.loc[data['sony'], 'distributor'] = 'Sony'"
   ]
  },
  {
   "cell_type": "code",
   "execution_count": 15,
   "metadata": {},
   "outputs": [
    {
     "name": "stdout",
     "output_type": "stream",
     "text": [
      "<class 'pandas.core.frame.DataFrame'>\n",
      "Int64Index: 4095 entries, 14 to 19775\n",
      "Data columns (total 22 columns):\n",
      "title                 4095 non-null object\n",
      "release_year          4095 non-null int64\n",
      "distributor_mojo      4095 non-null object\n",
      "genres_mojo           4095 non-null object\n",
      "release_date          4095 non-null datetime64[ns]\n",
      "domestic_adj          4095 non-null float64\n",
      "budget_adj            2556 non-null float64\n",
      "release_week          4095 non-null int64\n",
      "release_decade        4095 non-null int64\n",
      "domestic_breakeven    4095 non-null bool\n",
      "action                4095 non-null bool\n",
      "adventure             4095 non-null bool\n",
      "comedy                4095 non-null bool\n",
      "drama                 4095 non-null bool\n",
      "horror                4095 non-null bool\n",
      "thriller_suspense     4095 non-null bool\n",
      "universal             4095 non-null bool\n",
      "paramount             4095 non-null bool\n",
      "warner                4095 non-null bool\n",
      "disney                4095 non-null bool\n",
      "sony                  4095 non-null bool\n",
      "distributor           4095 non-null object\n",
      "dtypes: bool(12), datetime64[ns](1), float64(2), int64(3), object(4)\n",
      "memory usage: 399.9+ KB\n"
     ]
    }
   ],
   "source": [
    "# We only want to keep rows that have one of the Big Five\n",
    "data = data[data['distributor'].notna()]\n",
    "\n",
    "data.info()"
   ]
  },
  {
   "cell_type": "code",
   "execution_count": 16,
   "metadata": {},
   "outputs": [
    {
     "data": {
      "image/png": "[encoded data removed]",
      "text/plain": [
       "<Figure size 432x288 with 1 Axes>"
      ]
     },
     "metadata": {},
     "output_type": "display_data"
    }
   ],
   "source": [
    "data['distributor'].value_counts().plot(kind='pie');"
   ]
  },
  {
   "cell_type": "markdown",
   "metadata": {},
   "source": [
    "## Summary\n",
    "\n",
    "Our filtered dataset now has 4,095 entries. \n",
    "\n",
    "The only missing information in our dataframe is in the `budget_adj` column, which is a movie's production budget.\n",
    "\n",
    "We will just ignore the missing entries when we need the production budget information. \n",
    "\n",
    "The reason we won't fill in missing budgets with a genre's mean budget is that many movies have multiple genres. This would open the door to bad estimates of a movie's budget. For example, if we have an action comedy movie, do we give it the mean budget of action or comedy? The average of both genres? \n",
    "\n",
    "We will reassess this decision later if it seems like the lack of budget information is a problem."
   ]
  },
  {
   "cell_type": "code",
   "execution_count": 17,
   "metadata": {},
   "outputs": [
    {
     "data": {
      "text/plain": [
       "Comedy                290\n",
       "Drama                 196\n",
       "Romantic Comedy       112\n",
       "Comedy / Drama         81\n",
       "Thriller               70\n",
       "Horror                 65\n",
       "Family Comedy          62\n",
       "Family Adventure       54\n",
       "Action Comedy          47\n",
       "Action                 45\n",
       "Drama / Thriller       37\n",
       "Crime Drama            33\n",
       "Music Drama            32\n",
       "Fantasy Comedy         27\n",
       "Crime Comedy           27\n",
       "Sports Drama           26\n",
       "Period Drama           26\n",
       "Sports Comedy          24\n",
       "Action Thriller        21\n",
       "Horror Comedy          18\n",
       "Period Comedy          17\n",
       "Sci-Fi Adventure       16\n",
       "Crime Thriller         16\n",
       "Action Drama           14\n",
       "Horror Thriller        14\n",
       "Romantic Thriller      14\n",
       "War Drama              14\n",
       "Sci-Fi Comedy          13\n",
       "Sci-Fi Horror          12\n",
       "Action / Crime         12\n",
       "Period Adventure       11\n",
       "Adventure              10\n",
       "Sci-Fi Action           9\n",
       "Fantasy Drama           9\n",
       "Comedy Thriller         9\n",
       "Sci-Fi Thriller         8\n",
       "Foreign / Action        7\n",
       "Action / Adventure      7\n",
       "Historical Drama        5\n",
       "Western Comedy          5\n",
       "Adventure Comedy        5\n",
       "Action Horror           4\n",
       "Foreign / Horror        4\n",
       "Action Fantasy          3\n",
       "Period Action           3\n",
       "Sports Action           3\n",
       "Romantic Adventure      2\n",
       "Name: genres_mojo, dtype: int64"
      ]
     },
     "execution_count": 17,
     "metadata": {},
     "output_type": "execute_result"
    }
   ],
   "source": [
    "data[data['budget_adj'].isna()]['genres_mojo'].value_counts()"
   ]
  },
  {
   "cell_type": "markdown",
   "metadata": {},
   "source": [
    "# Create Graphing Helper Function and Reusable Lists"
   ]
  },
  {
   "cell_type": "code",
   "execution_count": 18,
   "metadata": {},
   "outputs": [],
   "source": [
    "# Tailored from matplotlib documentation\n",
    "# https://matplotlib.org/examples/api/barchart_demo.html\n",
    "def autolabel(axis, num_decimals=0, counts=None):\n",
    "    \"\"\"\n",
    "    Attach a text label above each bar displaying its height.\n",
    "    If sent a list of counts, display those instead.\n",
    "    \"\"\"\n",
    "    for i, val in enumerate(axis.patches):\n",
    "        if counts is not None:\n",
    "            height = counts[i]\n",
    "        else:\n",
    "            height = round(val.get_height(), num_decimals) if num_decimals > 0 else int(val.get_height())\n",
    "        \n",
    "        # We don't want to display zeros on our bar plots\n",
    "        if height == 0:\n",
    "            continue\n",
    "            \n",
    "        axis.text(val.get_x() + val.get_width()/2, val.get_height()*1.05, '{}'.format(height), ha='center', va='bottom', fontsize=20)"
   ]
  },
  {
   "cell_type": "code",
   "execution_count": 35,
   "metadata": {},
   "outputs": [],
   "source": [
    "# Create lists of useful information for graphing\n",
    "genres = ['action', 'adventure', 'comedy', 'drama', 'horror', 'thriller_suspense']\n",
    "colors = ['b', 'g', 'r', 'c', 'm', 'y', 'k', 'w']\n",
    "\n",
    "# Create a summary statistics dataframe separated by genre to make graphing easier\n",
    "# The columns are:\n",
    "# Number of movies\n",
    "# Average gross\n",
    "# All-time gross\n",
    "# Average budget\n",
    "# All-time budget\n",
    "# Dollar earned for dollar spent (including marketing -- adjusted budget is 1.5 times original budget)\n",
    "\n",
    "aggregation_stats_per_genre = {\n",
    "    'num_movies': [data[genre].sum() for genre in genres],\n",
    "    'avg_gross': [round(data[data[genre]]['domestic_adj'].mean() / 1000000, 1) for genre in genres],\n",
    "    'all_time_gross': [round(data[data[genre]]['domestic_adj'].sum() / 1000000, 1) for genre in genres],\n",
    "    'avg_budget': [round(data[data[genre]]['budget_adj'].mean() / 1000000, 1) for genre in genres],\n",
    "    'all_time_budget': [round(data[data[genre]]['budget_adj'].sum() / 1000000, 1) for genre in genres],\n",
    "    'dollars_earned_for_dollars_spent': [round((data[data[genre]]['domestic_adj'].sum() / 2000000) / (1.5 * data[data[genre]]['budget_adj'].sum() / 1000000), 1) for genre in genres]\n",
    "}"
   ]
  },
  {
   "cell_type": "markdown",
   "metadata": {},
   "source": [
    "# Bird's Eye View Of The Data\n",
    "\n",
    "We created a few custom functions for adding numerical labels to our bar plots.\n",
    "\n",
    "We will do some exploratory data analysis to get a sense of our dataset's breakdown by genre."
   ]
  },
  {
   "cell_type": "code",
   "execution_count": 36,
   "metadata": {},
   "outputs": [
    {
     "data": {
      "text/html": [
       "<div>\n",
       "<style scoped>\n",
       "    .dataframe tbody tr th:only-of-type {\n",
       "        vertical-align: middle;\n",
       "    }\n",
       "\n",
       "    .dataframe tbody tr th {\n",
       "        vertical-align: top;\n",
       "    }\n",
       "\n",
       "    .dataframe thead th {\n",
       "        text-align: right;\n",
       "    }\n",
       "</style>\n",
       "<table border=\"1\" class=\"dataframe\">\n",
       "  <thead>\n",
       "    <tr style=\"text-align: right;\">\n",
       "      <th></th>\n",
       "      <th>num_movies</th>\n",
       "      <th>avg_gross</th>\n",
       "      <th>all_time_gross</th>\n",
       "      <th>avg_budget</th>\n",
       "      <th>all_time_budget</th>\n",
       "      <th>dollars_earned_for_dollars_spent</th>\n",
       "    </tr>\n",
       "  </thead>\n",
       "  <tbody>\n",
       "    <tr>\n",
       "      <th>action</th>\n",
       "      <td>669</td>\n",
       "      <td>116.6</td>\n",
       "      <td>77996.4</td>\n",
       "      <td>101.0</td>\n",
       "      <td>49880.2</td>\n",
       "      <td>0.5</td>\n",
       "    </tr>\n",
       "    <tr>\n",
       "      <th>adventure</th>\n",
       "      <td>366</td>\n",
       "      <td>151.0</td>\n",
       "      <td>55281.9</td>\n",
       "      <td>121.5</td>\n",
       "      <td>31717.2</td>\n",
       "      <td>0.6</td>\n",
       "    </tr>\n",
       "    <tr>\n",
       "      <th>comedy</th>\n",
       "      <td>1737</td>\n",
       "      <td>65.6</td>\n",
       "      <td>114009.4</td>\n",
       "      <td>45.2</td>\n",
       "      <td>45185.0</td>\n",
       "      <td>0.8</td>\n",
       "    </tr>\n",
       "    <tr>\n",
       "      <th>drama</th>\n",
       "      <td>1166</td>\n",
       "      <td>50.3</td>\n",
       "      <td>58622.1</td>\n",
       "      <td>40.5</td>\n",
       "      <td>28051.9</td>\n",
       "      <td>0.7</td>\n",
       "    </tr>\n",
       "    <tr>\n",
       "      <th>horror</th>\n",
       "      <td>378</td>\n",
       "      <td>76.9</td>\n",
       "      <td>29052.2</td>\n",
       "      <td>43.6</td>\n",
       "      <td>11376.2</td>\n",
       "      <td>0.9</td>\n",
       "    </tr>\n",
       "    <tr>\n",
       "      <th>thriller_suspense</th>\n",
       "      <td>558</td>\n",
       "      <td>65.3</td>\n",
       "      <td>36418.6</td>\n",
       "      <td>55.8</td>\n",
       "      <td>20600.7</td>\n",
       "      <td>0.6</td>\n",
       "    </tr>\n",
       "  </tbody>\n",
       "</table>\n",
       "</div>"
      ],
      "text/plain": [
       "                   num_movies  avg_gross  all_time_gross  avg_budget  \\\n",
       "action                    669      116.6         77996.4       101.0   \n",
       "adventure                 366      151.0         55281.9       121.5   \n",
       "comedy                   1737       65.6        114009.4        45.2   \n",
       "drama                    1166       50.3         58622.1        40.5   \n",
       "horror                    378       76.9         29052.2        43.6   \n",
       "thriller_suspense         558       65.3         36418.6        55.8   \n",
       "\n",
       "                   all_time_budget  dollars_earned_for_dollars_spent  \n",
       "action                     49880.2                               0.5  \n",
       "adventure                  31717.2                               0.6  \n",
       "comedy                     45185.0                               0.8  \n",
       "drama                      28051.9                               0.7  \n",
       "horror                     11376.2                               0.9  \n",
       "thriller_suspense          20600.7                               0.6  "
      ]
     },
     "execution_count": 36,
     "metadata": {},
     "output_type": "execute_result"
    }
   ],
   "source": [
    "summary = pd.DataFrame(aggregation_stats_per_genre, index=genres)\n",
    "summary"
   ]
  },
  {
   "cell_type": "code",
   "execution_count": 37,
   "metadata": {},
   "outputs": [
    {
     "data": {
      "image/png": "[encoded data removed]",
      "text/plain": [
       "<Figure size 1728x648 with 1 Axes>"
      ]
     },
     "metadata": {
      "needs_background": "light"
     },
     "output_type": "display_data"
    }
   ],
   "source": [
    "figure, axis = plt.subplots(nrows=1, ncols=1, figsize=(24, 9))\n",
    "figure.suptitle('Number of Movies Per Genre', fontsize=20, y=1.02)\n",
    "\n",
    "summary.sort_values('num_movies', ascending=False, inplace=True)\n",
    "\n",
    "summary.plot(y='num_movies', kind='bar', color=colors[0], ax=axis, legend=False)\n",
    "axis.set_ylabel('')\n",
    "axis.set_xlabel('')\n",
    "axis.tick_params(labelsize=20)\n",
    "autolabel(axis)\n",
    "\n",
    "plt.tight_layout()"
   ]
  },
  {
   "cell_type": "code",
   "execution_count": 38,
   "metadata": {},
   "outputs": [
    {
     "data": {
      "image/png": "[encoded data removed]",
      "text/plain": [
       "<Figure size 1728x648 with 1 Axes>"
      ]
     },
     "metadata": {
      "needs_background": "light"
     },
     "output_type": "display_data"
    }
   ],
   "source": [
    "figure, axis = plt.subplots(nrows=1, ncols=1, figsize=(24, 9))\n",
    "figure.suptitle('Mean Domestic Gross Per Genre', fontsize=20, y=1.02)\n",
    "\n",
    "summary.sort_values('avg_gross', ascending=False, inplace=True)\n",
    "\n",
    "summary.plot(y='avg_gross', kind='bar', ax=axis, color=colors[1], legend=False)\n",
    "axis.set_ylabel('Millions of Dollars', fontsize=20)\n",
    "axis.set_xlabel('')\n",
    "axis.tick_params(labelsize=20)\n",
    "autolabel(axis)\n",
    "\n",
    "plt.tight_layout()"
   ]
  },
  {
   "cell_type": "code",
   "execution_count": 39,
   "metadata": {},
   "outputs": [
    {
     "data": {
      "image/png": "[encoded data removed]",
      "text/plain": [
       "<Figure size 1728x648 with 1 Axes>"
      ]
     },
     "metadata": {
      "needs_background": "light"
     },
     "output_type": "display_data"
    }
   ],
   "source": [
    "figure, axis = plt.subplots(nrows=1, ncols=1, figsize=(24, 9))\n",
    "figure.suptitle('All-Time Gross Per Genre', fontsize=20, y=1.02)\n",
    "\n",
    "summary.sort_values('all_time_gross', ascending=False, inplace=True)\n",
    "\n",
    "summary.plot(y='all_time_gross', kind='bar', ax=axis, color=colors[2], legend=False)\n",
    "axis.set_ylabel('Millions of Dollars', fontsize=20)\n",
    "axis.set_xlabel('')\n",
    "axis.tick_params(labelsize=20)\n",
    "autolabel(axis)\n",
    "\n",
    "plt.tight_layout()"
   ]
  },
  {
   "cell_type": "code",
   "execution_count": 40,
   "metadata": {},
   "outputs": [
    {
     "data": {
      "text/plain": [
       "<matplotlib.axes._subplots.AxesSubplot at 0x21f71614080>"
      ]
     },
     "execution_count": 40,
     "metadata": {},
     "output_type": "execute_result"
    },
    {
     "data": {
      "image/png": "[encoded data removed]",
      "text/plain": [
       "<Figure size 1296x648 with 1 Axes>"
      ]
     },
     "metadata": {
      "needs_background": "light"
     },
     "output_type": "display_data"
    }
   ],
   "source": [
    "figure, ax1 = plt.subplots(nrows=1, ncols=1, figsize=(18,9))\n",
    "\n",
    "# Since we are dealing with boolean columns, we must use 'sum' to get the total counts\n",
    "data.groupby('release_decade').sum().plot.bar(y=['adventure', 'action', 'drama', 'comedy', 'thriller_suspense', 'horror'], ax=ax1, title='Number of Genre Movies Released Domestically By Decade')"
   ]
  },
  {
   "cell_type": "code",
   "execution_count": 41,
   "metadata": {},
   "outputs": [
    {
     "data": {
      "image/png": "[encoded data removed]",
      "text/plain": [
       "<Figure size 1728x648 with 1 Axes>"
      ]
     },
     "metadata": {
      "needs_background": "light"
     },
     "output_type": "display_data"
    }
   ],
   "source": [
    "figure, axis = plt.subplots(nrows=1, ncols=1, figsize=(24, 9))\n",
    "figure.suptitle('Mean Production Budget Per Genre', fontsize=20, y=1.02)\n",
    "\n",
    "summary.sort_values('avg_budget', ascending=False, inplace=True)\n",
    "\n",
    "summary.plot(y='avg_budget', kind='bar', ax=axis, color=colors[3], legend=False)\n",
    "axis.set_ylabel('Millions of Dollars', fontsize=20)\n",
    "axis.set_xlabel('')\n",
    "axis.tick_params(labelsize=20)\n",
    "autolabel(axis)\n",
    "\n",
    "plt.tight_layout()"
   ]
  },
  {
   "cell_type": "code",
   "execution_count": 42,
   "metadata": {},
   "outputs": [
    {
     "data": {
      "image/png": "[encoded data removed]",
      "text/plain": [
       "<Figure size 1728x648 with 1 Axes>"
      ]
     },
     "metadata": {
      "needs_background": "light"
     },
     "output_type": "display_data"
    }
   ],
   "source": [
    "figure, axis = plt.subplots(nrows=1, ncols=1, figsize=(24, 9))\n",
    "figure.suptitle('Dollars Earned For Every Dollar Spent (Includes Marketing)', fontsize=20, y=1.02)\n",
    "\n",
    "summary.sort_values('dollars_earned_for_dollars_spent', ascending=False, inplace=True)\n",
    "\n",
    "summary.plot(y='dollars_earned_for_dollars_spent', kind='bar', ax=axis, color=colors[5], legend=False)\n",
    "axis.set_ylabel('Dollars', fontsize=20)\n",
    "axis.set_xlabel('')\n",
    "axis.tick_params(labelsize=20)\n",
    "autolabel(axis, num_decimals=1)\n",
    "\n",
    "plt.tight_layout()"
   ]
  },
  {
   "cell_type": "markdown",
   "metadata": {},
   "source": [
    "# Initial Thoughts\n",
    "\n",
    "**Number of movies**\n",
    "  - `Comedy` and `Drama` are historically the most produced genres by big movie studios by a healthy margin\n",
    "  - That trend continues in modern times. The last five decades have seen `Comedy` as the most produced genre and `Drama` as the second-highest\n",
    "  \n",
    "  \n",
    "**Average domestic gross**\n",
    "  - `Adventure` and `Action` historically gross the highest average amount per movie\n",
    "  - Perhaps surprisingly, `Horror` is in third place\n",
    "\n",
    "\n",
    "**All-Time Gross Per Genre**\n",
    "  - In aggregate, `Comedy` and `Action` movies have grossed the most money domestically\n",
    "  - `Comedy` is ahead of the next highest genre by over \\\\$36 billion dollars\n",
    "  \n",
    "  \n",
    "**Average production budget**\n",
    "  - `Adventure` and `Action` have by far the largest average production budget. This makes sense, as those movies tend to require more setpieces and CGI than other genres\n",
    "  - `Comedy`, `Horror`, and `Drama` all have very similar, low average production budgets \n",
    "  \n",
    "**Dollar earned for every dollar spent**\n",
    "  - We count dollars earned as half the total domestic gross\n",
    "  - In aggregate, `Horror` and `Comedy` are the best return on investment on a per dollar spent basis.\n",
    "  - `Drama` is in third place.\n",
    "  - No genre averages breakeven in the domestic market alone\n",
    "\n",
    "**Summing up**\n",
    "\n",
    "`Comedy` overall makes the most money, but also has a much lower per-movie-average than `Action` and `Adventure.` But `Action` and `Adventure` cost more to make.\n",
    "\n",
    "The best return for every dollar spent in aggregate come from `Comedy` and `Horror`.\n",
    "\n",
    "There are a couple strategies our bosses can consider:\n",
    "\n",
    "1) Go for making relatively more movies that have a lower pricetag and are \"safer.\" These would gross less money per movie, but offer a better average return on investment. This category is `Comedy`, `Horror`, and `Drama`.\n",
    "\n",
    "2) Go for making relatively fewer movies with a higher pricetag. These would offer higher returns on winners, but also lose big on losers. These would be `Action` and `Adventure`.\n",
    "\n",
    "Let's look at each genre's performance by decade to see if there have been changes we can latch onto."
   ]
  },
  {
   "cell_type": "markdown",
   "metadata": {},
   "source": [
    "# Performance By Decade"
   ]
  },
  {
   "cell_type": "markdown",
   "metadata": {},
   "source": [
    "## All Decades"
   ]
  },
  {
   "cell_type": "markdown",
   "metadata": {},
   "source": [
    "### Domestic Gross"
   ]
  },
  {
   "cell_type": "code",
   "execution_count": null,
   "metadata": {},
   "outputs": [],
   "source": [
    "# Create variables for first_axes, secondary_axes, and counter variables \n",
    "ax1, ax2, ax3, ax4, ax5, ax6 = 'abcdef'\n",
    "first_axes_list = [ax1, ax2, ax3, ax4, ax5, ax6]\n",
    "\n",
    "ax1_1, ax2_1, ax3_1, ax4_1, ax5_1, ax6_1 = 'abcdef'\n",
    "second_axes_list = [ax1_1, ax2_1, ax3_1, ax4_1, ax5_1, ax6_1]\n",
    "\n",
    "# Counters to keep track of iteration\n",
    "counters = [0, 1, 2, 3, 4, 5]\n",
    "\n",
    "for genre, first_axis, second_axis, color, count in zip(genres, first_axes_list, second_axes_list, colors, counters):\n",
    "        figure, first_axis = plt.subplots(nrows=1, ncols=1, figsize=(24, 5))\n",
    "        second_axis = figure.add_axes()\n",
    "\n",
    "        # Only write the title once\n",
    "        if count == 0:\n",
    "            figure.suptitle('Mean Domestic Gross By Genre And Decade', fontsize=20, y=1.02)\n",
    "\n",
    "        grp = (data[data[genre]].groupby('release_decade').mean() / 1000000)['domestic_adj'].copy()\n",
    "        grp_counts = data[data[genre]].groupby('release_decade')['domestic_adj'].count().copy()\n",
    "    \n",
    "        # If the series is missing a decade, add it as an index and set the value to zero\n",
    "        for decade in range(1910, 2020, 10):\n",
    "            if decade not in grp.index:\n",
    "                grp.loc[decade] = 0\n",
    "                grp_counts.loc[decade] = 0\n",
    "\n",
    "        # Sort the series by its index to have the decades in chronological order                \n",
    "        grp.sort_index(ascending=True, inplace=True)\n",
    "        grp_counts.sort_index(ascending=True, inplace=True)\n",
    "        \n",
    "        # Set up y-axis    \n",
    "        first_axis = grp.plot(kind='bar', xticks=range(1910, 2020, 10), linewidth=3, color=color)\n",
    "        first_axis.set_ylabel('Domestic Gross In Millions', fontsize=12)\n",
    "        first_axis.set_ylim(0,350)\n",
    "        first_axis.legend([genre], loc=2, fontsize=15)\n",
    "        \n",
    "        # Set up second y-axis\n",
    "        second_axis = first_axis.twinx()\n",
    "        second_axis.plot(first_axis.get_xticks(), grp_counts.values, linewidth=3, color='k')\n",
    "        second_axis.set_ylabel('Number of Movies', fontsize=12)\n",
    "        second_axis.set_ylim(0,600)\n",
    "        second_axis.legend(['counts'], loc=1, fontsize=15)\n",
    "        \n",
    "        # Only show graphs when on the last one\n",
    "        if count == len(counters) - 1:\n",
    "            plt.tight_layout()"
   ]
  },
  {
   "cell_type": "markdown",
   "metadata": {},
   "source": [
    "Key Takeaways:\n",
    "- The 1970s seems like the best decade for the average movie in terms of domestic box office gross. \n",
    "- The average domestic return of movies in all genres has declined significantly in the past four decades\n",
    "- This is probably due to the sheer number of movies releasd these days. A few big winners can't boost the average for the many losers."
   ]
  },
  {
   "cell_type": "code",
   "execution_count": null,
   "metadata": {},
   "outputs": [],
   "source": [
    "figure, axes = plt.subplots(nrows=6, ncols=1, sharex=True, sharey=True, figsize=(24, 16))\n",
    "figure.suptitle('Mean Domestic Gross By Genre And Decade', fontsize=20, y=1.02)\n",
    "\n",
    "ax1, ax2, ax3, ax4, ax5, ax6 = axes.flatten()\n",
    "axes_list = [ax1, ax2, ax3, ax4, ax5, ax6]\n",
    "\n",
    "for genre, axis, color in zip(genres, axes_list, colors):\n",
    "    # We must replace missing decades with zeroes to have the bar plots xticks line up\n",
    "    \n",
    "    # Create a series with decades as indexes and domestic gross as values\n",
    "    grp = (data[data[genre]].groupby('release_decade').mean() / 1000000)['domestic_adj'].copy()\n",
    "    grp_counts = data[data[genre]].groupby('release_decade')['domestic_adj'].count().copy()\n",
    "    \n",
    "    # If the series is missing a decade, add it as an index and set the value to zero\n",
    "    for decade in range(1910, 2020, 10):\n",
    "        if decade not in grp.index:\n",
    "            grp.loc[decade] = 0\n",
    "            grp_counts.loc[decade] = 0\n",
    "    \n",
    "    # Sort the series by its index to have the decades in chronological order                \n",
    "    grp.sort_index(ascending=True, inplace=True)\n",
    "    grp_counts.sort_index(ascending=True, inplace=True)\n",
    "        \n",
    "    grp.plot(kind='bar', xticks=range(1910, 2020, 10), ax=axis, linewidth=3, color=color)\n",
    "    axis.set_ylabel('Domestic Gross In Millions', fontsize=12)\n",
    "    axis.legend([genre], loc=2, fontsize=15)\n",
    "    \n",
    "    # Put the count of each genre made per decade above each bar\n",
    "    autolabel(axis, counts=grp_counts.values)\n",
    "\n",
    "plt.tight_layout() "
   ]
  },
  {
   "cell_type": "markdown",
   "metadata": {},
   "source": [
    "### Production Budget"
   ]
  },
  {
   "cell_type": "code",
   "execution_count": null,
   "metadata": {},
   "outputs": [],
   "source": [
    "figure, axes = plt.subplots(nrows=6, ncols=1, sharex=True, sharey=True, figsize=(24, 16))\n",
    "figure.suptitle('Mean Production Budget By Genre And Release Week', fontsize=20, y=1.02)\n",
    "\n",
    "ax1, ax2, ax3, ax4, ax5, ax6 = axes.flatten()\n",
    "axes_list = [ax1, ax2, ax3, ax4, ax5, ax6]\n",
    "\n",
    "for genre, axis, color in zip(genres, axes_list, colors):\n",
    "    # We must replace missing decades with zeroes to have the bar plots xticks line up\n",
    "    \n",
    "    # Create a series with decades as indexes and domestic gross as values\n",
    "    grp = (data[data[genre]].groupby('release_decade').mean() / 1000000)['budget_adj'].copy()\n",
    "    \n",
    "    # If the series is missing a decade, add it as an index and set the value to zero\n",
    "    for decade in range(1910, 2020, 10):\n",
    "        if decade not in grp.index:\n",
    "            grp.loc[decade] = 0\n",
    "    \n",
    "    # Sort the series by its index to have the decades in chronological order                \n",
    "    grp.sort_index(ascending=True, inplace=True)\n",
    "        \n",
    "    grp.plot(kind='bar', xticks=range(1910, 2020, 10), ax=axis, linewidth=3, color=color)\n",
    "    axis.set_ylabel('Production Budget In Millions', fontsize=12)\n",
    "    axis.legend([genre], loc=2, fontsize=15)\n",
    "    autolabel(axis)\n",
    "\n",
    "plt.tight_layout() "
   ]
  },
  {
   "cell_type": "markdown",
   "metadata": {},
   "source": [
    "Key Takeaways:\n",
    "- Production budgets for Action and Adventure have been increasing since the 1980s\n",
    "- Production budgets for all other genres have declined since the 1980s\n",
    "- This is probably due to the heavy use of expensive CGI in Action and Adventure movies, which has only increased over time. Meanwhile, technological advancements have decreased the overall cost of producing movies in general."
   ]
  },
  {
   "cell_type": "markdown",
   "metadata": {},
   "source": [
    "### Domestic Breakeven Percentage"
   ]
  },
  {
   "cell_type": "code",
   "execution_count": null,
   "metadata": {},
   "outputs": [],
   "source": [
    "# Create new column on summary dataframe to hold the most recent breakeven percentage by genre\n",
    "summary['2010s_breakeven_percent'] = np.nan"
   ]
  },
  {
   "cell_type": "code",
   "execution_count": null,
   "metadata": {},
   "outputs": [],
   "source": [
    "figure, axes = plt.subplots(nrows=6, ncols=1, sharex=True, sharey=True, figsize=(24, 16))\n",
    "figure.suptitle('Domestic Breakeven Percentage By Decade', fontsize=20, y=1.02)\n",
    "\n",
    "ax1, ax2, ax3, ax4, ax5, ax6 = axes.flatten()\n",
    "axes_list = [ax1, ax2, ax3, ax4, ax5, ax6]\n",
    "\n",
    "for genre, axis, color in zip(genres, axes_list, colors):\n",
    "    # Create two series with decades as indexes and count and sum as values\n",
    "    grp_count = data[data[genre]].groupby('release_decade')['domestic_breakeven'].count().copy()\n",
    "    grp_sum = data[data[genre]].groupby('release_decade')['domestic_breakeven'].sum().copy()\n",
    "\n",
    "    # If the series is missing a decade, add it as an index\n",
    "    # Then set the count to 1 and the sum to 0\n",
    "    # This avoids division by zero problems when calculating the percentages\n",
    "    for decade in range(1910, 2020, 10):\n",
    "        if decade not in grp_count.index:\n",
    "            grp_count.loc[decade] = 0\n",
    "            grp_sum.loc[decade] = 0\n",
    "\n",
    "    # Sort the series by their index to have the decades in chronological order                \n",
    "    grp_count.sort_index(ascending=True, inplace=True)\n",
    "    grp_sum.sort_index(ascending=True, inplace=True)\n",
    "    \n",
    "    summary.loc[genre, ['2010s_breakeven_percent']] = round((grp_sum / grp_count * 100).loc[2010],1)\n",
    "\n",
    "    (grp_sum / grp_count * 100).plot(kind='bar', xticks=range(2010, 2019, 1), ax=axis, linewidth=3, color=color)\n",
    "    axis.set_ylabel('Percentage', fontsize=12)\n",
    "    axis.legend([genre], loc=2, fontsize=15)\n",
    "    \n",
    "    # Put the count of how many movies breakeven above each bar\n",
    "    autolabel(axis, counts=grp_count.values)\n",
    "    \n",
    "plt.tight_layout() "
   ]
  },
  {
   "cell_type": "code",
   "execution_count": null,
   "metadata": {},
   "outputs": [],
   "source": [
    "figure, axis = plt.subplots(nrows=1, ncols=1, figsize=(24, 9))\n",
    "figure.suptitle('2010s Breakeven Percentage By Genre', fontsize=20, y=1.02)\n",
    "\n",
    "summary.sort_values('2010s_breakeven_percent', ascending=False, inplace=True)\n",
    "\n",
    "summary.plot(y='2010s_breakeven_percent', kind='bar', ax=axis, color=colors[0], legend=False)\n",
    "axis.set_ylabel('Percentage', fontsize=20)\n",
    "axis.set_xlabel('')\n",
    "axis.tick_params(labelsize=20)\n",
    "autolabel(axis, num_decimals=1)\n",
    "\n",
    "plt.tight_layout()"
   ]
  },
  {
   "cell_type": "markdown",
   "metadata": {},
   "source": [
    "### Quick Thoughts\n",
    "\n",
    "**Movies are more risky now**\n",
    "  - From the 1960s to 1990s, regardless of genre, there was an overall decrease in a movie's probability of breaking even\n",
    "  - Such a decrease went alongside a huge increase in the numbers of movies released overall\n",
    "  - The market might have gotten oversaturated, at which point the same amount of consumer dollars could not support the increase in movies\n",
    "  \n",
    "  - From the 2000s to the 2010s, most genres have had their output reduced\n",
    "  - This reduction in output coincides with an increase in a genre's probability of success\n",
    "  - It could be that a huge contributor to a movie's ultimate success is just the number of movies it has to compete with\n",
    "\n",
    "**Safest current genres**\n",
    "  - `Horror` is by far the safest domestic release genre\n",
    "  - `Thriller/Suspense`, and `Comedy` are the next safest from a breakeven perspective\n",
    "  - `Action` and `Adventure` have very little chance of breaking even in just the domestic market"
   ]
  },
  {
   "cell_type": "markdown",
   "metadata": {},
   "source": [
    "### Only Looking At Movies With A Production Budget"
   ]
  },
  {
   "cell_type": "code",
   "execution_count": null,
   "metadata": {},
   "outputs": [],
   "source": [
    "has_budget = data[data['budget_adj'].notna()].copy()\n",
    "has_budget.info()"
   ]
  },
  {
   "cell_type": "code",
   "execution_count": null,
   "metadata": {},
   "outputs": [],
   "source": [
    "figure, axes = plt.subplots(nrows=6, ncols=1, sharex=True, sharey=True, figsize=(24, 16))\n",
    "figure.suptitle('Dollars Earned For Every Dollar Spent By Decade (Includes Marketing)\\n(Percentages Labeled)', fontsize=20, y=1.05)\n",
    "\n",
    "ax1, ax2, ax3, ax4, ax5, ax6 = axes.flatten()\n",
    "axes_list = [ax1, ax2, ax3, ax4, ax5, ax6]\n",
    "\n",
    "for genre, axis, color in zip(genres, axes_list, colors):\n",
    "    # Create two series with decades as indexes and count and sum as values\n",
    "    grp_gross_count = has_budget[has_budget[genre]].groupby('release_decade')['domestic_adj'].count().copy()\n",
    "    grp_gross_sum = has_budget[has_budget[genre]].groupby('release_decade')['domestic_adj'].sum().copy()\n",
    "    \n",
    "    grp_budget_count = has_budget[has_budget[genre]].groupby('release_decade')['budget_adj'].count().copy()\n",
    "    grp_budget_sum = has_budget[has_budget[genre]].groupby('release_decade')['budget_adj'].sum().copy()\n",
    "\n",
    "    # If the series is missing a decade, add it as an index\n",
    "    # Then set the count to 1 and the sum to 0\n",
    "    # This avoids division by zero problems when calculating the percentages\n",
    "    for decade in range(1910, 2020, 10):\n",
    "        if decade not in grp_gross_count.index:\n",
    "            grp_gross_count.loc[decade] = 0\n",
    "            grp_gross_sum.loc[decade] = 0\n",
    "        \n",
    "        if decade not in grp_budget_count.index:\n",
    "            grp_budget_count.loc[decade] = 0\n",
    "            grp_budget_sum.loc[decade] = 1\n",
    "\n",
    "    # Sort the series by their index to have the decades in chronological order                \n",
    "    grp_gross_count.sort_index(ascending=True, inplace=True)\n",
    "    grp_gross_sum.sort_index(ascending=True, inplace=True)\n",
    "    grp_budget_count.sort_index(ascending=True, inplace=True)\n",
    "    grp_budget_sum.sort_index(ascending=True, inplace=True)\n",
    "    \n",
    "    dollars_earned_to_dollars_spent = round((grp_gross_sum / (1.5 * grp_budget_sum)), 1)\n",
    "            \n",
    "    dollars_earned_to_dollars_spent.plot(kind='bar', xticks=range(1910, 2020, 10), ax=axis, linewidth=3, color=color)\n",
    "    axis.set_ylabel('Dollars', fontsize=12)\n",
    "    axis.legend([genre], loc=2, fontsize=15)\n",
    "    \n",
    "    # Put the percentage of how many movies breakeven above each bar\n",
    "    autolabel(axis, num_decimals=1)\n",
    "    \n",
    "plt.tight_layout() "
   ]
  },
  {
   "cell_type": "code",
   "execution_count": null,
   "metadata": {},
   "outputs": [],
   "source": [
    "figure, axes = plt.subplots(nrows=6, ncols=1, sharex=True, sharey=True, figsize=(24, 16))\n",
    "figure.suptitle('Dollars Earned For Every Dollar Spent By Decade (Includes Marketing)\\n(Counts Labeled)', fontsize=20, y=1.05)\n",
    "\n",
    "ax1, ax2, ax3, ax4, ax5, ax6 = axes.flatten()\n",
    "axes_list = [ax1, ax2, ax3, ax4, ax5, ax6]\n",
    "\n",
    "for genre, axis, color in zip(genres, axes_list, colors):\n",
    "    # Create two series with decades as indexes and count and sum as values\n",
    "    grp_gross_count = has_budget[has_budget[genre]].groupby('release_decade')['domestic_adj'].count().copy()\n",
    "    grp_gross_sum = has_budget[has_budget[genre]].groupby('release_decade')['domestic_adj'].sum().copy()\n",
    "    \n",
    "    grp_budget_count = has_budget[has_budget[genre]].groupby('release_decade')['budget_adj'].count().copy()\n",
    "    grp_budget_sum = has_budget[has_budget[genre]].groupby('release_decade')['budget_adj'].sum().copy()\n",
    "\n",
    "    # If the series is missing a decade, add it as an index\n",
    "    # Then set the count to 1 and the sum to 0\n",
    "    # This avoids division by zero problems when calculating the percentages\n",
    "    for decade in range(1910, 2020, 10):\n",
    "        if decade not in grp_gross_count.index:\n",
    "            grp_gross_count.loc[decade] = 0\n",
    "            grp_gross_sum.loc[decade] = 0\n",
    "        \n",
    "        if decade not in grp_budget_count.index:\n",
    "            grp_budget_count.loc[decade] = 0\n",
    "            grp_budget_sum.loc[decade] = 1\n",
    "\n",
    "    # Sort the series by their index to have the decades in chronological order                \n",
    "    grp_gross_count.sort_index(ascending=True, inplace=True)\n",
    "    grp_gross_sum.sort_index(ascending=True, inplace=True)\n",
    "    grp_budget_count.sort_index(ascending=True, inplace=True)\n",
    "    grp_budget_sum.sort_index(ascending=True, inplace=True)\n",
    "    \n",
    "    dollars_earned_to_dollars_spent = round((grp_gross_sum / (1.5 * grp_budget_sum)), 1)\n",
    "            \n",
    "    dollars_earned_to_dollars_spent.plot(kind='bar', xticks=range(1910, 2020, 10), ax=axis, linewidth=3, color=color)\n",
    "    axis.set_ylabel('Dollars', fontsize=12)\n",
    "    axis.legend([genre], loc=2, fontsize=15)\n",
    "    \n",
    "    # Put the count of how many movies breakeven above each bar\n",
    "    autolabel(axis, counts=grp_gross_count.values)\n",
    "    \n",
    "plt.tight_layout() "
   ]
  },
  {
   "cell_type": "markdown",
   "metadata": {},
   "source": [
    "### Quick Takeaways\n",
    "\n",
    "**Recent data is more reliable**\n",
    "  - We don't have many movies before the 1970s, so drawing conclusions there seems risky. For example, the huge spike in `Horror` in 1950 is due to a single movie.\n",
    "  - We should be able to trust the more recent data as there are far more movies available.\n",
    "  \n",
    "**Last three decades**\n",
    "  - `Horror`, `Comedy`, and `Drama` are the best dollar for dollar movies."
   ]
  },
  {
   "cell_type": "markdown",
   "metadata": {},
   "source": [
    "## Current Decade"
   ]
  },
  {
   "cell_type": "code",
   "execution_count": null,
   "metadata": {},
   "outputs": [],
   "source": [
    "current = data[data['release_year'] >= 2010].copy()\n",
    "\n",
    "figure, axes = plt.subplots(nrows=6, ncols=1, sharex=True, sharey=True, figsize=(24, 16))\n",
    "figure.suptitle('Percentage of Movies That Breakeven This Decade\\n (Counts are labeled)', fontsize=20, y=1.05)\n",
    "\n",
    "ax1, ax2, ax3, ax4, ax5, ax6 = axes.flatten()\n",
    "axes_list = [ax1, ax2, ax3, ax4, ax5, ax6]\n",
    "\n",
    "for genre, axis, color in zip(genres, axes_list, colors):\n",
    "    # Create two series with decades as indexes and count and sum as values\n",
    "    grp_count = current[current[genre]].groupby('release_year')['domestic_breakeven'].count().copy()\n",
    "    grp_sum = current[current[genre]].groupby('release_year')['domestic_breakeven'].sum().copy()\n",
    "\n",
    "    # If the series is missing a decade, add it as an index\n",
    "    # Then set the count to 1 and the sum to 0\n",
    "    # This avoids division by zero problems when calculating the percentages\n",
    "    for year in range(2010, 2019, 1):\n",
    "        if year not in grp_count.index:\n",
    "            grp_count.loc[year] = 0\n",
    "            grp_sum.loc[year] = 0\n",
    "\n",
    "    # Sort the series by their index to have the decades in chronological order                \n",
    "    grp_count.sort_index(ascending=True, inplace=True)\n",
    "    grp_sum.sort_index(ascending=True, inplace=True)\n",
    "\n",
    "    (grp_sum / grp_count * 100).plot(kind='bar', xticks=range(2010, 2019, 1), ax=axis, linewidth=3, color=color)\n",
    "    axis.set_ylabel('Percentage', fontsize=12)\n",
    "    axis.legend([genre], loc=2, fontsize=15)\n",
    "    \n",
    "    # Put the count of how many movies breakeven above each bar\n",
    "    autolabel(axis, counts=grp_count.values)\n",
    "    \n",
    "plt.tight_layout() "
   ]
  },
  {
   "cell_type": "markdown",
   "metadata": {},
   "source": [
    "### Quick Thoughts\n",
    "\n",
    "**Year by year takeaways**\n",
    "  - There is a great deal of variety in box office results on a year by year basis\n",
    "  - For the past decade, the strongest performing genre from a breakeven perspective appears to be `Horror`\n",
    "  - `Thriller/Suspense` is the next best option  "
   ]
  },
  {
   "cell_type": "code",
   "execution_count": null,
   "metadata": {},
   "outputs": [],
   "source": [
    "current_with_budget = data[(data['release_year'] >= 2010) & (data['budget_adj'].notna())].copy()\n",
    "current_with_budget.info()"
   ]
  },
  {
   "cell_type": "code",
   "execution_count": null,
   "metadata": {},
   "outputs": [],
   "source": [
    "figure, axes = plt.subplots(nrows=6, ncols=1, sharex=True, sharey=True, figsize=(24, 16))\n",
    "figure.suptitle('Dollars Earned For Every Dollar Spent This Decade (Includes Marketing)\\n(Percentages Labeled)', fontsize=20, y=1.05)\n",
    "\n",
    "ax1, ax2, ax3, ax4, ax5, ax6 = axes.flatten()\n",
    "axes_list = [ax1, ax2, ax3, ax4, ax5, ax6]\n",
    "\n",
    "for genre, axis, color in zip(genres, axes_list, colors):\n",
    "    # Create two series with decades as indexes and count and sum as values\n",
    "    grp_gross_count = current_with_budget[current_with_budget[genre]].groupby('release_year')['domestic_adj'].count().copy()\n",
    "    grp_gross_sum = current_with_budget[current_with_budget[genre]].groupby('release_year')['domestic_adj'].sum().copy()\n",
    "    \n",
    "    grp_budget_count = current_with_budget[current_with_budget[genre]].groupby('release_year')['budget_adj'].count().copy()\n",
    "    grp_budget_sum = current_with_budget[current_with_budget[genre]].groupby('release_year')['budget_adj'].sum().copy()\n",
    "\n",
    "    # If the series is missing a decade, add it as an index\n",
    "    # Then set the count to 1 and the sum to 0\n",
    "    # This avoids division by zero problems when calculating the percentages\n",
    "    for year in range(2010, 2019, 1):\n",
    "        if year not in grp_gross_count.index:\n",
    "            grp_gross_count.loc[year] = 0\n",
    "            grp_gross_sum.loc[year] = 0\n",
    "        \n",
    "        if year not in grp_budget_count.index:\n",
    "            grp_budget_count.loc[year] = 0\n",
    "            grp_budget_sum.loc[year] = 1\n",
    "\n",
    "    # Sort the series by their index to have the decades in chronological order                \n",
    "    grp_gross_count.sort_index(ascending=True, inplace=True)\n",
    "    grp_gross_sum.sort_index(ascending=True, inplace=True)\n",
    "    grp_budget_count.sort_index(ascending=True, inplace=True)\n",
    "    grp_budget_sum.sort_index(ascending=True, inplace=True)\n",
    "    \n",
    "    dollars_earned_to_dollars_spent = round((grp_gross_sum / (1.5 * grp_budget_sum)), 1)\n",
    "            \n",
    "    dollars_earned_to_dollars_spent.plot(kind='bar', xticks=range(2010, 2019, 1), ax=axis, linewidth=3, color=color)\n",
    "    axis.set_ylabel('Dollars', fontsize=12)\n",
    "    axis.legend([genre], loc=2, fontsize=15)\n",
    "    \n",
    "    # Put the percentage of how many movies breakeven above each bar\n",
    "    autolabel(axis, num_decimals=1)\n",
    "    \n",
    "plt.tight_layout() "
   ]
  },
  {
   "cell_type": "code",
   "execution_count": null,
   "metadata": {
    "scrolled": false
   },
   "outputs": [],
   "source": [
    "figure, axes = plt.subplots(nrows=6, ncols=1, sharex=True, sharey=True, figsize=(24, 16))\n",
    "figure.suptitle('Dollars Earned For Every Dollar Spent This Decade (Includes Marketing)\\n(Counts Labeled)', fontsize=20, y=1.05)\n",
    "\n",
    "ax1, ax2, ax3, ax4, ax5, ax6 = axes.flatten()\n",
    "axes_list = [ax1, ax2, ax3, ax4, ax5, ax6]\n",
    "\n",
    "for genre, axis, color in zip(genres, axes_list, colors):\n",
    "    # Create two series with decades as indexes and count and sum as values\n",
    "    grp_gross_count = current_with_budget[current_with_budget[genre]].groupby('release_year')['domestic_adj'].count().copy()\n",
    "    grp_gross_sum = current_with_budget[current_with_budget[genre]].groupby('release_year')['domestic_adj'].sum().copy()\n",
    "    \n",
    "    grp_budget_count = current_with_budget[current_with_budget[genre]].groupby('release_year')['budget_adj'].count().copy()\n",
    "    grp_budget_sum = current_with_budget[current_with_budget[genre]].groupby('release_year')['budget_adj'].sum().copy()\n",
    "\n",
    "    # If the series is missing a decade, add it as an index\n",
    "    # Then set the count to 1 and the sum to 0\n",
    "    # This avoids division by zero problems when calculating the percentages\n",
    "    for year in range(2010, 2019, 1):\n",
    "        if year not in grp_gross_count.index:\n",
    "            grp_gross_count.loc[year] = 0\n",
    "            grp_gross_sum.loc[year] = 0\n",
    "        \n",
    "        if year not in grp_budget_count.index:\n",
    "            grp_budget_count.loc[year] = 0\n",
    "            grp_budget_sum.loc[year] = 1\n",
    "\n",
    "    # Sort the series by their index to have the decades in chronological order                \n",
    "    grp_gross_count.sort_index(ascending=True, inplace=True)\n",
    "    grp_gross_sum.sort_index(ascending=True, inplace=True)\n",
    "    grp_budget_count.sort_index(ascending=True, inplace=True)\n",
    "    grp_budget_sum.sort_index(ascending=True, inplace=True)\n",
    "    \n",
    "    dollars_earned_to_dollars_spent = round((grp_gross_sum / (1.5 * grp_budget_sum)), 1)\n",
    "            \n",
    "    dollars_earned_to_dollars_spent.plot(kind='bar', xticks=range(2010, 2019, 1), ax=axis, linewidth=3, color=color)\n",
    "    axis.set_ylabel('Dollars', fontsize=12)\n",
    "    axis.legend([genre], loc=2, fontsize=15)\n",
    "    \n",
    "    # Put the count of how many movies breakeven above each bar\n",
    "    #utolabel(axis, to_round=False)\n",
    "    autolabel(axis, counts=grp_gross_count.values)\n",
    "    \n",
    "plt.tight_layout() "
   ]
  },
  {
   "cell_type": "markdown",
   "metadata": {},
   "source": [
    "### Quick Takeaways\n",
    "\n",
    "For the past decade, `Horror` seems to trump the other genres in terms of the dollar earned per dollar risked metric. And yet, it has some of the lowest numbers of movies produced. Perhaps this is because `Horror` is more of a niche genre, frequently produced by independent studios.\n",
    "\n",
    "What is surprising is how low the dollar for dollar numbers are. Movies (at least domestically) aren't slam dunks by any means. If not for the worldwide market and ancillary revenue streams, movie studios should probably put their money elsewhere."
   ]
  },
  {
   "cell_type": "markdown",
   "metadata": {},
   "source": [
    "# Analyze By Release Week"
   ]
  },
  {
   "cell_type": "code",
   "execution_count": null,
   "metadata": {},
   "outputs": [],
   "source": [
    "figure, axes = plt.subplots(nrows=6, ncols=1, sharex=True, sharey=True, figsize=(24, 16))\n",
    "figure.suptitle('Mean Domestic Gross By Genre And Release Week', fontsize=20, y=1.02)\n",
    "\n",
    "ax1, ax2, ax3, ax4, ax5, ax6 = axes.flatten()\n",
    "axes_list = [ax1, ax2, ax3, ax4, ax5, ax6]\n",
    "\n",
    "for genre, axis, color in zip(genres, axes_list, colors):\n",
    "    grp = data[data[genre]].groupby('release_week').mean() / 1000000\n",
    "    grp.plot(kind='bar', y='domestic_adj', xticks=range(1, 54), ax=axis, linewidth=3, color=color)\n",
    "    axis.set_ylabel('Domestic Gross In Millions', fontsize=12)\n",
    "    axis.legend([genre], loc=2, fontsize=15)\n",
    "\n",
    "plt.tight_layout() "
   ]
  },
  {
   "cell_type": "markdown",
   "metadata": {},
   "source": [
    "Key Takeaways:\n",
    "\n",
    "**Summer release**\n",
    "  - `Action` and `Adventure` benefit the most from being a Summer release, although all genres have a bump there. \n",
    "  \n",
    "**Winter holidays release**\n",
    "  - `Action`, `Adventure`, and `Horror` seem to have the biggest bumps here."
   ]
  },
  {
   "cell_type": "code",
   "execution_count": null,
   "metadata": {},
   "outputs": [],
   "source": [
    "figure, axes = plt.subplots(nrows=6, ncols=1, sharex=True, sharey=True, figsize=(24, 16))\n",
    "figure.suptitle('Mean Production Budget By Genre And Release Week', fontsize=20, y=1.02)\n",
    "\n",
    "ax1, ax2, ax3, ax4, ax5, ax6 = axes.flatten()\n",
    "axes_list = [ax1, ax2, ax3, ax4, ax5, ax6]\n",
    "\n",
    "for genre, axis, color in zip(genres, axes_list, colors):\n",
    "    grp = data[data[genre]].groupby('release_week').mean() / 1000000\n",
    "    grp.plot(kind='bar', y='budget_adj', xticks=range(1, 54), ax=axis, linewidth=3, color=color)\n",
    "    axis.set_ylabel('Budget In Millions', fontsize=12)\n",
    "    axis.legend([genre], loc=2, fontsize=15)\n",
    "\n",
    "plt.tight_layout() "
   ]
  },
  {
   "cell_type": "markdown",
   "metadata": {},
   "source": [
    "Key Takeaways:\n",
    "- `Action` and `Adventure` have much larger budgets in general\n",
    "- `Thriller/Suspense` is third\n",
    "- `Drama`, `Comedy`, and `Horror` all have approximately the same mean budget"
   ]
  },
  {
   "cell_type": "code",
   "execution_count": null,
   "metadata": {},
   "outputs": [],
   "source": [
    "figure, axes = plt.subplots(nrows=6, ncols=1, sharex=True, sharey=True, figsize=(24, 16))\n",
    "figure.suptitle('Percentage of Movies That Breakeven By Release Week', fontsize=20, y=1.02)\n",
    "\n",
    "ax1, ax2, ax3, ax4, ax5, ax6 = axes.flatten()\n",
    "axes_list = [ax1, ax2, ax3, ax4, ax5, ax6]\n",
    "\n",
    "for genre, axis, color in zip(genres, axes_list, colors):\n",
    "    # Create two series with decades as indexes and count and sum as values\n",
    "    grp_count = data[data[genre]].groupby('release_week')['domestic_breakeven'].count().copy()\n",
    "    grp_sum = data[data[genre]].groupby('release_week')['domestic_breakeven'].sum().copy()\n",
    "\n",
    "    # If the series is missing a decade, add it as an index\n",
    "    # Then set the count to 1 and the sum to 0\n",
    "    # This avoids division by zero problems when calculating the percentages\n",
    "    for week in range(1, 54):\n",
    "        if week not in grp_count.index:\n",
    "            grp_count.loc[week] = 0\n",
    "            grp_sum.loc[week] = 0\n",
    "\n",
    "    # Sort the series by their index to have the decades in chronological order                \n",
    "    grp_count.sort_index(ascending=True, inplace=True)\n",
    "    grp_sum.sort_index(ascending=True, inplace=True)\n",
    "\n",
    "    (grp_sum / grp_count * 100).plot(kind='bar', xticks=range(1, 54), ax=axis, linewidth=3, color=color)\n",
    "    axis.set_ylabel('Percentage', fontsize=12)\n",
    "    axis.legend([genre], loc=2, fontsize=15)\n",
    "    \n",
    "    # Put the count of how many movies breakeven above each bar\n",
    "    autolabel(axis, counts=grp_count.values)\n",
    "    \n",
    "plt.tight_layout() "
   ]
  },
  {
   "cell_type": "code",
   "execution_count": null,
   "metadata": {},
   "outputs": [],
   "source": [
    "print('Number of release weeks a genre has never broken even:')\n",
    "\n",
    "for genre in genres:\n",
    "    grp_count = data[data[genre]].groupby('release_week')['domestic_breakeven'].count().copy()\n",
    "    grp_sum = data[data[genre]].groupby('release_week')['domestic_breakeven'].sum().copy()\n",
    "    \n",
    "    # If the series is missing a decade, add it as an index\n",
    "    # Then set the count to 1 and the sum to 0\n",
    "    # This avoids division by zero problems when calculating the percentages\n",
    "    for week in range(1, 54):\n",
    "        if week not in grp_count.index:\n",
    "            grp_count.loc[week] = 0\n",
    "            grp_sum.loc[week] = 0\n",
    "    \n",
    "    breakeven_series = (grp_sum / grp_count * 100)\n",
    "    empty_week_count = 0\n",
    "    \n",
    "    for week in breakeven_series:\n",
    "        if week == 0:\n",
    "            empty_week_count += 1\n",
    "    \n",
    "    print('{0:<20} {1}'.format(genre.title(), empty_week_count))"
   ]
  },
  {
   "cell_type": "markdown",
   "metadata": {},
   "source": [
    "## Quick Takeaways\n",
    "- `Action`, `Adventure` and `Thriller/Suspense` have the largest number of release weeks with no chance of breaking even domestically\n",
    "- `Comedy` and `Drama` are the least affected by release week. They can be profitable when released on almost any week\n",
    "- Each genre has had a chance at every release week (except the 53rd week which doesn't really count). Whether the success or failure can partially be attributed to the release week is another story. "
   ]
  },
  {
   "cell_type": "markdown",
   "metadata": {},
   "source": [
    "# Conclusions\n",
    "\n",
    "**Safest**\n",
    "  - With a low mean production budget and high chance of profitability, `Horror` seems like the safest genre to invest in domestically.\n",
    "\n",
    "**Highest potential return per movie**\n",
    "  - If we are trying to maximize our revenue per movie produced, then either `Action` or `Adventure` are the best. They carry with them much higher production budgets, but also gross higher amounts than all other genres.\n",
    "\n",
    "**Most calendar-friendly**\n",
    "  - `Comedy` and `Drama` are the least affected by release week. If we want maximum flexibility there (for example, to avoid opening the same weekend as another big movie), we can plug and play one of these genres into almost any week.\n",
    "  \n",
    "**Recent box office trends**\n",
    "  - In the past decade, the most consistent genre in terms of average performance per movie is `Horror`, followed by `Thriller/Suspense`. If we want to follow trends, these genres carry lower production budgets than the blockbuster genres, but our return ceiling is definitely capped.\n",
    "  \n",
    "**Advice to our bosses**\n",
    "  - We need to investigate these genres according to their worldwide box office results. It's good to know how the domestic market is, but increasingly, a movie's profitability depends heavily on the foreign market.\n",
    "  - We will investigate this subject area next and see if the trends we've found here carry over.\n",
    "  - If pressed for a genre to release domestically tomorrow, and our primary concern was not losing the studio's money, I would recommend `Horror`."
   ]
  }
 ],
 "metadata": {
  "kernelspec": {
   "display_name": "Python 3",
   "language": "python",
   "name": "python3"
  },
  "language_info": {
   "codemirror_mode": {
    "name": "ipython",
    "version": 3
   },
   "file_extension": ".py",
   "mimetype": "text/x-python",
   "name": "python",
   "nbconvert_exporter": "python",
   "pygments_lexer": "ipython3",
   "version": "3.6.8"
  },
  "toc": {
   "base_numbering": 1,
   "nav_menu": {},
   "number_sections": true,
   "sideBar": true,
   "skip_h1_title": false,
   "title_cell": "Table of Contents",
   "title_sidebar": "Contents",
   "toc_cell": false,
   "toc_position": {
    "height": "113.542px",
    "left": "1727.89px",
    "top": "109.721px",
    "width": "452px"
   },
   "toc_section_display": true,
   "toc_window_display": true
  }
 },
 "nbformat": 4,
 "nbformat_minor": 2
}
